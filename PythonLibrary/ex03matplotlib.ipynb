{
 "cells": [
  {
   "cell_type": "code",
   "execution_count": 4,
   "metadata": {},
   "outputs": [],
   "source": [
    "import matplotlib.pyplot as plt\n",
    "import pandas as pd\n",
    "import numpy as np"
   ]
  },
  {
   "cell_type": "code",
   "execution_count": 98,
   "metadata": {},
   "outputs": [
    {
     "data": {
      "text/html": [
       "<div>\n",
       "<style scoped>\n",
       "    .dataframe tbody tr th:only-of-type {\n",
       "        vertical-align: middle;\n",
       "    }\n",
       "\n",
       "    .dataframe tbody tr th {\n",
       "        vertical-align: top;\n",
       "    }\n",
       "\n",
       "    .dataframe thead th {\n",
       "        text-align: right;\n",
       "    }\n",
       "</style>\n",
       "<table border=\"1\" class=\"dataframe\">\n",
       "  <thead>\n",
       "    <tr style=\"text-align: right;\">\n",
       "      <th></th>\n",
       "      <th>0</th>\n",
       "    </tr>\n",
       "  </thead>\n",
       "  <tbody>\n",
       "    <tr>\n",
       "      <th>0</th>\n",
       "      <td>[송] [오전 10:36] 사진</td>\n",
       "    </tr>\n",
       "    <tr>\n",
       "      <th>1</th>\n",
       "      <td>[조승재] [오전 10:36] 사진</td>\n",
       "    </tr>\n",
       "    <tr>\n",
       "      <th>2</th>\n",
       "      <td>[이명호] [오전 10:36] 사진</td>\n",
       "    </tr>\n",
       "    <tr>\n",
       "      <th>3</th>\n",
       "      <td>[정승원] [오전 10:36] 사진</td>\n",
       "    </tr>\n",
       "    <tr>\n",
       "      <th>4</th>\n",
       "      <td>[정혜수] [오전 10:36] 사진</td>\n",
       "    </tr>\n",
       "    <tr>\n",
       "      <th>...</th>\n",
       "      <td>...</td>\n",
       "    </tr>\n",
       "    <tr>\n",
       "      <th>75</th>\n",
       "      <td>[smhrd 박병관 연구원님] [오후 5:51] 사진</td>\n",
       "    </tr>\n",
       "    <tr>\n",
       "      <th>76</th>\n",
       "      <td>[smhrd 박병관 연구원님] [오후 5:51] 사진</td>\n",
       "    </tr>\n",
       "    <tr>\n",
       "      <th>77</th>\n",
       "      <td>[smhrd 박병관 연구원님] [오후 5:51] 사진</td>\n",
       "    </tr>\n",
       "    <tr>\n",
       "      <th>78</th>\n",
       "      <td>[smhrd 최영화 쌤] [오후 5:57] 사진</td>\n",
       "    </tr>\n",
       "    <tr>\n",
       "      <th>79</th>\n",
       "      <td>[smhrd 최영화 쌤] [오후 5:57] 우리반 이번주 고생많으셨습니다!</td>\n",
       "    </tr>\n",
       "  </tbody>\n",
       "</table>\n",
       "<p>80 rows × 1 columns</p>\n",
       "</div>"
      ],
      "text/plain": [
       "                                            0\n",
       "0                           [송] [오전 10:36] 사진\n",
       "1                         [조승재] [오전 10:36] 사진\n",
       "2                         [이명호] [오전 10:36] 사진\n",
       "3                         [정승원] [오전 10:36] 사진\n",
       "4                         [정혜수] [오전 10:36] 사진\n",
       "..                                        ...\n",
       "75              [smhrd 박병관 연구원님] [오후 5:51] 사진\n",
       "76              [smhrd 박병관 연구원님] [오후 5:51] 사진\n",
       "77              [smhrd 박병관 연구원님] [오후 5:51] 사진\n",
       "78                 [smhrd 최영화 쌤] [오후 5:57] 사진\n",
       "79  [smhrd 최영화 쌤] [오후 5:57] 우리반 이번주 고생많으셨습니다!\n",
       "\n",
       "[80 rows x 1 columns]"
      ]
     },
     "execution_count": 98,
     "metadata": {},
     "output_type": "execute_result"
    }
   ],
   "source": [
    "katalk = pd.read_csv(\"./데이터디자인카톡.txt\", delimiter=\"\\\\\", header=None)\n",
    "katalk"
   ]
  },
  {
   "cell_type": "code",
   "execution_count": 99,
   "metadata": {},
   "outputs": [
    {
     "data": {
      "text/plain": [
       "0                             [[송,  [오전 10:36,  사진]\n",
       "1                           [[조승재,  [오전 10:36,  사진]\n",
       "2                           [[이명호,  [오전 10:36,  사진]\n",
       "3                           [[정승원,  [오전 10:36,  사진]\n",
       "4                           [[정혜수,  [오전 10:36,  사진]\n",
       "                          ...                      \n",
       "75                [[smhrd 박병관 연구원님,  [오후 5:51,  사진]\n",
       "76                [[smhrd 박병관 연구원님,  [오후 5:51,  사진]\n",
       "77                [[smhrd 박병관 연구원님,  [오후 5:51,  사진]\n",
       "78                   [[smhrd 최영화 쌤,  [오후 5:57,  사진]\n",
       "79    [[smhrd 최영화 쌤,  [오후 5:57,  우리반 이번주 고생많으셨습니다!]\n",
       "Name: 카톡, Length: 80, dtype: object"
      ]
     },
     "execution_count": 99,
     "metadata": {},
     "output_type": "execute_result"
    }
   ],
   "source": [
    "katalk.columns = [\"카톡\"]\n",
    "katalk[\"카톡\"].str.split(\"]\")"
   ]
  },
  {
   "cell_type": "code",
   "execution_count": 100,
   "metadata": {},
   "outputs": [
    {
     "data": {
      "text/plain": [
       "'[송'"
      ]
     },
     "execution_count": 100,
     "metadata": {},
     "output_type": "execute_result"
    }
   ],
   "source": [
    "katalk[\"카톡\"].str.split(\"]\")[0][0]\n",
    "# katalk[\"카톡\"].str.split(\"]\")[0][1]\n",
    "# katalk[\"카톡\"].str.split(\"]\")[0][2]"
   ]
  },
  {
   "cell_type": "code",
   "execution_count": 101,
   "metadata": {},
   "outputs": [],
   "source": [
    "name_list = []\n",
    "time_list = []\n",
    "chat_list = []\n",
    "\n",
    "for i in range(len(katalk)):\n",
    "    name_list.append(katalk[\"카톡\"].str.split(\"]\")[i][0])\n",
    "    time_list.append(katalk[\"카톡\"].str.split(\"]\")[i][1])\n",
    "    chat_list.append(katalk[\"카톡\"].str.split(\"]\")[i][2])"
   ]
  },
  {
   "cell_type": "code",
   "execution_count": 102,
   "metadata": {},
   "outputs": [
    {
     "data": {
      "text/plain": [
       "['[송',\n",
       " '[조승재',\n",
       " '[이명호',\n",
       " '[정승원',\n",
       " '[정혜수',\n",
       " '[.',\n",
       " '[예함',\n",
       " \"[유빈's\",\n",
       " '[장영주',\n",
       " '[cys',\n",
       " '[양진영',\n",
       " '[민주',\n",
       " '[윤선지',\n",
       " '[혜정',\n",
       " '[ㅈㅂㅇ',\n",
       " '[박재성',\n",
       " '[윤성역',\n",
       " '[최유정',\n",
       " '[김영민',\n",
       " '[고운',\n",
       " '[이수호',\n",
       " '[신석우',\n",
       " '[이안호',\n",
       " '[황영규',\n",
       " '[박화연',\n",
       " '[smhrd 최영화 쌤',\n",
       " '[이명호',\n",
       " '[예함',\n",
       " '[송',\n",
       " '[cys',\n",
       " '[smhrd 최영화 쌤',\n",
       " '[smhrd 최영화 쌤',\n",
       " '[smhrd 최영화 쌤',\n",
       " '[smhrd 박병관 연구원님',\n",
       " '[smhrd 박병관 연구원님',\n",
       " '[smhrd 박병관 연구원님',\n",
       " '[smhrd 박병관 연구원님',\n",
       " '[smhrd 박병관 연구원님',\n",
       " '[smhrd 조자연 선생님',\n",
       " '[smhrd 조자연 선생님',\n",
       " '[smhrd 최영화 쌤',\n",
       " '[김승민',\n",
       " '[smhrd 최영화 쌤',\n",
       " '[송',\n",
       " '[smhrd 차준섭 원장님',\n",
       " '[정승원',\n",
       " '[조승재',\n",
       " '[조승재',\n",
       " '[조승재',\n",
       " '[양진영',\n",
       " '[ㅈㅂㅇ',\n",
       " '[조승재',\n",
       " '[고운',\n",
       " '[박화연',\n",
       " '[정혜수',\n",
       " '[smhrd 박병관 연구원님',\n",
       " '[조승재',\n",
       " '[조승재',\n",
       " '[정혜수',\n",
       " '[정승원',\n",
       " '[정승원',\n",
       " '[송',\n",
       " '[송',\n",
       " '[송',\n",
       " '[윤선지',\n",
       " '[송',\n",
       " '[송',\n",
       " '[조승재',\n",
       " '[조승재',\n",
       " '[윤성역',\n",
       " '[조승재',\n",
       " '[송',\n",
       " '[송',\n",
       " '[조승재',\n",
       " '[smhrd 박병관 연구원님',\n",
       " '[smhrd 박병관 연구원님',\n",
       " '[smhrd 박병관 연구원님',\n",
       " '[smhrd 박병관 연구원님',\n",
       " '[smhrd 최영화 쌤',\n",
       " '[smhrd 최영화 쌤']"
      ]
     },
     "execution_count": 102,
     "metadata": {},
     "output_type": "execute_result"
    }
   ],
   "source": [
    "name_list\n",
    "# time_list\n",
    "# chat_list"
   ]
  },
  {
   "cell_type": "code",
   "execution_count": null,
   "metadata": {},
   "outputs": [],
   "source": []
  },
  {
   "cell_type": "code",
   "execution_count": 103,
   "metadata": {},
   "outputs": [
    {
     "data": {
      "text/html": [
       "<div>\n",
       "<style scoped>\n",
       "    .dataframe tbody tr th:only-of-type {\n",
       "        vertical-align: middle;\n",
       "    }\n",
       "\n",
       "    .dataframe tbody tr th {\n",
       "        vertical-align: top;\n",
       "    }\n",
       "\n",
       "    .dataframe thead th {\n",
       "        text-align: right;\n",
       "    }\n",
       "</style>\n",
       "<table border=\"1\" class=\"dataframe\">\n",
       "  <thead>\n",
       "    <tr style=\"text-align: right;\">\n",
       "      <th></th>\n",
       "      <th>0</th>\n",
       "      <th>1</th>\n",
       "      <th>2</th>\n",
       "    </tr>\n",
       "  </thead>\n",
       "  <tbody>\n",
       "    <tr>\n",
       "      <th>0</th>\n",
       "      <td>[송</td>\n",
       "      <td>[오전 10:36</td>\n",
       "      <td>사진</td>\n",
       "    </tr>\n",
       "    <tr>\n",
       "      <th>1</th>\n",
       "      <td>[조승재</td>\n",
       "      <td>[오전 10:36</td>\n",
       "      <td>사진</td>\n",
       "    </tr>\n",
       "    <tr>\n",
       "      <th>2</th>\n",
       "      <td>[이명호</td>\n",
       "      <td>[오전 10:36</td>\n",
       "      <td>사진</td>\n",
       "    </tr>\n",
       "    <tr>\n",
       "      <th>3</th>\n",
       "      <td>[정승원</td>\n",
       "      <td>[오전 10:36</td>\n",
       "      <td>사진</td>\n",
       "    </tr>\n",
       "    <tr>\n",
       "      <th>4</th>\n",
       "      <td>[정혜수</td>\n",
       "      <td>[오전 10:36</td>\n",
       "      <td>사진</td>\n",
       "    </tr>\n",
       "    <tr>\n",
       "      <th>...</th>\n",
       "      <td>...</td>\n",
       "      <td>...</td>\n",
       "      <td>...</td>\n",
       "    </tr>\n",
       "    <tr>\n",
       "      <th>75</th>\n",
       "      <td>[smhrd 박병관 연구원님</td>\n",
       "      <td>[오후 5:51</td>\n",
       "      <td>사진</td>\n",
       "    </tr>\n",
       "    <tr>\n",
       "      <th>76</th>\n",
       "      <td>[smhrd 박병관 연구원님</td>\n",
       "      <td>[오후 5:51</td>\n",
       "      <td>사진</td>\n",
       "    </tr>\n",
       "    <tr>\n",
       "      <th>77</th>\n",
       "      <td>[smhrd 박병관 연구원님</td>\n",
       "      <td>[오후 5:51</td>\n",
       "      <td>사진</td>\n",
       "    </tr>\n",
       "    <tr>\n",
       "      <th>78</th>\n",
       "      <td>[smhrd 최영화 쌤</td>\n",
       "      <td>[오후 5:57</td>\n",
       "      <td>사진</td>\n",
       "    </tr>\n",
       "    <tr>\n",
       "      <th>79</th>\n",
       "      <td>[smhrd 최영화 쌤</td>\n",
       "      <td>[오후 5:57</td>\n",
       "      <td>우리반 이번주 고생많으셨습니다!</td>\n",
       "    </tr>\n",
       "  </tbody>\n",
       "</table>\n",
       "<p>80 rows × 3 columns</p>\n",
       "</div>"
      ],
      "text/plain": [
       "                  0           1                   2\n",
       "0                [송   [오전 10:36                  사진\n",
       "1              [조승재   [오전 10:36                  사진\n",
       "2              [이명호   [오전 10:36                  사진\n",
       "3              [정승원   [오전 10:36                  사진\n",
       "4              [정혜수   [오전 10:36                  사진\n",
       "..              ...         ...                 ...\n",
       "75  [smhrd 박병관 연구원님    [오후 5:51                  사진\n",
       "76  [smhrd 박병관 연구원님    [오후 5:51                  사진\n",
       "77  [smhrd 박병관 연구원님    [오후 5:51                  사진\n",
       "78     [smhrd 최영화 쌤    [오후 5:57                  사진\n",
       "79     [smhrd 최영화 쌤    [오후 5:57   우리반 이번주 고생많으셨습니다!\n",
       "\n",
       "[80 rows x 3 columns]"
      ]
     },
     "execution_count": 103,
     "metadata": {},
     "output_type": "execute_result"
    }
   ],
   "source": [
    "katalk = pd.DataFrame([name_list,time_list,chat_list]).T\n",
    "katalk"
   ]
  },
  {
   "cell_type": "code",
   "execution_count": 104,
   "metadata": {},
   "outputs": [
    {
     "data": {
      "text/html": [
       "<div>\n",
       "<style scoped>\n",
       "    .dataframe tbody tr th:only-of-type {\n",
       "        vertical-align: middle;\n",
       "    }\n",
       "\n",
       "    .dataframe tbody tr th {\n",
       "        vertical-align: top;\n",
       "    }\n",
       "\n",
       "    .dataframe thead th {\n",
       "        text-align: right;\n",
       "    }\n",
       "</style>\n",
       "<table border=\"1\" class=\"dataframe\">\n",
       "  <thead>\n",
       "    <tr style=\"text-align: right;\">\n",
       "      <th></th>\n",
       "      <th>name</th>\n",
       "      <th>time</th>\n",
       "      <th>chat</th>\n",
       "    </tr>\n",
       "  </thead>\n",
       "  <tbody>\n",
       "    <tr>\n",
       "      <th>0</th>\n",
       "      <td>[송</td>\n",
       "      <td>[오전 10:36</td>\n",
       "      <td>사진</td>\n",
       "    </tr>\n",
       "    <tr>\n",
       "      <th>1</th>\n",
       "      <td>[조승재</td>\n",
       "      <td>[오전 10:36</td>\n",
       "      <td>사진</td>\n",
       "    </tr>\n",
       "    <tr>\n",
       "      <th>2</th>\n",
       "      <td>[이명호</td>\n",
       "      <td>[오전 10:36</td>\n",
       "      <td>사진</td>\n",
       "    </tr>\n",
       "    <tr>\n",
       "      <th>3</th>\n",
       "      <td>[정승원</td>\n",
       "      <td>[오전 10:36</td>\n",
       "      <td>사진</td>\n",
       "    </tr>\n",
       "    <tr>\n",
       "      <th>4</th>\n",
       "      <td>[정혜수</td>\n",
       "      <td>[오전 10:36</td>\n",
       "      <td>사진</td>\n",
       "    </tr>\n",
       "  </tbody>\n",
       "</table>\n",
       "</div>"
      ],
      "text/plain": [
       "   name        time chat\n",
       "0    [송   [오전 10:36   사진\n",
       "1  [조승재   [오전 10:36   사진\n",
       "2  [이명호   [오전 10:36   사진\n",
       "3  [정승원   [오전 10:36   사진\n",
       "4  [정혜수   [오전 10:36   사진"
      ]
     },
     "execution_count": 104,
     "metadata": {},
     "output_type": "execute_result"
    }
   ],
   "source": [
    "katalk.columns = [\"name\", \"time\",\"chat\"]\n",
    "katalk.head()"
   ]
  },
  {
   "attachments": {},
   "cell_type": "markdown",
   "metadata": {},
   "source": [
    "- str 키워드 사용 : 판다스 객체 내의 문자열 데이터에 접근하여 처리할 때 사용"
   ]
  },
  {
   "cell_type": "code",
   "execution_count": 105,
   "metadata": {},
   "outputs": [
    {
     "name": "stderr",
     "output_type": "stream",
     "text": [
      "C:\\Users\\SMHRD\\AppData\\Local\\Temp\\ipykernel_10728\\3518314221.py:2: FutureWarning: The default value of regex will change from True to False in a future version. In addition, single character regular expressions will *not* be treated as literal strings when regex=True.\n",
      "  katalk[\"name\"] = katalk[\"name\"].str.replace(\"[\",\"\")\n",
      "C:\\Users\\SMHRD\\AppData\\Local\\Temp\\ipykernel_10728\\3518314221.py:3: FutureWarning: The default value of regex will change from True to False in a future version. In addition, single character regular expressions will *not* be treated as literal strings when regex=True.\n",
      "  katalk[\"time\"] = katalk[\"time\"].str.replace(\"[\",\"\")\n",
      "C:\\Users\\SMHRD\\AppData\\Local\\Temp\\ipykernel_10728\\3518314221.py:4: FutureWarning: The default value of regex will change from True to False in a future version. In addition, single character regular expressions will *not* be treated as literal strings when regex=True.\n",
      "  katalk[\"chat\"] = katalk[\"chat\"].str.replace(\"[\",\"\")\n"
     ]
    },
    {
     "data": {
      "text/html": [
       "<div>\n",
       "<style scoped>\n",
       "    .dataframe tbody tr th:only-of-type {\n",
       "        vertical-align: middle;\n",
       "    }\n",
       "\n",
       "    .dataframe tbody tr th {\n",
       "        vertical-align: top;\n",
       "    }\n",
       "\n",
       "    .dataframe thead th {\n",
       "        text-align: right;\n",
       "    }\n",
       "</style>\n",
       "<table border=\"1\" class=\"dataframe\">\n",
       "  <thead>\n",
       "    <tr style=\"text-align: right;\">\n",
       "      <th></th>\n",
       "      <th>name</th>\n",
       "      <th>time</th>\n",
       "      <th>chat</th>\n",
       "    </tr>\n",
       "  </thead>\n",
       "  <tbody>\n",
       "    <tr>\n",
       "      <th>0</th>\n",
       "      <td>송</td>\n",
       "      <td>오전 10:36</td>\n",
       "      <td>사진</td>\n",
       "    </tr>\n",
       "    <tr>\n",
       "      <th>1</th>\n",
       "      <td>조승재</td>\n",
       "      <td>오전 10:36</td>\n",
       "      <td>사진</td>\n",
       "    </tr>\n",
       "    <tr>\n",
       "      <th>2</th>\n",
       "      <td>이명호</td>\n",
       "      <td>오전 10:36</td>\n",
       "      <td>사진</td>\n",
       "    </tr>\n",
       "    <tr>\n",
       "      <th>3</th>\n",
       "      <td>정승원</td>\n",
       "      <td>오전 10:36</td>\n",
       "      <td>사진</td>\n",
       "    </tr>\n",
       "    <tr>\n",
       "      <th>4</th>\n",
       "      <td>정혜수</td>\n",
       "      <td>오전 10:36</td>\n",
       "      <td>사진</td>\n",
       "    </tr>\n",
       "    <tr>\n",
       "      <th>...</th>\n",
       "      <td>...</td>\n",
       "      <td>...</td>\n",
       "      <td>...</td>\n",
       "    </tr>\n",
       "    <tr>\n",
       "      <th>75</th>\n",
       "      <td>smhrd 박병관 연구원님</td>\n",
       "      <td>오후 5:51</td>\n",
       "      <td>사진</td>\n",
       "    </tr>\n",
       "    <tr>\n",
       "      <th>76</th>\n",
       "      <td>smhrd 박병관 연구원님</td>\n",
       "      <td>오후 5:51</td>\n",
       "      <td>사진</td>\n",
       "    </tr>\n",
       "    <tr>\n",
       "      <th>77</th>\n",
       "      <td>smhrd 박병관 연구원님</td>\n",
       "      <td>오후 5:51</td>\n",
       "      <td>사진</td>\n",
       "    </tr>\n",
       "    <tr>\n",
       "      <th>78</th>\n",
       "      <td>smhrd 최영화 쌤</td>\n",
       "      <td>오후 5:57</td>\n",
       "      <td>사진</td>\n",
       "    </tr>\n",
       "    <tr>\n",
       "      <th>79</th>\n",
       "      <td>smhrd 최영화 쌤</td>\n",
       "      <td>오후 5:57</td>\n",
       "      <td>우리반 이번주 고생많으셨습니다!</td>\n",
       "    </tr>\n",
       "  </tbody>\n",
       "</table>\n",
       "<p>80 rows × 3 columns</p>\n",
       "</div>"
      ],
      "text/plain": [
       "              name       time                chat\n",
       "0                송   오전 10:36                  사진\n",
       "1              조승재   오전 10:36                  사진\n",
       "2              이명호   오전 10:36                  사진\n",
       "3              정승원   오전 10:36                  사진\n",
       "4              정혜수   오전 10:36                  사진\n",
       "..             ...        ...                 ...\n",
       "75  smhrd 박병관 연구원님    오후 5:51                  사진\n",
       "76  smhrd 박병관 연구원님    오후 5:51                  사진\n",
       "77  smhrd 박병관 연구원님    오후 5:51                  사진\n",
       "78     smhrd 최영화 쌤    오후 5:57                  사진\n",
       "79     smhrd 최영화 쌤    오후 5:57   우리반 이번주 고생많으셨습니다!\n",
       "\n",
       "[80 rows x 3 columns]"
      ]
     },
     "execution_count": 105,
     "metadata": {},
     "output_type": "execute_result"
    }
   ],
   "source": [
    "# replace(바꿀문자, 바뀔문자) -> 문자열 함수\n",
    "katalk[\"name\"] = katalk[\"name\"].str.replace(\"[\",\"\")\n",
    "katalk[\"time\"] = katalk[\"time\"].str.replace(\"[\",\"\")\n",
    "katalk[\"chat\"] = katalk[\"chat\"].str.replace(\"[\",\"\")\n",
    "\n",
    "katalk"
   ]
  },
  {
   "cell_type": "code",
   "execution_count": 106,
   "metadata": {},
   "outputs": [
    {
     "name": "stdout",
     "output_type": "stream",
     "text": [
      "\n"
     ]
    },
    {
     "data": {
      "text/plain": [
       "' 오전 10:36'"
      ]
     },
     "execution_count": 106,
     "metadata": {},
     "output_type": "execute_result"
    }
   ],
   "source": [
    "# 공백제거 \n",
    "#^^ strip\n",
    "print()\n",
    "katalk[\"time\"].str.strip()[0]\n",
    "katalk[\"time\"][0]"
   ]
  },
  {
   "cell_type": "code",
   "execution_count": 107,
   "metadata": {},
   "outputs": [],
   "source": [
    "katalk[\"AM/PM\"] = katalk[\"time\"].str[1:3]\n",
    "katalk[\"H/M\"] = katalk[\"time\"].str[4:]"
   ]
  },
  {
   "cell_type": "code",
   "execution_count": 122,
   "metadata": {},
   "outputs": [
    {
     "data": {
      "text/html": [
       "<div>\n",
       "<style scoped>\n",
       "    .dataframe tbody tr th:only-of-type {\n",
       "        vertical-align: middle;\n",
       "    }\n",
       "\n",
       "    .dataframe tbody tr th {\n",
       "        vertical-align: top;\n",
       "    }\n",
       "\n",
       "    .dataframe thead th {\n",
       "        text-align: right;\n",
       "    }\n",
       "</style>\n",
       "<table border=\"1\" class=\"dataframe\">\n",
       "  <thead>\n",
       "    <tr style=\"text-align: right;\">\n",
       "      <th></th>\n",
       "      <th>name</th>\n",
       "      <th>time</th>\n",
       "      <th>chat</th>\n",
       "      <th>AM/PM</th>\n",
       "      <th>H/M</th>\n",
       "      <th>hour</th>\n",
       "      <th>min</th>\n",
       "    </tr>\n",
       "  </thead>\n",
       "  <tbody>\n",
       "    <tr>\n",
       "      <th>0</th>\n",
       "      <td>송</td>\n",
       "      <td>오전 10:36</td>\n",
       "      <td>사진</td>\n",
       "      <td>오전</td>\n",
       "      <td>10:36</td>\n",
       "      <td>10</td>\n",
       "      <td>36</td>\n",
       "    </tr>\n",
       "    <tr>\n",
       "      <th>1</th>\n",
       "      <td>조승재</td>\n",
       "      <td>오전 10:36</td>\n",
       "      <td>사진</td>\n",
       "      <td>오전</td>\n",
       "      <td>10:36</td>\n",
       "      <td>10</td>\n",
       "      <td>36</td>\n",
       "    </tr>\n",
       "    <tr>\n",
       "      <th>2</th>\n",
       "      <td>이명호</td>\n",
       "      <td>오전 10:36</td>\n",
       "      <td>사진</td>\n",
       "      <td>오전</td>\n",
       "      <td>10:36</td>\n",
       "      <td>10</td>\n",
       "      <td>36</td>\n",
       "    </tr>\n",
       "    <tr>\n",
       "      <th>3</th>\n",
       "      <td>정승원</td>\n",
       "      <td>오전 10:36</td>\n",
       "      <td>사진</td>\n",
       "      <td>오전</td>\n",
       "      <td>10:36</td>\n",
       "      <td>10</td>\n",
       "      <td>36</td>\n",
       "    </tr>\n",
       "    <tr>\n",
       "      <th>4</th>\n",
       "      <td>정혜수</td>\n",
       "      <td>오전 10:36</td>\n",
       "      <td>사진</td>\n",
       "      <td>오전</td>\n",
       "      <td>10:36</td>\n",
       "      <td>10</td>\n",
       "      <td>36</td>\n",
       "    </tr>\n",
       "    <tr>\n",
       "      <th>...</th>\n",
       "      <td>...</td>\n",
       "      <td>...</td>\n",
       "      <td>...</td>\n",
       "      <td>...</td>\n",
       "      <td>...</td>\n",
       "      <td>...</td>\n",
       "      <td>...</td>\n",
       "    </tr>\n",
       "    <tr>\n",
       "      <th>75</th>\n",
       "      <td>smhrd 박병관 연구원님</td>\n",
       "      <td>오후 5:51</td>\n",
       "      <td>사진</td>\n",
       "      <td>오후</td>\n",
       "      <td>5:51</td>\n",
       "      <td>5</td>\n",
       "      <td>51</td>\n",
       "    </tr>\n",
       "    <tr>\n",
       "      <th>76</th>\n",
       "      <td>smhrd 박병관 연구원님</td>\n",
       "      <td>오후 5:51</td>\n",
       "      <td>사진</td>\n",
       "      <td>오후</td>\n",
       "      <td>5:51</td>\n",
       "      <td>5</td>\n",
       "      <td>51</td>\n",
       "    </tr>\n",
       "    <tr>\n",
       "      <th>77</th>\n",
       "      <td>smhrd 박병관 연구원님</td>\n",
       "      <td>오후 5:51</td>\n",
       "      <td>사진</td>\n",
       "      <td>오후</td>\n",
       "      <td>5:51</td>\n",
       "      <td>5</td>\n",
       "      <td>51</td>\n",
       "    </tr>\n",
       "    <tr>\n",
       "      <th>78</th>\n",
       "      <td>smhrd 최영화 쌤</td>\n",
       "      <td>오후 5:57</td>\n",
       "      <td>사진</td>\n",
       "      <td>오후</td>\n",
       "      <td>5:57</td>\n",
       "      <td>5</td>\n",
       "      <td>57</td>\n",
       "    </tr>\n",
       "    <tr>\n",
       "      <th>79</th>\n",
       "      <td>smhrd 최영화 쌤</td>\n",
       "      <td>오후 5:57</td>\n",
       "      <td>우리반 이번주 고생많으셨습니다!</td>\n",
       "      <td>오후</td>\n",
       "      <td>5:57</td>\n",
       "      <td>5</td>\n",
       "      <td>57</td>\n",
       "    </tr>\n",
       "  </tbody>\n",
       "</table>\n",
       "<p>80 rows × 7 columns</p>\n",
       "</div>"
      ],
      "text/plain": [
       "              name       time                chat AM/PM    H/M hour min\n",
       "0                송   오전 10:36                  사진    오전  10:36   10  36\n",
       "1              조승재   오전 10:36                  사진    오전  10:36   10  36\n",
       "2              이명호   오전 10:36                  사진    오전  10:36   10  36\n",
       "3              정승원   오전 10:36                  사진    오전  10:36   10  36\n",
       "4              정혜수   오전 10:36                  사진    오전  10:36   10  36\n",
       "..             ...        ...                 ...   ...    ...  ...  ..\n",
       "75  smhrd 박병관 연구원님    오후 5:51                  사진    오후   5:51    5  51\n",
       "76  smhrd 박병관 연구원님    오후 5:51                  사진    오후   5:51    5  51\n",
       "77  smhrd 박병관 연구원님    오후 5:51                  사진    오후   5:51    5  51\n",
       "78     smhrd 최영화 쌤    오후 5:57                  사진    오후   5:57    5  57\n",
       "79     smhrd 최영화 쌤    오후 5:57   우리반 이번주 고생많으셨습니다!    오후   5:57    5  57\n",
       "\n",
       "[80 rows x 7 columns]"
      ]
     },
     "execution_count": 122,
     "metadata": {},
     "output_type": "execute_result"
    }
   ],
   "source": [
    "a= katalk[\"H/M\"].str.split(\":\")\n",
    "katalk[\"hour\"] = a.str[0]\n",
    "katalk[\"min\"] = a.str[1]\n",
    "katalk\n",
    "\n",
    "# for문 활용도 가능\n",
    "# katalk[\"H/M\"].str.split(\":\")[0][0]\n",
    "# katalk[\"H/M\"].str.split(\":\")[0][1]\n",
    "\n",
    "# hour_list = []\n",
    "# min_list = []\n",
    "\n",
    "# for i in range(len(katalk)):\n",
    "#     hour_list.append(katalk[\"H/M\"].str.split(\":\")[i][0])\n",
    "#     min_list.append(katalk[\"H/M\"].str.split(\":\")[i][1])\n",
    "\n",
    "# katalk[\"hour\"] = hour_list\n",
    "# katalk[\"min\"] = min_list\n"
   ]
  },
  {
   "cell_type": "code",
   "execution_count": 127,
   "metadata": {},
   "outputs": [
    {
     "data": {
      "text/plain": [
       "조승재               11\n",
       "송                 10\n",
       "smhrd 박병관 연구원님    10\n",
       "smhrd 최영화 쌤        8\n",
       "정승원                4\n",
       "정혜수                3\n",
       "윤성역                2\n",
       "ㅈㅂㅇ                2\n",
       "박화연                2\n",
       "윤선지                2\n",
       "양진영                2\n",
       "cys                2\n",
       "smhrd 조자연 선생님      2\n",
       "예함                 2\n",
       "이명호                2\n",
       "고운                 2\n",
       "신석우                1\n",
       "김승민                1\n",
       "황영규                1\n",
       "이안호                1\n",
       "박재성                1\n",
       "이수호                1\n",
       "김영민                1\n",
       "최유정                1\n",
       "혜정                 1\n",
       "민주                 1\n",
       "장영주                1\n",
       "유빈's               1\n",
       ".                  1\n",
       "smhrd 차준섭 원장님      1\n",
       "Name: name, dtype: int64"
      ]
     },
     "execution_count": 127,
     "metadata": {},
     "output_type": "execute_result"
    }
   ],
   "source": [
    "katalk[\"name\"]\n",
    "katalk[\"name\"].value_counts()"
   ]
  },
  {
   "cell_type": "code",
   "execution_count": 131,
   "metadata": {},
   "outputs": [
    {
     "data": {
      "text/plain": [
       "Index(['조승재', '송', 'smhrd 박병관 연구원님', 'smhrd 최영화 쌤', '정승원', '정혜수', '윤성역', 'ㅈㅂㅇ',\n",
       "       '박화연', '윤선지', '양진영', 'cys', 'smhrd 조자연 선생님', '예함', '이명호', '고운', '신석우',\n",
       "       '김승민', '황영규', '이안호', '박재성', '이수호', '김영민', '최유정', '혜정', '민주', '장영주',\n",
       "       '유빈's', '.', 'smhrd 차준섭 원장님'],\n",
       "      dtype='object')"
      ]
     },
     "execution_count": 131,
     "metadata": {},
     "output_type": "execute_result"
    }
   ],
   "source": [
    "y = katalk[\"name\"].value_counts()\n",
    "x = katalk[\"name\"].value_counts().index\n",
    "x"
   ]
  },
  {
   "cell_type": "code",
   "execution_count": 132,
   "metadata": {},
   "outputs": [
    {
     "name": "stderr",
     "output_type": "stream",
     "text": [
      "c:\\Users\\SMHRD\\anaconda3\\lib\\site-packages\\IPython\\core\\pylabtools.py:151: UserWarning: Glyph 51312 (\\N{HANGUL SYLLABLE JO}) missing from current font.\n",
      "  fig.canvas.print_figure(bytes_io, **kw)\n",
      "c:\\Users\\SMHRD\\anaconda3\\lib\\site-packages\\IPython\\core\\pylabtools.py:151: UserWarning: Glyph 49849 (\\N{HANGUL SYLLABLE SEUNG}) missing from current font.\n",
      "  fig.canvas.print_figure(bytes_io, **kw)\n",
      "c:\\Users\\SMHRD\\anaconda3\\lib\\site-packages\\IPython\\core\\pylabtools.py:151: UserWarning: Glyph 51116 (\\N{HANGUL SYLLABLE JAE}) missing from current font.\n",
      "  fig.canvas.print_figure(bytes_io, **kw)\n",
      "c:\\Users\\SMHRD\\anaconda3\\lib\\site-packages\\IPython\\core\\pylabtools.py:151: UserWarning: Glyph 49569 (\\N{HANGUL SYLLABLE SONG}) missing from current font.\n",
      "  fig.canvas.print_figure(bytes_io, **kw)\n",
      "c:\\Users\\SMHRD\\anaconda3\\lib\\site-packages\\IPython\\core\\pylabtools.py:151: UserWarning: Glyph 48149 (\\N{HANGUL SYLLABLE BAG}) missing from current font.\n",
      "  fig.canvas.print_figure(bytes_io, **kw)\n",
      "c:\\Users\\SMHRD\\anaconda3\\lib\\site-packages\\IPython\\core\\pylabtools.py:151: UserWarning: Glyph 48337 (\\N{HANGUL SYLLABLE BYEONG}) missing from current font.\n",
      "  fig.canvas.print_figure(bytes_io, **kw)\n",
      "c:\\Users\\SMHRD\\anaconda3\\lib\\site-packages\\IPython\\core\\pylabtools.py:151: UserWarning: Glyph 44288 (\\N{HANGUL SYLLABLE GWAN}) missing from current font.\n",
      "  fig.canvas.print_figure(bytes_io, **kw)\n",
      "c:\\Users\\SMHRD\\anaconda3\\lib\\site-packages\\IPython\\core\\pylabtools.py:151: UserWarning: Glyph 50672 (\\N{HANGUL SYLLABLE YEON}) missing from current font.\n",
      "  fig.canvas.print_figure(bytes_io, **kw)\n",
      "c:\\Users\\SMHRD\\anaconda3\\lib\\site-packages\\IPython\\core\\pylabtools.py:151: UserWarning: Glyph 44396 (\\N{HANGUL SYLLABLE GU}) missing from current font.\n",
      "  fig.canvas.print_figure(bytes_io, **kw)\n",
      "c:\\Users\\SMHRD\\anaconda3\\lib\\site-packages\\IPython\\core\\pylabtools.py:151: UserWarning: Glyph 50896 (\\N{HANGUL SYLLABLE WEON}) missing from current font.\n",
      "  fig.canvas.print_figure(bytes_io, **kw)\n",
      "c:\\Users\\SMHRD\\anaconda3\\lib\\site-packages\\IPython\\core\\pylabtools.py:151: UserWarning: Glyph 45784 (\\N{HANGUL SYLLABLE NIM}) missing from current font.\n",
      "  fig.canvas.print_figure(bytes_io, **kw)\n",
      "c:\\Users\\SMHRD\\anaconda3\\lib\\site-packages\\IPython\\core\\pylabtools.py:151: UserWarning: Glyph 52572 (\\N{HANGUL SYLLABLE COE}) missing from current font.\n",
      "  fig.canvas.print_figure(bytes_io, **kw)\n",
      "c:\\Users\\SMHRD\\anaconda3\\lib\\site-packages\\IPython\\core\\pylabtools.py:151: UserWarning: Glyph 50689 (\\N{HANGUL SYLLABLE YEONG}) missing from current font.\n",
      "  fig.canvas.print_figure(bytes_io, **kw)\n",
      "c:\\Users\\SMHRD\\anaconda3\\lib\\site-packages\\IPython\\core\\pylabtools.py:151: UserWarning: Glyph 54868 (\\N{HANGUL SYLLABLE HWA}) missing from current font.\n",
      "  fig.canvas.print_figure(bytes_io, **kw)\n",
      "c:\\Users\\SMHRD\\anaconda3\\lib\\site-packages\\IPython\\core\\pylabtools.py:151: UserWarning: Glyph 49956 (\\N{HANGUL SYLLABLE SSAEM}) missing from current font.\n",
      "  fig.canvas.print_figure(bytes_io, **kw)\n",
      "c:\\Users\\SMHRD\\anaconda3\\lib\\site-packages\\IPython\\core\\pylabtools.py:151: UserWarning: Glyph 51221 (\\N{HANGUL SYLLABLE JEONG}) missing from current font.\n",
      "  fig.canvas.print_figure(bytes_io, **kw)\n",
      "c:\\Users\\SMHRD\\anaconda3\\lib\\site-packages\\IPython\\core\\pylabtools.py:151: UserWarning: Glyph 54812 (\\N{HANGUL SYLLABLE HYE}) missing from current font.\n",
      "  fig.canvas.print_figure(bytes_io, **kw)\n",
      "c:\\Users\\SMHRD\\anaconda3\\lib\\site-packages\\IPython\\core\\pylabtools.py:151: UserWarning: Glyph 49688 (\\N{HANGUL SYLLABLE SU}) missing from current font.\n",
      "  fig.canvas.print_figure(bytes_io, **kw)\n",
      "c:\\Users\\SMHRD\\anaconda3\\lib\\site-packages\\IPython\\core\\pylabtools.py:151: UserWarning: Glyph 50980 (\\N{HANGUL SYLLABLE YUN}) missing from current font.\n",
      "  fig.canvas.print_figure(bytes_io, **kw)\n",
      "c:\\Users\\SMHRD\\anaconda3\\lib\\site-packages\\IPython\\core\\pylabtools.py:151: UserWarning: Glyph 49457 (\\N{HANGUL SYLLABLE SEONG}) missing from current font.\n",
      "  fig.canvas.print_figure(bytes_io, **kw)\n",
      "c:\\Users\\SMHRD\\anaconda3\\lib\\site-packages\\IPython\\core\\pylabtools.py:151: UserWarning: Glyph 50669 (\\N{HANGUL SYLLABLE YEOG}) missing from current font.\n",
      "  fig.canvas.print_figure(bytes_io, **kw)\n",
      "c:\\Users\\SMHRD\\anaconda3\\lib\\site-packages\\IPython\\core\\pylabtools.py:151: UserWarning: Glyph 12616 (\\N{HANGUL LETTER CIEUC}) missing from current font.\n",
      "  fig.canvas.print_figure(bytes_io, **kw)\n",
      "c:\\Users\\SMHRD\\anaconda3\\lib\\site-packages\\IPython\\core\\pylabtools.py:151: UserWarning: Glyph 12610 (\\N{HANGUL LETTER PIEUP}) missing from current font.\n",
      "  fig.canvas.print_figure(bytes_io, **kw)\n",
      "c:\\Users\\SMHRD\\anaconda3\\lib\\site-packages\\IPython\\core\\pylabtools.py:151: UserWarning: Glyph 12615 (\\N{HANGUL LETTER IEUNG}) missing from current font.\n",
      "  fig.canvas.print_figure(bytes_io, **kw)\n",
      "c:\\Users\\SMHRD\\anaconda3\\lib\\site-packages\\IPython\\core\\pylabtools.py:151: UserWarning: Glyph 49440 (\\N{HANGUL SYLLABLE SEON}) missing from current font.\n",
      "  fig.canvas.print_figure(bytes_io, **kw)\n",
      "c:\\Users\\SMHRD\\anaconda3\\lib\\site-packages\\IPython\\core\\pylabtools.py:151: UserWarning: Glyph 51648 (\\N{HANGUL SYLLABLE JI}) missing from current font.\n",
      "  fig.canvas.print_figure(bytes_io, **kw)\n",
      "c:\\Users\\SMHRD\\anaconda3\\lib\\site-packages\\IPython\\core\\pylabtools.py:151: UserWarning: Glyph 50577 (\\N{HANGUL SYLLABLE YANG}) missing from current font.\n",
      "  fig.canvas.print_figure(bytes_io, **kw)\n",
      "c:\\Users\\SMHRD\\anaconda3\\lib\\site-packages\\IPython\\core\\pylabtools.py:151: UserWarning: Glyph 51652 (\\N{HANGUL SYLLABLE JIN}) missing from current font.\n",
      "  fig.canvas.print_figure(bytes_io, **kw)\n",
      "c:\\Users\\SMHRD\\anaconda3\\lib\\site-packages\\IPython\\core\\pylabtools.py:151: UserWarning: Glyph 51088 (\\N{HANGUL SYLLABLE JA}) missing from current font.\n",
      "  fig.canvas.print_figure(bytes_io, **kw)\n",
      "c:\\Users\\SMHRD\\anaconda3\\lib\\site-packages\\IPython\\core\\pylabtools.py:151: UserWarning: Glyph 49373 (\\N{HANGUL SYLLABLE SAENG}) missing from current font.\n",
      "  fig.canvas.print_figure(bytes_io, **kw)\n",
      "c:\\Users\\SMHRD\\anaconda3\\lib\\site-packages\\IPython\\core\\pylabtools.py:151: UserWarning: Glyph 50696 (\\N{HANGUL SYLLABLE YE}) missing from current font.\n",
      "  fig.canvas.print_figure(bytes_io, **kw)\n",
      "c:\\Users\\SMHRD\\anaconda3\\lib\\site-packages\\IPython\\core\\pylabtools.py:151: UserWarning: Glyph 54632 (\\N{HANGUL SYLLABLE HAM}) missing from current font.\n",
      "  fig.canvas.print_figure(bytes_io, **kw)\n",
      "c:\\Users\\SMHRD\\anaconda3\\lib\\site-packages\\IPython\\core\\pylabtools.py:151: UserWarning: Glyph 51060 (\\N{HANGUL SYLLABLE I}) missing from current font.\n",
      "  fig.canvas.print_figure(bytes_io, **kw)\n",
      "c:\\Users\\SMHRD\\anaconda3\\lib\\site-packages\\IPython\\core\\pylabtools.py:151: UserWarning: Glyph 47749 (\\N{HANGUL SYLLABLE MYEONG}) missing from current font.\n",
      "  fig.canvas.print_figure(bytes_io, **kw)\n",
      "c:\\Users\\SMHRD\\anaconda3\\lib\\site-packages\\IPython\\core\\pylabtools.py:151: UserWarning: Glyph 54840 (\\N{HANGUL SYLLABLE HO}) missing from current font.\n",
      "  fig.canvas.print_figure(bytes_io, **kw)\n",
      "c:\\Users\\SMHRD\\anaconda3\\lib\\site-packages\\IPython\\core\\pylabtools.py:151: UserWarning: Glyph 44256 (\\N{HANGUL SYLLABLE GO}) missing from current font.\n",
      "  fig.canvas.print_figure(bytes_io, **kw)\n",
      "c:\\Users\\SMHRD\\anaconda3\\lib\\site-packages\\IPython\\core\\pylabtools.py:151: UserWarning: Glyph 50868 (\\N{HANGUL SYLLABLE UN}) missing from current font.\n",
      "  fig.canvas.print_figure(bytes_io, **kw)\n",
      "c:\\Users\\SMHRD\\anaconda3\\lib\\site-packages\\IPython\\core\\pylabtools.py:151: UserWarning: Glyph 49888 (\\N{HANGUL SYLLABLE SIN}) missing from current font.\n",
      "  fig.canvas.print_figure(bytes_io, **kw)\n",
      "c:\\Users\\SMHRD\\anaconda3\\lib\\site-packages\\IPython\\core\\pylabtools.py:151: UserWarning: Glyph 49437 (\\N{HANGUL SYLLABLE SEOG}) missing from current font.\n",
      "  fig.canvas.print_figure(bytes_io, **kw)\n",
      "c:\\Users\\SMHRD\\anaconda3\\lib\\site-packages\\IPython\\core\\pylabtools.py:151: UserWarning: Glyph 50864 (\\N{HANGUL SYLLABLE U}) missing from current font.\n",
      "  fig.canvas.print_figure(bytes_io, **kw)\n",
      "c:\\Users\\SMHRD\\anaconda3\\lib\\site-packages\\IPython\\core\\pylabtools.py:151: UserWarning: Glyph 44608 (\\N{HANGUL SYLLABLE GIM}) missing from current font.\n",
      "  fig.canvas.print_figure(bytes_io, **kw)\n",
      "c:\\Users\\SMHRD\\anaconda3\\lib\\site-packages\\IPython\\core\\pylabtools.py:151: UserWarning: Glyph 48124 (\\N{HANGUL SYLLABLE MIN}) missing from current font.\n",
      "  fig.canvas.print_figure(bytes_io, **kw)\n",
      "c:\\Users\\SMHRD\\anaconda3\\lib\\site-packages\\IPython\\core\\pylabtools.py:151: UserWarning: Glyph 54889 (\\N{HANGUL SYLLABLE HWANG}) missing from current font.\n",
      "  fig.canvas.print_figure(bytes_io, **kw)\n",
      "c:\\Users\\SMHRD\\anaconda3\\lib\\site-packages\\IPython\\core\\pylabtools.py:151: UserWarning: Glyph 44508 (\\N{HANGUL SYLLABLE GYU}) missing from current font.\n",
      "  fig.canvas.print_figure(bytes_io, **kw)\n",
      "c:\\Users\\SMHRD\\anaconda3\\lib\\site-packages\\IPython\\core\\pylabtools.py:151: UserWarning: Glyph 50504 (\\N{HANGUL SYLLABLE AN}) missing from current font.\n",
      "  fig.canvas.print_figure(bytes_io, **kw)\n",
      "c:\\Users\\SMHRD\\anaconda3\\lib\\site-packages\\IPython\\core\\pylabtools.py:151: UserWarning: Glyph 50976 (\\N{HANGUL SYLLABLE YU}) missing from current font.\n",
      "  fig.canvas.print_figure(bytes_io, **kw)\n",
      "c:\\Users\\SMHRD\\anaconda3\\lib\\site-packages\\IPython\\core\\pylabtools.py:151: UserWarning: Glyph 51452 (\\N{HANGUL SYLLABLE JU}) missing from current font.\n",
      "  fig.canvas.print_figure(bytes_io, **kw)\n",
      "c:\\Users\\SMHRD\\anaconda3\\lib\\site-packages\\IPython\\core\\pylabtools.py:151: UserWarning: Glyph 51109 (\\N{HANGUL SYLLABLE JANG}) missing from current font.\n",
      "  fig.canvas.print_figure(bytes_io, **kw)\n",
      "c:\\Users\\SMHRD\\anaconda3\\lib\\site-packages\\IPython\\core\\pylabtools.py:151: UserWarning: Glyph 48712 (\\N{HANGUL SYLLABLE BIN}) missing from current font.\n",
      "  fig.canvas.print_figure(bytes_io, **kw)\n",
      "c:\\Users\\SMHRD\\anaconda3\\lib\\site-packages\\IPython\\core\\pylabtools.py:151: UserWarning: Glyph 52264 (\\N{HANGUL SYLLABLE CA}) missing from current font.\n",
      "  fig.canvas.print_figure(bytes_io, **kw)\n",
      "c:\\Users\\SMHRD\\anaconda3\\lib\\site-packages\\IPython\\core\\pylabtools.py:151: UserWarning: Glyph 51456 (\\N{HANGUL SYLLABLE JUN}) missing from current font.\n",
      "  fig.canvas.print_figure(bytes_io, **kw)\n",
      "c:\\Users\\SMHRD\\anaconda3\\lib\\site-packages\\IPython\\core\\pylabtools.py:151: UserWarning: Glyph 49453 (\\N{HANGUL SYLLABLE SEOB}) missing from current font.\n",
      "  fig.canvas.print_figure(bytes_io, **kw)\n"
     ]
    },
    {
     "data": {
      "image/png": "[encoded data removed]",
      "text/plain": [
       "<Figure size 640x480 with 1 Axes>"
      ]
     },
     "metadata": {},
     "output_type": "display_data"
    }
   ],
   "source": [
    "#  누가 가장 많이 카톡을 보냈을까?\n",
    "\n",
    "plt.bar(x,y)\n",
    "plt.show()"
   ]
  },
  {
   "cell_type": "code",
   "execution_count": 135,
   "metadata": {},
   "outputs": [],
   "source": [
    "# 한글 지원 폰트 설정\n",
    "from matplotlib import rc\n",
    "rc('font', family=\"Malgun Gothic\")"
   ]
  },
  {
   "cell_type": "code",
   "execution_count": 145,
   "metadata": {},
   "outputs": [
    {
     "data": {
      "image/png": "[encoded data removed]",
      "text/plain": [
       "<Figure size 800x800 with 1 Axes>"
      ]
     },
     "metadata": {},
     "output_type": "display_data"
    }
   ],
   "source": [
    "# barh : 수평 bar chart\n",
    "\n",
    "# 그래프 크기 지정 (가로, 세로)\n",
    "plt.figure(figsize=(8,8))\n",
    "plt.barh(x,y, color=\"red\")\n",
    "# x축 이름\n",
    "plt.xlabel(\"카톡횟수\")\n",
    "# y축 이름, rotation=0: 가로출력\n",
    "plt.ylabel(\"보낸사람\", rotation = 0)\n",
    "# 그래프 이름\n",
    "plt.title(\"데이터디자인카톡\")\n",
    "plt.show()"
   ]
  },
  {
   "cell_type": "code",
   "execution_count": 148,
   "metadata": {},
   "outputs": [
    {
     "data": {
      "text/plain": [
       "<bound method Series.sort_index of 10    25\n",
       "4     20\n",
       "8     14\n",
       "9      8\n",
       "3      6\n",
       "5      6\n",
       "6      1\n",
       "Name: hour, dtype: int64>"
      ]
     },
     "execution_count": 148,
     "metadata": {},
     "output_type": "execute_result"
    }
   ],
   "source": [
    "katalk[\"hour\"].value_counts().sort_index"
   ]
  },
  {
   "cell_type": "code",
   "execution_count": 152,
   "metadata": {},
   "outputs": [],
   "source": [
    "y = katalk[\"hour\"].value_counts().sort_index()\n",
    "x = katalk[\"hour\"].value_counts().sort_index().index\n"
   ]
  },
  {
   "cell_type": "code",
   "execution_count": 160,
   "metadata": {},
   "outputs": [
    {
     "data": {
      "image/png": "[encoded data removed]",
      "text/plain": [
       "<Figure size 300x300 with 1 Axes>"
      ]
     },
     "metadata": {},
     "output_type": "display_data"
    }
   ],
   "source": [
    "# 어느 시간대에 카톡을 많이 보냈을까\n",
    "\n",
    "plt.figure(figsize=(3,3))\n",
    "plt.bar(x,y, color=\"yellow\")\n",
    "plt.xlabel(\"시간대\")\n",
    "plt.ylabel(\"보낸횟수\")\n",
    "plt.title(\"데이터디자인\")\n",
    "plt.show()"
   ]
  },
  {
   "cell_type": "code",
   "execution_count": null,
   "metadata": {},
   "outputs": [],
   "source": []
  },
  {
   "cell_type": "code",
   "execution_count": null,
   "metadata": {},
   "outputs": [],
   "source": []
  },
  {
   "cell_type": "code",
   "execution_count": null,
   "metadata": {},
   "outputs": [],
   "source": []
  },
  {
   "cell_type": "code",
   "execution_count": null,
   "metadata": {},
   "outputs": [],
   "source": []
  },
  {
   "cell_type": "code",
   "execution_count": null,
   "metadata": {},
   "outputs": [],
   "source": []
  },
  {
   "cell_type": "code",
   "execution_count": null,
   "metadata": {},
   "outputs": [],
   "source": []
  },
  {
   "cell_type": "code",
   "execution_count": null,
   "metadata": {},
   "outputs": [],
   "source": []
  },
  {
   "cell_type": "code",
   "execution_count": null,
   "metadata": {},
   "outputs": [],
   "source": []
  },
  {
   "cell_type": "code",
   "execution_count": null,
   "metadata": {},
   "outputs": [],
   "source": []
  },
  {
   "cell_type": "code",
   "execution_count": null,
   "metadata": {},
   "outputs": [],
   "source": []
  },
  {
   "cell_type": "code",
   "execution_count": null,
   "metadata": {},
   "outputs": [],
   "source": []
  }
 ],
 "metadata": {
  "kernelspec": {
   "display_name": "base",
   "language": "python",
   "name": "python3"
  },
  "language_info": {
   "codemirror_mode": {
    "name": "ipython",
    "version": 3
   },
   "file_extension": ".py",
   "mimetype": "text/x-python",
   "name": "python",
   "nbconvert_exporter": "python",
   "pygments_lexer": "ipython3",
   "version": "3.9.13"
  },
  "orig_nbformat": 4,
  "vscode": {
   "interpreter": {
    "hash": "b29c9535bfd25afa5c0ebea945f05384aab6e6733113370efdd687ec340f7537"
   }
  }
 },
 "nbformat": 4,
 "nbformat_minor": 2
}
