{
 "cells": [
  {
   "attachments": {},
   "cell_type": "markdown",
   "metadata": {},
   "source": [
    "# Pandas 라이브러리\n",
    "- Panel datas의 약자\n",
    "- Series : index + value 가 1:1로 대응되는 데이터\n",
    "- DataFrame : 행과 열을 가지는 표와 같은 형태의 데이터\n",
    "- Series가 모여 DataFrame이 된다"
   ]
  },
  {
   "cell_type": "code",
   "execution_count": 2,
   "metadata": {},
   "outputs": [],
   "source": [
    "# pandas 라이브러리 호출, pd라 별칭\n",
    "import pandas as pd"
   ]
  },
  {
   "cell_type": "code",
   "execution_count": 3,
   "metadata": {},
   "outputs": [
    {
     "name": "stdout",
     "output_type": "stream",
     "text": [
      "0    9668465\n",
      "1    3391946\n",
      "2    2942828\n",
      "3    1450062\n",
      "dtype: int64\n"
     ]
    }
   ],
   "source": [
    "# Series -> index + value로 구성된 형태\n",
    "# dtype은 value 값의 타입\n",
    "population = pd.Series([9668465,3391946,2942828,1450062])\n",
    "print(population)"
   ]
  },
  {
   "cell_type": "code",
   "execution_count": 4,
   "metadata": {},
   "outputs": [
    {
     "name": "stdout",
     "output_type": "stream",
     "text": [
      "서울    9668465\n",
      "부산    3391946\n",
      "인천    2942828\n",
      "광주    1450062\n",
      "dtype: int64\n"
     ]
    }
   ],
   "source": [
    "# 인덱스 이름을 지정하여 Series 생성하기\n",
    "# 인덱스와 값이 1:1로 일치해야 함!! =>아니라면 오류 \n",
    "# population = pd.Series([9668465,3391946,2942828,1450062], index=[\"서울\",\"부산\",\"인천\",\"광주\",\"목포\"])\n",
    "population = pd.Series([9668465,3391946,2942828,1450062], index=[\"서울\",\"부산\",\"인천\",\"광주\"])\n",
    "print(population)\n"
   ]
  },
  {
   "attachments": {},
   "cell_type": "markdown",
   "metadata": {},
   "source": [
    "### Series 데이터 확인\n",
    "- 각각 numpy 배열로 이루어짐\n",
    "- .values\n",
    "- .index"
   ]
  },
  {
   "cell_type": "code",
   "execution_count": 5,
   "metadata": {},
   "outputs": [
    {
     "name": "stdout",
     "output_type": "stream",
     "text": [
      "[9668465 3391946 2942828 1450062]\n",
      "<class 'numpy.ndarray'>\n",
      "Index(['서울', '부산', '인천', '광주'], dtype='object')\n"
     ]
    }
   ],
   "source": [
    "# Series 데이터들의 값은 넘파이 배열의 형태!!\n",
    "\n",
    "# Series의 값만 확인\n",
    "print(population.values)\n",
    "print(type(population.values))\n",
    "\n",
    "# Series의 인덱스만 확인\n",
    "# 'object => 일반 문자열 의미\n",
    "print(population.index)"
   ]
  },
  {
   "attachments": {},
   "cell_type": "markdown",
   "metadata": {},
   "source": [
    "### Series에 이름을 지정 (데이터에 정보를 나타내기)"
   ]
  },
  {
   "cell_type": "code",
   "execution_count": 6,
   "metadata": {},
   "outputs": [
    {
     "name": "stdout",
     "output_type": "stream",
     "text": [
      "도시\n",
      "서울    9668465\n",
      "부산    3391946\n",
      "인천    2942828\n",
      "광주    1450062\n",
      "Name: 인구, dtype: int64\n"
     ]
    }
   ],
   "source": [
    "# Series 데이터의 이름 지정하기\n",
    "# 데이터의 정보를 나타내기 위해서!!\n",
    "population.name = \"인구\"\n",
    "\n",
    "# 인덱스에 이름 붙여주기\n",
    "population.index.name = \"도시\"\n",
    "\n",
    "print(population)"
   ]
  },
  {
   "attachments": {},
   "cell_type": "markdown",
   "metadata": {},
   "source": [
    "### Series 데이터 구조의 연산"
   ]
  },
  {
   "cell_type": "code",
   "execution_count": 7,
   "metadata": {},
   "outputs": [
    {
     "name": "stdout",
     "output_type": "stream",
     "text": [
      "도시\n",
      "서울    9.668465\n",
      "부산    3.391946\n",
      "인천    2.942828\n",
      "광주    1.450062\n",
      "Name: 인구, dtype: float64\n"
     ]
    }
   ],
   "source": [
    "# Series데이터 구조는 넘파이 배열의 형태\n",
    "# 즉 연산이 가능!!\n",
    "\n",
    "# 모든 요소에 대해 연산이 진행된다!\n",
    "print(population/1000000)"
   ]
  },
  {
   "attachments": {},
   "cell_type": "markdown",
   "metadata": {},
   "source": [
    "### Series 인덱싱, 슬라이싱"
   ]
  },
  {
   "cell_type": "code",
   "execution_count": 8,
   "metadata": {},
   "outputs": [
    {
     "name": "stdout",
     "output_type": "stream",
     "text": [
      "서울    9668465\n",
      "부산    3391946\n",
      "인천    2942828\n",
      "광주    1450062\n",
      "dtype: int64\n"
     ]
    }
   ],
   "source": [
    "population = pd.Series([9668465,3391946,2942828,1450062], index=[\"서울\",\"부산\",\"인천\",\"광주\"])\n",
    "print(population)"
   ]
  },
  {
   "cell_type": "code",
   "execution_count": 9,
   "metadata": {},
   "outputs": [
    {
     "name": "stdout",
     "output_type": "stream",
     "text": [
      "3391946\n",
      "3391946\n"
     ]
    }
   ],
   "source": [
    "# 인덱싱 : 부산의 인구수 가져오기\n",
    "# 인덱스 번호, 인덱스의 이름으로도 추출 가능\n",
    "print(population[1])\n",
    "print(population[\"부산\"])\n"
   ]
  },
  {
   "cell_type": "code",
   "execution_count": 10,
   "metadata": {},
   "outputs": [
    {
     "name": "stdout",
     "output_type": "stream",
     "text": [
      "서울    9668465\n",
      "광주    1450062\n",
      "부산    3391946\n",
      "dtype: int64\n",
      "\n",
      "서울    9668465\n",
      "광주    1450062\n",
      "부산    3391946\n",
      "dtype: int64\n"
     ]
    }
   ],
   "source": [
    "# 인덱싱을 활용하여 여러개의 데이터를 추축ㄹ\n",
    "# 서울, 광주, 부산 데이터 가져오기 (동시에, 순서 맞춰서)\n",
    "# 여러개 데이터 인덱싱 : 리스트[]\n",
    "print(population[[0, 3, 1]])\n",
    "print()\n",
    "print(population[[\"서울\", \"광주\", \"부산\"]])"
   ]
  },
  {
   "cell_type": "code",
   "execution_count": 11,
   "metadata": {},
   "outputs": [
    {
     "name": "stdout",
     "output_type": "stream",
     "text": [
      "인천    2942828\n",
      "서울    9668465\n",
      "dtype: int64\n",
      "\n",
      "인천    2942828\n",
      "서울    9668465\n",
      "dtype: int64\n"
     ]
    }
   ],
   "source": [
    "print(population[[2, 0]])\n",
    "print()\n",
    "print(population[[\"인천\", \"서울\"]])"
   ]
  },
  {
   "attachments": {},
   "cell_type": "markdown",
   "metadata": {},
   "source": [
    "- 슬라이싱"
   ]
  },
  {
   "cell_type": "code",
   "execution_count": 12,
   "metadata": {},
   "outputs": [
    {
     "name": "stdout",
     "output_type": "stream",
     "text": [
      "서울    9668465\n",
      "부산    3391946\n",
      "인천    2942828\n",
      "광주    1450062\n",
      "dtype: int64\n"
     ]
    }
   ],
   "source": [
    "print(population)"
   ]
  },
  {
   "cell_type": "code",
   "execution_count": 13,
   "metadata": {},
   "outputs": [
    {
     "name": "stdout",
     "output_type": "stream",
     "text": [
      "부산    3391946\n",
      "인천    2942828\n",
      "dtype: int64\n",
      "\n",
      "부산    3391946\n",
      "인천    2942828\n",
      "dtype: int64\n"
     ]
    }
   ],
   "source": [
    "# Series명[ 시작인덱스:끝인덱스+1 ]\n",
    "# 부산~인천\n",
    "print(population[1:3])\n",
    "print()\n",
    "print(population[\"부산\":\"인천\"])\n",
    "# 인덱스 이름으로 슬라이싱 진행 시 +1 개념이 없으므로 가져오고자 하는 이름을 작성"
   ]
  },
  {
   "attachments": {},
   "cell_type": "markdown",
   "metadata": {},
   "source": [
    "- 불리언 인덱싱 : 원하는 조건에 해당하는 데이터를 가져올 때 사용\n",
    "    - 출력하고 싶은 데이터[조건식]"
   ]
  },
  {
   "cell_type": "code",
   "execution_count": 14,
   "metadata": {},
   "outputs": [
    {
     "name": "stdout",
     "output_type": "stream",
     "text": [
      "서울    9668465\n",
      "부산    3391946\n",
      "인천    2942828\n",
      "dtype: int64\n",
      "서울    9668465\n",
      "부산    3391946\n",
      "인천    2942828\n",
      "dtype: int64\n"
     ]
    }
   ],
   "source": [
    "# 인구가 250만 이상인 도시만 출력\n",
    "print(population[population.values>=2500000])\n",
    "print(population[population>=2500000])"
   ]
  },
  {
   "cell_type": "code",
   "execution_count": 15,
   "metadata": {},
   "outputs": [
    {
     "data": {
      "text/plain": [
       "부산    3391946\n",
       "인천    2942828\n",
       "dtype: int64"
      ]
     },
     "execution_count": 15,
     "metadata": {},
     "output_type": "execute_result"
    }
   ],
   "source": [
    "# 인구가 250만 이상 500만 이하의 도시 출력 -> 부산,인천\n",
    "# and, or\n",
    "# 다중조건인 경우 반드시우선순위를 지정\n",
    "#! and or 예약어 사용XX => and == &, or == |\n",
    "population[(population>=2500000) & (population<=5000000)]"
   ]
  },
  {
   "attachments": {},
   "cell_type": "markdown",
   "metadata": {},
   "source": [
    "### 딕셔너리 데이터타입을 활용해서 Series 생성하기\n",
    "- key 값은 index\n",
    "- value 값은 value"
   ]
  },
  {
   "cell_type": "code",
   "execution_count": 16,
   "metadata": {},
   "outputs": [
    {
     "name": "stdout",
     "output_type": "stream",
     "text": [
      "잠만보    9631\n",
      "롱스톤    3393\n",
      "잉어킹    1490\n",
      "오박사       0\n",
      "dtype: int64\n"
     ]
    }
   ],
   "source": [
    "# 포켓몬 : 능력치\n",
    "data = {\"잠만보\":9631,\n",
    "        \"롱스톤\":3393,\n",
    "        \"잉어킹\":1490,\n",
    "        \"오박사\":0}\n",
    "pokemon = pd.Series(data)\n",
    "\n",
    "print(pokemon)"
   ]
  },
  {
   "cell_type": "code",
   "execution_count": 17,
   "metadata": {},
   "outputs": [
    {
     "name": "stdout",
     "output_type": "stream",
     "text": [
      "잠만보    9999\n",
      "롱스톤    5000\n",
      "전룡     6000\n",
      "성원숭       1\n",
      "dtype: int64\n"
     ]
    }
   ],
   "source": [
    "# 레벨업한 데이터가 들어있는 pokemon_up\n",
    "# key값은 동일해야 함!!! 다르면 인식 XX\n",
    "data2 = {\"잠만보\":9999,\n",
    "        \"롱스톤\":5000,\n",
    "        \"전룡\":6000,\n",
    "        \"성원숭\":1}\n",
    "pokemon_up = pd.Series(data2)\n",
    "\n",
    "print(pokemon_up)"
   ]
  },
  {
   "cell_type": "code",
   "execution_count": 18,
   "metadata": {},
   "outputs": [
    {
     "name": "stdout",
     "output_type": "stream",
     "text": [
      "롱스톤    1607.0\n",
      "성원숭       NaN\n",
      "오박사       NaN\n",
      "잉어킹       NaN\n",
      "잠만보     368.0\n",
      "전룡        NaN\n",
      "dtype: float64\n"
     ]
    }
   ],
   "source": [
    "# 올라간 능력치 계산\n",
    "up = pokemon_up - pokemon\n",
    "print(up)\n",
    "#* 인덱스명이 달랐을 때 Series연산 진행 결과 --> NaN이라는 값 출력(결측치)"
   ]
  },
  {
   "attachments": {},
   "cell_type": "markdown",
   "metadata": {},
   "source": [
    "- 결측치(NaN)가 있는 Sreies 데이터 처리하는 방법"
   ]
  },
  {
   "cell_type": "code",
   "execution_count": 19,
   "metadata": {},
   "outputs": [
    {
     "name": "stdout",
     "output_type": "stream",
     "text": [
      "롱스톤     True\n",
      "성원숭    False\n",
      "오박사    False\n",
      "잉어킹    False\n",
      "잠만보     True\n",
      "전룡     False\n",
      "dtype: bool\n",
      "롱스톤    1607.0\n",
      "잠만보     368.0\n",
      "dtype: float64\n"
     ]
    }
   ],
   "source": [
    "# 비어있지 않은 데이터들만 보고싶다면?\n",
    "#*       => notnull()\n",
    "print(up.notnull())\n",
    "# 비어있지 않은 데이터만 출력  --> 불리언 인덱싱\n",
    "print(up[up.notnull()])"
   ]
  },
  {
   "cell_type": "code",
   "execution_count": 20,
   "metadata": {},
   "outputs": [
    {
     "name": "stdout",
     "output_type": "stream",
     "text": [
      "롱스톤    False\n",
      "성원숭     True\n",
      "오박사     True\n",
      "잉어킹     True\n",
      "잠만보    False\n",
      "전룡      True\n",
      "dtype: bool\n",
      "\n",
      "성원숭   NaN\n",
      "오박사   NaN\n",
      "잉어킹   NaN\n",
      "전룡    NaN\n",
      "dtype: float64\n"
     ]
    }
   ],
   "source": [
    "# 비어있는 데이터만 보고 싶다면\n",
    "#*       ---> isnull()\n",
    "print(up.isnull())\n",
    "print()\n",
    "# 빈 데이터만 인덱싱하여 출력\n",
    "print(up[up.isnull()])\n"
   ]
  },
  {
   "cell_type": "code",
   "execution_count": 21,
   "metadata": {},
   "outputs": [
    {
     "name": "stdout",
     "output_type": "stream",
     "text": [
      "롱스톤    47.362216\n",
      "성원숭          NaN\n",
      "오박사          NaN\n",
      "잉어킹          NaN\n",
      "잠만보     3.820995\n",
      "전룡           NaN\n",
      "dtype: float64\n",
      "\n",
      "롱스톤    47.362216\n",
      "잠만보     3.820995\n",
      "dtype: float64\n"
     ]
    }
   ],
   "source": [
    "# 레벨업해서 올라간 공격력의 증가율(%) 계산해보기\n",
    "# ((올라간 데이터(pokemon_up)-원 데이터)/ 원 데이터) * 100\n",
    "ch=((pokemon_up-pokemon)/pokemon)*100\n",
    "print(ch)\n",
    "print()\n",
    "# 비어있지 않은 값만 출력\n",
    "print(ch[ch.notnull()])"
   ]
  },
  {
   "attachments": {},
   "cell_type": "markdown",
   "metadata": {},
   "source": [
    "### Series 데이터 갱신 추가 삭제 방법"
   ]
  },
  {
   "cell_type": "code",
   "execution_count": 22,
   "metadata": {},
   "outputs": [],
   "source": [
    "# ch 데이터로 실습\n",
    "\n",
    "#* Series 데이터 추가하는 방법\n",
    "# 기존에 없던 인덱스 명칭 활용하여 값 추가\n",
    "#^ Series명[\"추가하고싶은 인덱스명\"] = 값\n",
    "ch[\"파이리\"] = 55"
   ]
  },
  {
   "cell_type": "code",
   "execution_count": 23,
   "metadata": {},
   "outputs": [
    {
     "name": "stdout",
     "output_type": "stream",
     "text": [
      "롱스톤    47.362216\n",
      "성원숭          NaN\n",
      "오박사    50.000000\n",
      "잉어킹          NaN\n",
      "잠만보     3.820995\n",
      "전룡           NaN\n",
      "파이리    55.000000\n",
      "dtype: float64\n"
     ]
    }
   ],
   "source": [
    "#* Series 데이터 수정하는 방법\n",
    "# 기존에 있던 인덱스 명칭 활용하여 값 수정\n",
    "#^ Series명[\"수정할 인덱스명\"] = 값\n",
    "ch[\"오박사\"] = 50\n",
    "print(ch)"
   ]
  },
  {
   "cell_type": "code",
   "execution_count": 24,
   "metadata": {},
   "outputs": [
    {
     "name": "stdout",
     "output_type": "stream",
     "text": [
      "롱스톤    47.362216\n",
      "성원숭          NaN\n",
      "오박사    50.000000\n",
      "잠만보     3.820995\n",
      "파이리    55.000000\n",
      "dtype: float64\n"
     ]
    }
   ],
   "source": [
    "# 삭제하는 방법\n",
    "#^ del\n",
    "del ch[\"전룡\"]\n",
    "del ch[\"잉어킹\"]\n",
    "print(ch)"
   ]
  },
  {
   "attachments": {},
   "cell_type": "markdown",
   "metadata": {},
   "source": [
    "# DataFrame\n",
    "- 행과 열로 구성 된 표와 같은 형태\n",
    "- Series 데이터 구조가 모여서 생성\n",
    "- 2차원 데이터"
   ]
  },
  {
   "attachments": {},
   "cell_type": "markdown",
   "metadata": {},
   "source": [
    "- 딕셔너리 활용하여 DataFrame 생성하기"
   ]
  },
  {
   "cell_type": "code",
   "execution_count": 2,
   "metadata": {},
   "outputs": [
    {
     "name": "stdout",
     "output_type": "stream",
     "text": [
      "      2020      2010\n",
      "0  9668465  10312545\n",
      "1  3391946   3567910\n",
      "2  2942828   2758296\n",
      "3  1450062   1454636\n"
     ]
    }
   ],
   "source": [
    "data = {'2020': [9668465,3391946,2942828,1450062],\n",
    "       '2010':[10312545,3567910,2758296,1454636]}\n",
    "df = pd.DataFrame(data)\n",
    "\n",
    "print(df)\n",
    "# 키 값 -> column, value -> vlaues\n",
    "# index 자동 지정!"
   ]
  },
  {
   "cell_type": "code",
   "execution_count": 3,
   "metadata": {},
   "outputs": [
    {
     "data": {
      "text/html": [
       "<div>\n",
       "<style scoped>\n",
       "    .dataframe tbody tr th:only-of-type {\n",
       "        vertical-align: middle;\n",
       "    }\n",
       "\n",
       "    .dataframe tbody tr th {\n",
       "        vertical-align: top;\n",
       "    }\n",
       "\n",
       "    .dataframe thead th {\n",
       "        text-align: right;\n",
       "    }\n",
       "</style>\n",
       "<table border=\"1\" class=\"dataframe\">\n",
       "  <thead>\n",
       "    <tr style=\"text-align: right;\">\n",
       "      <th></th>\n",
       "      <th>2020</th>\n",
       "      <th>2010</th>\n",
       "    </tr>\n",
       "  </thead>\n",
       "  <tbody>\n",
       "    <tr>\n",
       "      <th>0</th>\n",
       "      <td>9668465</td>\n",
       "      <td>10312545</td>\n",
       "    </tr>\n",
       "    <tr>\n",
       "      <th>1</th>\n",
       "      <td>3391946</td>\n",
       "      <td>3567910</td>\n",
       "    </tr>\n",
       "    <tr>\n",
       "      <th>2</th>\n",
       "      <td>2942828</td>\n",
       "      <td>2758296</td>\n",
       "    </tr>\n",
       "    <tr>\n",
       "      <th>3</th>\n",
       "      <td>1450062</td>\n",
       "      <td>1454636</td>\n",
       "    </tr>\n",
       "  </tbody>\n",
       "</table>\n",
       "</div>"
      ],
      "text/plain": [
       "      2020      2010\n",
       "0  9668465  10312545\n",
       "1  3391946   3567910\n",
       "2  2942828   2758296\n",
       "3  1450062   1454636"
      ]
     },
     "execution_count": 3,
     "metadata": {},
     "output_type": "execute_result"
    }
   ],
   "source": [
    "pd.DataFrame(data)"
   ]
  },
  {
   "cell_type": "code",
   "execution_count": 4,
   "metadata": {},
   "outputs": [
    {
     "data": {
      "text/plain": [
       "소금빵\n",
       "롸야붕에게    존맛탱\n",
       "영주에게     개이득\n",
       "친구는      능력자\n",
       "dtype: object"
      ]
     },
     "execution_count": 4,
     "metadata": {},
     "output_type": "execute_result"
    }
   ],
   "source": [
    "salt_bread = {'롸야붕에게' : '존맛탱', '영주에게' : '개이득', '친구는' : '능력자'}\n",
    "\n",
    "df_salt_bread = pd.DataFrame(salt_bread, index=[0, 1, 2])\n",
    "sr_salt_bread = pd.Series(salt_bread)\n",
    "sr_salt_bread.index.name = '소금빵'\n",
    "sr_salt_bread"
   ]
  },
  {
   "cell_type": "code",
   "execution_count": 5,
   "metadata": {},
   "outputs": [
    {
     "data": {
      "text/html": [
       "<div>\n",
       "<style scoped>\n",
       "    .dataframe tbody tr th:only-of-type {\n",
       "        vertical-align: middle;\n",
       "    }\n",
       "\n",
       "    .dataframe tbody tr th {\n",
       "        vertical-align: top;\n",
       "    }\n",
       "\n",
       "    .dataframe thead th {\n",
       "        text-align: right;\n",
       "    }\n",
       "</style>\n",
       "<table border=\"1\" class=\"dataframe\">\n",
       "  <thead>\n",
       "    <tr style=\"text-align: right;\">\n",
       "      <th></th>\n",
       "      <th>2020</th>\n",
       "      <th>2010</th>\n",
       "    </tr>\n",
       "  </thead>\n",
       "  <tbody>\n",
       "    <tr>\n",
       "      <th>서울</th>\n",
       "      <td>9668465</td>\n",
       "      <td>10312545</td>\n",
       "    </tr>\n",
       "    <tr>\n",
       "      <th>부산</th>\n",
       "      <td>3391946</td>\n",
       "      <td>3567910</td>\n",
       "    </tr>\n",
       "    <tr>\n",
       "      <th>인천</th>\n",
       "      <td>2942828</td>\n",
       "      <td>2758296</td>\n",
       "    </tr>\n",
       "    <tr>\n",
       "      <th>광주</th>\n",
       "      <td>1450062</td>\n",
       "      <td>1454636</td>\n",
       "    </tr>\n",
       "  </tbody>\n",
       "</table>\n",
       "</div>"
      ],
      "text/plain": [
       "       2020      2010\n",
       "서울  9668465  10312545\n",
       "부산  3391946   3567910\n",
       "인천  2942828   2758296\n",
       "광주  1450062   1454636"
      ]
     },
     "execution_count": 5,
     "metadata": {},
     "output_type": "execute_result"
    }
   ],
   "source": [
    "# 데이터 프레임의 인덱스 명칭 바꿔주기\n",
    "df.index = [\"서울\",\"부산\",\"인천\",\"광주\"]\n",
    "df"
   ]
  },
  {
   "cell_type": "code",
   "execution_count": 6,
   "metadata": {},
   "outputs": [
    {
     "name": "stdout",
     "output_type": "stream",
     "text": [
      "            서울       부산       인천       광주\n",
      "2020   9668465  3391946  2942828  1450062\n",
      "2010  10312545  3567910  2758296  1454636\n"
     ]
    }
   ],
   "source": [
    "# list 자료구조를 활용해서 DataFrame 생성하기\n",
    "data = [[9668465,3391946,2942828,1450062], [10312545,3567910,2758296,1454636]]\n",
    "ind = [\"2020\", \"2010\"]\n",
    "col = [\"서울\",\"부산\",\"인천\",\"광주\"]\n",
    "\n",
    "df2 = pd.DataFrame(data, index=ind, columns=col)\n",
    "print(df2)"
   ]
  },
  {
   "cell_type": "code",
   "execution_count": 7,
   "metadata": {},
   "outputs": [],
   "source": [
    "#! 데이터프레임 전치 시키는 방법 => 행과 열의 위치 바꿔주는 방법\n",
    "\n",
    "df2.T\n",
    "# 전치는 데이터의 구조변경이기 때문에 다시한번 대입해 주어야 적용된다\n",
    "\n",
    "df2 = df2.T"
   ]
  },
  {
   "attachments": {},
   "cell_type": "markdown",
   "metadata": {},
   "source": [
    "### 데이터 구조 확인하기 (속성들 확인)\n",
    "- values : 값(데이터) 확인하기\n",
    "- index : 인덱스 확인하기\n",
    "- columns : 컬럼 확인하기"
   ]
  },
  {
   "cell_type": "code",
   "execution_count": 8,
   "metadata": {},
   "outputs": [
    {
     "name": "stdout",
     "output_type": "stream",
     "text": [
      "[[ 9668465 10312545]\n",
      " [ 3391946  3567910]\n",
      " [ 2942828  2758296]\n",
      " [ 1450062  1454636]]\n",
      "\n",
      "Index(['서울', '부산', '인천', '광주'], dtype='object')\n",
      "\n",
      "Index(['2020', '2010'], dtype='object')\n"
     ]
    }
   ],
   "source": [
    "# DataFrame 값만 확인하는 방법\n",
    "print(df2.values)\n",
    "print()\n",
    "# DataFrame 인덱스만 확인하는 방법\n",
    "print(df2.index)\n",
    "print()\n",
    "# DataFrame 컬럼만 확인하는 방법\n",
    "print(df2.columns)"
   ]
  },
  {
   "cell_type": "code",
   "execution_count": null,
   "metadata": {},
   "outputs": [],
   "source": []
  },
  {
   "attachments": {},
   "cell_type": "markdown",
   "metadata": {},
   "source": [
    "### DataFrame 인덱싱 & 슬라이싱"
   ]
  },
  {
   "cell_type": "code",
   "execution_count": 9,
   "metadata": {},
   "outputs": [
    {
     "data": {
      "text/html": [
       "<div>\n",
       "<style scoped>\n",
       "    .dataframe tbody tr th:only-of-type {\n",
       "        vertical-align: middle;\n",
       "    }\n",
       "\n",
       "    .dataframe tbody tr th {\n",
       "        vertical-align: top;\n",
       "    }\n",
       "\n",
       "    .dataframe thead th {\n",
       "        text-align: right;\n",
       "    }\n",
       "</style>\n",
       "<table border=\"1\" class=\"dataframe\">\n",
       "  <thead>\n",
       "    <tr style=\"text-align: right;\">\n",
       "      <th></th>\n",
       "      <th>2020</th>\n",
       "      <th>2010</th>\n",
       "    </tr>\n",
       "  </thead>\n",
       "  <tbody>\n",
       "    <tr>\n",
       "      <th>서울</th>\n",
       "      <td>9668465</td>\n",
       "      <td>10312545</td>\n",
       "    </tr>\n",
       "    <tr>\n",
       "      <th>부산</th>\n",
       "      <td>3391946</td>\n",
       "      <td>3567910</td>\n",
       "    </tr>\n",
       "    <tr>\n",
       "      <th>인천</th>\n",
       "      <td>2942828</td>\n",
       "      <td>2758296</td>\n",
       "    </tr>\n",
       "    <tr>\n",
       "      <th>광주</th>\n",
       "      <td>1450062</td>\n",
       "      <td>1454636</td>\n",
       "    </tr>\n",
       "  </tbody>\n",
       "</table>\n",
       "</div>"
      ],
      "text/plain": [
       "       2020      2010\n",
       "서울  9668465  10312545\n",
       "부산  3391946   3567910\n",
       "인천  2942828   2758296\n",
       "광주  1450062   1454636"
      ]
     },
     "execution_count": 9,
     "metadata": {},
     "output_type": "execute_result"
    }
   ],
   "source": [
    "df"
   ]
  },
  {
   "cell_type": "code",
   "execution_count": 10,
   "metadata": {},
   "outputs": [
    {
     "name": "stdout",
     "output_type": "stream",
     "text": [
      "서울    9668465\n",
      "부산    3391946\n",
      "인천    2942828\n",
      "광주    1450062\n",
      "Name: 2020, dtype: int64\n",
      "\n",
      "서울    9668465\n",
      "부산    3391946\n",
      "Name: 2020, dtype: int64\n"
     ]
    }
   ],
   "source": [
    "# 2020년도 데이터 인덱싱\n",
    "# 변수명[컬럼명]\n",
    "\n",
    "print(df[\"2020\"])\n",
    "# Series 형태로 데이터가 출력된다\n",
    "print()\n",
    "print(df[\"2020\"][0:2])"
   ]
  },
  {
   "cell_type": "code",
   "execution_count": 11,
   "metadata": {},
   "outputs": [
    {
     "name": "stdout",
     "output_type": "stream",
     "text": [
      "       2020\n",
      "서울  9668465\n",
      "부산  3391946\n",
      "인천  2942828\n",
      "광주  1450062\n",
      "       2020      2010\n",
      "서울  9668465  10312545\n",
      "부산  3391946   3567910\n",
      "인천  2942828   2758296\n",
      "광주  1450062   1454636\n"
     ]
    }
   ],
   "source": [
    "# 하나의 컬럼을 가져올 때 DataFrame 형태로 보고싶다면?\n",
    "print(df[[\"2020\"]])\n",
    "\n",
    "# 2020년, 2010년 두개의 데이터를 가져오고 싶다면(인덱싱)\n",
    "print(df[[\"2020\",\"2010\"]])"
   ]
  },
  {
   "cell_type": "code",
   "execution_count": 12,
   "metadata": {},
   "outputs": [
    {
     "data": {
      "text/html": [
       "<div>\n",
       "<style scoped>\n",
       "    .dataframe tbody tr th:only-of-type {\n",
       "        vertical-align: middle;\n",
       "    }\n",
       "\n",
       "    .dataframe tbody tr th {\n",
       "        vertical-align: top;\n",
       "    }\n",
       "\n",
       "    .dataframe thead th {\n",
       "        text-align: right;\n",
       "    }\n",
       "</style>\n",
       "<table border=\"1\" class=\"dataframe\">\n",
       "  <thead>\n",
       "    <tr style=\"text-align: right;\">\n",
       "      <th></th>\n",
       "      <th>2020</th>\n",
       "      <th>2010</th>\n",
       "      <th>2005</th>\n",
       "    </tr>\n",
       "  </thead>\n",
       "  <tbody>\n",
       "    <tr>\n",
       "      <th>서울</th>\n",
       "      <td>9668465</td>\n",
       "      <td>10312545</td>\n",
       "      <td>9762546</td>\n",
       "    </tr>\n",
       "    <tr>\n",
       "      <th>부산</th>\n",
       "      <td>3391946</td>\n",
       "      <td>3567910</td>\n",
       "      <td>3512547</td>\n",
       "    </tr>\n",
       "    <tr>\n",
       "      <th>인천</th>\n",
       "      <td>2942828</td>\n",
       "      <td>2758296</td>\n",
       "      <td>2517680</td>\n",
       "    </tr>\n",
       "    <tr>\n",
       "      <th>광주</th>\n",
       "      <td>1450062</td>\n",
       "      <td>1454636</td>\n",
       "      <td>1456016</td>\n",
       "    </tr>\n",
       "  </tbody>\n",
       "</table>\n",
       "</div>"
      ],
      "text/plain": [
       "       2020      2010     2005\n",
       "서울  9668465  10312545  9762546\n",
       "부산  3391946   3567910  3512547\n",
       "인천  2942828   2758296  2517680\n",
       "광주  1450062   1454636  1456016"
      ]
     },
     "execution_count": 12,
     "metadata": {},
     "output_type": "execute_result"
    }
   ],
   "source": [
    "data3 = {'2020':[9668465,3391946,2942828,1450062],\n",
    "        '2010' :[10312545,3567910,2758296,1454636],\n",
    "         '2005':[9762546,3512547,2517680,1456016]\n",
    "        }\n",
    "df3 = pd.DataFrame(data3,index = ['서울','부산','인천','광주'])\n",
    "df3"
   ]
  },
  {
   "attachments": {},
   "cell_type": "markdown",
   "metadata": {},
   "source": [
    "#### DataFram의 인덱싱은 열, 슬라이싱은 행 단위로 이루어짐!!"
   ]
  },
  {
   "cell_type": "code",
   "execution_count": 13,
   "metadata": {},
   "outputs": [
    {
     "name": "stdout",
     "output_type": "stream",
     "text": [
      "       2020      2010     2005\n",
      "서울  9668465  10312545  9762546\n",
      "부산  3391946   3567910  3512547\n"
     ]
    }
   ],
   "source": [
    "# 인덱싱 --> 열(컬럼) 단위로 데이터가 가져와짐!!\n",
    "\n",
    "# 슬라이싱  --> 행 단위로 데이터가 가져와짐!!\n",
    "\n",
    "print(df3[0:2])"
   ]
  },
  {
   "cell_type": "code",
   "execution_count": 14,
   "metadata": {},
   "outputs": [],
   "source": [
    "# 슬라이싱 범위 --> 컬럼명으로 주면?  ==> 오류\n",
    "\n",
    "# print(df3[\"2020\":\"2010\"])"
   ]
  },
  {
   "cell_type": "code",
   "execution_count": 15,
   "metadata": {},
   "outputs": [
    {
     "name": "stdout",
     "output_type": "stream",
     "text": [
      "       2020      2010\n",
      "서울  9668465  10312545\n",
      "부산  3391946   3567910\n"
     ]
    }
   ],
   "source": [
    "# 슬라이싱 진행시 지정한 인덱스 이름으로도 가능\n",
    "# 범위는 +1 안줘도 됨\n",
    "\n",
    "print(df2[\"서울\":\"부산\"])"
   ]
  },
  {
   "cell_type": "code",
   "execution_count": 16,
   "metadata": {},
   "outputs": [
    {
     "name": "stdout",
     "output_type": "stream",
     "text": [
      "        2010     2005\n",
      "서울  10312545  9762546\n",
      "부산   3567910  3512547\n",
      "인천   2758296  2517680\n",
      "광주   1454636  1456016\n",
      "\n",
      "       2010     2005\n",
      "인천  2758296  2517680\n",
      "광주  1454636  1456016\n"
     ]
    }
   ],
   "source": [
    "print(df3[[\"2010\",\"2005\"]])\n",
    "print()\n",
    "print(df3[[\"2010\",\"2005\"]][2:])"
   ]
  },
  {
   "attachments": {},
   "cell_type": "markdown",
   "metadata": {},
   "source": [
    "### 인덱서\n",
    "- 행과 열 단위로 슬라이싱 하고 싶을 때 사용한다\n",
    "- loc : 실제 인덱스명 or 컬럼명을 사용\n",
    "- iloc : 인덱스 번호를 사용"
   ]
  },
  {
   "attachments": {
    "image.png": {
     "image/png": "[encoded data removed]"
    }
   },
   "cell_type": "markdown",
   "metadata": {},
   "source": [
    "![image.png](attachment:image.png)"
   ]
  },
  {
   "cell_type": "code",
   "execution_count": 17,
   "metadata": {},
   "outputs": [
    {
     "name": "stdout",
     "output_type": "stream",
     "text": [
      "       2010     2005\n",
      "부산  3567910  3512547\n",
      "인천  2758296  2517680\n",
      "\n",
      "       2010     2005\n",
      "부산  3567910  3512547\n",
      "인천  2758296  2517680\n"
     ]
    }
   ],
   "source": [
    "#^ DataFrame에서 행과 열 단위로 슬라이싱 하고 싶을떄는 인덱서 활용\n",
    "# 변수명.loc[ 행 , 열 ]   ( 행과 열 슬라이싱!! )\n",
    "print(df3.loc[\"부산\":\"인천\",\"2010\":\"2005\"])\n",
    "\n",
    "print()\n",
    "\n",
    "# iloc:인덱스 번호를 가지고 슬라이싱 가능!!\n",
    "print(df3.iloc[1:3,1:])"
   ]
  },
  {
   "attachments": {},
   "cell_type": "markdown",
   "metadata": {},
   "source": [
    "### 불리언 인덱싱\n",
    "- 데이터[조건]\n",
    "- 조건 데이터는 boolean 형태로 표현되는 식 작성\n",
    "- 조건이 True 인 값만 출력"
   ]
  },
  {
   "cell_type": "code",
   "execution_count": 18,
   "metadata": {},
   "outputs": [
    {
     "name": "stdout",
     "output_type": "stream",
     "text": [
      "       2020      2010     2005\n",
      "서울  9668465  10312545  9762546\n",
      "부산  3391946   3567910  3512547\n",
      "인천  2942828   2758296  2517680\n",
      "광주  1450062   1454636  1456016\n",
      "\n",
      "서울     True\n",
      "부산     True\n",
      "인천     True\n",
      "광주    False\n",
      "Name: 2010, dtype: bool\n",
      "서울    10312545\n",
      "부산     3567910\n",
      "인천     2758296\n",
      "Name: 2010, dtype: int64\n",
      "\n",
      "       2020      2010     2005\n",
      "서울  9668465  10312545  9762546\n",
      "부산  3391946   3567910  3512547\n",
      "인천  2942828   2758296  2517680\n",
      "\n",
      "서울    10312545\n",
      "부산     3567910\n",
      "인천     2758296\n",
      "Name: 2010, dtype: int64\n",
      "\n",
      "서울    10312545\n",
      "부산     3567910\n",
      "인천     2758296\n",
      "Name: 2010, dtype: int64\n"
     ]
    }
   ],
   "source": [
    "# 2010년 데이터 중 인구가 250만 이상인 데이터만 출력\n",
    "\n",
    "print(df3)\n",
    "\n",
    "print()\n",
    "print(df3[\"2010\"]>=2500000)\n",
    "print(df3[\"2010\"][df3[\"2010\"]>=2500000])\n",
    "print()\n",
    "# 비교대상을 전체 프레임으로 설정하면\n",
    "# 조건이 True인 인덱스들의 모든 열 데이터 출력\n",
    "print(df3[df3[\"2010\"]>=2500000])\n",
    "\n",
    "print()\n",
    "print(df3.loc[:,\"2010\"][df3.loc[:,\"2010\"]>=2500000])\n",
    "\n",
    "print()\n",
    "print(df3.iloc[:,1][df3.iloc[:,1]>=2500000])"
   ]
  },
  {
   "cell_type": "code",
   "execution_count": 19,
   "metadata": {},
   "outputs": [
    {
     "name": "stdout",
     "output_type": "stream",
     "text": [
      "       2020      2010     2005\n",
      "서울  9668465  10312545  9762546\n",
      "부산  3391946   3567910  3512547\n",
      "인천  2942828   2758296  2517680\n"
     ]
    }
   ],
   "source": [
    "print(df3[df3[\"2010\"]>=2600000])\n",
    "# 2005년의 인천은 조건에 맞지 않지만 조건이 2010년이기 때문에 출력됨"
   ]
  },
  {
   "cell_type": "code",
   "execution_count": 20,
   "metadata": {},
   "outputs": [
    {
     "name": "stdout",
     "output_type": "stream",
     "text": [
      "       2020      2010     2005\n",
      "서울  9668465  10312545  9762546\n",
      "부산  3391946   3567910  3512547\n",
      "인천  2942828   2758296  2517680\n",
      "광주  1450062   1454636  1456016\n"
     ]
    }
   ],
   "source": [
    "print(df3)"
   ]
  },
  {
   "cell_type": "code",
   "execution_count": 21,
   "metadata": {},
   "outputs": [
    {
     "name": "stdout",
     "output_type": "stream",
     "text": [
      "서울    9668465\n",
      "부산    3391946\n",
      "Name: 2020, dtype: int64\n",
      "       2020      2010     2005\n",
      "서울  9668465  10312545  9762546\n",
      "부산  3391946   3567910  3512547\n",
      "\n",
      "     2020   2010   2005\n",
      "서울   True   True   True\n",
      "부산  False   True   True\n",
      "인천  False  False  False\n",
      "광주  False  False  False\n",
      "\n",
      "         2020        2010       2005\n",
      "서울  9668465.0  10312545.0  9762546.0\n",
      "부산        NaN   3567910.0  3512547.0\n",
      "인천        NaN         NaN        NaN\n",
      "광주        NaN         NaN        NaN\n"
     ]
    }
   ],
   "source": [
    "# 2020년 데이터가 300만 이상인 데이터 출력 \n",
    "print(df3[\"2020\"][df3[\"2020\"]>=3000000])\n",
    "# 2020년 데이터가 300만 이상인 데이터 출력 (모든 열 출력)\n",
    "print(df3[df3[\"2020\"]>=3000000])\n",
    "print()\n",
    "# 전체 데이터에서 350만 이상인 데이터 출력\n",
    "print(df3>=3500000)\n",
    "print()\n",
    "print(df3[df3>=3500000])\n",
    "\n",
    "# DataFrame에서 불리언 인덱싱을 했을 때 조건이 False인 값은 결측치(NaN)으로 출력"
   ]
  },
  {
   "cell_type": "code",
   "execution_count": 22,
   "metadata": {},
   "outputs": [
    {
     "name": "stdout",
     "output_type": "stream",
     "text": [
      "       2020      2010     2005\n",
      "서울  9668465  10312545  9762546\n",
      "부산  3391946   3567910  3512547\n",
      "인천  2942828   2758296  2517680\n",
      "광주  1450062   1454636  1456016\n"
     ]
    }
   ],
   "source": [
    "print(df3)"
   ]
  },
  {
   "cell_type": "code",
   "execution_count": 30,
   "metadata": {},
   "outputs": [
    {
     "name": "stdout",
     "output_type": "stream",
     "text": [
      "       2020     2010\n",
      "부산  3391946  3567910\n",
      "인천  2942828  2758296\n",
      "\n",
      "       2020     2010\n",
      "부산  3391946  3567910\n",
      "인천  2942828  2758296\n"
     ]
    }
   ],
   "source": [
    "# [행, 열]\n",
    "print(df3.loc[\"부산\":\"인천\",\"2020\":\"2010\"])\n",
    "print()\n",
    "print(df3.iloc[1:3,:2])"
   ]
  },
  {
   "attachments": {},
   "cell_type": "markdown",
   "metadata": {},
   "source": [
    "### DataFrame 행,열 추가, 수정, 삭제"
   ]
  },
  {
   "cell_type": "code",
   "execution_count": 65,
   "metadata": {},
   "outputs": [
    {
     "name": "stdout",
     "output_type": "stream",
     "text": [
      "      2020      2010\n",
      "0  9668465  10312545\n",
      "1  3391946   3567910\n",
      "2  2942828   2758296\n",
      "3  1450062   1454636\n"
     ]
    }
   ],
   "source": [
    "data = {'2020':[9668465,3391946,2942828,1450062],\n",
    "        '2010' :[10312545,3567910,2758296,1454636]\n",
    "        }\n",
    "\n",
    "df = pd.DataFrame(data)\n",
    "print(df)"
   ]
  },
  {
   "cell_type": "code",
   "execution_count": 66,
   "metadata": {},
   "outputs": [
    {
     "data": {
      "text/html": [
       "<div>\n",
       "<style scoped>\n",
       "    .dataframe tbody tr th:only-of-type {\n",
       "        vertical-align: middle;\n",
       "    }\n",
       "\n",
       "    .dataframe tbody tr th {\n",
       "        vertical-align: top;\n",
       "    }\n",
       "\n",
       "    .dataframe thead th {\n",
       "        text-align: right;\n",
       "    }\n",
       "</style>\n",
       "<table border=\"1\" class=\"dataframe\">\n",
       "  <thead>\n",
       "    <tr style=\"text-align: right;\">\n",
       "      <th></th>\n",
       "      <th>2020</th>\n",
       "      <th>2010</th>\n",
       "    </tr>\n",
       "  </thead>\n",
       "  <tbody>\n",
       "    <tr>\n",
       "      <th>서울</th>\n",
       "      <td>9668465</td>\n",
       "      <td>10312545</td>\n",
       "    </tr>\n",
       "    <tr>\n",
       "      <th>부산</th>\n",
       "      <td>3391946</td>\n",
       "      <td>3567910</td>\n",
       "    </tr>\n",
       "    <tr>\n",
       "      <th>인천</th>\n",
       "      <td>2942828</td>\n",
       "      <td>2758296</td>\n",
       "    </tr>\n",
       "    <tr>\n",
       "      <th>광주</th>\n",
       "      <td>1450062</td>\n",
       "      <td>1454636</td>\n",
       "    </tr>\n",
       "  </tbody>\n",
       "</table>\n",
       "</div>"
      ],
      "text/plain": [
       "       2020      2010\n",
       "서울  9668465  10312545\n",
       "부산  3391946   3567910\n",
       "인천  2942828   2758296\n",
       "광주  1450062   1454636"
      ]
     },
     "execution_count": 66,
     "metadata": {},
     "output_type": "execute_result"
    }
   ],
   "source": [
    "df.index = [\"서울\",\"부산\",\"인천\",\"광주\"]\n",
    "df"
   ]
  },
  {
   "cell_type": "code",
   "execution_count": 67,
   "metadata": {},
   "outputs": [
    {
     "name": "stdout",
     "output_type": "stream",
     "text": [
      "       2020      2010     2005\n",
      "서울  9668465  10312545  9762546\n",
      "부산  3391946   3567910  3512547\n",
      "인천  2942828   2758296  2517570\n",
      "광주  1450062   1454636  1456016\n"
     ]
    }
   ],
   "source": [
    "#^ 새로운 컬럼 추가\n",
    "# [추가하고 싶은 컬럼 이름 ] = 값\n",
    "df['2005'] = [9762546, 3512547,2517570, 1456016]\n",
    "print(df)"
   ]
  },
  {
   "attachments": {
    "image.png": {
     "image/png": "[encoded data removed]"
    }
   },
   "cell_type": "markdown",
   "metadata": {},
   "source": [
    "![image.png](attachment:image.png)"
   ]
  },
  {
   "cell_type": "code",
   "execution_count": 68,
   "metadata": {},
   "outputs": [
    {
     "name": "stdout",
     "output_type": "stream",
     "text": [
      "       2020      2010     2005\n",
      "서울  9668465  10312545  9762546\n",
      "부산  3391946   3567910  3512547\n",
      "인천  2942828   2758296  2517570\n",
      "광주  1450062   1454636  1456016\n",
      "       2020      2010     2005\n",
      "서울  9668465  10312545  9762546\n",
      "인천  2942828   2758296  2517570\n",
      "광주  1450062   1454636  1456016\n"
     ]
    }
   ],
   "source": [
    "# 데이터 프레임 행단위 삭제하기\n",
    "# drop\n",
    "# df = df.drop(\"부산\")\n",
    "df.drop(\"부산\")\n",
    "print(df)\n",
    "# drop 삭제기능은 삭제한 결과를 다시 df에 대입해줘야 적용이 된다!\n",
    "# 매번 대입하지 않고 코드 실행시 바로적용하고 싶다면\n",
    "# drop(inplace 속성 사용)\n",
    "df.drop(\"부산\", inplace=True)\n",
    "print(df)\n",
    "\n",
    "# 데이터 프레임 열단위 삭제하기\n",
    "# drop\n",
    "df.drop(\"2005\", axis=1)\n",
    "df = df.drop(\"2005\", axis=1)\n",
    "\n",
    "\n",
    "# drop이라는 삭제 기능 사용시 축 설정을 해주지 않으면 오류가 난다.\n",
    "# 축 (axis) : 행은 0 / 열은 1\n",
    "# 기본값이 행으로 설정되었기때문에 행단위삭제는 안써줘도 가능하지만\n",
    "# 열단위 삭제는 축 설정을 변경헤줘야 한다! axis=1"
   ]
  },
  {
   "attachments": {},
   "cell_type": "markdown",
   "metadata": {},
   "source": [
    "- 삭제 : drop()\n",
    "- 1.삭제 후 df에 대입\n",
    "- 2. ( ,inplace = True) 속성을 활용하여 저장\n"
   ]
  },
  {
   "cell_type": "code",
   "execution_count": 69,
   "metadata": {},
   "outputs": [
    {
     "name": "stdout",
     "output_type": "stream",
     "text": [
      "       2020      2000\n",
      "서울  9668465  10312545\n",
      "인천  2942828   2758296\n",
      "광주  1450062   1454636\n"
     ]
    }
   ],
   "source": [
    "# DataFrame 수정 (열 이름 수정)\n",
    "# df.rename(columns={ 기존컬럼명 : 수정할컬럼명 })\n",
    "df.rename(columns={\"2010\":\"2000\"}, inplace=True)\n",
    "print(df)"
   ]
  },
  {
   "cell_type": "code",
   "execution_count": 70,
   "metadata": {},
   "outputs": [
    {
     "name": "stdout",
     "output_type": "stream",
     "text": [
      "       2020      2000\n",
      "서울  9668465  10312545\n",
      "대구  2942828   2758296\n",
      "광주  1450062   1454636\n"
     ]
    }
   ],
   "source": [
    "# DataFrame 수정 (행 이름 수정)\n",
    "# df.rename(index={ 기존컬럼명 : 수정할컬럼명 })\n",
    "df.rename(index={\"인천\":\"대구\"}, inplace=True)\n",
    "print(df)"
   ]
  },
  {
   "cell_type": "code",
   "execution_count": 71,
   "metadata": {},
   "outputs": [
    {
     "name": "stdout",
     "output_type": "stream",
     "text": [
      "       2020      2000\n",
      "서울  9668465  10312545\n",
      "대구        0   2758296\n",
      "광주  1450062   1454636\n"
     ]
    }
   ],
   "source": [
    "# DataFrame 데이터 수정 \n",
    "\n",
    "df.iloc[1,0] = 0\n",
    "print(df)\n"
   ]
  },
  {
   "cell_type": "code",
   "execution_count": 72,
   "metadata": {},
   "outputs": [
    {
     "name": "stdout",
     "output_type": "stream",
     "text": [
      "    2020\n",
      "대구     0\n"
     ]
    }
   ],
   "source": [
    "print(df.iloc[1:2,0:1])"
   ]
  },
  {
   "cell_type": "code",
   "execution_count": 77,
   "metadata": {},
   "outputs": [
    {
     "data": {
      "text/html": [
       "<div>\n",
       "<style scoped>\n",
       "    .dataframe tbody tr th:only-of-type {\n",
       "        vertical-align: middle;\n",
       "    }\n",
       "\n",
       "    .dataframe tbody tr th {\n",
       "        vertical-align: top;\n",
       "    }\n",
       "\n",
       "    .dataframe thead th {\n",
       "        text-align: right;\n",
       "    }\n",
       "</style>\n",
       "<table border=\"1\" class=\"dataframe\">\n",
       "  <thead>\n",
       "    <tr style=\"text-align: right;\">\n",
       "      <th></th>\n",
       "      <th>지역</th>\n",
       "      <th>2020</th>\n",
       "      <th>2015</th>\n",
       "      <th>2010</th>\n",
       "      <th>2005</th>\n",
       "    </tr>\n",
       "    <tr>\n",
       "      <th>도시</th>\n",
       "      <th></th>\n",
       "      <th></th>\n",
       "      <th></th>\n",
       "      <th></th>\n",
       "      <th></th>\n",
       "    </tr>\n",
       "  </thead>\n",
       "  <tbody>\n",
       "    <tr>\n",
       "      <th>서울</th>\n",
       "      <td>수도권</td>\n",
       "      <td>9668465</td>\n",
       "      <td>10022181.0</td>\n",
       "      <td>10312545.0</td>\n",
       "      <td>10167344</td>\n",
       "    </tr>\n",
       "    <tr>\n",
       "      <th>부산</th>\n",
       "      <td>경상권</td>\n",
       "      <td>3391946</td>\n",
       "      <td>NaN</td>\n",
       "      <td>NaN</td>\n",
       "      <td>3628293</td>\n",
       "    </tr>\n",
       "    <tr>\n",
       "      <th>인천</th>\n",
       "      <td>수도권</td>\n",
       "      <td>2942828</td>\n",
       "      <td>2925815.0</td>\n",
       "      <td>NaN</td>\n",
       "      <td>2600495</td>\n",
       "    </tr>\n",
       "    <tr>\n",
       "      <th>광주</th>\n",
       "      <td>전라권</td>\n",
       "      <td>1450062</td>\n",
       "      <td>1474636.0</td>\n",
       "      <td>1454636.0</td>\n",
       "      <td>1401745</td>\n",
       "    </tr>\n",
       "    <tr>\n",
       "      <th>대구</th>\n",
       "      <td>경상권</td>\n",
       "      <td>2418436</td>\n",
       "      <td>2466052.0</td>\n",
       "      <td>2431774.0</td>\n",
       "      <td>2456016</td>\n",
       "    </tr>\n",
       "  </tbody>\n",
       "</table>\n",
       "</div>"
      ],
      "text/plain": [
       "     지역     2020        2015        2010      2005\n",
       "도시                                                \n",
       "서울  수도권  9668465  10022181.0  10312545.0  10167344\n",
       "부산  경상권  3391946         NaN         NaN   3628293\n",
       "인천  수도권  2942828   2925815.0         NaN   2600495\n",
       "광주  전라권  1450062   1474636.0   1454636.0   1401745\n",
       "대구  경상권  2418436   2466052.0   2431774.0   2456016"
      ]
     },
     "execution_count": 77,
     "metadata": {},
     "output_type": "execute_result"
    }
   ],
   "source": [
    "# csv파일 읽어오기\n",
    "pd.read_csv(\"./population.csv\")\n",
    "# 컬럼 중 하나를 인덱스로 지정할 수 있음\n",
    "population = pd.read_csv(\"./population.csv\", index_col=\"도시\")\n",
    "population"
   ]
  },
  {
   "cell_type": "code",
   "execution_count": 78,
   "metadata": {},
   "outputs": [
    {
     "name": "stdout",
     "output_type": "stream",
     "text": [
      "     지역     2020        2015        2010      2005\n",
      "도시                                                \n",
      "서울  수도권  9668465  10022181.0  10312545.0  10167344\n",
      "부산  경상권  3391946         NaN         NaN   3628293\n",
      "인천  수도권  2942828   2925815.0         NaN   2600495\n",
      "광주  전라권  1450062   1474636.0   1454636.0   1401745\n",
      "대구  경상권  2418436   2466052.0   2431774.0   2456016\n"
     ]
    }
   ],
   "source": [
    "# 인구데이터\n",
    "# 4개의 연도, 5개의 도시, 지역 포함\n",
    "print(population)"
   ]
  },
  {
   "cell_type": "code",
   "execution_count": 80,
   "metadata": {},
   "outputs": [
    {
     "name": "stdout",
     "output_type": "stream",
     "text": [
      "     지역     2020        2015        2010      2005\n",
      "도시                                                \n",
      "광주  전라권  1450062   1474636.0   1454636.0   1401745\n",
      "대구  경상권  2418436   2466052.0   2431774.0   2456016\n",
      "부산  경상권  3391946         NaN         NaN   3628293\n",
      "서울  수도권  9668465  10022181.0  10312545.0  10167344\n",
      "인천  수도권  2942828   2925815.0         NaN   2600495\n"
     ]
    }
   ],
   "source": [
    "# 정렬하기\n",
    "# 확인용\n",
    "\n",
    "# 인덱스 값 기준 정렬\n",
    "print(population.sort_index())\n",
    "\n",
    "# 인덱스 기준으로 ㄱ,ㄴ,ㄷ... 순으로 졍렬, 오름차순"
   ]
  },
  {
   "cell_type": "code",
   "execution_count": 83,
   "metadata": {},
   "outputs": [
    {
     "name": "stdout",
     "output_type": "stream",
     "text": [
      "도시\n",
      "광주     1454636.0\n",
      "대구     2431774.0\n",
      "서울    10312545.0\n",
      "부산           NaN\n",
      "인천           NaN\n",
      "Name: 2010, dtype: float64\n"
     ]
    }
   ],
   "source": [
    "# 데이터를 기준으로 정렬 -> 하나의 컬럼을 가져와 정렬\n",
    "# 1. 정렬은 기본 오름차순\n",
    "# 2. 결측치는 제일 하단으로 (의미 없는 데이터)\n",
    "\n",
    "print(population[\"2010\"].sort_values())\n"
   ]
  },
  {
   "cell_type": "code",
   "execution_count": 85,
   "metadata": {},
   "outputs": [
    {
     "name": "stdout",
     "output_type": "stream",
     "text": [
      "도시\n",
      "서울    10312545.0\n",
      "대구     2431774.0\n",
      "광주     1454636.0\n",
      "부산           NaN\n",
      "인천           NaN\n",
      "Name: 2010, dtype: float64\n"
     ]
    }
   ],
   "source": [
    "# 내림차순 정렬\n",
    "# ascending : 오름차순\n",
    "# 결측치는 제일 하단으로 (의미 없는 데이터)\n",
    "print(population[\"2010\"].sort_values(ascending=False))"
   ]
  },
  {
   "cell_type": "code",
   "execution_count": 89,
   "metadata": {},
   "outputs": [
    {
     "name": "stdout",
     "output_type": "stream",
     "text": [
      "     지역     2020        2015        2010      2005\n",
      "도시                                                \n",
      "광주  전라권  1450062   1474636.0   1454636.0   1401745\n",
      "대구  경상권  2418436   2466052.0   2431774.0   2456016\n",
      "서울  수도권  9668465  10022181.0  10312545.0  10167344\n",
      "부산  경상권  3391946         NaN         NaN   3628293\n",
      "인천  수도권  2942828   2925815.0         NaN   2600495\n"
     ]
    }
   ],
   "source": [
    "# 전체 DataFrame으로 정렬?\n",
    "# by=\"기준컬럼\", 오름차순, 모든 행 같이 정렬\n",
    "\n",
    "print(population.sort_values(by=\"2010\"))\n",
    "# by라는 속성에 어떤 값을 기준으로 정렬하는지 적어줘야 한다"
   ]
  },
  {
   "cell_type": "code",
   "execution_count": 103,
   "metadata": {},
   "outputs": [
    {
     "name": "stdout",
     "output_type": "stream",
     "text": [
      "     지역     2020        2015        2010      2005\n",
      "도시                                                \n",
      "대구  경상권  2418436   2466052.0   2431774.0   2456016\n",
      "부산  경상권  3391946         NaN         NaN   3628293\n",
      "인천  수도권  2942828   2925815.0         NaN   2600495\n",
      "서울  수도권  9668465  10022181.0  10312545.0  10167344\n",
      "광주  전라권  1450062   1474636.0   1454636.0   1401745\n",
      "     지역     2020        2015        2010      2005\n",
      "도시                                                \n",
      "광주  전라권  1450062   1474636.0   1454636.0   1401745\n",
      "인천  수도권  2942828   2925815.0         NaN   2600495\n",
      "서울  수도권  9668465  10022181.0  10312545.0  10167344\n",
      "대구  경상권  2418436   2466052.0   2431774.0   2456016\n",
      "부산  경상권  3391946         NaN         NaN   3628293\n"
     ]
    }
   ],
   "source": [
    "print(population.sort_values(by=[\"지역\", \"2020\"]))\n",
    "\n",
    "# 지역은 내림차순, 년도는 오름차순으로 정렬하고 싶다면?\n",
    "print(population.sort_values(by=[\"지역\", \"2020\"], ascending=[False, True]))\n"
   ]
  },
  {
   "attachments": {},
   "cell_type": "markdown",
   "metadata": {},
   "source": [
    "- count 함수"
   ]
  },
  {
   "cell_type": "code",
   "execution_count": 105,
   "metadata": {},
   "outputs": [
    {
     "name": "stdout",
     "output_type": "stream",
     "text": [
      "지역      5\n",
      "2020    5\n",
      "2015    4\n",
      "2010    3\n",
      "2005    5\n",
      "dtype: int64\n"
     ]
    }
   ],
   "source": [
    "# 각 행,열별 데이터의 개수를 세주는 함수\n",
    "# 결측치를 제외한 개수를 출력\n",
    "# 축 설정의 기준 ~끼리,\n",
    "#^^ 2020년의 행 끼리, 지역의 행 끼리 count됨\n",
    "\n",
    "print(population.count())"
   ]
  },
  {
   "cell_type": "code",
   "execution_count": 109,
   "metadata": {},
   "outputs": [
    {
     "name": "stdout",
     "output_type": "stream",
     "text": [
      "5\n",
      "도시\n",
      "서울    5\n",
      "부산    3\n",
      "인천    4\n",
      "광주    5\n",
      "대구    5\n",
      "dtype: int64\n"
     ]
    }
   ],
   "source": [
    "# 몇개의 열이 있는지 확인\n",
    "# 축 설정 반드시 해줘야 한다\n",
    "#^^ axis=1 => 열을 count\n",
    "\n",
    "print(population.count(axis=1))"
   ]
  },
  {
   "attachments": {},
   "cell_type": "markdown",
   "metadata": {},
   "source": [
    "- fillna 함수"
   ]
  },
  {
   "cell_type": "code",
   "execution_count": 112,
   "metadata": {},
   "outputs": [
    {
     "name": "stdout",
     "output_type": "stream",
     "text": [
      "     지역     2020        2015        2010      2005\n",
      "도시                                                \n",
      "서울  수도권  9668465  10022181.0  10312545.0  10167344\n",
      "부산  경상권  3391946         0.0         0.0   3628293\n",
      "인천  수도권  2942828   2925815.0         0.0   2600495\n",
      "광주  전라권  1450062   1474636.0   1454636.0   1401745\n",
      "대구  경상권  2418436   2466052.0   2431774.0   2456016\n"
     ]
    }
   ],
   "source": [
    "# fillna: 변수명.fillna(value=값)\n",
    "# 결측치를 원하는 값으로 바꿔주는 함수\n",
    "\n",
    "population = population.fillna(value=0)\n",
    "print(population)\n",
    "# 결측치끼리 연산은 결측치로 출력되기 때문!!\n",
    "# 결측치의 연산은 결측치(NaN)가 되므로 연산에 활용을 위해 자주 쓰임\n",
    "\n",
    "# 바로 적용되지 않기 떄문에 ( 대입 or inplace 속성 )<- 처리 해줘야 함"
   ]
  },
  {
   "cell_type": "code",
   "execution_count": 23,
   "metadata": {},
   "outputs": [
    {
     "data": {
      "text/html": [
       "<div>\n",
       "<style scoped>\n",
       "    .dataframe tbody tr th:only-of-type {\n",
       "        vertical-align: middle;\n",
       "    }\n",
       "\n",
       "    .dataframe tbody tr th {\n",
       "        vertical-align: top;\n",
       "    }\n",
       "\n",
       "    .dataframe thead th {\n",
       "        text-align: right;\n",
       "    }\n",
       "</style>\n",
       "<table border=\"1\" class=\"dataframe\">\n",
       "  <thead>\n",
       "    <tr style=\"text-align: right;\">\n",
       "      <th></th>\n",
       "      <th>1반</th>\n",
       "      <th>2반</th>\n",
       "      <th>3반</th>\n",
       "      <th>4반</th>\n",
       "    </tr>\n",
       "    <tr>\n",
       "      <th>과목</th>\n",
       "      <th></th>\n",
       "      <th></th>\n",
       "      <th></th>\n",
       "      <th></th>\n",
       "    </tr>\n",
       "  </thead>\n",
       "  <tbody>\n",
       "    <tr>\n",
       "      <th>파이썬</th>\n",
       "      <td>45</td>\n",
       "      <td>44</td>\n",
       "      <td>73</td>\n",
       "      <td>39</td>\n",
       "    </tr>\n",
       "    <tr>\n",
       "      <th>DB</th>\n",
       "      <td>76</td>\n",
       "      <td>92</td>\n",
       "      <td>45</td>\n",
       "      <td>69</td>\n",
       "    </tr>\n",
       "    <tr>\n",
       "      <th>자바</th>\n",
       "      <td>47</td>\n",
       "      <td>92</td>\n",
       "      <td>45</td>\n",
       "      <td>69</td>\n",
       "    </tr>\n",
       "    <tr>\n",
       "      <th>크롤링</th>\n",
       "      <td>92</td>\n",
       "      <td>81</td>\n",
       "      <td>85</td>\n",
       "      <td>40</td>\n",
       "    </tr>\n",
       "    <tr>\n",
       "      <th>Web</th>\n",
       "      <td>11</td>\n",
       "      <td>79</td>\n",
       "      <td>47</td>\n",
       "      <td>26</td>\n",
       "    </tr>\n",
       "  </tbody>\n",
       "</table>\n",
       "</div>"
      ],
      "text/plain": [
       "     1반  2반  3반  4반\n",
       "과목                 \n",
       "파이썬  45  44  73  39\n",
       "DB   76  92  45  69\n",
       "자바   47  92  45  69\n",
       "크롤링  92  81  85  40\n",
       "Web  11  79  47  26"
      ]
     },
     "execution_count": 23,
     "metadata": {},
     "output_type": "execute_result"
    }
   ],
   "source": [
    "# score 파일 불러오기 -> score 변수에 담기\n",
    "# \"과목\" 컬럼은 인덱스로 가져오기\n",
    "score = pd.read_csv(\"score.csv\", index_col=\"과목\", encoding = 'euc-kr')\n",
    "score"
   ]
  },
  {
   "cell_type": "code",
   "execution_count": 24,
   "metadata": {},
   "outputs": [
    {
     "name": "stdout",
     "output_type": "stream",
     "text": [
      "EUC-KR\n"
     ]
    }
   ],
   "source": [
    "#\n",
    "#* 읽어올 파일의 인코딩 정보를 확인하는 코드\n",
    "#^ 확인하고 싶은 파일 이름을 변경해서 사용\n",
    "import chardet\n",
    "import pandas as pd\n",
    "filename = \"score.csv\"\n",
    "with open(filename, 'rb') as f:\n",
    "    result = chardet.detect(f.readline())  # or read() if the file is small.\n",
    "    print(result['encoding'])"
   ]
  },
  {
   "cell_type": "code",
   "execution_count": 25,
   "metadata": {},
   "outputs": [
    {
     "name": "stdout",
     "output_type": "stream",
     "text": [
      "1반    271\n",
      "2반    388\n",
      "3반    295\n",
      "4반    243\n",
      "dtype: int64\n",
      "2반    388\n",
      "3반    295\n",
      "1반    271\n",
      "4반    243\n",
      "dtype: int64\n"
     ]
    }
   ],
   "source": [
    "# pandas에서도 범용 함수 사용 가능\n",
    "# 널리 쓰이는 수학적 함수, sum(), max(), mean()...\n",
    "\n",
    "# 학급별 점수 총 합 구하기\n",
    "\n",
    "# 변수명.범용함수() / 변수명.sum()\n",
    "print(score.sum())\n",
    "\n",
    "# 학급별 점수합계 순위 (높은 반부터 위로 출력) --> 내림차순\n",
    "print(score.sum().sort_values(ascending=False))"
   ]
  },
  {
   "cell_type": "code",
   "execution_count": 26,
   "metadata": {},
   "outputs": [
    {
     "name": "stdout",
     "output_type": "stream",
     "text": [
      "과목\n",
      "파이썬    201\n",
      "DB     282\n",
      "자바     253\n",
      "크롤링    298\n",
      "Web    163\n",
      "dtype: int64\n"
     ]
    }
   ],
   "source": [
    "# 과목별 합계 구하기\n",
    "print(score.sum(axis=1))"
   ]
  },
  {
   "cell_type": "code",
   "execution_count": 27,
   "metadata": {},
   "outputs": [
    {
     "data": {
      "text/html": [
       "<div>\n",
       "<style scoped>\n",
       "    .dataframe tbody tr th:only-of-type {\n",
       "        vertical-align: middle;\n",
       "    }\n",
       "\n",
       "    .dataframe tbody tr th {\n",
       "        vertical-align: top;\n",
       "    }\n",
       "\n",
       "    .dataframe thead th {\n",
       "        text-align: right;\n",
       "    }\n",
       "</style>\n",
       "<table border=\"1\" class=\"dataframe\">\n",
       "  <thead>\n",
       "    <tr style=\"text-align: right;\">\n",
       "      <th></th>\n",
       "      <th>1반</th>\n",
       "      <th>2반</th>\n",
       "      <th>3반</th>\n",
       "      <th>4반</th>\n",
       "      <th>합계</th>\n",
       "    </tr>\n",
       "    <tr>\n",
       "      <th>과목</th>\n",
       "      <th></th>\n",
       "      <th></th>\n",
       "      <th></th>\n",
       "      <th></th>\n",
       "      <th></th>\n",
       "    </tr>\n",
       "  </thead>\n",
       "  <tbody>\n",
       "    <tr>\n",
       "      <th>파이썬</th>\n",
       "      <td>45</td>\n",
       "      <td>44</td>\n",
       "      <td>73</td>\n",
       "      <td>39</td>\n",
       "      <td>201</td>\n",
       "    </tr>\n",
       "    <tr>\n",
       "      <th>DB</th>\n",
       "      <td>76</td>\n",
       "      <td>92</td>\n",
       "      <td>45</td>\n",
       "      <td>69</td>\n",
       "      <td>282</td>\n",
       "    </tr>\n",
       "    <tr>\n",
       "      <th>자바</th>\n",
       "      <td>47</td>\n",
       "      <td>92</td>\n",
       "      <td>45</td>\n",
       "      <td>69</td>\n",
       "      <td>253</td>\n",
       "    </tr>\n",
       "    <tr>\n",
       "      <th>크롤링</th>\n",
       "      <td>92</td>\n",
       "      <td>81</td>\n",
       "      <td>85</td>\n",
       "      <td>40</td>\n",
       "      <td>298</td>\n",
       "    </tr>\n",
       "    <tr>\n",
       "      <th>Web</th>\n",
       "      <td>11</td>\n",
       "      <td>79</td>\n",
       "      <td>47</td>\n",
       "      <td>26</td>\n",
       "      <td>163</td>\n",
       "    </tr>\n",
       "  </tbody>\n",
       "</table>\n",
       "</div>"
      ],
      "text/plain": [
       "     1반  2반  3반  4반   합계\n",
       "과목                      \n",
       "파이썬  45  44  73  39  201\n",
       "DB   76  92  45  69  282\n",
       "자바   47  92  45  69  253\n",
       "크롤링  92  81  85  40  298\n",
       "Web  11  79  47  26  163"
      ]
     },
     "execution_count": 27,
     "metadata": {},
     "output_type": "execute_result"
    }
   ],
   "source": [
    "score[\"합계\"] = score.sum(axis=1)\n",
    "score"
   ]
  },
  {
   "cell_type": "code",
   "execution_count": 28,
   "metadata": {},
   "outputs": [
    {
     "data": {
      "text/plain": [
       "과목\n",
       "파이썬    50.25\n",
       "DB     70.50\n",
       "자바     63.25\n",
       "크롤링    74.50\n",
       "Web    40.75\n",
       "dtype: float64"
      ]
     },
     "execution_count": 28,
     "metadata": {},
     "output_type": "execute_result"
    }
   ],
   "source": [
    "score.iloc[:,:4].mean(axis=1)"
   ]
  },
  {
   "cell_type": "code",
   "execution_count": 29,
   "metadata": {},
   "outputs": [
    {
     "data": {
      "text/html": [
       "<div>\n",
       "<style scoped>\n",
       "    .dataframe tbody tr th:only-of-type {\n",
       "        vertical-align: middle;\n",
       "    }\n",
       "\n",
       "    .dataframe tbody tr th {\n",
       "        vertical-align: top;\n",
       "    }\n",
       "\n",
       "    .dataframe thead th {\n",
       "        text-align: right;\n",
       "    }\n",
       "</style>\n",
       "<table border=\"1\" class=\"dataframe\">\n",
       "  <thead>\n",
       "    <tr style=\"text-align: right;\">\n",
       "      <th></th>\n",
       "      <th>1반</th>\n",
       "      <th>2반</th>\n",
       "      <th>3반</th>\n",
       "      <th>4반</th>\n",
       "      <th>합계</th>\n",
       "      <th>평균</th>\n",
       "    </tr>\n",
       "    <tr>\n",
       "      <th>과목</th>\n",
       "      <th></th>\n",
       "      <th></th>\n",
       "      <th></th>\n",
       "      <th></th>\n",
       "      <th></th>\n",
       "      <th></th>\n",
       "    </tr>\n",
       "  </thead>\n",
       "  <tbody>\n",
       "    <tr>\n",
       "      <th>파이썬</th>\n",
       "      <td>45</td>\n",
       "      <td>44</td>\n",
       "      <td>73</td>\n",
       "      <td>39</td>\n",
       "      <td>201</td>\n",
       "      <td>50.25</td>\n",
       "    </tr>\n",
       "    <tr>\n",
       "      <th>DB</th>\n",
       "      <td>76</td>\n",
       "      <td>92</td>\n",
       "      <td>45</td>\n",
       "      <td>69</td>\n",
       "      <td>282</td>\n",
       "      <td>70.50</td>\n",
       "    </tr>\n",
       "    <tr>\n",
       "      <th>자바</th>\n",
       "      <td>47</td>\n",
       "      <td>92</td>\n",
       "      <td>45</td>\n",
       "      <td>69</td>\n",
       "      <td>253</td>\n",
       "      <td>63.25</td>\n",
       "    </tr>\n",
       "    <tr>\n",
       "      <th>크롤링</th>\n",
       "      <td>92</td>\n",
       "      <td>81</td>\n",
       "      <td>85</td>\n",
       "      <td>40</td>\n",
       "      <td>298</td>\n",
       "      <td>74.50</td>\n",
       "    </tr>\n",
       "    <tr>\n",
       "      <th>Web</th>\n",
       "      <td>11</td>\n",
       "      <td>79</td>\n",
       "      <td>47</td>\n",
       "      <td>26</td>\n",
       "      <td>163</td>\n",
       "      <td>40.75</td>\n",
       "    </tr>\n",
       "  </tbody>\n",
       "</table>\n",
       "</div>"
      ],
      "text/plain": [
       "     1반  2반  3반  4반   합계     평균\n",
       "과목                             \n",
       "파이썬  45  44  73  39  201  50.25\n",
       "DB   76  92  45  69  282  70.50\n",
       "자바   47  92  45  69  253  63.25\n",
       "크롤링  92  81  85  40  298  74.50\n",
       "Web  11  79  47  26  163  40.75"
      ]
     },
     "execution_count": 29,
     "metadata": {},
     "output_type": "execute_result"
    }
   ],
   "source": [
    "# Q2. 과목별 평균을 계산하여 [\"평균\"]컬럼 추가하기\n",
    "\n",
    "score[\"평균\"] = score.iloc[:,:4].mean(axis=1)\n",
    "score"
   ]
  },
  {
   "cell_type": "code",
   "execution_count": 30,
   "metadata": {},
   "outputs": [
    {
     "data": {
      "text/html": [
       "<div>\n",
       "<style scoped>\n",
       "    .dataframe tbody tr th:only-of-type {\n",
       "        vertical-align: middle;\n",
       "    }\n",
       "\n",
       "    .dataframe tbody tr th {\n",
       "        vertical-align: top;\n",
       "    }\n",
       "\n",
       "    .dataframe thead th {\n",
       "        text-align: right;\n",
       "    }\n",
       "</style>\n",
       "<table border=\"1\" class=\"dataframe\">\n",
       "  <thead>\n",
       "    <tr style=\"text-align: right;\">\n",
       "      <th></th>\n",
       "      <th>1반</th>\n",
       "      <th>2반</th>\n",
       "      <th>3반</th>\n",
       "      <th>4반</th>\n",
       "      <th>합계</th>\n",
       "      <th>평균</th>\n",
       "    </tr>\n",
       "    <tr>\n",
       "      <th>과목</th>\n",
       "      <th></th>\n",
       "      <th></th>\n",
       "      <th></th>\n",
       "      <th></th>\n",
       "      <th></th>\n",
       "      <th></th>\n",
       "    </tr>\n",
       "  </thead>\n",
       "  <tbody>\n",
       "    <tr>\n",
       "      <th>파이썬</th>\n",
       "      <td>45.0</td>\n",
       "      <td>44.0</td>\n",
       "      <td>73.0</td>\n",
       "      <td>39.0</td>\n",
       "      <td>201.0</td>\n",
       "      <td>50.25</td>\n",
       "    </tr>\n",
       "    <tr>\n",
       "      <th>DB</th>\n",
       "      <td>76.0</td>\n",
       "      <td>92.0</td>\n",
       "      <td>45.0</td>\n",
       "      <td>69.0</td>\n",
       "      <td>282.0</td>\n",
       "      <td>70.50</td>\n",
       "    </tr>\n",
       "    <tr>\n",
       "      <th>자바</th>\n",
       "      <td>47.0</td>\n",
       "      <td>92.0</td>\n",
       "      <td>45.0</td>\n",
       "      <td>69.0</td>\n",
       "      <td>253.0</td>\n",
       "      <td>63.25</td>\n",
       "    </tr>\n",
       "    <tr>\n",
       "      <th>크롤링</th>\n",
       "      <td>92.0</td>\n",
       "      <td>81.0</td>\n",
       "      <td>85.0</td>\n",
       "      <td>40.0</td>\n",
       "      <td>298.0</td>\n",
       "      <td>74.50</td>\n",
       "    </tr>\n",
       "    <tr>\n",
       "      <th>Web</th>\n",
       "      <td>11.0</td>\n",
       "      <td>79.0</td>\n",
       "      <td>47.0</td>\n",
       "      <td>26.0</td>\n",
       "      <td>163.0</td>\n",
       "      <td>40.75</td>\n",
       "    </tr>\n",
       "    <tr>\n",
       "      <th>반평균</th>\n",
       "      <td>54.2</td>\n",
       "      <td>77.6</td>\n",
       "      <td>59.0</td>\n",
       "      <td>48.6</td>\n",
       "      <td>239.4</td>\n",
       "      <td>59.85</td>\n",
       "    </tr>\n",
       "  </tbody>\n",
       "</table>\n",
       "</div>"
      ],
      "text/plain": [
       "       1반    2반    3반    4반     합계     평균\n",
       "과목                                       \n",
       "파이썬  45.0  44.0  73.0  39.0  201.0  50.25\n",
       "DB   76.0  92.0  45.0  69.0  282.0  70.50\n",
       "자바   47.0  92.0  45.0  69.0  253.0  63.25\n",
       "크롤링  92.0  81.0  85.0  40.0  298.0  74.50\n",
       "Web  11.0  79.0  47.0  26.0  163.0  40.75\n",
       "반평균  54.2  77.6  59.0  48.6  239.4  59.85"
      ]
     },
     "execution_count": 30,
     "metadata": {},
     "output_type": "execute_result"
    }
   ],
   "source": [
    "# Q3 반별 평균을 계산해서 \"반평균\" 행 추가\n",
    "#^^ 행 추가하는 방법 : score.loc[\"반평균\", :] = 값\n",
    "\n",
    "# 행 인덱싱 --> 인덱서\n",
    "\n",
    "# score.loc[\"반평균\"] = score.iloc[:,:4].mean()\n",
    "score.loc[\"반평균\"] = score.mean()\n",
    "score"
   ]
  },
  {
   "cell_type": "code",
   "execution_count": 31,
   "metadata": {},
   "outputs": [
    {
     "data": {
      "text/html": [
       "<div>\n",
       "<style scoped>\n",
       "    .dataframe tbody tr th:only-of-type {\n",
       "        vertical-align: middle;\n",
       "    }\n",
       "\n",
       "    .dataframe tbody tr th {\n",
       "        vertical-align: top;\n",
       "    }\n",
       "\n",
       "    .dataframe thead th {\n",
       "        text-align: right;\n",
       "    }\n",
       "</style>\n",
       "<table border=\"1\" class=\"dataframe\">\n",
       "  <thead>\n",
       "    <tr style=\"text-align: right;\">\n",
       "      <th></th>\n",
       "      <th>1반</th>\n",
       "      <th>2반</th>\n",
       "      <th>3반</th>\n",
       "      <th>4반</th>\n",
       "      <th>합계</th>\n",
       "      <th>평균</th>\n",
       "    </tr>\n",
       "    <tr>\n",
       "      <th>과목</th>\n",
       "      <th></th>\n",
       "      <th></th>\n",
       "      <th></th>\n",
       "      <th></th>\n",
       "      <th></th>\n",
       "      <th></th>\n",
       "    </tr>\n",
       "  </thead>\n",
       "  <tbody>\n",
       "    <tr>\n",
       "      <th>파이썬</th>\n",
       "      <td>45.0</td>\n",
       "      <td>44.0</td>\n",
       "      <td>73.0</td>\n",
       "      <td>39.0</td>\n",
       "      <td>201.0</td>\n",
       "      <td>50.25</td>\n",
       "    </tr>\n",
       "    <tr>\n",
       "      <th>DB</th>\n",
       "      <td>76.0</td>\n",
       "      <td>92.0</td>\n",
       "      <td>45.0</td>\n",
       "      <td>69.0</td>\n",
       "      <td>282.0</td>\n",
       "      <td>70.5</td>\n",
       "    </tr>\n",
       "    <tr>\n",
       "      <th>자바</th>\n",
       "      <td>47.0</td>\n",
       "      <td>92.0</td>\n",
       "      <td>45.0</td>\n",
       "      <td>69.0</td>\n",
       "      <td>253.0</td>\n",
       "      <td>63.25</td>\n",
       "    </tr>\n",
       "    <tr>\n",
       "      <th>크롤링</th>\n",
       "      <td>92.0</td>\n",
       "      <td>81.0</td>\n",
       "      <td>85.0</td>\n",
       "      <td>40.0</td>\n",
       "      <td>298.0</td>\n",
       "      <td>74.5</td>\n",
       "    </tr>\n",
       "    <tr>\n",
       "      <th>Web</th>\n",
       "      <td>11.0</td>\n",
       "      <td>79.0</td>\n",
       "      <td>47.0</td>\n",
       "      <td>26.0</td>\n",
       "      <td>163.0</td>\n",
       "      <td>40.75</td>\n",
       "    </tr>\n",
       "    <tr>\n",
       "      <th>반평균</th>\n",
       "      <td>54.2</td>\n",
       "      <td>77.6</td>\n",
       "      <td>59.0</td>\n",
       "      <td>48.6</td>\n",
       "      <td>-</td>\n",
       "      <td>-</td>\n",
       "    </tr>\n",
       "  </tbody>\n",
       "</table>\n",
       "</div>"
      ],
      "text/plain": [
       "       1반    2반    3반    4반     합계     평균\n",
       "과목                                       \n",
       "파이썬  45.0  44.0  73.0  39.0  201.0  50.25\n",
       "DB   76.0  92.0  45.0  69.0  282.0   70.5\n",
       "자바   47.0  92.0  45.0  69.0  253.0  63.25\n",
       "크롤링  92.0  81.0  85.0  40.0  298.0   74.5\n",
       "Web  11.0  79.0  47.0  26.0  163.0  40.75\n",
       "반평균  54.2  77.6  59.0  48.6      -      -"
      ]
     },
     "execution_count": 31,
     "metadata": {},
     "output_type": "execute_result"
    }
   ],
   "source": [
    "# 의미없는 2개의 데이터 슬라이싱\n",
    "# 슬라이싱 한 데이터의 자리를 수정! => '-'\n",
    "\n",
    "score.iloc[-1,-2:] = '-'\n",
    "score"
   ]
  },
  {
   "cell_type": "code",
   "execution_count": 34,
   "metadata": {},
   "outputs": [
    {
     "name": "stderr",
     "output_type": "stream",
     "text": [
      "C:\\Users\\SMHRD\\AppData\\Local\\Temp\\ipykernel_16636\\517006522.py:2: FutureWarning: Dropping of nuisance columns in DataFrame reductions (with 'numeric_only=None') is deprecated; in a future version this will raise TypeError.  Select only valid columns before calling the reduction.\n",
      "  maxScore = score.max(axis=1)\n",
      "C:\\Users\\SMHRD\\AppData\\Local\\Temp\\ipykernel_16636\\517006522.py:3: FutureWarning: Dropping of nuisance columns in DataFrame reductions (with 'numeric_only=None') is deprecated; in a future version this will raise TypeError.  Select only valid columns before calling the reduction.\n",
      "  minScore = score.min(axis=1)\n"
     ]
    },
    {
     "data": {
      "text/plain": [
       "과목\n",
       "파이썬    34.0\n",
       "DB     47.0\n",
       "자바     47.0\n",
       "크롤링    52.0\n",
       "Web    68.0\n",
       "dtype: float64"
      ]
     },
     "execution_count": 34,
     "metadata": {},
     "output_type": "execute_result"
    }
   ],
   "source": [
    "# Q4 과목의 최대점수와 최소점수의 차이를 구해보자\n",
    "maxScore = score.max(axis=1)\n",
    "minScore = score.min(axis=1)\n",
    "ch = maxScore - minScore\n",
    "ch[:5]\n"
   ]
  },
  {
   "cell_type": "code",
   "execution_count": 38,
   "metadata": {},
   "outputs": [
    {
     "name": "stderr",
     "output_type": "stream",
     "text": [
      "C:\\Users\\SMHRD\\AppData\\Local\\Temp\\ipykernel_16636\\2855829824.py:2: FutureWarning: Dropping of nuisance columns in DataFrame reductions (with 'numeric_only=None') is deprecated; in a future version this will raise TypeError.  Select only valid columns before calling the reduction.\n",
      "  maxS = score.iloc[:,:5].max()\n",
      "C:\\Users\\SMHRD\\AppData\\Local\\Temp\\ipykernel_16636\\2855829824.py:3: FutureWarning: Dropping of nuisance columns in DataFrame reductions (with 'numeric_only=None') is deprecated; in a future version this will raise TypeError.  Select only valid columns before calling the reduction.\n",
      "  minS = score.iloc[:,:5].min()\n"
     ]
    },
    {
     "data": {
      "text/plain": [
       "1반    81.0\n",
       "2반    48.0\n",
       "3반    40.0\n",
       "4반    43.0\n",
       "dtype: float64"
      ]
     },
     "execution_count": 38,
     "metadata": {},
     "output_type": "execute_result"
    }
   ],
   "source": [
    "# Q4 반 내에서 최대점수와 최소점수의 차이를 구해보자\n",
    "maxS = score.iloc[:,:5].max()\n",
    "minS = score.iloc[:,:5].min()\n",
    "ch = maxS - minS\n",
    "ch"
   ]
  },
  {
   "attachments": {},
   "cell_type": "markdown",
   "metadata": {},
   "source": [
    "### apply() 함수\n",
    "- 행 or 열 단위로 복잡한 함수를 사용하고 싶을 때 사용\n",
    "- 데이터 처리 시 동일한 데이터에 동일 행위 반복시 사용\n",
    "- df.apply ( 함수명, axis= 0 or 1 )\n",
    "- pandas(Series, DataFrame) 객체에게 동일 함수를 적용하고 싶을 때 사용"
   ]
  },
  {
   "attachments": {
    "image.png": {
     "image/png": "[encoded data removed]"
    }
   },
   "cell_type": "markdown",
   "metadata": {},
   "source": [
    "![image.png](attachment:image.png)"
   ]
  },
  {
   "cell_type": "code",
   "execution_count": 40,
   "metadata": {},
   "outputs": [],
   "source": [
    "# 최대값에서 최소값의 차를 구해주는 함수 만들기\n",
    "def max_min (x):\n",
    "    return x.max() - x.min()"
   ]
  },
  {
   "cell_type": "code",
   "execution_count": 44,
   "metadata": {},
   "outputs": [
    {
     "data": {
      "text/plain": [
       "1반    81.0\n",
       "2반    48.0\n",
       "3반    40.0\n",
       "4반    43.0\n",
       "dtype: float64"
      ]
     },
     "execution_count": 44,
     "metadata": {},
     "output_type": "execute_result"
    }
   ],
   "source": [
    "# apply 함수 사용  --> 과목별 최대, 최소 차이\n",
    "score.iloc[:5,:4].apply(max_min, axis=1)\n",
    "\n",
    "# 반별 최대, 최소 차이\n",
    "score.iloc[:5,:4].apply(max_min)"
   ]
  },
  {
   "attachments": {},
   "cell_type": "markdown",
   "metadata": {},
   "source": [
    "- apply 함수 추가 예제"
   ]
  },
  {
   "cell_type": "code",
   "execution_count": 101,
   "metadata": {},
   "outputs": [],
   "source": [
    "date_list = [{'yyyy-mm-dd': '2003-03-13'},\n",
    "            {'yyyy-mm-dd': '2017-10-20'},\n",
    "            {'yyyy-mm-dd': '2023-02-24'}]\n",
    "date_df = pd.DataFrame(date_list)"
   ]
  },
  {
   "cell_type": "code",
   "execution_count": 102,
   "metadata": {},
   "outputs": [
    {
     "data": {
      "text/plain": [
       "['안녕하세요', '오늘은', '즐거운', '금요일입니다']"
      ]
     },
     "execution_count": 102,
     "metadata": {},
     "output_type": "execute_result"
    }
   ],
   "source": [
    "s1 = \"안녕하세요 오늘은 즐거운 금요일입니다\"\n",
    "s1.split(\" \")"
   ]
  },
  {
   "cell_type": "code",
   "execution_count": 103,
   "metadata": {},
   "outputs": [
    {
     "name": "stdout",
     "output_type": "stream",
     "text": [
      "   yyyy-mm-dd\n",
      "0  2003-03-13\n",
      "1  2017-10-20\n",
      "2  2023-02-24\n"
     ]
    }
   ],
   "source": [
    "print(date_df)"
   ]
  },
  {
   "cell_type": "code",
   "execution_count": 128,
   "metadata": {},
   "outputs": [
    {
     "data": {
      "text/plain": [
       "0    2003-03-13\n",
       "1    2017-10-20\n",
       "2    2023-02-24\n",
       "Name: yyyy-mm-dd, dtype: object"
      ]
     },
     "execution_count": 128,
     "metadata": {},
     "output_type": "execute_result"
    }
   ],
   "source": [
    "date_df.iloc[0][0]\n",
    "a = (date_df.iloc[1])\n",
    "# print(a[0])\n",
    "date_df.iloc[0][0].split('-')[0]\n",
    "\n",
    "date_df[\"yyyy-mm-dd\"]\n",
    "# for문을 돌리지 않아도 출력됨"
   ]
  },
  {
   "cell_type": "code",
   "execution_count": 123,
   "metadata": {},
   "outputs": [],
   "source": [
    "def year(x):\n",
    "    return x.split('-')[0]"
   ]
  },
  {
   "cell_type": "code",
   "execution_count": 125,
   "metadata": {},
   "outputs": [],
   "source": [
    "a = date_df[\"yyyy-mm-dd\"].apply(year)"
   ]
  },
  {
   "cell_type": "code",
   "execution_count": 126,
   "metadata": {},
   "outputs": [],
   "source": [
    "date_df[\"year\"] = a"
   ]
  },
  {
   "cell_type": "code",
   "execution_count": 127,
   "metadata": {},
   "outputs": [
    {
     "data": {
      "text/html": [
       "<div>\n",
       "<style scoped>\n",
       "    .dataframe tbody tr th:only-of-type {\n",
       "        vertical-align: middle;\n",
       "    }\n",
       "\n",
       "    .dataframe tbody tr th {\n",
       "        vertical-align: top;\n",
       "    }\n",
       "\n",
       "    .dataframe thead th {\n",
       "        text-align: right;\n",
       "    }\n",
       "</style>\n",
       "<table border=\"1\" class=\"dataframe\">\n",
       "  <thead>\n",
       "    <tr style=\"text-align: right;\">\n",
       "      <th></th>\n",
       "      <th>yyyy-mm-dd</th>\n",
       "      <th>year</th>\n",
       "    </tr>\n",
       "  </thead>\n",
       "  <tbody>\n",
       "    <tr>\n",
       "      <th>0</th>\n",
       "      <td>2003-03-13</td>\n",
       "      <td>2003</td>\n",
       "    </tr>\n",
       "    <tr>\n",
       "      <th>1</th>\n",
       "      <td>2017-10-20</td>\n",
       "      <td>2017</td>\n",
       "    </tr>\n",
       "    <tr>\n",
       "      <th>2</th>\n",
       "      <td>2023-02-24</td>\n",
       "      <td>2023</td>\n",
       "    </tr>\n",
       "  </tbody>\n",
       "</table>\n",
       "</div>"
      ],
      "text/plain": [
       "   yyyy-mm-dd  year\n",
       "0  2003-03-13  2003\n",
       "1  2017-10-20  2017\n",
       "2  2023-02-24  2023"
      ]
     },
     "execution_count": 127,
     "metadata": {},
     "output_type": "execute_result"
    }
   ],
   "source": [
    "date_df"
   ]
  },
  {
   "attachments": {},
   "cell_type": "markdown",
   "metadata": {},
   "source": [
    "### 카테고리 생성하기\n",
    "- 카테고리란? 범주화"
   ]
  },
  {
   "cell_type": "code",
   "execution_count": 135,
   "metadata": {},
   "outputs": [],
   "source": [
    "# 나이데이터로 카테고리 생성하기\n",
    "# 1. 데이터 준비\n",
    "ages = [0,2,12,15,51,27,30,100,59,60,72,65,25,38]\n",
    "\n",
    "# 2. 카테고리 범주 명칭\n",
    "labels = [\"미성년자\", \"청년\", \"중년\", \"노년\"]\n",
    "\n",
    "# 3. 각 범주에 따른 범위 지정\n",
    "# 범주 첫 값은 +1부터임!!! 0살~ 라면 -1 지정 필요!\n",
    "# bins = [0,19,39,60,100]\n",
    "bins = [-1,19,39,60,100]\n",
    "\n",
    "# \"미성년자\" \"청년\"   \"중년\"  \"노년\"\n",
    "#   (0~19)  (20~39) (40~60) (61~100)"
   ]
  },
  {
   "cell_type": "code",
   "execution_count": 136,
   "metadata": {},
   "outputs": [
    {
     "data": {
      "text/plain": [
       "['미성년자', '미성년자', '미성년자', '미성년자', '중년', ..., '중년', '노년', '노년', '청년', '청년']\n",
       "Length: 14\n",
       "Categories (4, object): ['미성년자' < '청년' < '중년' < '노년']"
      ]
     },
     "execution_count": 136,
     "metadata": {},
     "output_type": "execute_result"
    }
   ],
   "source": [
    "cate = pd.cut(ages, labels=labels, bins=bins)\n",
    "cate"
   ]
  },
  {
   "attachments": {},
   "cell_type": "markdown",
   "metadata": {},
   "source": [
    "['미성년자', '미성년자', '미성년자', '미성년자', '중년', ..., '중년', '노년', '노년', '청년', '청년']\n",
    "Length: 14\n",
    "Categories (4, object): ['미성년자' < '청년' < '중년' < '노년']\n",
    "\n",
    "- [ages 데이터들의 카테고리화 된 각 결과들]\n",
    "- 데이터의 길이\n",
    "- 카테고리 개수"
   ]
  },
  {
   "cell_type": "code",
   "execution_count": 140,
   "metadata": {},
   "outputs": [
    {
     "data": {
      "text/html": [
       "<div>\n",
       "<style scoped>\n",
       "    .dataframe tbody tr th:only-of-type {\n",
       "        vertical-align: middle;\n",
       "    }\n",
       "\n",
       "    .dataframe tbody tr th {\n",
       "        vertical-align: top;\n",
       "    }\n",
       "\n",
       "    .dataframe thead th {\n",
       "        text-align: right;\n",
       "    }\n",
       "</style>\n",
       "<table border=\"1\" class=\"dataframe\">\n",
       "  <thead>\n",
       "    <tr style=\"text-align: right;\">\n",
       "      <th></th>\n",
       "      <th>ages</th>\n",
       "    </tr>\n",
       "  </thead>\n",
       "  <tbody>\n",
       "    <tr>\n",
       "      <th>0</th>\n",
       "      <td>0</td>\n",
       "    </tr>\n",
       "    <tr>\n",
       "      <th>1</th>\n",
       "      <td>2</td>\n",
       "    </tr>\n",
       "    <tr>\n",
       "      <th>2</th>\n",
       "      <td>12</td>\n",
       "    </tr>\n",
       "    <tr>\n",
       "      <th>3</th>\n",
       "      <td>15</td>\n",
       "    </tr>\n",
       "    <tr>\n",
       "      <th>4</th>\n",
       "      <td>51</td>\n",
       "    </tr>\n",
       "    <tr>\n",
       "      <th>5</th>\n",
       "      <td>27</td>\n",
       "    </tr>\n",
       "    <tr>\n",
       "      <th>6</th>\n",
       "      <td>30</td>\n",
       "    </tr>\n",
       "    <tr>\n",
       "      <th>7</th>\n",
       "      <td>100</td>\n",
       "    </tr>\n",
       "    <tr>\n",
       "      <th>8</th>\n",
       "      <td>59</td>\n",
       "    </tr>\n",
       "    <tr>\n",
       "      <th>9</th>\n",
       "      <td>60</td>\n",
       "    </tr>\n",
       "    <tr>\n",
       "      <th>10</th>\n",
       "      <td>72</td>\n",
       "    </tr>\n",
       "    <tr>\n",
       "      <th>11</th>\n",
       "      <td>65</td>\n",
       "    </tr>\n",
       "    <tr>\n",
       "      <th>12</th>\n",
       "      <td>25</td>\n",
       "    </tr>\n",
       "    <tr>\n",
       "      <th>13</th>\n",
       "      <td>38</td>\n",
       "    </tr>\n",
       "  </tbody>\n",
       "</table>\n",
       "</div>"
      ],
      "text/plain": [
       "    ages\n",
       "0      0\n",
       "1      2\n",
       "2     12\n",
       "3     15\n",
       "4     51\n",
       "5     27\n",
       "6     30\n",
       "7    100\n",
       "8     59\n",
       "9     60\n",
       "10    72\n",
       "11    65\n",
       "12    25\n",
       "13    38"
      ]
     },
     "execution_count": 140,
     "metadata": {},
     "output_type": "execute_result"
    }
   ],
   "source": [
    "age_df = pd.DataFrame(ages, columns=[\"ages\"])\n",
    "age_df"
   ]
  },
  {
   "cell_type": "code",
   "execution_count": 145,
   "metadata": {},
   "outputs": [
    {
     "data": {
      "text/html": [
       "<div>\n",
       "<style scoped>\n",
       "    .dataframe tbody tr th:only-of-type {\n",
       "        vertical-align: middle;\n",
       "    }\n",
       "\n",
       "    .dataframe tbody tr th {\n",
       "        vertical-align: top;\n",
       "    }\n",
       "\n",
       "    .dataframe thead th {\n",
       "        text-align: right;\n",
       "    }\n",
       "</style>\n",
       "<table border=\"1\" class=\"dataframe\">\n",
       "  <thead>\n",
       "    <tr style=\"text-align: right;\">\n",
       "      <th></th>\n",
       "      <th>ages</th>\n",
       "      <th>카테고리</th>\n",
       "    </tr>\n",
       "  </thead>\n",
       "  <tbody>\n",
       "    <tr>\n",
       "      <th>0</th>\n",
       "      <td>0</td>\n",
       "      <td>미성년자</td>\n",
       "    </tr>\n",
       "    <tr>\n",
       "      <th>1</th>\n",
       "      <td>2</td>\n",
       "      <td>미성년자</td>\n",
       "    </tr>\n",
       "    <tr>\n",
       "      <th>2</th>\n",
       "      <td>12</td>\n",
       "      <td>미성년자</td>\n",
       "    </tr>\n",
       "    <tr>\n",
       "      <th>3</th>\n",
       "      <td>15</td>\n",
       "      <td>미성년자</td>\n",
       "    </tr>\n",
       "    <tr>\n",
       "      <th>4</th>\n",
       "      <td>51</td>\n",
       "      <td>중년</td>\n",
       "    </tr>\n",
       "    <tr>\n",
       "      <th>5</th>\n",
       "      <td>27</td>\n",
       "      <td>청년</td>\n",
       "    </tr>\n",
       "    <tr>\n",
       "      <th>6</th>\n",
       "      <td>30</td>\n",
       "      <td>청년</td>\n",
       "    </tr>\n",
       "    <tr>\n",
       "      <th>7</th>\n",
       "      <td>100</td>\n",
       "      <td>노년</td>\n",
       "    </tr>\n",
       "    <tr>\n",
       "      <th>8</th>\n",
       "      <td>59</td>\n",
       "      <td>중년</td>\n",
       "    </tr>\n",
       "    <tr>\n",
       "      <th>9</th>\n",
       "      <td>60</td>\n",
       "      <td>중년</td>\n",
       "    </tr>\n",
       "    <tr>\n",
       "      <th>10</th>\n",
       "      <td>72</td>\n",
       "      <td>노년</td>\n",
       "    </tr>\n",
       "    <tr>\n",
       "      <th>11</th>\n",
       "      <td>65</td>\n",
       "      <td>노년</td>\n",
       "    </tr>\n",
       "    <tr>\n",
       "      <th>12</th>\n",
       "      <td>25</td>\n",
       "      <td>청년</td>\n",
       "    </tr>\n",
       "    <tr>\n",
       "      <th>13</th>\n",
       "      <td>38</td>\n",
       "      <td>청년</td>\n",
       "    </tr>\n",
       "  </tbody>\n",
       "</table>\n",
       "</div>"
      ],
      "text/plain": [
       "    ages  카테고리\n",
       "0      0  미성년자\n",
       "1      2  미성년자\n",
       "2     12  미성년자\n",
       "3     15  미성년자\n",
       "4     51    중년\n",
       "5     27    청년\n",
       "6     30    청년\n",
       "7    100    노년\n",
       "8     59    중년\n",
       "9     60    중년\n",
       "10    72    노년\n",
       "11    65    노년\n",
       "12    25    청년\n",
       "13    38    청년"
      ]
     },
     "execution_count": 145,
     "metadata": {},
     "output_type": "execute_result"
    }
   ],
   "source": [
    "# 각 나이테이터에 맞는 카테고리 값 추가\n",
    "\n",
    "age_df[\"카테고리\"] = cate\n",
    "age_df"
   ]
  },
  {
   "cell_type": "code",
   "execution_count": 148,
   "metadata": {},
   "outputs": [
    {
     "data": {
      "text/plain": [
       "미성년자    4\n",
       "청년      4\n",
       "중년      3\n",
       "노년      3\n",
       "Name: 카테고리, dtype: int64"
      ]
     },
     "execution_count": 148,
     "metadata": {},
     "output_type": "execute_result"
    }
   ],
   "source": [
    "#\n",
    "#^ 카테고리별 나이 개수 확인\n",
    "# value_counts()\n",
    "age_df[\"카테고리\"].value_counts()"
   ]
  },
  {
   "cell_type": "code",
   "execution_count": 147,
   "metadata": {},
   "outputs": [
    {
     "data": {
      "text/plain": [
       "14"
      ]
     },
     "execution_count": 147,
     "metadata": {},
     "output_type": "execute_result"
    }
   ],
   "source": [
    "age_df[\"카테고리\"].count()"
   ]
  },
  {
   "cell_type": "code",
   "execution_count": 150,
   "metadata": {},
   "outputs": [
    {
     "data": {
      "text/plain": [
       "['미성년자', '중년', '청년', '노년']\n",
       "Categories (4, object): ['미성년자' < '청년' < '중년' < '노년']"
      ]
     },
     "execution_count": 150,
     "metadata": {},
     "output_type": "execute_result"
    }
   ],
   "source": [
    "age_df[\"카테고리\"].unique()"
   ]
  },
  {
   "attachments": {},
   "cell_type": "markdown",
   "metadata": {},
   "source": [
    "- value_count() vs count()\n",
    "- value_count() : 각각의 데이터(값)가 몇번 등장하는지 개수를 세어준다\n",
    "- count() : 전체 데이터가 몇개인지 세준다(NaN은 제외한다)"
   ]
  },
  {
   "attachments": {},
   "cell_type": "markdown",
   "metadata": {},
   "source": [
    "### 데이터 프레임 병합하기\n",
    "- pd.concat([DataFrame1, DataFrame2 ... DataFrame'n'])"
   ]
  },
  {
   "cell_type": "code",
   "execution_count": 151,
   "metadata": {},
   "outputs": [],
   "source": [
    "df1 = pd.DataFrame({'A':['A0','A1','A2','A3'],\n",
    "                    'B':['B0','B1','B2','B3'],\n",
    "                    'C':['C0','C1','C2','C3']\n",
    "                   }, index = [0,1,2,3])\n",
    "\n",
    "df2 = pd.DataFrame({'A':['A4','A5','A6','A7'],\n",
    "                    'B':['B4','B5','B6','B7'],\n",
    "                    'C':['C4','C5','C6','C7']},\n",
    "                  index = [0,1,2,3])\n",
    "\n",
    "df3 = pd.DataFrame({'A':['A8','A9','A10','A11'],\n",
    "                    'B':['B8','B9','B10','B11'],\n",
    "                    'C':['C8','C9','C10','C11']},\n",
    "                  index = [0,1,2,3])"
   ]
  },
  {
   "cell_type": "code",
   "execution_count": 157,
   "metadata": {},
   "outputs": [
    {
     "data": {
      "text/html": [
       "<div>\n",
       "<style scoped>\n",
       "    .dataframe tbody tr th:only-of-type {\n",
       "        vertical-align: middle;\n",
       "    }\n",
       "\n",
       "    .dataframe tbody tr th {\n",
       "        vertical-align: top;\n",
       "    }\n",
       "\n",
       "    .dataframe thead th {\n",
       "        text-align: right;\n",
       "    }\n",
       "</style>\n",
       "<table border=\"1\" class=\"dataframe\">\n",
       "  <thead>\n",
       "    <tr style=\"text-align: right;\">\n",
       "      <th></th>\n",
       "      <th>A</th>\n",
       "      <th>B</th>\n",
       "      <th>C</th>\n",
       "      <th>A</th>\n",
       "      <th>B</th>\n",
       "      <th>C</th>\n",
       "      <th>A</th>\n",
       "      <th>B</th>\n",
       "      <th>C</th>\n",
       "    </tr>\n",
       "  </thead>\n",
       "  <tbody>\n",
       "    <tr>\n",
       "      <th>0</th>\n",
       "      <td>A0</td>\n",
       "      <td>B0</td>\n",
       "      <td>C0</td>\n",
       "      <td>A4</td>\n",
       "      <td>B4</td>\n",
       "      <td>C4</td>\n",
       "      <td>A8</td>\n",
       "      <td>B8</td>\n",
       "      <td>C8</td>\n",
       "    </tr>\n",
       "    <tr>\n",
       "      <th>1</th>\n",
       "      <td>A1</td>\n",
       "      <td>B1</td>\n",
       "      <td>C1</td>\n",
       "      <td>A5</td>\n",
       "      <td>B5</td>\n",
       "      <td>C5</td>\n",
       "      <td>A9</td>\n",
       "      <td>B9</td>\n",
       "      <td>C9</td>\n",
       "    </tr>\n",
       "    <tr>\n",
       "      <th>2</th>\n",
       "      <td>A2</td>\n",
       "      <td>B2</td>\n",
       "      <td>C2</td>\n",
       "      <td>A6</td>\n",
       "      <td>B6</td>\n",
       "      <td>C6</td>\n",
       "      <td>A10</td>\n",
       "      <td>B10</td>\n",
       "      <td>C10</td>\n",
       "    </tr>\n",
       "    <tr>\n",
       "      <th>3</th>\n",
       "      <td>A3</td>\n",
       "      <td>B3</td>\n",
       "      <td>C3</td>\n",
       "      <td>A7</td>\n",
       "      <td>B7</td>\n",
       "      <td>C7</td>\n",
       "      <td>A11</td>\n",
       "      <td>B11</td>\n",
       "      <td>C11</td>\n",
       "    </tr>\n",
       "  </tbody>\n",
       "</table>\n",
       "</div>"
      ],
      "text/plain": [
       "    A   B   C   A   B   C    A    B    C\n",
       "0  A0  B0  C0  A4  B4  C4   A8   B8   C8\n",
       "1  A1  B1  C1  A5  B5  C5   A9   B9   C9\n",
       "2  A2  B2  C2  A6  B6  C6  A10  B10  C10\n",
       "3  A3  B3  C3  A7  B7  C7  A11  B11  C11"
      ]
     },
     "execution_count": 157,
     "metadata": {},
     "output_type": "execute_result"
    }
   ],
   "source": [
    "# Default 행 단위로 병합, colum 기준 병합\n",
    "# axis=1, 열 단위로 병합 가능, index 기준 병합\n",
    "pd.concat([df1, df2, df3], axis=1)\n",
    "pd.concat([df1, df2, df3])"
   ]
  },
  {
   "cell_type": "code",
   "execution_count": 170,
   "metadata": {},
   "outputs": [
    {
     "data": {
      "text/html": [
       "<div>\n",
       "<style scoped>\n",
       "    .dataframe tbody tr th:only-of-type {\n",
       "        vertical-align: middle;\n",
       "    }\n",
       "\n",
       "    .dataframe tbody tr th {\n",
       "        vertical-align: top;\n",
       "    }\n",
       "\n",
       "    .dataframe thead th {\n",
       "        text-align: right;\n",
       "    }\n",
       "</style>\n",
       "<table border=\"1\" class=\"dataframe\">\n",
       "  <thead>\n",
       "    <tr style=\"text-align: right;\">\n",
       "      <th></th>\n",
       "      <th></th>\n",
       "      <th>A</th>\n",
       "      <th>B</th>\n",
       "      <th>C</th>\n",
       "    </tr>\n",
       "  </thead>\n",
       "  <tbody>\n",
       "    <tr>\n",
       "      <th rowspan=\"4\" valign=\"top\">df1</th>\n",
       "      <th>0</th>\n",
       "      <td>A0</td>\n",
       "      <td>B0</td>\n",
       "      <td>C0</td>\n",
       "    </tr>\n",
       "    <tr>\n",
       "      <th>1</th>\n",
       "      <td>A1</td>\n",
       "      <td>B1</td>\n",
       "      <td>C1</td>\n",
       "    </tr>\n",
       "    <tr>\n",
       "      <th>2</th>\n",
       "      <td>A2</td>\n",
       "      <td>B2</td>\n",
       "      <td>C2</td>\n",
       "    </tr>\n",
       "    <tr>\n",
       "      <th>3</th>\n",
       "      <td>A3</td>\n",
       "      <td>B3</td>\n",
       "      <td>C3</td>\n",
       "    </tr>\n",
       "    <tr>\n",
       "      <th rowspan=\"4\" valign=\"top\">df2</th>\n",
       "      <th>0</th>\n",
       "      <td>A4</td>\n",
       "      <td>B4</td>\n",
       "      <td>C4</td>\n",
       "    </tr>\n",
       "    <tr>\n",
       "      <th>1</th>\n",
       "      <td>A5</td>\n",
       "      <td>B5</td>\n",
       "      <td>C5</td>\n",
       "    </tr>\n",
       "    <tr>\n",
       "      <th>2</th>\n",
       "      <td>A6</td>\n",
       "      <td>B6</td>\n",
       "      <td>C6</td>\n",
       "    </tr>\n",
       "    <tr>\n",
       "      <th>3</th>\n",
       "      <td>A7</td>\n",
       "      <td>B7</td>\n",
       "      <td>C7</td>\n",
       "    </tr>\n",
       "    <tr>\n",
       "      <th rowspan=\"4\" valign=\"top\">df3</th>\n",
       "      <th>0</th>\n",
       "      <td>A8</td>\n",
       "      <td>B8</td>\n",
       "      <td>C8</td>\n",
       "    </tr>\n",
       "    <tr>\n",
       "      <th>1</th>\n",
       "      <td>A9</td>\n",
       "      <td>B9</td>\n",
       "      <td>C9</td>\n",
       "    </tr>\n",
       "    <tr>\n",
       "      <th>2</th>\n",
       "      <td>A10</td>\n",
       "      <td>B10</td>\n",
       "      <td>C10</td>\n",
       "    </tr>\n",
       "    <tr>\n",
       "      <th>3</th>\n",
       "      <td>A11</td>\n",
       "      <td>B11</td>\n",
       "      <td>C11</td>\n",
       "    </tr>\n",
       "  </tbody>\n",
       "</table>\n",
       "</div>"
      ],
      "text/plain": [
       "         A    B    C\n",
       "df1 0   A0   B0   C0\n",
       "    1   A1   B1   C1\n",
       "    2   A2   B2   C2\n",
       "    3   A3   B3   C3\n",
       "df2 0   A4   B4   C4\n",
       "    1   A5   B5   C5\n",
       "    2   A6   B6   C6\n",
       "    3   A7   B7   C7\n",
       "df3 0   A8   B8   C8\n",
       "    1   A9   B9   C9\n",
       "    2  A10  B10  C10\n",
       "    3  A11  B11  C11"
      ]
     },
     "execution_count": 170,
     "metadata": {},
     "output_type": "execute_result"
    }
   ],
   "source": [
    "# 다중인덱스 부여하기 (데이터 계층적으로 관리하기 위함)\n",
    "a = pd.concat([df1, df2, df3], keys=[\"df1\", \"df2\", \"df3\"])\n",
    "a"
   ]
  },
  {
   "cell_type": "code",
   "execution_count": 169,
   "metadata": {},
   "outputs": [
    {
     "data": {
      "text/html": [
       "<div>\n",
       "<style scoped>\n",
       "    .dataframe tbody tr th:only-of-type {\n",
       "        vertical-align: middle;\n",
       "    }\n",
       "\n",
       "    .dataframe tbody tr th {\n",
       "        vertical-align: top;\n",
       "    }\n",
       "\n",
       "    .dataframe thead th {\n",
       "        text-align: right;\n",
       "    }\n",
       "</style>\n",
       "<table border=\"1\" class=\"dataframe\">\n",
       "  <thead>\n",
       "    <tr style=\"text-align: right;\">\n",
       "      <th></th>\n",
       "      <th>A</th>\n",
       "      <th>B</th>\n",
       "      <th>C</th>\n",
       "    </tr>\n",
       "  </thead>\n",
       "  <tbody>\n",
       "    <tr>\n",
       "      <th>0</th>\n",
       "      <td>A0</td>\n",
       "      <td>B0</td>\n",
       "      <td>C0</td>\n",
       "    </tr>\n",
       "    <tr>\n",
       "      <th>1</th>\n",
       "      <td>A1</td>\n",
       "      <td>B1</td>\n",
       "      <td>C1</td>\n",
       "    </tr>\n",
       "    <tr>\n",
       "      <th>2</th>\n",
       "      <td>A2</td>\n",
       "      <td>B2</td>\n",
       "      <td>C2</td>\n",
       "    </tr>\n",
       "    <tr>\n",
       "      <th>3</th>\n",
       "      <td>A3</td>\n",
       "      <td>B3</td>\n",
       "      <td>C3</td>\n",
       "    </tr>\n",
       "    <tr>\n",
       "      <th>4</th>\n",
       "      <td>A4</td>\n",
       "      <td>B4</td>\n",
       "      <td>C4</td>\n",
       "    </tr>\n",
       "    <tr>\n",
       "      <th>5</th>\n",
       "      <td>A5</td>\n",
       "      <td>B5</td>\n",
       "      <td>C5</td>\n",
       "    </tr>\n",
       "    <tr>\n",
       "      <th>6</th>\n",
       "      <td>A6</td>\n",
       "      <td>B6</td>\n",
       "      <td>C6</td>\n",
       "    </tr>\n",
       "    <tr>\n",
       "      <th>7</th>\n",
       "      <td>A7</td>\n",
       "      <td>B7</td>\n",
       "      <td>C7</td>\n",
       "    </tr>\n",
       "    <tr>\n",
       "      <th>8</th>\n",
       "      <td>A8</td>\n",
       "      <td>B8</td>\n",
       "      <td>C8</td>\n",
       "    </tr>\n",
       "    <tr>\n",
       "      <th>9</th>\n",
       "      <td>A9</td>\n",
       "      <td>B9</td>\n",
       "      <td>C9</td>\n",
       "    </tr>\n",
       "    <tr>\n",
       "      <th>10</th>\n",
       "      <td>A10</td>\n",
       "      <td>B10</td>\n",
       "      <td>C10</td>\n",
       "    </tr>\n",
       "    <tr>\n",
       "      <th>11</th>\n",
       "      <td>A11</td>\n",
       "      <td>B11</td>\n",
       "      <td>C11</td>\n",
       "    </tr>\n",
       "  </tbody>\n",
       "</table>\n",
       "</div>"
      ],
      "text/plain": [
       "      A    B    C\n",
       "0    A0   B0   C0\n",
       "1    A1   B1   C1\n",
       "2    A2   B2   C2\n",
       "3    A3   B3   C3\n",
       "4    A4   B4   C4\n",
       "5    A5   B5   C5\n",
       "6    A6   B6   C6\n",
       "7    A7   B7   C7\n",
       "8    A8   B8   C8\n",
       "9    A9   B9   C9\n",
       "10  A10  B10  C10\n",
       "11  A11  B11  C11"
      ]
     },
     "execution_count": 169,
     "metadata": {},
     "output_type": "execute_result"
    }
   ],
   "source": [
    "# 기존의 인덱스 번호를 무시하고 새로운 인덱스 번호 부여하는 방법\n",
    "pd.concat([df1, df2, df3], ignore_index=True)"
   ]
  },
  {
   "attachments": {},
   "cell_type": "markdown",
   "metadata": {},
   "source": [
    "### DataFrame 최종 실습\n",
    "- 범죄현황 데이터"
   ]
  },
  {
   "cell_type": "code",
   "execution_count": null,
   "metadata": {},
   "outputs": [],
   "source": [
    "# UnicodeDecodeError  ==> 인코딩을 해주지 않아 발생한 오류\n",
    "# encoding = 'euc-kr'\n",
    "# encoding = 'utf-8'"
   ]
  },
  {
   "attachments": {
    "image.png": {
     "image/png": "[encoded data removed]"
    }
   },
   "cell_type": "markdown",
   "metadata": {},
   "source": [
    "![image.png](attachment:image.png)"
   ]
  },
  {
   "cell_type": "code",
   "execution_count": 345,
   "metadata": {},
   "outputs": [],
   "source": [
    "# 1.데이터 3개 불러오기\n",
    "# index는 관서명, 각각 변수에 담기\n",
    "data2019 = pd.read_csv(\"./2019.csv\", index_col=\"관서명\", encoding='euc-kr')\n",
    "data2020 = pd.read_csv(\"./2020.csv\", index_col=\"관서명\", encoding='euc-kr')\n",
    "data2021 = pd.read_csv(\"./2021.csv\", index_col=\"관서명\", encoding='euc-kr')"
   ]
  },
  {
   "cell_type": "code",
   "execution_count": 346,
   "metadata": {},
   "outputs": [
    {
     "name": "stdout",
     "output_type": "stream",
     "text": [
      "\n",
      "Index(['광주지방경찰청계', '광주동부경찰서', '광주서부경찰서', '광주남부경찰서', '광주북부경찰서', '광주광산경찰서'], dtype='object', name='관서명')\n",
      "Index(['광주지방경찰청계', '광주동부경찰서', '광주서부경찰서', '광주남부경찰서', '광주북부경찰서', '광주광산경찰서'], dtype='object', name='관서명')\n",
      "Index(['광주지방경찰청계', '광주지방경찰청', '광주동부경찰서', '광주서부경찰서', '광주남부경찰서', '광주북부경찰서',\n",
      "       '광주광산경찰서'],\n",
      "      dtype='object', name='관서명')\n"
     ]
    }
   ],
   "source": [
    "print()\n",
    "print(data2019.index.unique())\n",
    "print(data2020.index.unique())\n",
    "print(data2021.index.unique())"
   ]
  },
  {
   "cell_type": "code",
   "execution_count": 347,
   "metadata": {},
   "outputs": [
    {
     "name": "stdout",
     "output_type": "stream",
     "text": [
      "Index(['광주지방경찰청계', '광주동부경찰서', '광주서부경찰서', '광주남부경찰서', '광주북부경찰서', '광주광산경찰서'], dtype='object', name='관서명')\n"
     ]
    }
   ],
   "source": [
    "# 데이터 체크\n",
    "# 특정 연도에만 존재하는 컹찰청 있음 --> 경찰청 삭제\n",
    "data2021.drop([\"광주지방경찰청\"], inplace=True)\n",
    "print(data2021.index.unique())"
   ]
  },
  {
   "cell_type": "code",
   "execution_count": 348,
   "metadata": {},
   "outputs": [
    {
     "data": {
      "text/html": [
       "<div>\n",
       "<style scoped>\n",
       "    .dataframe tbody tr th:only-of-type {\n",
       "        vertical-align: middle;\n",
       "    }\n",
       "\n",
       "    .dataframe tbody tr th {\n",
       "        vertical-align: top;\n",
       "    }\n",
       "\n",
       "    .dataframe thead th {\n",
       "        text-align: right;\n",
       "    }\n",
       "</style>\n",
       "<table border=\"1\" class=\"dataframe\">\n",
       "  <thead>\n",
       "    <tr style=\"text-align: right;\">\n",
       "      <th></th>\n",
       "      <th>구분</th>\n",
       "      <th>살인</th>\n",
       "      <th>강도</th>\n",
       "      <th>강간·강제추행</th>\n",
       "      <th>절도</th>\n",
       "      <th>폭력</th>\n",
       "      <th>총합</th>\n",
       "    </tr>\n",
       "    <tr>\n",
       "      <th>관서명</th>\n",
       "      <th></th>\n",
       "      <th></th>\n",
       "      <th></th>\n",
       "      <th></th>\n",
       "      <th></th>\n",
       "      <th></th>\n",
       "      <th></th>\n",
       "    </tr>\n",
       "  </thead>\n",
       "  <tbody>\n",
       "    <tr>\n",
       "      <th>광주지방경찰청계</th>\n",
       "      <td>발생건수</td>\n",
       "      <td>18</td>\n",
       "      <td>44</td>\n",
       "      <td>750</td>\n",
       "      <td>8425</td>\n",
       "      <td>9593</td>\n",
       "      <td>18830</td>\n",
       "    </tr>\n",
       "    <tr>\n",
       "      <th>광주지방경찰청계</th>\n",
       "      <td>검거건수</td>\n",
       "      <td>18</td>\n",
       "      <td>47</td>\n",
       "      <td>758</td>\n",
       "      <td>5409</td>\n",
       "      <td>8301</td>\n",
       "      <td>14533</td>\n",
       "    </tr>\n",
       "    <tr>\n",
       "      <th>광주지방경찰청계</th>\n",
       "      <td>검거인원</td>\n",
       "      <td>17</td>\n",
       "      <td>66</td>\n",
       "      <td>776</td>\n",
       "      <td>3433</td>\n",
       "      <td>11774</td>\n",
       "      <td>16066</td>\n",
       "    </tr>\n",
       "    <tr>\n",
       "      <th>광주지방경찰청계</th>\n",
       "      <td>구속</td>\n",
       "      <td>9</td>\n",
       "      <td>33</td>\n",
       "      <td>42</td>\n",
       "      <td>104</td>\n",
       "      <td>58</td>\n",
       "      <td>246</td>\n",
       "    </tr>\n",
       "    <tr>\n",
       "      <th>광주지방경찰청계</th>\n",
       "      <td>불구속</td>\n",
       "      <td>1</td>\n",
       "      <td>26</td>\n",
       "      <td>511</td>\n",
       "      <td>2781</td>\n",
       "      <td>5618</td>\n",
       "      <td>8937</td>\n",
       "    </tr>\n",
       "    <tr>\n",
       "      <th>광주지방경찰청계</th>\n",
       "      <td>기타</td>\n",
       "      <td>7</td>\n",
       "      <td>7</td>\n",
       "      <td>223</td>\n",
       "      <td>548</td>\n",
       "      <td>6098</td>\n",
       "      <td>6883</td>\n",
       "    </tr>\n",
       "    <tr>\n",
       "      <th>광주동부경찰서</th>\n",
       "      <td>발생건수</td>\n",
       "      <td>3</td>\n",
       "      <td>5</td>\n",
       "      <td>92</td>\n",
       "      <td>1100</td>\n",
       "      <td>1155</td>\n",
       "      <td>2355</td>\n",
       "    </tr>\n",
       "    <tr>\n",
       "      <th>광주동부경찰서</th>\n",
       "      <td>검거건수</td>\n",
       "      <td>4</td>\n",
       "      <td>6</td>\n",
       "      <td>86</td>\n",
       "      <td>583</td>\n",
       "      <td>970</td>\n",
       "      <td>1649</td>\n",
       "    </tr>\n",
       "    <tr>\n",
       "      <th>광주동부경찰서</th>\n",
       "      <td>검거인원</td>\n",
       "      <td>4</td>\n",
       "      <td>7</td>\n",
       "      <td>98</td>\n",
       "      <td>447</td>\n",
       "      <td>1483</td>\n",
       "      <td>2039</td>\n",
       "    </tr>\n",
       "    <tr>\n",
       "      <th>광주동부경찰서</th>\n",
       "      <td>구속</td>\n",
       "      <td>3</td>\n",
       "      <td>2</td>\n",
       "      <td>8</td>\n",
       "      <td>13</td>\n",
       "      <td>10</td>\n",
       "      <td>36</td>\n",
       "    </tr>\n",
       "    <tr>\n",
       "      <th>광주동부경찰서</th>\n",
       "      <td>불구속</td>\n",
       "      <td>0</td>\n",
       "      <td>4</td>\n",
       "      <td>63</td>\n",
       "      <td>379</td>\n",
       "      <td>703</td>\n",
       "      <td>1149</td>\n",
       "    </tr>\n",
       "    <tr>\n",
       "      <th>광주동부경찰서</th>\n",
       "      <td>기타</td>\n",
       "      <td>1</td>\n",
       "      <td>1</td>\n",
       "      <td>27</td>\n",
       "      <td>55</td>\n",
       "      <td>770</td>\n",
       "      <td>854</td>\n",
       "    </tr>\n",
       "    <tr>\n",
       "      <th>광주서부경찰서</th>\n",
       "      <td>발생건수</td>\n",
       "      <td>5</td>\n",
       "      <td>10</td>\n",
       "      <td>172</td>\n",
       "      <td>2050</td>\n",
       "      <td>2483</td>\n",
       "      <td>4720</td>\n",
       "    </tr>\n",
       "    <tr>\n",
       "      <th>광주서부경찰서</th>\n",
       "      <td>검거건수</td>\n",
       "      <td>4</td>\n",
       "      <td>8</td>\n",
       "      <td>153</td>\n",
       "      <td>1471</td>\n",
       "      <td>2124</td>\n",
       "      <td>3760</td>\n",
       "    </tr>\n",
       "    <tr>\n",
       "      <th>광주서부경찰서</th>\n",
       "      <td>검거인원</td>\n",
       "      <td>4</td>\n",
       "      <td>15</td>\n",
       "      <td>167</td>\n",
       "      <td>876</td>\n",
       "      <td>3080</td>\n",
       "      <td>4142</td>\n",
       "    </tr>\n",
       "    <tr>\n",
       "      <th>광주서부경찰서</th>\n",
       "      <td>구속</td>\n",
       "      <td>3</td>\n",
       "      <td>10</td>\n",
       "      <td>7</td>\n",
       "      <td>27</td>\n",
       "      <td>19</td>\n",
       "      <td>66</td>\n",
       "    </tr>\n",
       "    <tr>\n",
       "      <th>광주서부경찰서</th>\n",
       "      <td>불구속</td>\n",
       "      <td>0</td>\n",
       "      <td>5</td>\n",
       "      <td>91</td>\n",
       "      <td>665</td>\n",
       "      <td>1366</td>\n",
       "      <td>2127</td>\n",
       "    </tr>\n",
       "    <tr>\n",
       "      <th>광주서부경찰서</th>\n",
       "      <td>기타</td>\n",
       "      <td>1</td>\n",
       "      <td>0</td>\n",
       "      <td>69</td>\n",
       "      <td>184</td>\n",
       "      <td>1695</td>\n",
       "      <td>1949</td>\n",
       "    </tr>\n",
       "    <tr>\n",
       "      <th>광주남부경찰서</th>\n",
       "      <td>발생건수</td>\n",
       "      <td>1</td>\n",
       "      <td>3</td>\n",
       "      <td>70</td>\n",
       "      <td>962</td>\n",
       "      <td>1081</td>\n",
       "      <td>2117</td>\n",
       "    </tr>\n",
       "    <tr>\n",
       "      <th>광주남부경찰서</th>\n",
       "      <td>검거건수</td>\n",
       "      <td>1</td>\n",
       "      <td>3</td>\n",
       "      <td>53</td>\n",
       "      <td>506</td>\n",
       "      <td>941</td>\n",
       "      <td>1504</td>\n",
       "    </tr>\n",
       "    <tr>\n",
       "      <th>광주남부경찰서</th>\n",
       "      <td>검거인원</td>\n",
       "      <td>1</td>\n",
       "      <td>3</td>\n",
       "      <td>52</td>\n",
       "      <td>418</td>\n",
       "      <td>1260</td>\n",
       "      <td>1734</td>\n",
       "    </tr>\n",
       "    <tr>\n",
       "      <th>광주남부경찰서</th>\n",
       "      <td>구속</td>\n",
       "      <td>0</td>\n",
       "      <td>3</td>\n",
       "      <td>3</td>\n",
       "      <td>19</td>\n",
       "      <td>3</td>\n",
       "      <td>28</td>\n",
       "    </tr>\n",
       "    <tr>\n",
       "      <th>광주남부경찰서</th>\n",
       "      <td>불구속</td>\n",
       "      <td>1</td>\n",
       "      <td>0</td>\n",
       "      <td>39</td>\n",
       "      <td>325</td>\n",
       "      <td>675</td>\n",
       "      <td>1040</td>\n",
       "    </tr>\n",
       "    <tr>\n",
       "      <th>광주남부경찰서</th>\n",
       "      <td>기타</td>\n",
       "      <td>0</td>\n",
       "      <td>0</td>\n",
       "      <td>10</td>\n",
       "      <td>74</td>\n",
       "      <td>582</td>\n",
       "      <td>666</td>\n",
       "    </tr>\n",
       "    <tr>\n",
       "      <th>광주북부경찰서</th>\n",
       "      <td>발생건수</td>\n",
       "      <td>5</td>\n",
       "      <td>14</td>\n",
       "      <td>256</td>\n",
       "      <td>2570</td>\n",
       "      <td>2621</td>\n",
       "      <td>5466</td>\n",
       "    </tr>\n",
       "    <tr>\n",
       "      <th>광주북부경찰서</th>\n",
       "      <td>검거건수</td>\n",
       "      <td>5</td>\n",
       "      <td>18</td>\n",
       "      <td>212</td>\n",
       "      <td>1852</td>\n",
       "      <td>2319</td>\n",
       "      <td>4406</td>\n",
       "    </tr>\n",
       "    <tr>\n",
       "      <th>광주북부경찰서</th>\n",
       "      <td>검거인원</td>\n",
       "      <td>5</td>\n",
       "      <td>28</td>\n",
       "      <td>216</td>\n",
       "      <td>948</td>\n",
       "      <td>3168</td>\n",
       "      <td>4365</td>\n",
       "    </tr>\n",
       "    <tr>\n",
       "      <th>광주북부경찰서</th>\n",
       "      <td>구속</td>\n",
       "      <td>3</td>\n",
       "      <td>11</td>\n",
       "      <td>11</td>\n",
       "      <td>30</td>\n",
       "      <td>10</td>\n",
       "      <td>65</td>\n",
       "    </tr>\n",
       "    <tr>\n",
       "      <th>광주북부경찰서</th>\n",
       "      <td>불구속</td>\n",
       "      <td>0</td>\n",
       "      <td>12</td>\n",
       "      <td>153</td>\n",
       "      <td>770</td>\n",
       "      <td>1544</td>\n",
       "      <td>2479</td>\n",
       "    </tr>\n",
       "    <tr>\n",
       "      <th>광주북부경찰서</th>\n",
       "      <td>기타</td>\n",
       "      <td>2</td>\n",
       "      <td>5</td>\n",
       "      <td>52</td>\n",
       "      <td>148</td>\n",
       "      <td>1614</td>\n",
       "      <td>1821</td>\n",
       "    </tr>\n",
       "    <tr>\n",
       "      <th>광주광산경찰서</th>\n",
       "      <td>발생건수</td>\n",
       "      <td>4</td>\n",
       "      <td>12</td>\n",
       "      <td>160</td>\n",
       "      <td>1743</td>\n",
       "      <td>2253</td>\n",
       "      <td>4172</td>\n",
       "    </tr>\n",
       "    <tr>\n",
       "      <th>광주광산경찰서</th>\n",
       "      <td>검거건수</td>\n",
       "      <td>4</td>\n",
       "      <td>10</td>\n",
       "      <td>135</td>\n",
       "      <td>996</td>\n",
       "      <td>1922</td>\n",
       "      <td>3067</td>\n",
       "    </tr>\n",
       "    <tr>\n",
       "      <th>광주광산경찰서</th>\n",
       "      <td>검거인원</td>\n",
       "      <td>3</td>\n",
       "      <td>8</td>\n",
       "      <td>129</td>\n",
       "      <td>736</td>\n",
       "      <td>2585</td>\n",
       "      <td>3461</td>\n",
       "    </tr>\n",
       "    <tr>\n",
       "      <th>광주광산경찰서</th>\n",
       "      <td>구속</td>\n",
       "      <td>0</td>\n",
       "      <td>4</td>\n",
       "      <td>5</td>\n",
       "      <td>12</td>\n",
       "      <td>6</td>\n",
       "      <td>27</td>\n",
       "    </tr>\n",
       "    <tr>\n",
       "      <th>광주광산경찰서</th>\n",
       "      <td>불구속</td>\n",
       "      <td>0</td>\n",
       "      <td>4</td>\n",
       "      <td>81</td>\n",
       "      <td>639</td>\n",
       "      <td>1181</td>\n",
       "      <td>1905</td>\n",
       "    </tr>\n",
       "    <tr>\n",
       "      <th>광주광산경찰서</th>\n",
       "      <td>기타</td>\n",
       "      <td>3</td>\n",
       "      <td>0</td>\n",
       "      <td>43</td>\n",
       "      <td>85</td>\n",
       "      <td>1398</td>\n",
       "      <td>1529</td>\n",
       "    </tr>\n",
       "  </tbody>\n",
       "</table>\n",
       "</div>"
      ],
      "text/plain": [
       "            구분  살인  강도  강간·강제추행    절도     폭력     총합\n",
       "관서명                                                \n",
       "광주지방경찰청계  발생건수  18  44      750  8425   9593  18830\n",
       "광주지방경찰청계  검거건수  18  47      758  5409   8301  14533\n",
       "광주지방경찰청계  검거인원  17  66      776  3433  11774  16066\n",
       "광주지방경찰청계    구속   9  33       42   104     58    246\n",
       "광주지방경찰청계   불구속   1  26      511  2781   5618   8937\n",
       "광주지방경찰청계    기타   7   7      223   548   6098   6883\n",
       "광주동부경찰서   발생건수   3   5       92  1100   1155   2355\n",
       "광주동부경찰서   검거건수   4   6       86   583    970   1649\n",
       "광주동부경찰서   검거인원   4   7       98   447   1483   2039\n",
       "광주동부경찰서     구속   3   2        8    13     10     36\n",
       "광주동부경찰서    불구속   0   4       63   379    703   1149\n",
       "광주동부경찰서     기타   1   1       27    55    770    854\n",
       "광주서부경찰서   발생건수   5  10      172  2050   2483   4720\n",
       "광주서부경찰서   검거건수   4   8      153  1471   2124   3760\n",
       "광주서부경찰서   검거인원   4  15      167   876   3080   4142\n",
       "광주서부경찰서     구속   3  10        7    27     19     66\n",
       "광주서부경찰서    불구속   0   5       91   665   1366   2127\n",
       "광주서부경찰서     기타   1   0       69   184   1695   1949\n",
       "광주남부경찰서   발생건수   1   3       70   962   1081   2117\n",
       "광주남부경찰서   검거건수   1   3       53   506    941   1504\n",
       "광주남부경찰서   검거인원   1   3       52   418   1260   1734\n",
       "광주남부경찰서     구속   0   3        3    19      3     28\n",
       "광주남부경찰서    불구속   1   0       39   325    675   1040\n",
       "광주남부경찰서     기타   0   0       10    74    582    666\n",
       "광주북부경찰서   발생건수   5  14      256  2570   2621   5466\n",
       "광주북부경찰서   검거건수   5  18      212  1852   2319   4406\n",
       "광주북부경찰서   검거인원   5  28      216   948   3168   4365\n",
       "광주북부경찰서     구속   3  11       11    30     10     65\n",
       "광주북부경찰서    불구속   0  12      153   770   1544   2479\n",
       "광주북부경찰서     기타   2   5       52   148   1614   1821\n",
       "광주광산경찰서   발생건수   4  12      160  1743   2253   4172\n",
       "광주광산경찰서   검거건수   4  10      135   996   1922   3067\n",
       "광주광산경찰서   검거인원   3   8      129   736   2585   3461\n",
       "광주광산경찰서     구속   0   4        5    12      6     27\n",
       "광주광산경찰서    불구속   0   4       81   639   1181   1905\n",
       "광주광산경찰서     기타   3   0       43    85   1398   1529"
      ]
     },
     "execution_count": 348,
     "metadata": {},
     "output_type": "execute_result"
    }
   ],
   "source": [
    "# 연도별 데이터 총합 구하기 (총합 컬럼 생성)\n",
    "a = data2019.iloc[:,1:].sum(axis=1)\n",
    "b = data2020.iloc[:,1:].sum(axis=1)\n",
    "c = data2021.iloc[:,1:].sum(axis=1)\n",
    "data2019[\"총합\"] = a\n",
    "data2020[\"총합\"] = b\n",
    "data2021[\"총합\"] = c\n",
    "data2019"
   ]
  },
  {
   "cell_type": "code",
   "execution_count": 349,
   "metadata": {},
   "outputs": [],
   "source": [
    "# 구분이 발생건수인 값들만 가져오기\n",
    "# boolean 인덱싱\n",
    "data2019[data2019[\"구분\"] == \"발생건수\"]\n",
    "# 5-1. '총합'컬럼만 데이터 가져오기 (Series 형태로 출력)\n",
    "# 5-2. 각 연도별 총합 Sreies 데이터 이름 바꿔주기\n",
    "# 2019총계, 2020총계, 2021총계\n",
    "data1 = data2019[data2019[\"구분\"] == \"발생건수\"].loc[:,\"총합\"]\n",
    "data1.name= \"2019총계\"\n",
    "\n",
    "data2 = data2020[data2020[\"구분\"] == \"발생건수\"].loc[:,\"총합\"]\n",
    "data2.name= \"2020총계\"\n",
    "\n",
    "data3 = data2021[data2021[\"구분\"] == \"발생건수\"].loc[:,\"총합\"]\n",
    "data3.name= \"2021총계\"\n",
    "# dataCrime = pd.concat([data1,data2,data3], axis=1)\n",
    "# dataCrime"
   ]
  },
  {
   "cell_type": "code",
   "execution_count": 352,
   "metadata": {},
   "outputs": [],
   "source": [
    "# 6. 증감률 계산\n",
    "# (금년-작년) / 작년 * 100\n",
    "# a = dataCrime.loc[:,\"2019총계\"]\n",
    "# b = dataCrime.loc[:,\"2020총계\"]\n",
    "# dataCrime[\"2019-2020증감률\"] = (b-a)/a*100\n",
    "a = (data2-data1)/data1*100\n",
    "a.name = \"2019-2020증감률\"\n",
    "b = (data3-data2)/data2*100\n",
    "b.name = \"2020-2021증감률\""
   ]
  },
  {
   "cell_type": "code",
   "execution_count": 343,
   "metadata": {},
   "outputs": [
    {
     "data": {
      "text/html": [
       "<div>\n",
       "<style scoped>\n",
       "    .dataframe tbody tr th:only-of-type {\n",
       "        vertical-align: middle;\n",
       "    }\n",
       "\n",
       "    .dataframe tbody tr th {\n",
       "        vertical-align: top;\n",
       "    }\n",
       "\n",
       "    .dataframe thead th {\n",
       "        text-align: right;\n",
       "    }\n",
       "</style>\n",
       "<table border=\"1\" class=\"dataframe\">\n",
       "  <thead>\n",
       "    <tr style=\"text-align: right;\">\n",
       "      <th></th>\n",
       "      <th>2019총계</th>\n",
       "      <th>2020총계</th>\n",
       "      <th>2021총계</th>\n",
       "      <th>2019-2020증감률</th>\n",
       "      <th>2020-2021증감률</th>\n",
       "    </tr>\n",
       "    <tr>\n",
       "      <th>관서명</th>\n",
       "      <th></th>\n",
       "      <th></th>\n",
       "      <th></th>\n",
       "      <th></th>\n",
       "      <th></th>\n",
       "    </tr>\n",
       "  </thead>\n",
       "  <tbody>\n",
       "    <tr>\n",
       "      <th>광주지방경찰청계</th>\n",
       "      <td>18830</td>\n",
       "      <td>15416</td>\n",
       "      <td>13949</td>\n",
       "      <td>-18.130643</td>\n",
       "      <td>-9.516087</td>\n",
       "    </tr>\n",
       "    <tr>\n",
       "      <th>광주동부경찰서</th>\n",
       "      <td>2355</td>\n",
       "      <td>2068</td>\n",
       "      <td>1799</td>\n",
       "      <td>-12.186837</td>\n",
       "      <td>-13.007737</td>\n",
       "    </tr>\n",
       "    <tr>\n",
       "      <th>광주서부경찰서</th>\n",
       "      <td>4720</td>\n",
       "      <td>3892</td>\n",
       "      <td>3638</td>\n",
       "      <td>-17.542373</td>\n",
       "      <td>-6.526208</td>\n",
       "    </tr>\n",
       "    <tr>\n",
       "      <th>광주남부경찰서</th>\n",
       "      <td>2117</td>\n",
       "      <td>1865</td>\n",
       "      <td>1547</td>\n",
       "      <td>-11.903637</td>\n",
       "      <td>-17.050938</td>\n",
       "    </tr>\n",
       "    <tr>\n",
       "      <th>광주북부경찰서</th>\n",
       "      <td>5466</td>\n",
       "      <td>4148</td>\n",
       "      <td>3945</td>\n",
       "      <td>-24.112697</td>\n",
       "      <td>-4.893925</td>\n",
       "    </tr>\n",
       "    <tr>\n",
       "      <th>광주광산경찰서</th>\n",
       "      <td>4172</td>\n",
       "      <td>3443</td>\n",
       "      <td>3020</td>\n",
       "      <td>-17.473634</td>\n",
       "      <td>-12.285797</td>\n",
       "    </tr>\n",
       "  </tbody>\n",
       "</table>\n",
       "</div>"
      ],
      "text/plain": [
       "          2019총계  2020총계  2021총계  2019-2020증감률  2020-2021증감률\n",
       "관서명                                                         \n",
       "광주지방경찰청계   18830   15416   13949    -18.130643     -9.516087\n",
       "광주동부경찰서     2355    2068    1799    -12.186837    -13.007737\n",
       "광주서부경찰서     4720    3892    3638    -17.542373     -6.526208\n",
       "광주남부경찰서     2117    1865    1547    -11.903637    -17.050938\n",
       "광주북부경찰서     5466    4148    3945    -24.112697     -4.893925\n",
       "광주광산경찰서     4172    3443    3020    -17.473634    -12.285797"
      ]
     },
     "execution_count": 343,
     "metadata": {},
     "output_type": "execute_result"
    }
   ],
   "source": [
    "# a = dataCrime.loc[:,\"2020총계\"]\n",
    "# b = dataCrime.loc[:,\"2021총계\"]\n",
    "# dataCrime[\"2020-2021증감률\"] = (b-a)/a*100\n",
    "\n",
    "# dataCrime"
   ]
  },
  {
   "cell_type": "code",
   "execution_count": 354,
   "metadata": {},
   "outputs": [
    {
     "data": {
      "text/html": [
       "<div>\n",
       "<style scoped>\n",
       "    .dataframe tbody tr th:only-of-type {\n",
       "        vertical-align: middle;\n",
       "    }\n",
       "\n",
       "    .dataframe tbody tr th {\n",
       "        vertical-align: top;\n",
       "    }\n",
       "\n",
       "    .dataframe thead th {\n",
       "        text-align: right;\n",
       "    }\n",
       "</style>\n",
       "<table border=\"1\" class=\"dataframe\">\n",
       "  <thead>\n",
       "    <tr style=\"text-align: right;\">\n",
       "      <th></th>\n",
       "      <th>2019총계</th>\n",
       "      <th>2019-2020증감률</th>\n",
       "      <th>2020총계</th>\n",
       "      <th>2020-2021증감률</th>\n",
       "      <th>2021총계</th>\n",
       "    </tr>\n",
       "    <tr>\n",
       "      <th>관서명</th>\n",
       "      <th></th>\n",
       "      <th></th>\n",
       "      <th></th>\n",
       "      <th></th>\n",
       "      <th></th>\n",
       "    </tr>\n",
       "  </thead>\n",
       "  <tbody>\n",
       "    <tr>\n",
       "      <th>광주지방경찰청계</th>\n",
       "      <td>18830</td>\n",
       "      <td>-18.130643</td>\n",
       "      <td>15416</td>\n",
       "      <td>-9.516087</td>\n",
       "      <td>13949</td>\n",
       "    </tr>\n",
       "    <tr>\n",
       "      <th>광주동부경찰서</th>\n",
       "      <td>2355</td>\n",
       "      <td>-12.186837</td>\n",
       "      <td>2068</td>\n",
       "      <td>-13.007737</td>\n",
       "      <td>1799</td>\n",
       "    </tr>\n",
       "    <tr>\n",
       "      <th>광주서부경찰서</th>\n",
       "      <td>4720</td>\n",
       "      <td>-17.542373</td>\n",
       "      <td>3892</td>\n",
       "      <td>-6.526208</td>\n",
       "      <td>3638</td>\n",
       "    </tr>\n",
       "    <tr>\n",
       "      <th>광주남부경찰서</th>\n",
       "      <td>2117</td>\n",
       "      <td>-11.903637</td>\n",
       "      <td>1865</td>\n",
       "      <td>-17.050938</td>\n",
       "      <td>1547</td>\n",
       "    </tr>\n",
       "    <tr>\n",
       "      <th>광주북부경찰서</th>\n",
       "      <td>5466</td>\n",
       "      <td>-24.112697</td>\n",
       "      <td>4148</td>\n",
       "      <td>-4.893925</td>\n",
       "      <td>3945</td>\n",
       "    </tr>\n",
       "    <tr>\n",
       "      <th>광주광산경찰서</th>\n",
       "      <td>4172</td>\n",
       "      <td>-17.473634</td>\n",
       "      <td>3443</td>\n",
       "      <td>-12.285797</td>\n",
       "      <td>3020</td>\n",
       "    </tr>\n",
       "  </tbody>\n",
       "</table>\n",
       "</div>"
      ],
      "text/plain": [
       "          2019총계  2019-2020증감률  2020총계  2020-2021증감률  2021총계\n",
       "관서명                                                         \n",
       "광주지방경찰청계   18830    -18.130643   15416     -9.516087   13949\n",
       "광주동부경찰서     2355    -12.186837    2068    -13.007737    1799\n",
       "광주서부경찰서     4720    -17.542373    3892     -6.526208    3638\n",
       "광주남부경찰서     2117    -11.903637    1865    -17.050938    1547\n",
       "광주북부경찰서     5466    -24.112697    4148     -4.893925    3945\n",
       "광주광산경찰서     4172    -17.473634    3443    -12.285797    3020"
      ]
     },
     "execution_count": 354,
     "metadata": {},
     "output_type": "execute_result"
    }
   ],
   "source": [
    "# 7. 데이터 프레임 병합하기\n",
    "\n",
    "# dataCrime[[\"2019총계\", \"2019-2020증감률\",\"2020총계\",\"2020-2021증감률\",\"2021총계\"]]\n",
    "resData = pd.concat([data1,a,data2,b,data3],axis=1)\n",
    "resData\n"
   ]
  },
  {
   "cell_type": "code",
   "execution_count": 363,
   "metadata": {},
   "outputs": [],
   "source": [
    "import numpy as np"
   ]
  },
  {
   "cell_type": "code",
   "execution_count": 364,
   "metadata": {},
   "outputs": [
    {
     "ename": "TypeError",
     "evalue": "list indices must be integers or slices, not list",
     "output_type": "error",
     "traceback": [
      "\u001b[1;31m---------------------------------------------------------------------------\u001b[0m",
      "\u001b[1;31mTypeError\u001b[0m                                 Traceback (most recent call last)",
      "\u001b[1;32m~\\AppData\\Local\\Temp\\ipykernel_16636\\3416960118.py\u001b[0m in \u001b[0;36m<module>\u001b[1;34m\u001b[0m\n\u001b[0;32m      3\u001b[0m \u001b[0mlist1\u001b[0m \u001b[1;33m=\u001b[0m \u001b[1;33m[\u001b[0m\u001b[1;34m\"가\"\u001b[0m\u001b[1;33m,\u001b[0m\u001b[1;34m\"나\"\u001b[0m\u001b[1;33m,\u001b[0m\u001b[1;34m\"다\"\u001b[0m\u001b[1;33m]\u001b[0m\u001b[1;33m\u001b[0m\u001b[1;33m\u001b[0m\u001b[0m\n\u001b[0;32m      4\u001b[0m \u001b[1;33m\u001b[0m\u001b[0m\n\u001b[1;32m----> 5\u001b[1;33m \u001b[0mlist1\u001b[0m\u001b[1;33m[\u001b[0m\u001b[0mbol\u001b[0m\u001b[1;33m]\u001b[0m\u001b[1;33m\u001b[0m\u001b[1;33m\u001b[0m\u001b[0m\n\u001b[0m",
      "\u001b[1;31mTypeError\u001b[0m: list indices must be integers or slices, not list"
     ]
    }
   ],
   "source": [
    "bol = [True, False, True]\n",
    "ind = np.array(bol)\n",
    "list1 = [\"가\",\"나\",\"다\"]\n",
    "\n",
    "list1[bol]"
   ]
  },
  {
   "cell_type": "code",
   "execution_count": null,
   "metadata": {},
   "outputs": [],
   "source": []
  },
  {
   "cell_type": "code",
   "execution_count": null,
   "metadata": {},
   "outputs": [],
   "source": []
  },
  {
   "cell_type": "code",
   "execution_count": null,
   "metadata": {},
   "outputs": [],
   "source": []
  },
  {
   "cell_type": "code",
   "execution_count": null,
   "metadata": {},
   "outputs": [],
   "source": []
  },
  {
   "cell_type": "code",
   "execution_count": null,
   "metadata": {},
   "outputs": [],
   "source": []
  },
  {
   "cell_type": "code",
   "execution_count": null,
   "metadata": {},
   "outputs": [],
   "source": []
  },
  {
   "cell_type": "code",
   "execution_count": null,
   "metadata": {},
   "outputs": [],
   "source": []
  },
  {
   "cell_type": "code",
   "execution_count": null,
   "metadata": {},
   "outputs": [],
   "source": []
  }
 ],
 "metadata": {
  "kernelspec": {
   "display_name": "base",
   "language": "python",
   "name": "python3"
  },
  "language_info": {
   "codemirror_mode": {
    "name": "ipython",
    "version": 3
   },
   "file_extension": ".py",
   "mimetype": "text/x-python",
   "name": "python",
   "nbconvert_exporter": "python",
   "pygments_lexer": "ipython3",
   "version": "3.9.13"
  },
  "orig_nbformat": 4,
  "vscode": {
   "interpreter": {
    "hash": "b29c9535bfd25afa5c0ebea945f05384aab6e6733113370efdd687ec340f7537"
   }
  }
 },
 "nbformat": 4,
 "nbformat_minor": 2
}
