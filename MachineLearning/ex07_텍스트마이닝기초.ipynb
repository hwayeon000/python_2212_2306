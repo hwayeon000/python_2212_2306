{
 "cells": [
  {
   "attachments": {},
   "cell_type": "markdown",
   "metadata": {},
   "source": [
    "### 목표\n",
    "- 텍스트마이닝의 개념을 이해하고, 텍스트데이터 처리 프로세스를 알아보자\n",
    "- 자연어 처리를 위한 기본 기념 이해하자"
   ]
  },
  {
   "attachments": {},
   "cell_type": "markdown",
   "metadata": {},
   "source": [
    "#### NLP vs Text Mining\n",
    "- Text Mining : 비정형 텍스트 데이터에서 의미있는 정보를 추출하는 학문\n",
    "- NLP : 인간의 언어를 이해하는데 집중된 학문 (음성인식, 챗봇)"
   ]
  },
  {
   "attachments": {},
   "cell_type": "markdown",
   "metadata": {},
   "source": [
    "#### Text Mining 종류\n",
    "- 텍스트 분류 : 텍스트가 속하는 카테고리를 분류하는 분석\n",
    "- 감성분석 : 텍스트에서 나타나는 감정/기분/의견 등을 분석\n",
    "- 텍스트 요약 : 텍스트에서 중요한 주제를 나타내는 키워드, 문장 등을 추출/생성\n",
    "- 텍스트 군집화와 유사도 측정 : 텍스트의 비슷한 정도를 측정하고 그룹핑하는 분석"
   ]
  },
  {
   "attachments": {},
   "cell_type": "markdown",
   "metadata": {},
   "source": [
    "#### 텍스트 분석 프로세스\n",
    "1. 문제정의\n",
    "2. 데이터 수집\n",
    "3. 데이터 탐색 및 전처리\n",
    "    1. 텍스트 전처리\n",
    "        - 클렌징 (대/소문자 변경, 특수문자/이모티콘 삭제, 띄어쓰기 교정, 오탈자 수정) : re(정규표현식), hanspell(한국어 띄어쓰기 교정)\n",
    "        - 불용어처리 (stop word) 제거\n",
    "        - 토큰화 (텍스트를 잘게 쪼개는 작업)\n",
    "        - 어근추출(Stemming/Lemmatization)\n",
    "        \n",
    "            - 영어 : nltk\n",
    "            - 한국어 : konlpy(형태소 분석기)\n",
    "    2. 피쳐 벡터화/추출: 정형화 작업, 글자에서 정해진 알고리즘에 따라 숫자로 변경\n",
    "        - 단순 언어의 빈도\n",
    "        - BOW(Bakc Of Word)\n",
    "        - tf-idf\n",
    "        - word embedding(워드 임베딩)\n",
    "4. 모델 학습\n",
    "5. 모델 평가\n",
    "6. 서비스화"
   ]
  },
  {
   "attachments": {},
   "cell_type": "markdown",
   "metadata": {},
   "source": [
    "#### 데이터 로딩\n",
    "- 네이버 영화 리뷰 데이터"
   ]
  },
  {
   "cell_type": "code",
   "execution_count": 1,
   "metadata": {},
   "outputs": [],
   "source": [
    "import pandas as pd\n",
    "pd.set_option(\"display.max_colwidth\", 100) # 데이터프레임의 기본 컬럼 너비 조정"
   ]
  },
  {
   "cell_type": "code",
   "execution_count": 2,
   "metadata": {},
   "outputs": [],
   "source": [
    "train = pd.read_csv(\"./data/ratings_train.txt\", delimiter='\\t')\n",
    "test = pd.read_csv(\"./data/ratings_test.txt\", delimiter='\\t')"
   ]
  },
  {
   "cell_type": "code",
   "execution_count": 3,
   "metadata": {},
   "outputs": [
    {
     "data": {
      "text/plain": [
       "'Train data'"
      ]
     },
     "metadata": {},
     "output_type": "display_data"
    },
    {
     "data": {
      "text/html": [
       "<div>\n",
       "<style scoped>\n",
       "    .dataframe tbody tr th:only-of-type {\n",
       "        vertical-align: middle;\n",
       "    }\n",
       "\n",
       "    .dataframe tbody tr th {\n",
       "        vertical-align: top;\n",
       "    }\n",
       "\n",
       "    .dataframe thead th {\n",
       "        text-align: right;\n",
       "    }\n",
       "</style>\n",
       "<table border=\"1\" class=\"dataframe\">\n",
       "  <thead>\n",
       "    <tr style=\"text-align: right;\">\n",
       "      <th></th>\n",
       "      <th>id</th>\n",
       "      <th>document</th>\n",
       "      <th>label</th>\n",
       "    </tr>\n",
       "  </thead>\n",
       "  <tbody>\n",
       "    <tr>\n",
       "      <th>0</th>\n",
       "      <td>9976970</td>\n",
       "      <td>아 더빙.. 진짜 짜증나네요 목소리</td>\n",
       "      <td>0</td>\n",
       "    </tr>\n",
       "    <tr>\n",
       "      <th>1</th>\n",
       "      <td>3819312</td>\n",
       "      <td>흠...포스터보고 초딩영화줄....오버연기조차 가볍지 않구나</td>\n",
       "      <td>1</td>\n",
       "    </tr>\n",
       "    <tr>\n",
       "      <th>2</th>\n",
       "      <td>10265843</td>\n",
       "      <td>너무재밓었다그래서보는것을추천한다</td>\n",
       "      <td>0</td>\n",
       "    </tr>\n",
       "    <tr>\n",
       "      <th>3</th>\n",
       "      <td>9045019</td>\n",
       "      <td>교도소 이야기구먼 ..솔직히 재미는 없다..평점 조정</td>\n",
       "      <td>0</td>\n",
       "    </tr>\n",
       "    <tr>\n",
       "      <th>4</th>\n",
       "      <td>6483659</td>\n",
       "      <td>사이몬페그의 익살스런 연기가 돋보였던 영화!스파이더맨에서 늙어보이기만 했던 커스틴 던스트가 너무나도 이뻐보였다</td>\n",
       "      <td>1</td>\n",
       "    </tr>\n",
       "  </tbody>\n",
       "</table>\n",
       "</div>"
      ],
      "text/plain": [
       "         id                                                       document  \\\n",
       "0   9976970                                            아 더빙.. 진짜 짜증나네요 목소리   \n",
       "1   3819312                              흠...포스터보고 초딩영화줄....오버연기조차 가볍지 않구나   \n",
       "2  10265843                                              너무재밓었다그래서보는것을추천한다   \n",
       "3   9045019                                  교도소 이야기구먼 ..솔직히 재미는 없다..평점 조정   \n",
       "4   6483659  사이몬페그의 익살스런 연기가 돋보였던 영화!스파이더맨에서 늙어보이기만 했던 커스틴 던스트가 너무나도 이뻐보였다   \n",
       "\n",
       "   label  \n",
       "0      0  \n",
       "1      1  \n",
       "2      0  \n",
       "3      0  \n",
       "4      1  "
      ]
     },
     "metadata": {},
     "output_type": "display_data"
    },
    {
     "data": {
      "text/plain": [
       "'Test data'"
      ]
     },
     "metadata": {},
     "output_type": "display_data"
    },
    {
     "data": {
      "text/html": [
       "<div>\n",
       "<style scoped>\n",
       "    .dataframe tbody tr th:only-of-type {\n",
       "        vertical-align: middle;\n",
       "    }\n",
       "\n",
       "    .dataframe tbody tr th {\n",
       "        vertical-align: top;\n",
       "    }\n",
       "\n",
       "    .dataframe thead th {\n",
       "        text-align: right;\n",
       "    }\n",
       "</style>\n",
       "<table border=\"1\" class=\"dataframe\">\n",
       "  <thead>\n",
       "    <tr style=\"text-align: right;\">\n",
       "      <th></th>\n",
       "      <th>id</th>\n",
       "      <th>document</th>\n",
       "      <th>label</th>\n",
       "    </tr>\n",
       "  </thead>\n",
       "  <tbody>\n",
       "    <tr>\n",
       "      <th>0</th>\n",
       "      <td>6270596</td>\n",
       "      <td>굳 ㅋ</td>\n",
       "      <td>1</td>\n",
       "    </tr>\n",
       "    <tr>\n",
       "      <th>1</th>\n",
       "      <td>9274899</td>\n",
       "      <td>GDNTOPCLASSINTHECLUB</td>\n",
       "      <td>0</td>\n",
       "    </tr>\n",
       "    <tr>\n",
       "      <th>2</th>\n",
       "      <td>8544678</td>\n",
       "      <td>뭐야 이 평점들은.... 나쁘진 않지만 10점 짜리는 더더욱 아니잖아</td>\n",
       "      <td>0</td>\n",
       "    </tr>\n",
       "    <tr>\n",
       "      <th>3</th>\n",
       "      <td>6825595</td>\n",
       "      <td>지루하지는 않은데 완전 막장임... 돈주고 보기에는....</td>\n",
       "      <td>0</td>\n",
       "    </tr>\n",
       "    <tr>\n",
       "      <th>4</th>\n",
       "      <td>6723715</td>\n",
       "      <td>3D만 아니었어도 별 다섯 개 줬을텐데.. 왜 3D로 나와서 제 심기를 불편하게 하죠??</td>\n",
       "      <td>0</td>\n",
       "    </tr>\n",
       "  </tbody>\n",
       "</table>\n",
       "</div>"
      ],
      "text/plain": [
       "        id                                           document  label\n",
       "0  6270596                                                굳 ㅋ      1\n",
       "1  9274899                               GDNTOPCLASSINTHECLUB      0\n",
       "2  8544678             뭐야 이 평점들은.... 나쁘진 않지만 10점 짜리는 더더욱 아니잖아      0\n",
       "3  6825595                   지루하지는 않은데 완전 막장임... 돈주고 보기에는....      0\n",
       "4  6723715  3D만 아니었어도 별 다섯 개 줬을텐데.. 왜 3D로 나와서 제 심기를 불편하게 하죠??      0"
      ]
     },
     "metadata": {},
     "output_type": "display_data"
    }
   ],
   "source": [
    "display(\"Train data\")\n",
    "display(train.head())\n",
    "display(\"Test data\")\n",
    "display(test.head())\n"
   ]
  },
  {
   "attachments": {},
   "cell_type": "markdown",
   "metadata": {},
   "source": [
    "##### 결측치 확인, 데이터 갯수 확인"
   ]
  },
  {
   "cell_type": "code",
   "execution_count": 4,
   "metadata": {},
   "outputs": [
    {
     "name": "stdout",
     "output_type": "stream",
     "text": [
      "<class 'pandas.core.frame.DataFrame'>\n",
      "RangeIndex: 150000 entries, 0 to 149999\n",
      "Data columns (total 3 columns):\n",
      " #   Column    Non-Null Count   Dtype \n",
      "---  ------    --------------   ----- \n",
      " 0   id        150000 non-null  int64 \n",
      " 1   document  149995 non-null  object\n",
      " 2   label     150000 non-null  int64 \n",
      "dtypes: int64(2), object(1)\n",
      "memory usage: 3.4+ MB\n"
     ]
    },
    {
     "data": {
      "text/plain": [
       "None"
      ]
     },
     "metadata": {},
     "output_type": "display_data"
    },
    {
     "name": "stdout",
     "output_type": "stream",
     "text": [
      "<class 'pandas.core.frame.DataFrame'>\n",
      "RangeIndex: 50000 entries, 0 to 49999\n",
      "Data columns (total 3 columns):\n",
      " #   Column    Non-Null Count  Dtype \n",
      "---  ------    --------------  ----- \n",
      " 0   id        50000 non-null  int64 \n",
      " 1   document  49997 non-null  object\n",
      " 2   label     50000 non-null  int64 \n",
      "dtypes: int64(2), object(1)\n",
      "memory usage: 1.1+ MB\n"
     ]
    },
    {
     "data": {
      "text/plain": [
       "None"
      ]
     },
     "metadata": {},
     "output_type": "display_data"
    }
   ],
   "source": [
    "display(train.info())\n",
    "display(test.info())"
   ]
  },
  {
   "attachments": {},
   "cell_type": "markdown",
   "metadata": {},
   "source": [
    "##### 결측치 데이터 삭제"
   ]
  },
  {
   "cell_type": "code",
   "execution_count": 5,
   "metadata": {},
   "outputs": [],
   "source": [
    "train.dropna(inplace=True)\n",
    "test.dropna(inplace=True)"
   ]
  },
  {
   "cell_type": "code",
   "execution_count": 6,
   "metadata": {},
   "outputs": [
    {
     "data": {
      "text/plain": [
       "((149995, 3), (49997, 3))"
      ]
     },
     "execution_count": 6,
     "metadata": {},
     "output_type": "execute_result"
    }
   ],
   "source": [
    "train.shape, test.shape"
   ]
  },
  {
   "attachments": {},
   "cell_type": "markdown",
   "metadata": {},
   "source": [
    "##### 단어빈도 분석\n",
    "- 워드 카운트 : 단어의 등장 빈도를 측정하는 알고리즘\n",
    "- 토큰화 -> 빈도수 측정 -> 정렬"
   ]
  },
  {
   "cell_type": "code",
   "execution_count": 7,
   "metadata": {},
   "outputs": [
    {
     "data": {
      "text/plain": [
       "0                                                              아 더빙.. 진짜 짜증나네요 목소리\n",
       "2                                                                너무재밓었다그래서보는것을추천한다\n",
       "3                                                    교도소 이야기구먼 ..솔직히 재미는 없다..평점 조정\n",
       "5                                    막 걸음마 뗀 3세부터 초등학교 1학년생인 8살용영화.ㅋㅋㅋ...별반개도 아까움.\n",
       "6                                                            원작의 긴장감을 제대로 살려내지못했다.\n",
       "                                            ...                                   \n",
       "149990                                                                이걸 영화라고 찎었냐?\n",
       "149992    공포나 재난영화가 아니라 아예 대놓고 비급 크리쳐개그물임ㅋㅋ 음악 완전 흥겹다ㅋ 5점정도가 적당한 거 같은데 평점이 좀 높아서ㅋㅋ\n",
       "149995                                                         인간이 문제지.. 소는 뭔죄인가..\n",
       "149997                                             이게 뭐요? 한국인은 거들먹거리고 필리핀 혼혈은 착하다?\n",
       "149999                                                    한국 영화 최초로 수간하는 내용이 담긴 영화\n",
       "Name: document, Length: 75170, dtype: object"
      ]
     },
     "execution_count": 7,
     "metadata": {},
     "output_type": "execute_result"
    }
   ],
   "source": [
    "# 부정리뷰먼 불리언색인 해보자\n",
    "negative_reviews = train[train['label']==0].copy()['document']\n",
    "negative_reviews"
   ]
  },
  {
   "cell_type": "code",
   "execution_count": 8,
   "metadata": {},
   "outputs": [
    {
     "data": {
      "text/plain": [
       "['아',\n",
       " '더빙..',\n",
       " '진짜',\n",
       " '짜증나네요',\n",
       " '목소리',\n",
       " '너무재밓었다그래서보는것을추천한다',\n",
       " '교도소',\n",
       " '이야기구먼',\n",
       " '..솔직히',\n",
       " '재미는',\n",
       " '없다..평점',\n",
       " '조정',\n",
       " '막',\n",
       " '걸음마',\n",
       " '뗀',\n",
       " '3세부터',\n",
       " '초등학교',\n",
       " '1학년생인',\n",
       " '8살용영화.ㅋㅋㅋ...별반개도',\n",
       " '아까움.',\n",
       " '원작의',\n",
       " '긴장감을',\n",
       " '제대로',\n",
       " '살려내지못했다.',\n",
       " '별',\n",
       " '반개도',\n",
       " '아깝다',\n",
       " '욕나온다',\n",
       " '이응경',\n",
       " '길용우',\n",
       " '연기생활이몇년인지..정말',\n",
       " '발로해도',\n",
       " '그것보단',\n",
       " '낫겟다',\n",
       " '납치.감금만반복반복..이드라마는',\n",
       " '가족도없다',\n",
       " '연기못하는사람만모엿네',\n",
       " '울면서',\n",
       " '손들고',\n",
       " '횡단보도',\n",
       " '건널때',\n",
       " '뛰쳐나올뻔',\n",
       " '이범수',\n",
       " '연기',\n",
       " '드럽게못해',\n",
       " '취향은',\n",
       " '존중한다지만',\n",
       " '진짜',\n",
       " '내생에',\n",
       " '극장에서',\n",
       " '본',\n",
       " '영화중',\n",
       " '가장',\n",
       " '노잼',\n",
       " '노감동임',\n",
       " '스토리도',\n",
       " '어거지고',\n",
       " '감동도',\n",
       " '어거지',\n",
       " '굿바이',\n",
       " '레닌',\n",
       " '표절인것은',\n",
       " '이해하는데',\n",
       " '왜',\n",
       " '뒤로',\n",
       " '갈수록',\n",
       " '재미없어지냐',\n",
       " '재미없다',\n",
       " '지루하고.',\n",
       " '같은',\n",
       " '음식',\n",
       " '영화인데도',\n",
       " '바베트의',\n",
       " '만찬하고',\n",
       " '넘',\n",
       " '차이남....바베트의',\n",
       " '만찬은',\n",
       " '이야기도',\n",
       " '있고',\n",
       " '음식',\n",
       " '보는재미도',\n",
       " '있는데',\n",
       " ';',\n",
       " '이건',\n",
       " '볼게없다',\n",
       " '음식도',\n",
       " '별로',\n",
       " '안나오고,',\n",
       " '핀란드',\n",
       " '풍경이라도',\n",
       " '구경할랫는데',\n",
       " '그것도',\n",
       " '별로',\n",
       " '안나옴',\n",
       " 'ㅡㅡ',\n",
       " '주제는',\n",
       " '좋은데',\n",
       " '중반부터',\n",
       " '지루하다',\n",
       " '다',\n",
       " '짤랐을꺼야.',\n",
       " '그래서',\n",
       " '납득할',\n",
       " '수',\n",
       " '없었던거야..',\n",
       " '그럴꺼야..',\n",
       " '꼭',\n",
       " '그랬던걸꺼야..',\n",
       " '카밀라벨',\n",
       " '발연기',\n",
       " '졸쓰레기',\n",
       " '진부하고말도안됌ㅋㅋ',\n",
       " '아..시간아까워',\n",
       " '1%라도',\n",
       " '기대했던',\n",
       " '내가',\n",
       " '죄인입니다',\n",
       " '죄인입니다....',\n",
       " '키이라',\n",
       " '나이틀리가',\n",
       " '연기하고자',\n",
       " '했던건',\n",
       " '대체',\n",
       " '정신장애일까',\n",
       " '틱장애일까',\n",
       " '포스터는',\n",
       " '있어보이는데',\n",
       " '관객은',\n",
       " '114명이네',\n",
       " \"'다\",\n",
       " '알바생인가',\n",
       " '내용도',\n",
       " '없고',\n",
       " '무서운거도',\n",
       " '없고',\n",
       " '웃긴거도',\n",
       " '하나도',\n",
       " '없음',\n",
       " '완전',\n",
       " '별싱거운',\n",
       " '영화.ㅇ.ㅇ내ㅇ시간',\n",
       " '넘',\n",
       " '아까움',\n",
       " '..',\n",
       " '.',\n",
       " '완전',\n",
       " '낚임',\n",
       " '평점에속지마시길시간낭비',\n",
       " '돈낭비임',\n",
       " '리얼리티가',\n",
       " '뛰어나긴',\n",
       " '한데',\n",
       " '큰',\n",
       " '공감은',\n",
       " '안간다.',\n",
       " '이민기캐릭터는',\n",
       " '정신의학상',\n",
       " '분노조절장애',\n",
       " '초기',\n",
       " '증상일거다.',\n",
       " '툭하면',\n",
       " '사람패고',\n",
       " '욕하고',\n",
       " '물건',\n",
       " '파손하고..',\n",
       " '조금',\n",
       " '오바였음.',\n",
       " '극',\n",
       " '초반엔',\n",
       " '신선했는데',\n",
       " '가면',\n",
       " '갈수록',\n",
       " '이민기',\n",
       " '정신상태',\n",
       " '공감불가.',\n",
       " '마이너스는',\n",
       " '왜없냐',\n",
       " 'ㅋ',\n",
       " '뮤비',\n",
       " '보고',\n",
       " '영화수준',\n",
       " '딱',\n",
       " '알만하더군',\n",
       " 'ㅉㅉ',\n",
       " '북한에서',\n",
       " '이런거',\n",
       " '만들라고',\n",
       " '돈',\n",
       " '대주던?',\n",
       " '난',\n",
       " '우리영화를',\n",
       " '사랑합니다....^^;',\n",
       " '야',\n",
       " '세르게이!',\n",
       " '작은고추의',\n",
       " '매운맛을',\n",
       " '보여주마!',\n",
       " '포퐁저그',\n",
       " '콩진호가',\n",
       " '간다',\n",
       " '난또',\n",
       " '저',\n",
       " '꼬마애가',\n",
       " '무슨',\n",
       " '원한이',\n",
       " '깊길래.,.',\n",
       " '했더니',\n",
       " 'OO',\n",
       " '그냥',\n",
       " '혼자',\n",
       " '나대다',\n",
       " 'OO걸',\n",
       " '어쩌라고.',\n",
       " '최고',\n",
       " '심심한영화.',\n",
       " '보는내내',\n",
       " '그대로',\n",
       " '들어맞는',\n",
       " '예측',\n",
       " '카리스마',\n",
       " '없는',\n",
       " '악역',\n",
       " '불알이',\n",
       " '나와서',\n",
       " '당황...아무튼',\n",
       " '영화가',\n",
       " '중간에',\n",
       " '끝나는',\n",
       " '느낌',\n",
       " '평범함속에',\n",
       " '녹아든',\n",
       " '평범한',\n",
       " '일상.',\n",
       " '조금',\n",
       " '밋밋한게',\n",
       " '흠.',\n",
       " '보던거라',\n",
       " '계속보고있는데',\n",
       " '전개도',\n",
       " '느리고',\n",
       " '주인공인',\n",
       " '은희는',\n",
       " '한두컷',\n",
       " '나오면서',\n",
       " '소극적인모습에',\n",
       " '짜증이',\n",
       " 'ㅜㅜ',\n",
       " '맨날',\n",
       " '언제끝나나',\n",
       " '기대만하고있어요',\n",
       " '전개좀',\n",
       " '빨리빨리',\n",
       " 'ㅜㅜ',\n",
       " '예전',\n",
       " '작품',\n",
       " '캐릭터,',\n",
       " '에피소드',\n",
       " '재탕',\n",
       " '삼탕',\n",
       " '사골우려먹듯',\n",
       " '우리고',\n",
       " '내용은',\n",
       " '산으로',\n",
       " '가고',\n",
       " '시청률은',\n",
       " '아예안나오고',\n",
       " '이제',\n",
       " '70회중반인데',\n",
       " '120부작이라니',\n",
       " '...',\n",
       " '김남길의',\n",
       " '백점짜리',\n",
       " '연기력과',\n",
       " '초반',\n",
       " '몰입도에도',\n",
       " '불구하고',\n",
       " '지루하고',\n",
       " '손예진',\n",
       " 'ㅈㅈ',\n",
       " '노래실력으로뽑는게',\n",
       " '맞냐?',\n",
       " '박시환이',\n",
       " 'mama나가면',\n",
       " '진짜',\n",
       " '망신이다',\n",
       " '아',\n",
       " '일본영화',\n",
       " '다이런건가??',\n",
       " '유치하다',\n",
       " '졸작',\n",
       " '어설픈',\n",
       " '전개',\n",
       " '어이없는',\n",
       " '결말',\n",
       " '부패한',\n",
       " '로마노프',\n",
       " '왕조를',\n",
       " '기리는',\n",
       " '뭣같은',\n",
       " '영화...',\n",
       " '온몸으로',\n",
       " '항거했던',\n",
       " '러시아',\n",
       " '민중들이',\n",
       " '그저',\n",
       " '폭도냐',\n",
       " '매우',\n",
       " '실망.....',\n",
       " '한국영화',\n",
       " '흥행코드:',\n",
       " '갈등-갈등-계~에속',\n",
       " '갈등-화해-감동-',\n",
       " '평점',\n",
       " '10점',\n",
       " '남발-',\n",
       " '흥행',\n",
       " '뻔하지',\n",
       " '뭐...',\n",
       " '뭐냐..시작하고',\n",
       " '3분만에',\n",
       " '나왔다.',\n",
       " '리플릿',\n",
       " '사진',\n",
       " '보며',\n",
       " '불안하더니만..',\n",
       " '감독이',\n",
       " '럼먹고',\n",
       " '영화를',\n",
       " '만들었나보다..',\n",
       " '관객에게',\n",
       " '뭘',\n",
       " '말하는지도',\n",
       " '모르겠고,',\n",
       " '엉망진창',\n",
       " '개진창이다.',\n",
       " '이건',\n",
       " '뭐냐?',\n",
       " '우뢰매냐?',\n",
       " ';;;',\n",
       " '정말쓰레기영화입니다',\n",
       " '별루',\n",
       " '였다..',\n",
       " '성룡영화중',\n",
       " '최악인듯',\n",
       " 'ㅋㅋ',\n",
       " '클라라볼라고화신본거아닌데',\n",
       " '재미없음',\n",
       " '진심',\n",
       " '1이훨나',\n",
       " '캐스팅두못한듯',\n",
       " '감독님들',\n",
       " '고은님',\n",
       " '쓰면',\n",
       " '영화안봅니다',\n",
       " '.',\n",
       " '무섭지도',\n",
       " '않았고',\n",
       " '스토리도',\n",
       " '..ㅡㅡ',\n",
       " '영화속',\n",
       " '억지스럽고',\n",
       " '노골적인',\n",
       " '술광고를',\n",
       " '좀',\n",
       " '은은하고',\n",
       " '센스있게',\n",
       " '했으면',\n",
       " '어땠을까?',\n",
       " '킬링타임',\n",
       " '태어나서',\n",
       " '처음으로',\n",
       " '영화보다',\n",
       " '중간에',\n",
       " '나왔습니다,,,,불륜이',\n",
       " '로맨스냐,,',\n",
       " '왕짜증.....아주',\n",
       " '전개를',\n",
       " '짬뽕으로',\n",
       " '믹스했구나...음향만',\n",
       " '무섭게하네..하아',\n",
       " '솔직히',\n",
       " '난',\n",
       " '별루더라',\n",
       " '시간낭비느낌',\n",
       " '내용이',\n",
       " '이상해;',\n",
       " '내용전개가',\n",
       " '너무나',\n",
       " '느리다........',\n",
       " '소재는',\n",
       " '흥미를',\n",
       " '끌지만',\n",
       " '이야기',\n",
       " '전개가',\n",
       " '투박해서',\n",
       " '몰입이',\n",
       " '안되는군',\n",
       " '절대',\n",
       " '보지마라',\n",
       " '쓰레기',\n",
       " '영화',\n",
       " '중국인',\n",
       " '특유의',\n",
       " '과장,',\n",
       " '허풍...',\n",
       " '있어보이려고',\n",
       " '안간힘',\n",
       " '쓴',\n",
       " '노력은',\n",
       " '가상하나,',\n",
       " '고증과',\n",
       " '현실감',\n",
       " '떨어지는',\n",
       " '설정이',\n",
       " '거북스럽다...',\n",
       " '도대체',\n",
       " '그들은',\n",
       " '왜',\n",
       " '이렇게까지',\n",
       " '스스로를',\n",
       " '과대포장하는',\n",
       " '것인지...',\n",
       " '그냥',\n",
       " '불법체류자',\n",
       " '때려잡는',\n",
       " '영화면',\n",
       " '좋았을텐데...무슨',\n",
       " '우상화를',\n",
       " '만든다고',\n",
       " '미국의',\n",
       " '따뜻한',\n",
       " '설정...이건',\n",
       " '뭥미??',\n",
       " '별로다.',\n",
       " '아니',\n",
       " '이게',\n",
       " '왜',\n",
       " '9점대',\n",
       " '일까...;;;',\n",
       " '올레에',\n",
       " '공짜로있길래',\n",
       " '봤음',\n",
       " 'ㅋㅋ',\n",
       " '헐',\n",
       " '...',\n",
       " '스토리가',\n",
       " '문제가아니라',\n",
       " '연기자들이',\n",
       " '전혀',\n",
       " '배역이랑',\n",
       " '어울리지않음',\n",
       " '그리고',\n",
       " '상대배우들하고',\n",
       " '다',\n",
       " '따로',\n",
       " '노는거같음~~',\n",
       " '이건',\n",
       " '연기자들도',\n",
       " '문제있음',\n",
       " '보아는',\n",
       " '진심',\n",
       " '완전',\n",
       " '별로임',\n",
       " '라미란하고',\n",
       " '아들이',\n",
       " '젤',\n",
       " '볼만했음',\n",
       " '너무',\n",
       " '욕심이',\n",
       " '많았던',\n",
       " '영화.',\n",
       " '어느',\n",
       " '한',\n",
       " '쪽만이라도',\n",
       " '제대로',\n",
       " '보여줬다면......',\n",
       " '아',\n",
       " '빵점~',\n",
       " '아주',\n",
       " '모자라진',\n",
       " '않다.',\n",
       " '영화',\n",
       " '도둑들이나',\n",
       " '뫼비우스',\n",
       " '하고',\n",
       " '같은',\n",
       " '나라에서',\n",
       " '만들어졌다는게',\n",
       " '믿어지냐..?',\n",
       " '케이블에서',\n",
       " '그만',\n",
       " '나와줬으면',\n",
       " '-',\n",
       " '-',\n",
       " '다르덴,이냐리투,차이밍량이',\n",
       " '하나도',\n",
       " '안섞인채',\n",
       " '짬뽕',\n",
       " '그릇에',\n",
       " '담겨있다.',\n",
       " '여군',\n",
       " '잼없음',\n",
       " '뭐하는건지',\n",
       " '...ㅡㅡ잼없음',\n",
       " '엠비씨',\n",
       " '다잼없음',\n",
       " '질린다이제',\n",
       " '한석규,',\n",
       " '김혜수',\n",
       " '연기만',\n",
       " '돋보인',\n",
       " '영화.',\n",
       " '어딘지',\n",
       " '모르게',\n",
       " '많이',\n",
       " '어설픈',\n",
       " '영화.',\n",
       " '볼만해;',\n",
       " '재미있다고',\n",
       " '허풍',\n",
       " '떨지',\n",
       " '마세요',\n",
       " '용가리',\n",
       " '진짜짱짱맨이다ㅋ',\n",
       " '작가가별로다',\n",
       " '내용이진짜별로임..',\n",
       " '맨날그냥기대하고',\n",
       " '재방송하면',\n",
       " '혹시나하고봐줘도',\n",
       " '답없다진짜..',\n",
       " '그만좀',\n",
       " '끌고',\n",
       " '이제',\n",
       " '끝내라.',\n",
       " '지겹다',\n",
       " '지겨워.',\n",
       " '아',\n",
       " '정말',\n",
       " '실망',\n",
       " '스러웟음..',\n",
       " '배우들은',\n",
       " '지네들',\n",
       " '안뜨니까',\n",
       " '이런영화',\n",
       " '찍을껀데???',\n",
       " '왜',\n",
       " '안뜨는지',\n",
       " '진짜',\n",
       " '모르는거야?',\n",
       " '면상',\n",
       " '딱',\n",
       " '보면',\n",
       " '알겠구만...',\n",
       " '왜',\n",
       " '지네',\n",
       " '자신들은',\n",
       " '모를까?',\n",
       " '어린이가',\n",
       " '좋아할듯...내어릴적',\n",
       " '동심은',\n",
       " '멀리',\n",
       " '떠낫나보다.',\n",
       " '무술인이',\n",
       " '왜',\n",
       " '총을드나?',\n",
       " '평점조절위원회에서',\n",
       " '나왔습니다(웃음)김혜선은',\n",
       " '@내일이',\n",
       " '오면@의',\n",
       " '김순정,순정이',\n",
       " '역할이',\n",
       " '제일이다.팜므파탈로써,그',\n",
       " '정도까지',\n",
       " '잘해낼',\n",
       " '줄은,정말',\n",
       " '의외였어...연기20년',\n",
       " '한사람에게',\n",
       " '요즘',\n",
       " '사극에서',\n",
       " '벌어지고',\n",
       " '있는,그녀에',\n",
       " '대한',\n",
       " '연기논란은',\n",
       " '왠지',\n",
       " '코미디의한장면',\n",
       " '같음(웃음)',\n",
       " '소파에',\n",
       " '죽',\n",
       " '치고',\n",
       " '앉아',\n",
       " '지켜',\n",
       " '볼',\n",
       " '이유가',\n",
       " '없는',\n",
       " '작품.',\n",
       " '주된',\n",
       " '타겟이',\n",
       " '어린이니',\n",
       " '일반적인',\n",
       " '논리가',\n",
       " '통하지',\n",
       " '않는',\n",
       " '건',\n",
       " '알겠다.',\n",
       " '하지만',\n",
       " '게임은',\n",
       " '흥미롭지',\n",
       " '않고,',\n",
       " '요원이라는',\n",
       " '주인공이',\n",
       " '너무',\n",
       " '무능력해서',\n",
       " '별로',\n",
       " '재미없다.',\n",
       " 'CG',\n",
       " '배경도',\n",
       " '거슬린다.',\n",
       " '뮤지컬',\n",
       " '영화인데',\n",
       " '사운드',\n",
       " '녹음',\n",
       " '엉망,',\n",
       " '남주는',\n",
       " '춤도',\n",
       " '못추고,',\n",
       " '내용은',\n",
       " '뻔할뻔,',\n",
       " '주인공들',\n",
       " '목소리도',\n",
       " '너무',\n",
       " '안어울리고',\n",
       " '어제',\n",
       " 'CGV에서',\n",
       " '뛰어',\n",
       " '나가려다',\n",
       " '참았습니다.진심',\n",
       " '말리고',\n",
       " '싶습니다.',\n",
       " '영국의',\n",
       " '저예산',\n",
       " 'DVD용',\n",
       " '영화뮤지컬영화',\n",
       " '아닙니다.',\n",
       " '맘마미아',\n",
       " '1/10도',\n",
       " '안됨',\n",
       " '게이물인줄',\n",
       " '모르고',\n",
       " '봤네...',\n",
       " '알바는꺼저라',\n",
       " '이',\n",
       " '영화',\n",
       " '머임????내가',\n",
       " '왜',\n",
       " '받아',\n",
       " '봤을까?',\n",
       " '그것이',\n",
       " '알고싶다....이',\n",
       " '영화는',\n",
       " '배우들과',\n",
       " '스텝들이',\n",
       " '감독의',\n",
       " '꼭두각시였음.',\n",
       " '4대2라니....최악',\n",
       " '정말',\n",
       " '짜증의',\n",
       " '극치를',\n",
       " '보여주는영화.',\n",
       " '굉장히',\n",
       " '언밸러스한',\n",
       " '느낌.',\n",
       " '뚱뚱하고',\n",
       " '못생긴',\n",
       " '남자애의',\n",
       " '발연기를',\n",
       " '시종일관',\n",
       " '봐야하는게',\n",
       " '고역인듯.',\n",
       " '간간히',\n",
       " '흘러나오는',\n",
       " '잔잔한',\n",
       " '클래식풍의',\n",
       " '음악조차도',\n",
       " '듣기싫어',\n",
       " '짜증날정도로',\n",
       " '상당히',\n",
       " '싫은영화.',\n",
       " '별점',\n",
       " '주기도',\n",
       " '아깝네요',\n",
       " '얼마나',\n",
       " '내용이',\n",
       " '진부한지',\n",
       " '욕',\n",
       " '밖에',\n",
       " '안나오네요보고',\n",
       " '재밌다고',\n",
       " '하는',\n",
       " '사람',\n",
       " '초딩들인가요',\n",
       " '죄송해요',\n",
       " '너무',\n",
       " '화가나서.아무',\n",
       " '것도',\n",
       " '볼게',\n",
       " '없습니다',\n",
       " '보지',\n",
       " '마세요',\n",
       " '그냥',\n",
       " '티비판짜집기',\n",
       " '한거',\n",
       " '같네요',\n",
       " '나',\n",
       " '왠만해서',\n",
       " '짜증안내는데...-_-',\n",
       " '돼지피먹고',\n",
       " '닭목따는',\n",
       " '장면에선',\n",
       " '우웩~',\n",
       " '역시',\n",
       " '무당은',\n",
       " '아무나',\n",
       " '하는게',\n",
       " '아니다.',\n",
       " '버려',\n",
       " '유치하고',\n",
       " '지루하고',\n",
       " '잠이',\n",
       " '왔다',\n",
       " '3류풍',\n",
       " '판타지',\n",
       " '3점만',\n",
       " '가져가',\n",
       " '윤종신',\n",
       " '복귀는',\n",
       " '좋았지만',\n",
       " '이하늘은',\n",
       " '도대체',\n",
       " '왜',\n",
       " '뽑혔는지',\n",
       " '알수가없다.',\n",
       " '참가자',\n",
       " '실력을',\n",
       " '따지기',\n",
       " '전에',\n",
       " '심사위원',\n",
       " '인격과',\n",
       " '실력부터',\n",
       " '쌓고',\n",
       " '오시길^^',\n",
       " '어하어허',\n",
       " '그만좀',\n",
       " '하고요',\n",
       " '기존',\n",
       " '멜로영화',\n",
       " '형식을',\n",
       " '탈피하려고',\n",
       " '하였으나',\n",
       " '감정의',\n",
       " '절제가',\n",
       " '지나쳐',\n",
       " '너무',\n",
       " '담백한',\n",
       " '영화',\n",
       " '이게',\n",
       " '14년도에',\n",
       " '만들어진건가요?',\n",
       " '아니면',\n",
       " '예전에',\n",
       " '만든거',\n",
       " '다시개봉한건가요?ㅠ너무',\n",
       " '허접해요',\n",
       " 'ㅠ',\n",
       " '개콘은',\n",
       " '요즘',\n",
       " '갈수록',\n",
       " '코너들이',\n",
       " '다노잼이고',\n",
       " '웃음이안난다',\n",
       " '후세와',\n",
       " '사랑하게된',\n",
       " '결정적',\n",
       " '계기',\n",
       " '그시간이',\n",
       " '표현되지',\n",
       " '않았으며',\n",
       " '시람의',\n",
       " '생명을',\n",
       " '빼앗아야만하는이유등을',\n",
       " '시노가',\n",
       " '출현하는',\n",
       " '연극으',\n",
       " '로',\n",
       " '더',\n",
       " '알려주었으면',\n",
       " '하는',\n",
       " '생각이든다.',\n",
       " '또한',\n",
       " '시노가',\n",
       " '얼마나',\n",
       " '본능을절제히면서',\n",
       " '시랑을',\n",
       " '하려고',\n",
       " '노력하는지를',\n",
       " '더',\n",
       " '보여줬다면',\n",
       " '좋았을뻔했다',\n",
       " '새벽시간에',\n",
       " '하는',\n",
       " '일본',\n",
       " '영화들은',\n",
       " '전부',\n",
       " '개졸작이다.일본영화원래',\n",
       " '다이래??',\n",
       " '강수연의',\n",
       " '나가있어~!그리고',\n",
       " '최정원의',\n",
       " '신음신~',\n",
       " '가발',\n",
       " '쓰고',\n",
       " '싶다',\n",
       " '10대들을',\n",
       " '위한',\n",
       " '성적',\n",
       " '호기심',\n",
       " '영화?',\n",
       " '이거',\n",
       " '응답하라에서',\n",
       " '은지원원도',\n",
       " '스스로',\n",
       " '욕하지',\n",
       " '않앗나?',\n",
       " 'ㅋㅋㅋㅋ',\n",
       " '구성이',\n",
       " '상당히',\n",
       " '부실한',\n",
       " '영화.',\n",
       " '역시',\n",
       " '네이버',\n",
       " '평점은',\n",
       " '믿을수',\n",
       " '없다.',\n",
       " '장끌로드의',\n",
       " '몰락을',\n",
       " '가져온',\n",
       " '오우삼',\n",
       " '헐리우드',\n",
       " '작품중',\n",
       " '가장',\n",
       " '재미없었던',\n",
       " '졸작',\n",
       " '언제적',\n",
       " '영웅본색',\n",
       " '연출인지',\n",
       " '현실성',\n",
       " '제로인',\n",
       " '영화',\n",
       " '진심',\n",
       " '재미',\n",
       " '없는데',\n",
       " '너무',\n",
       " '평점',\n",
       " '높아서',\n",
       " '화남;',\n",
       " '더럽게',\n",
       " '재미없다',\n",
       " '어떤',\n",
       " '형태로도',\n",
       " '와',\n",
       " '닿지',\n",
       " '않는',\n",
       " '허무하고',\n",
       " '완벽히',\n",
       " '지루한',\n",
       " '영화고',\n",
       " '영양가',\n",
       " '하나도',\n",
       " '없는',\n",
       " '영화다',\n",
       " '판의미로와',\n",
       " '동급',\n",
       " 'trash',\n",
       " 'of',\n",
       " 'the',\n",
       " 'trash',\n",
       " '코믹한건',\n",
       " '좋았는데',\n",
       " '짜임새가',\n",
       " '너무',\n",
       " '허술하다',\n",
       " '하..진짜',\n",
       " '댓글보고',\n",
       " '한번쯤볼만한',\n",
       " '영화인거같아서봤지만',\n",
       " '기가찬다..이게무슨버킷리스트인가!',\n",
       " '죽기직전에',\n",
       " '소원들어주기?',\n",
       " '내가보기엔',\n",
       " '죽기직전에',\n",
       " '막',\n",
       " '살자',\n",
       " '인거같다.',\n",
       " '감동도없고..',\n",
       " '진짜',\n",
       " \"'버킷리스트'\",\n",
       " '란',\n",
       " '영화에',\n",
       " '발톱에',\n",
       " '때만큼도',\n",
       " '못따라가는쓰레기영화..',\n",
       " '완존실망..',\n",
       " '이시간좀...밝고긍정적인드라마보고싶어서..보긴보는데....오버하는연기들이거슬리네요...연기인게너무표나요....홍혜정역이그나마도후련기도하고시원하고.....나머진다들답답하네요...낼월요일인데...해피한것만보고싶네요....',\n",
       " '정치인의',\n",
       " '모순인가,',\n",
       " '정치범의',\n",
       " '모순인가....',\n",
       " '좀',\n",
       " '어렵기도',\n",
       " '하고,',\n",
       " '전쟁에',\n",
       " '대한',\n",
       " '묘사가...',\n",
       " '잘',\n",
       " '모르겠다.',\n",
       " '일본에서10주년',\n",
       " '극장판만드는데',\n",
       " '우리나라에선',\n",
       " '10주년으로',\n",
       " '재개봉하니이건',\n",
       " '좀',\n",
       " 'ㅄ',\n",
       " '아님?',\n",
       " '한대희가',\n",
       " '개그콘서트본다고',\n",
       " '내전화끊음개그콘서트',\n",
       " '없애주세요',\n",
       " 'ㅡㅡ',\n",
       " '한물',\n",
       " '간',\n",
       " '동서양',\n",
       " '두',\n",
       " '배우의',\n",
       " '싸움판.',\n",
       " '푸하하하',\n",
       " '이거',\n",
       " '기대',\n",
       " '안했지만..',\n",
       " '역시나',\n",
       " '구만..ㅋ',\n",
       " '엄마는',\n",
       " '무고한',\n",
       " '지',\n",
       " '딸을',\n",
       " '감옥살이',\n",
       " '시켜시켜?',\n",
       " '이해',\n",
       " '안돼요',\n",
       " '이영화는.제발',\n",
       " '책을보세여.감독이',\n",
       " '미친겁니다.이따위로',\n",
       " '만들어놓고.화가',\n",
       " '날정도',\n",
       " 'ㅡㅡ',\n",
       " '신나는',\n",
       " '흑인음악과',\n",
       " '아이스',\n",
       " '큐브',\n",
       " '뿐',\n",
       " '남는게',\n",
       " '없다',\n",
       " '드럽게',\n",
       " '재미없네',\n",
       " '시간이',\n",
       " '돈이다?',\n",
       " '내',\n",
       " '시간은',\n",
       " '어쩔건데',\n",
       " '옥소리',\n",
       " '프로필',\n",
       " '사진에',\n",
       " '1점남기고',\n",
       " '갑니다',\n",
       " 'ㅋㅋㅋㅋㅋㅋㅋㅋㅋㅋㅋㅋㅋㅋ완전',\n",
       " '대박이다',\n",
       " '진짜',\n",
       " '아우',\n",
       " '짜증나!',\n",
       " '콩은',\n",
       " '까야',\n",
       " '제맛',\n",
       " '콩은',\n",
       " '까야',\n",
       " '제맛',\n",
       " '이적의',\n",
       " '소설.',\n",
       " '재미없다.',\n",
       " '액션영화가',\n",
       " '아니다.범죄',\n",
       " '느와르',\n",
       " '영화다.',\n",
       " ...]"
      ]
     },
     "execution_count": 8,
     "metadata": {},
     "output_type": "execute_result"
    }
   ],
   "source": [
    "# 토큰화\n",
    "token_list = [t for doc in negative_reviews for t in doc.split(\" \")]\n",
    "token_list"
   ]
  },
  {
   "cell_type": "code",
   "execution_count": 9,
   "metadata": {},
   "outputs": [],
   "source": [
    "# Counter 활용 단어빈도 측정\n",
    "from collections import Counter"
   ]
  },
  {
   "cell_type": "code",
   "execution_count": 10,
   "metadata": {},
   "outputs": [],
   "source": [
    "counter = Counter(token_list)"
   ]
  },
  {
   "cell_type": "code",
   "execution_count": 11,
   "metadata": {},
   "outputs": [
    {
     "data": {
      "text/plain": [
       "[('영화', 5245),\n",
       " ('너무', 3887),\n",
       " ('진짜', 3044),\n",
       " ('정말', 2500),\n",
       " ('그냥', 2384),\n",
       " ('이', 2257),\n",
       " ('왜', 2184),\n",
       " ('이런', 1867),\n",
       " ('영화.', 1662),\n",
       " ('다', 1553),\n",
       " ('좀', 1532),\n",
       " ('이건', 1463),\n",
       " ('더', 1444),\n",
       " ('영화는', 1413),\n",
       " ('영화를', 1329),\n",
       " ('영화가', 1261),\n",
       " ('쓰레기', 1234),\n",
       " ('이게', 1232),\n",
       " ('없는', 1225),\n",
       " ('내가', 1081),\n",
       " ('평점', 1078),\n",
       " ('이렇게', 1034),\n",
       " ('그', 1026),\n",
       " ('보고', 968),\n",
       " ('이거', 960),\n",
       " ('수', 894),\n",
       " ('없고', 887),\n",
       " ('본', 854),\n",
       " ('무슨', 842),\n",
       " ('완전', 830),\n",
       " ('보는', 811),\n",
       " ('ㅋㅋ', 809),\n",
       " ('최악의', 806),\n",
       " ('봤는데', 723),\n",
       " ('잘', 709),\n",
       " ('아', 704),\n",
       " ('뭐', 700),\n",
       " ('많이', 692),\n",
       " ('평점이', 682),\n",
       " ('내', 678)]"
      ]
     },
     "execution_count": 11,
     "metadata": {},
     "output_type": "execute_result"
    }
   ],
   "source": [
    "# 빈도가 높은 것 확인\n",
    "counter.most_common(40)"
   ]
  },
  {
   "attachments": {},
   "cell_type": "markdown",
   "metadata": {},
   "source": [
    "##### 워드 클라우드 시각화"
   ]
  },
  {
   "cell_type": "code",
   "execution_count": 12,
   "metadata": {},
   "outputs": [
    {
     "name": "stdout",
     "output_type": "stream",
     "text": [
      "Requirement already satisfied: wordcloud in c:\\users\\smhrd\\anaconda3\\lib\\site-packages (1.9.1.1)\n",
      "Requirement already satisfied: numpy>=1.6.1 in c:\\users\\smhrd\\anaconda3\\lib\\site-packages (from wordcloud) (1.21.5)\n",
      "Requirement already satisfied: pillow in c:\\users\\smhrd\\anaconda3\\lib\\site-packages (from wordcloud) (9.2.0)\n",
      "Requirement already satisfied: matplotlib in c:\\users\\smhrd\\anaconda3\\lib\\site-packages (from wordcloud) (3.5.2)\n",
      "Requirement already satisfied: fonttools>=4.22.0 in c:\\users\\smhrd\\anaconda3\\lib\\site-packages (from matplotlib->wordcloud) (4.25.0)\n",
      "Requirement already satisfied: cycler>=0.10 in c:\\users\\smhrd\\anaconda3\\lib\\site-packages (from matplotlib->wordcloud) (0.11.0)\n",
      "Requirement already satisfied: pyparsing>=2.2.1 in c:\\users\\smhrd\\anaconda3\\lib\\site-packages (from matplotlib->wordcloud) (3.0.9)\n",
      "Requirement already satisfied: python-dateutil>=2.7 in c:\\users\\smhrd\\anaconda3\\lib\\site-packages (from matplotlib->wordcloud) (2.8.2)\n",
      "Requirement already satisfied: kiwisolver>=1.0.1 in c:\\users\\smhrd\\anaconda3\\lib\\site-packages (from matplotlib->wordcloud) (1.4.2)\n",
      "Requirement already satisfied: packaging>=20.0 in c:\\users\\smhrd\\anaconda3\\lib\\site-packages (from matplotlib->wordcloud) (21.3)\n",
      "Requirement already satisfied: six>=1.5 in c:\\users\\smhrd\\anaconda3\\lib\\site-packages (from python-dateutil>=2.7->matplotlib->wordcloud) (1.16.0)\n"
     ]
    }
   ],
   "source": [
    "!pip install wordcloud"
   ]
  },
  {
   "cell_type": "code",
   "execution_count": 13,
   "metadata": {},
   "outputs": [],
   "source": [
    "from wordcloud import WordCloud"
   ]
  },
  {
   "cell_type": "code",
   "execution_count": 18,
   "metadata": {},
   "outputs": [],
   "source": [
    "wc = WordCloud(background_color=\"white\", # 배경을 하얀색으로 설정\n",
    "               font_path=\"C:\\Windows\\Fonts\\malgunsl.ttf\", # 한글 폰트 설정\n",
    "               random_state=504)"
   ]
  },
  {
   "cell_type": "code",
   "execution_count": 19,
   "metadata": {},
   "outputs": [],
   "source": [
    "freq = counter.most_common(40)\n",
    "cloud_rs = wc.generate_from_frequencies(dict(freq))"
   ]
  },
  {
   "cell_type": "code",
   "execution_count": 20,
   "metadata": {},
   "outputs": [],
   "source": [
    "import matplotlib.pyplot as plt"
   ]
  },
  {
   "cell_type": "code",
   "execution_count": 21,
   "metadata": {},
   "outputs": [
    {
     "data": {
      "image/png": "[encoded data removed]",
      "text/plain": [
       "<Figure size 2000x800 with 1 Axes>"
      ]
     },
     "metadata": {},
     "output_type": "display_data"
    }
   ],
   "source": [
    "plt.figure(figsize=(20,8))\n",
    "plt.imshow(cloud_rs)\n",
    "plt.axis(\"off\") # x축, y축 끄기\n",
    "plt.show()"
   ]
  },
  {
   "attachments": {},
   "cell_type": "markdown",
   "metadata": {},
   "source": [
    "#### 감성분석\n",
    "- 감성사전을 이용한 분석\n",
    "- 머신러닝 기반의 감성분석\n",
    "    1. 토큰화\n",
    "    2. 피쳐 백터화 ( BOW / tf-idf )\n",
    "    3. 학습 및 평가"
   ]
  },
  {
   "attachments": {},
   "cell_type": "markdown",
   "metadata": {},
   "source": [
    "##### BOW\n",
    "- 진행순서\n",
    "    1. 단어를 토큰화 한다.\n",
    "    2. 고유한 토큰을 정리한다.\n",
    "    3. 각 document별로 토큰의 등장 횟수를 센다.\n",
    "- 문맥의 순서를 고려하지 않는 방법\n",
    "- 문맥의 순서자 고려되지 않아 자연어처리에서는 부적합\n",
    "- 하지만 일반 텍스트 마이닝에서는 활용가치가 충분하다."
   ]
  },
  {
   "cell_type": "code",
   "execution_count": 29,
   "metadata": {},
   "outputs": [],
   "source": [
    "from sklearn.feature_extraction.text import CountVectorizer"
   ]
  },
  {
   "cell_type": "code",
   "execution_count": 30,
   "metadata": {},
   "outputs": [],
   "source": [
    "sample_txt = [\"나는 오늘 사과를 먹었다\", \"나는 어제 바나나를 먹었다\", \"너는 오늘 사과를 먹었다\"]"
   ]
  },
  {
   "cell_type": "code",
   "execution_count": 31,
   "metadata": {},
   "outputs": [],
   "source": [
    "cv_test = CountVectorizer()"
   ]
  },
  {
   "cell_type": "code",
   "execution_count": 32,
   "metadata": {},
   "outputs": [
    {
     "data": {
      "text/plain": [
       "CountVectorizer()"
      ]
     },
     "execution_count": 32,
     "metadata": {},
     "output_type": "execute_result"
    }
   ],
   "source": [
    "# 띄어쓰기 중심으로 토큰화\n",
    "# 고유한 토큰만 남겨서 단어사전을 구축\n",
    "cv_test.fit(sample_txt)"
   ]
  },
  {
   "cell_type": "code",
   "execution_count": 33,
   "metadata": {},
   "outputs": [
    {
     "data": {
      "text/plain": [
       "{'나는': 0, '오늘': 6, '사과를': 4, '먹었다': 2, '어제': 5, '바나나를': 3, '너는': 1}"
      ]
     },
     "execution_count": 33,
     "metadata": {},
     "output_type": "execute_result"
    }
   ],
   "source": [
    "cv_test.vocabulary_\n",
    "# 단어사전 구축"
   ]
  },
  {
   "cell_type": "code",
   "execution_count": 34,
   "metadata": {},
   "outputs": [],
   "source": [
    "# 구축된 단어사전을 기반으로 숫자로 변경\n",
    "sample_txt_transformed =cv_test.transform(sample_txt)"
   ]
  },
  {
   "cell_type": "code",
   "execution_count": 37,
   "metadata": {},
   "outputs": [
    {
     "data": {
      "text/plain": [
       "<3x7 sparse matrix of type '<class 'numpy.int64'>'\n",
       "\twith 12 stored elements in Compressed Sparse Row format>"
      ]
     },
     "execution_count": 37,
     "metadata": {},
     "output_type": "execute_result"
    }
   ],
   "source": [
    "# 단어사전이 길어지면 0이 너무 많아 불필요한 공간(메모리)을 차지하게 된다.\n",
    "# 희소행렬 표기법을 이용해서 데이터를 압축한다.\n",
    "sample_txt_transformed"
   ]
  },
  {
   "cell_type": "code",
   "execution_count": 38,
   "metadata": {},
   "outputs": [
    {
     "data": {
      "text/plain": [
       "array([[1, 0, 1, 0, 1, 0, 1],\n",
       "       [1, 0, 1, 1, 0, 1, 0],\n",
       "       [0, 1, 1, 0, 1, 0, 1]], dtype=int64)"
      ]
     },
     "execution_count": 38,
     "metadata": {},
     "output_type": "execute_result"
    }
   ],
   "source": [
    "# 원래 데이터 형태로 보여준다\n",
    "sample_txt_transformed.toarray()"
   ]
  },
  {
   "cell_type": "code",
   "execution_count": 39,
   "metadata": {},
   "outputs": [
    {
     "data": {
      "text/plain": [
       "CountVectorizer()"
      ]
     },
     "execution_count": 39,
     "metadata": {},
     "output_type": "execute_result"
    }
   ],
   "source": [
    "# 학습데이터 구성\n",
    "naver_movie_cv = CountVectorizer()\n",
    "naver_movie_cv.fit(train['document'])  # 토큰화 및 단어사전 구축"
   ]
  },
  {
   "cell_type": "code",
   "execution_count": 40,
   "metadata": {},
   "outputs": [
    {
     "data": {
      "text/plain": [
       "293366"
      ]
     },
     "execution_count": 40,
     "metadata": {},
     "output_type": "execute_result"
    }
   ],
   "source": [
    "len(naver_movie_cv.vocabulary_)"
   ]
  },
  {
   "cell_type": "code",
   "execution_count": 41,
   "metadata": {},
   "outputs": [],
   "source": [
    "X_train = naver_movie_cv.transform(train['document']) # 빈도를 측정해서 수치화\n",
    "X_test = naver_movie_cv.transform(test['document']) # 빈도를 측정해서 수치화"
   ]
  },
  {
   "cell_type": "code",
   "execution_count": 42,
   "metadata": {},
   "outputs": [
    {
     "data": {
      "text/plain": [
       "((149995, 293366), (49997, 293366))"
      ]
     },
     "execution_count": 42,
     "metadata": {},
     "output_type": "execute_result"
    }
   ],
   "source": [
    "X_train.shape,X_test.shape"
   ]
  },
  {
   "cell_type": "code",
   "execution_count": 43,
   "metadata": {},
   "outputs": [],
   "source": [
    "# 긍정 부정 라벨 추출\n",
    "y_train = train['label']\n",
    "y_test = test['label']"
   ]
  },
  {
   "cell_type": "code",
   "execution_count": 49,
   "metadata": {},
   "outputs": [],
   "source": [
    "# 모델링 - LogisticRegrassion 모델 활용, 교차검증을 이용해서 score 확인\n",
    "from sklearn.linear_model import LogisticRegression as LR\n",
    "from sklearn.model_selection import cross_val_score\n",
    "\n",
    "model = LR()\n"
   ]
  },
  {
   "cell_type": "code",
   "execution_count": 50,
   "metadata": {},
   "outputs": [
    {
     "name": "stderr",
     "output_type": "stream",
     "text": [
      "c:\\Users\\SMHRD\\anaconda3\\lib\\site-packages\\sklearn\\linear_model\\_logistic.py:814: ConvergenceWarning: lbfgs failed to converge (status=1):\n",
      "STOP: TOTAL NO. of ITERATIONS REACHED LIMIT.\n",
      "\n",
      "Increase the number of iterations (max_iter) or scale the data as shown in:\n",
      "    https://scikit-learn.org/stable/modules/preprocessing.html\n",
      "Please also refer to the documentation for alternative solver options:\n",
      "    https://scikit-learn.org/stable/modules/linear_model.html#logistic-regression\n",
      "  n_iter_i = _check_optimize_result(\n",
      "c:\\Users\\SMHRD\\anaconda3\\lib\\site-packages\\sklearn\\linear_model\\_logistic.py:814: ConvergenceWarning: lbfgs failed to converge (status=1):\n",
      "STOP: TOTAL NO. of ITERATIONS REACHED LIMIT.\n",
      "\n",
      "Increase the number of iterations (max_iter) or scale the data as shown in:\n",
      "    https://scikit-learn.org/stable/modules/preprocessing.html\n",
      "Please also refer to the documentation for alternative solver options:\n",
      "    https://scikit-learn.org/stable/modules/linear_model.html#logistic-regression\n",
      "  n_iter_i = _check_optimize_result(\n",
      "c:\\Users\\SMHRD\\anaconda3\\lib\\site-packages\\sklearn\\linear_model\\_logistic.py:814: ConvergenceWarning: lbfgs failed to converge (status=1):\n",
      "STOP: TOTAL NO. of ITERATIONS REACHED LIMIT.\n",
      "\n",
      "Increase the number of iterations (max_iter) or scale the data as shown in:\n",
      "    https://scikit-learn.org/stable/modules/preprocessing.html\n",
      "Please also refer to the documentation for alternative solver options:\n",
      "    https://scikit-learn.org/stable/modules/linear_model.html#logistic-regression\n",
      "  n_iter_i = _check_optimize_result(\n",
      "c:\\Users\\SMHRD\\anaconda3\\lib\\site-packages\\sklearn\\linear_model\\_logistic.py:814: ConvergenceWarning: lbfgs failed to converge (status=1):\n",
      "STOP: TOTAL NO. of ITERATIONS REACHED LIMIT.\n",
      "\n",
      "Increase the number of iterations (max_iter) or scale the data as shown in:\n",
      "    https://scikit-learn.org/stable/modules/preprocessing.html\n",
      "Please also refer to the documentation for alternative solver options:\n",
      "    https://scikit-learn.org/stable/modules/linear_model.html#logistic-regression\n",
      "  n_iter_i = _check_optimize_result(\n",
      "c:\\Users\\SMHRD\\anaconda3\\lib\\site-packages\\sklearn\\linear_model\\_logistic.py:814: ConvergenceWarning: lbfgs failed to converge (status=1):\n",
      "STOP: TOTAL NO. of ITERATIONS REACHED LIMIT.\n",
      "\n",
      "Increase the number of iterations (max_iter) or scale the data as shown in:\n",
      "    https://scikit-learn.org/stable/modules/preprocessing.html\n",
      "Please also refer to the documentation for alternative solver options:\n",
      "    https://scikit-learn.org/stable/modules/linear_model.html#logistic-regression\n",
      "  n_iter_i = _check_optimize_result(\n"
     ]
    },
    {
     "data": {
      "text/plain": [
       "0.8117203906796894"
      ]
     },
     "execution_count": 50,
     "metadata": {},
     "output_type": "execute_result"
    }
   ],
   "source": [
    "res = cross_val_score(model,X_train,y_train,cv=5)\n",
    "res.mean()"
   ]
  },
  {
   "cell_type": "code",
   "execution_count": 52,
   "metadata": {},
   "outputs": [
    {
     "name": "stderr",
     "output_type": "stream",
     "text": [
      "c:\\Users\\SMHRD\\anaconda3\\lib\\site-packages\\sklearn\\linear_model\\_logistic.py:814: ConvergenceWarning: lbfgs failed to converge (status=1):\n",
      "STOP: TOTAL NO. of ITERATIONS REACHED LIMIT.\n",
      "\n",
      "Increase the number of iterations (max_iter) or scale the data as shown in:\n",
      "    https://scikit-learn.org/stable/modules/preprocessing.html\n",
      "Please also refer to the documentation for alternative solver options:\n",
      "    https://scikit-learn.org/stable/modules/linear_model.html#logistic-regression\n",
      "  n_iter_i = _check_optimize_result(\n"
     ]
    },
    {
     "data": {
      "text/plain": [
       "LogisticRegression()"
      ]
     },
     "execution_count": 52,
     "metadata": {},
     "output_type": "execute_result"
    }
   ],
   "source": [
    "# 학습\n",
    "model.fit(X_train, y_train)"
   ]
  },
  {
   "cell_type": "code",
   "execution_count": 53,
   "metadata": {},
   "outputs": [
    {
     "data": {
      "text/plain": [
       "array([0, 0, 1], dtype=int64)"
      ]
     },
     "execution_count": 53,
     "metadata": {},
     "output_type": "execute_result"
    }
   ],
   "source": [
    "# 한글은 학습, 예측 불가능이므로 BOW 처리\n",
    "my_re = [\"영화 존잼이욤\", \"흠.. 그냥 그랬음\", \"아이유 조녜다!!!\"]\n",
    "my_re_trans = naver_movie_cv.transform(my_re)\n",
    "\n",
    "model.predict(my_re_trans)"
   ]
  },
  {
   "cell_type": "code",
   "execution_count": 54,
   "metadata": {},
   "outputs": [
    {
     "data": {
      "text/plain": [
       "array([[0.50329052, 0.49670948],\n",
       "       [0.84332527, 0.15667473],\n",
       "       [0.45568891, 0.54431109]])"
      ]
     },
     "execution_count": 54,
     "metadata": {},
     "output_type": "execute_result"
    }
   ],
   "source": [
    "# 확률값 , 예측 전에 확률 계산부터 한다!!\n",
    "# 긍정일 확률, 부정일 확률\n",
    "model.predict_proba(my_re_trans)"
   ]
  },
  {
   "cell_type": "code",
   "execution_count": 48,
   "metadata": {},
   "outputs": [
    {
     "data": {
      "text/plain": [
       "0.814428865731944"
      ]
     },
     "execution_count": 48,
     "metadata": {},
     "output_type": "execute_result"
    }
   ],
   "source": [
    "model.score(X_test,y_test)"
   ]
  },
  {
   "cell_type": "code",
   "execution_count": null,
   "metadata": {},
   "outputs": [],
   "source": []
  },
  {
   "attachments": {},
   "cell_type": "markdown",
   "metadata": {},
   "source": [
    "##### tf-idf (Term Frequency - Inverse Document Frequency)\n",
    "- tf : 개별문서에서 특정 단어의 빈도 수 \n",
    "    - 개별문서에서 특정단어의 빈도수가 높으면 해당문서를 대표하는 특징이 된다\n",
    "- df : 특정 단어를 가지고 있는 문서의 수\n",
    "    - 전체 말뭉치에서 너무 과도하게 많은 문서에 등장하는 단어는 특징으로 의미가 없다"
   ]
  },
  {
   "attachments": {
    "image.png": {
     "image/png": "[encoded data removed]"
    }
   },
   "cell_type": "markdown",
   "metadata": {},
   "source": [
    "![image.png](attachment:image.png)"
   ]
  },
  {
   "cell_type": "code",
   "execution_count": 55,
   "metadata": {},
   "outputs": [],
   "source": [
    "from sklearn.feature_extraction.text import TfidfVectorizer"
   ]
  },
  {
   "cell_type": "code",
   "execution_count": 56,
   "metadata": {},
   "outputs": [],
   "source": [
    "naver_movie_tfidf = TfidfVectorizer()"
   ]
  },
  {
   "cell_type": "code",
   "execution_count": 61,
   "metadata": {},
   "outputs": [
    {
     "data": {
      "text/plain": [
       "array([[0.52682017, 0.        , 0.40912286, 0.        , 0.52682017,\n",
       "        0.        , 0.52682017],\n",
       "       [0.44451431, 0.        , 0.34520502, 0.5844829 , 0.        ,\n",
       "        0.5844829 , 0.        ],\n",
       "       [0.        , 0.63174505, 0.37311881, 0.        , 0.4804584 ,\n",
       "        0.        , 0.4804584 ]])"
      ]
     },
     "execution_count": 61,
     "metadata": {},
     "output_type": "execute_result"
    }
   ],
   "source": [
    "tfidf_test = TfidfVectorizer()\n",
    "tfidf_test.fit(sample_txt)\n",
    "tfidf_test.transform(sample_txt).toarray()"
   ]
  },
  {
   "cell_type": "code",
   "execution_count": 57,
   "metadata": {},
   "outputs": [
    {
     "data": {
      "text/plain": [
       "TfidfVectorizer()"
      ]
     },
     "execution_count": 57,
     "metadata": {},
     "output_type": "execute_result"
    }
   ],
   "source": [
    "naver_movie_tfidf.fit(train['document']) #  토큰화와 단어사전 구축"
   ]
  },
  {
   "cell_type": "code",
   "execution_count": 58,
   "metadata": {},
   "outputs": [],
   "source": [
    "X_train2 = naver_movie_tfidf.transform(train['document']) # tfidf 방법으로 수치화"
   ]
  },
  {
   "cell_type": "code",
   "execution_count": 59,
   "metadata": {},
   "outputs": [
    {
     "data": {
      "text/plain": [
       "<149995x293366 sparse matrix of type '<class 'numpy.float64'>'\n",
       "\twith 1074805 stored elements in Compressed Sparse Row format>"
      ]
     },
     "execution_count": 59,
     "metadata": {},
     "output_type": "execute_result"
    }
   ],
   "source": [
    "X_train2"
   ]
  },
  {
   "cell_type": "code",
   "execution_count": 60,
   "metadata": {},
   "outputs": [
    {
     "name": "stdout",
     "output_type": "stream",
     "text": [
      "[[0. 0. 0. ... 0. 0. 0.]]\n"
     ]
    }
   ],
   "source": [
    "print(X_train2[0].toarray())"
   ]
  },
  {
   "cell_type": "code",
   "execution_count": 62,
   "metadata": {},
   "outputs": [
    {
     "name": "stderr",
     "output_type": "stream",
     "text": [
      "c:\\Users\\SMHRD\\anaconda3\\lib\\site-packages\\sklearn\\linear_model\\_logistic.py:814: ConvergenceWarning: lbfgs failed to converge (status=1):\n",
      "STOP: TOTAL NO. of ITERATIONS REACHED LIMIT.\n",
      "\n",
      "Increase the number of iterations (max_iter) or scale the data as shown in:\n",
      "    https://scikit-learn.org/stable/modules/preprocessing.html\n",
      "Please also refer to the documentation for alternative solver options:\n",
      "    https://scikit-learn.org/stable/modules/linear_model.html#logistic-regression\n",
      "  n_iter_i = _check_optimize_result(\n",
      "c:\\Users\\SMHRD\\anaconda3\\lib\\site-packages\\sklearn\\linear_model\\_logistic.py:814: ConvergenceWarning: lbfgs failed to converge (status=1):\n",
      "STOP: TOTAL NO. of ITERATIONS REACHED LIMIT.\n",
      "\n",
      "Increase the number of iterations (max_iter) or scale the data as shown in:\n",
      "    https://scikit-learn.org/stable/modules/preprocessing.html\n",
      "Please also refer to the documentation for alternative solver options:\n",
      "    https://scikit-learn.org/stable/modules/linear_model.html#logistic-regression\n",
      "  n_iter_i = _check_optimize_result(\n",
      "c:\\Users\\SMHRD\\anaconda3\\lib\\site-packages\\sklearn\\linear_model\\_logistic.py:814: ConvergenceWarning: lbfgs failed to converge (status=1):\n",
      "STOP: TOTAL NO. of ITERATIONS REACHED LIMIT.\n",
      "\n",
      "Increase the number of iterations (max_iter) or scale the data as shown in:\n",
      "    https://scikit-learn.org/stable/modules/preprocessing.html\n",
      "Please also refer to the documentation for alternative solver options:\n",
      "    https://scikit-learn.org/stable/modules/linear_model.html#logistic-regression\n",
      "  n_iter_i = _check_optimize_result(\n",
      "c:\\Users\\SMHRD\\anaconda3\\lib\\site-packages\\sklearn\\linear_model\\_logistic.py:814: ConvergenceWarning: lbfgs failed to converge (status=1):\n",
      "STOP: TOTAL NO. of ITERATIONS REACHED LIMIT.\n",
      "\n",
      "Increase the number of iterations (max_iter) or scale the data as shown in:\n",
      "    https://scikit-learn.org/stable/modules/preprocessing.html\n",
      "Please also refer to the documentation for alternative solver options:\n",
      "    https://scikit-learn.org/stable/modules/linear_model.html#logistic-regression\n",
      "  n_iter_i = _check_optimize_result(\n",
      "c:\\Users\\SMHRD\\anaconda3\\lib\\site-packages\\sklearn\\linear_model\\_logistic.py:814: ConvergenceWarning: lbfgs failed to converge (status=1):\n",
      "STOP: TOTAL NO. of ITERATIONS REACHED LIMIT.\n",
      "\n",
      "Increase the number of iterations (max_iter) or scale the data as shown in:\n",
      "    https://scikit-learn.org/stable/modules/preprocessing.html\n",
      "Please also refer to the documentation for alternative solver options:\n",
      "    https://scikit-learn.org/stable/modules/linear_model.html#logistic-regression\n",
      "  n_iter_i = _check_optimize_result(\n"
     ]
    },
    {
     "data": {
      "text/plain": [
       "0.8094936497883263"
      ]
     },
     "execution_count": 62,
     "metadata": {},
     "output_type": "execute_result"
    }
   ],
   "source": [
    "# tfidf를 이용한 교차검증\n",
    "model2 = LR()\n",
    "cross_val_score(model2,X_train2, y_train,cv=5).mean()"
   ]
  },
  {
   "attachments": {},
   "cell_type": "markdown",
   "metadata": {},
   "source": [
    "##### 하이퍼파라미터 튜닝\n",
    "- 파이프라인을 이용해 텍스트 전처리와 모델링 2단계로 이루어진 작업을 하나로 묶어보자\n",
    "- TfidfVectorizer 하이퍼파라미터\n",
    "    - max_df : 특정 단어가 전체 말뭉치에서 등장할 수 있는 최대 횟수를 지정\n",
    "    - min_df : 특정 단어가 전체 말뭉치에서 등장할 수 있는 최소 횟수를 지정\n",
    "    - ngram_range : 토큰을 묶어서 feature로 활용하는 정도를 지정\n",
    "- LogisticRegression 하이퍼파라미터\n",
    "    - C : 구제 파라미터 -> 값이 커지면 규제가 약하고, 값이 작아지면 규제가 커진다."
   ]
  },
  {
   "cell_type": "code",
   "execution_count": 63,
   "metadata": {},
   "outputs": [],
   "source": [
    "# 파이프라인 : 머신러닝 작업을 하나의 프로세스로 묶어주는 것\n",
    "# ex) 일반 테이블 데이터 : 결측치 처리 -> 스케일러 -> 인코더 -> 모델\n",
    "# ex) 비정형 텍스트 데이터 : 토큰화/수치화 -> 모델\n",
    "from sklearn.pipeline import Pipeline"
   ]
  },
  {
   "cell_type": "code",
   "execution_count": 64,
   "metadata": {},
   "outputs": [],
   "source": [
    "# 파이프라인 생성\n",
    "pipeline = Pipeline([\n",
    "    ('movie_tfidf', TfidfVectorizer()),\n",
    "    ('movie_logi', LR())\n",
    "])"
   ]
  },
  {
   "cell_type": "code",
   "execution_count": 65,
   "metadata": {},
   "outputs": [],
   "source": [
    "# 모튼 하이퍼파라미터 조합을 돌려볼 수 있게 해주는 클래스\n",
    "from sklearn.model_selection import GridSearchCV"
   ]
  },
  {
   "cell_type": "code",
   "execution_count": 66,
   "metadata": {},
   "outputs": [],
   "source": [
    "graid_param = {\n",
    "    'movie_tfidf__max_df' : [7000, 8500, 10000],\n",
    "    'movie_tfidf__min_df' : [1, 5, 8, 10],\n",
    "    'movie_tfidf__ngram_range' : [(1,2), (2,2), (1,3)],\n",
    "    'movie_logi__C' : [0.001, 0.01, 0.1, 10, 100, 1000]\n",
    "}"
   ]
  },
  {
   "cell_type": "code",
   "execution_count": 67,
   "metadata": {},
   "outputs": [
    {
     "name": "stderr",
     "output_type": "stream",
     "text": [
      "c:\\Users\\SMHRD\\anaconda3\\lib\\site-packages\\sklearn\\linear_model\\_logistic.py:814: ConvergenceWarning: lbfgs failed to converge (status=1):\n",
      "STOP: TOTAL NO. of ITERATIONS REACHED LIMIT.\n",
      "\n",
      "Increase the number of iterations (max_iter) or scale the data as shown in:\n",
      "    https://scikit-learn.org/stable/modules/preprocessing.html\n",
      "Please also refer to the documentation for alternative solver options:\n",
      "    https://scikit-learn.org/stable/modules/linear_model.html#logistic-regression\n",
      "  n_iter_i = _check_optimize_result(\n"
     ]
    },
    {
     "data": {
      "text/plain": [
       "GridSearchCV(cv=3,\n",
       "             estimator=Pipeline(steps=[('movie_tfidf', TfidfVectorizer()),\n",
       "                                       ('movie_logi', LogisticRegression())]),\n",
       "             n_jobs=-1,\n",
       "             param_grid={'movie_logi__C': [0.001, 0.01, 0.1, 10, 100, 1000],\n",
       "                         'movie_tfidf__max_df': [7000, 8500, 10000],\n",
       "                         'movie_tfidf__min_df': [1, 5, 8, 10],\n",
       "                         'movie_tfidf__ngram_range': [(1, 2), (2, 2), (1, 3)]})"
      ]
     },
     "execution_count": 67,
     "metadata": {},
     "output_type": "execute_result"
    }
   ],
   "source": [
    "grid = GridSearchCV(pipeline, graid_param, cv=3, n_jobs=-1)\n",
    "grid.fit(train['document'], y_train)"
   ]
  },
  {
   "cell_type": "code",
   "execution_count": null,
   "metadata": {},
   "outputs": [],
   "source": []
  },
  {
   "cell_type": "code",
   "execution_count": 74,
   "metadata": {},
   "outputs": [
    {
     "name": "stdout",
     "output_type": "stream",
     "text": [
      "최고점수 :  0.8138204539095115\n",
      "최고조합 :  {'movie_logi__C': 1000, 'movie_tfidf__max_df': 7000, 'movie_tfidf__min_df': 1, 'movie_tfidf__ngram_range': (1, 2)}\n",
      "단어사전의 수 :  1088746\n"
     ]
    }
   ],
   "source": [
    "# grid 안에 제일 좋았던 정보 저장\n",
    "# 결과 확인\n",
    "print(\"최고점수 : \", grid.best_score_)\n",
    "print(\"최고조합 : \", grid.best_params_)\n",
    "# 최고 조합으로 학습된 모델\n",
    "best_pipeline = grid.best_estimator_\n",
    "# 단어사전의 수\n",
    "print(\"단어사전의 수 : \", len(best_pipeline[0].vocabulary_))"
   ]
  },
  {
   "cell_type": "code",
   "execution_count": 94,
   "metadata": {},
   "outputs": [
    {
     "data": {
      "text/plain": [
       "array([1, 0, 1, 0], dtype=int64)"
      ]
     },
     "execution_count": 94,
     "metadata": {},
     "output_type": "execute_result"
    }
   ],
   "source": [
    "best_pipeline.predict([\"영화 재밋...나?\", \"그냥 저냥. 집에 가고 싶다\", \"ㅎ\", \"아이유 좋아요, 영화는 별로\"])"
   ]
  },
  {
   "cell_type": "code",
   "execution_count": 95,
   "metadata": {},
   "outputs": [
    {
     "data": {
      "text/plain": [
       "array([[2.81217912e-04, 9.99718782e-01],\n",
       "       [9.96115947e-01, 3.88405319e-03],\n",
       "       [4.87693451e-01, 5.12306549e-01],\n",
       "       [9.80591227e-01, 1.94087734e-02]])"
      ]
     },
     "execution_count": 95,
     "metadata": {},
     "output_type": "execute_result"
    }
   ],
   "source": [
    "best_pipeline.predict_proba([\"영화 재밋...나?\", \"그냥 저냥. 집에 가고 싶다\", \"ㅎ\", \"아이유 좋아요, 영화는 별로\"])"
   ]
  },
  {
   "attachments": {},
   "cell_type": "markdown",
   "metadata": {},
   "source": [
    "##### 결과 시각화 하기"
   ]
  },
  {
   "cell_type": "code",
   "execution_count": 90,
   "metadata": {},
   "outputs": [],
   "source": [
    "naver_vocab = best_pipeline[0].vocabulary_\n",
    "naver_coef = best_pipeline[1].coef_[0]"
   ]
  },
  {
   "cell_type": "code",
   "execution_count": 91,
   "metadata": {},
   "outputs": [
    {
     "name": "stderr",
     "output_type": "stream",
     "text": [
      "c:\\Users\\SMHRD\\anaconda3\\lib\\site-packages\\pandas\\core\\indexes\\base.py:6999: FutureWarning: In a future version, the Index constructor will not infer numeric dtypes when passed object-dtype sequences (matching Series behavior)\n",
      "  return Index(sequences[0], name=names)\n"
     ]
    },
    {
     "data": {
      "text/html": [
       "<div>\n",
       "<style scoped>\n",
       "    .dataframe tbody tr th:only-of-type {\n",
       "        vertical-align: middle;\n",
       "    }\n",
       "\n",
       "    .dataframe tbody tr th {\n",
       "        vertical-align: top;\n",
       "    }\n",
       "\n",
       "    .dataframe thead th {\n",
       "        text-align: right;\n",
       "    }\n",
       "</style>\n",
       "<table border=\"1\" class=\"dataframe\">\n",
       "  <thead>\n",
       "    <tr style=\"text-align: right;\">\n",
       "      <th></th>\n",
       "      <th>단어</th>\n",
       "      <th>가중치</th>\n",
       "    </tr>\n",
       "    <tr>\n",
       "      <th>인덱스</th>\n",
       "      <th></th>\n",
       "      <th></th>\n",
       "    </tr>\n",
       "  </thead>\n",
       "  <tbody>\n",
       "    <tr>\n",
       "      <th>0</th>\n",
       "      <td>00</td>\n",
       "      <td>4.564019</td>\n",
       "    </tr>\n",
       "    <tr>\n",
       "      <th>1</th>\n",
       "      <td>00 00</td>\n",
       "      <td>1.830958</td>\n",
       "    </tr>\n",
       "    <tr>\n",
       "      <th>2</th>\n",
       "      <td>00 으로</td>\n",
       "      <td>-3.724382</td>\n",
       "    </tr>\n",
       "    <tr>\n",
       "      <th>3</th>\n",
       "      <td>000</td>\n",
       "      <td>0.413052</td>\n",
       "    </tr>\n",
       "    <tr>\n",
       "      <th>4</th>\n",
       "      <td>000 000</td>\n",
       "      <td>0.915931</td>\n",
       "    </tr>\n",
       "    <tr>\n",
       "      <th>...</th>\n",
       "      <td>...</td>\n",
       "      <td>...</td>\n",
       "    </tr>\n",
       "    <tr>\n",
       "      <th>1088741</th>\n",
       "      <td>綠林의</td>\n",
       "      <td>-1.495469</td>\n",
       "    </tr>\n",
       "    <tr>\n",
       "      <th>1088742</th>\n",
       "      <td>綠林의 무리들이</td>\n",
       "      <td>-1.495469</td>\n",
       "    </tr>\n",
       "    <tr>\n",
       "      <th>1088743</th>\n",
       "      <td>不好</td>\n",
       "      <td>-2.675599</td>\n",
       "    </tr>\n",
       "    <tr>\n",
       "      <th>1088744</th>\n",
       "      <td>不好 가을남산은참예쁘다</td>\n",
       "      <td>-2.675599</td>\n",
       "    </tr>\n",
       "    <tr>\n",
       "      <th>1088745</th>\n",
       "      <td>紐⑦넗濡쒕씪異⑹쟾濡</td>\n",
       "      <td>-4.634273</td>\n",
       "    </tr>\n",
       "  </tbody>\n",
       "</table>\n",
       "<p>1088746 rows × 2 columns</p>\n",
       "</div>"
      ],
      "text/plain": [
       "                   단어       가중치\n",
       "인덱스                            \n",
       "0                  00  4.564019\n",
       "1               00 00  1.830958\n",
       "2               00 으로 -3.724382\n",
       "3                 000  0.413052\n",
       "4             000 000  0.915931\n",
       "...               ...       ...\n",
       "1088741           綠林의 -1.495469\n",
       "1088742      綠林의 무리들이 -1.495469\n",
       "1088743            不好 -2.675599\n",
       "1088744  不好 가을남산은참예쁘다 -2.675599\n",
       "1088745    紐⑦넗濡쒕씪異⑹쟾濡 -4.634273\n",
       "\n",
       "[1088746 rows x 2 columns]"
      ]
     },
     "execution_count": 91,
     "metadata": {},
     "output_type": "execute_result"
    }
   ],
   "source": [
    "# vocab 정렬하기\n",
    "import pandas as pd\n",
    "df = pd.DataFrame([naver_vocab.keys(), naver_vocab.values()],\n",
    "                 index=[\"단어\",\"인덱스\"]).T.sort_values(by=\"인덱스\").set_index(\"인덱스\")\n",
    "# vocab과 가중치 결합\n",
    "df['가중치'] = naver_coef\n",
    "df"
   ]
  },
  {
   "cell_type": "code",
   "execution_count": 92,
   "metadata": {},
   "outputs": [],
   "source": [
    "# 가중치를 중심으로 정렬 -> 상위 30, 하위 30개 단어 추출\n",
    "df.sort_values(by=\"가중치\", inplace=True, ascending=False)\n",
    "top30 = df.head(30)\n",
    "bottom30 = df.tail(30)"
   ]
  },
  {
   "cell_type": "code",
   "execution_count": 93,
   "metadata": {},
   "outputs": [
    {
     "data": {
      "text/plain": [
       "<AxesSubplot:xlabel='단어'>"
      ]
     },
     "execution_count": 93,
     "metadata": {},
     "output_type": "execute_result"
    },
    {
     "data": {
      "image/png": "[encoded data removed]",
      "text/plain": [
       "<Figure size 2000x500 with 1 Axes>"
      ]
     },
     "metadata": {},
     "output_type": "display_data"
    }
   ],
   "source": [
    "# 한글로 출력하기 위해서 폰트 지정하기!\n",
    "from matplotlib import rc\n",
    "rc('font', family = 'Malgun Gothic')\n",
    "\n",
    "# 마이너스 나오게하기\n",
    "import matplotlib\n",
    "matplotlib.rcParams['axes.unicode_minus'] = False\n",
    "\n",
    "# 시각화\n",
    "main_words = pd.concat([top30,bottom30])\n",
    "main_words.set_index(\"단어\").plot(kind='bar',\n",
    "                                 figsize=(20,5),\n",
    "                                 rot=70)"
   ]
  },
  {
   "cell_type": "code",
   "execution_count": null,
   "metadata": {},
   "outputs": [],
   "source": []
  },
  {
   "cell_type": "code",
   "execution_count": null,
   "metadata": {},
   "outputs": [],
   "source": []
  }
 ],
 "metadata": {
  "kernelspec": {
   "display_name": "base",
   "language": "python",
   "name": "python3"
  },
  "language_info": {
   "codemirror_mode": {
    "name": "ipython",
    "version": 3
   },
   "file_extension": ".py",
   "mimetype": "text/x-python",
   "name": "python",
   "nbconvert_exporter": "python",
   "pygments_lexer": "ipython3",
   "version": "3.9.13"
  },
  "orig_nbformat": 4
 },
 "nbformat": 4,
 "nbformat_minor": 2
}
