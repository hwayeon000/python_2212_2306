{
 "cells": [
  {
   "cell_type": "code",
   "execution_count": 80,
   "metadata": {},
   "outputs": [],
   "source": [
    "# 라이브러리 불러오기\n",
    "import numpy as np\n",
    "import pandas as pd\n",
    "import matplotlib.pyplot as plt\n",
    "# 머신러닝\n",
    "# 교자검증\n",
    "from sklearn.model_selection import cross_val_score\n",
    "# 분리\n",
    "from sklearn.model_selection import train_test_split\n",
    "from sklearn.metrics import accuracy_score"
   ]
  },
  {
   "cell_type": "code",
   "execution_count": 81,
   "metadata": {},
   "outputs": [],
   "source": [
    "train = pd.read_csv(\"./data/train.csv\", index_col='no')\n",
    "# train\n",
    "test = pd.read_csv(\"./data/test.csv\", index_col='no')\n",
    "# test"
   ]
  },
  {
   "cell_type": "code",
   "execution_count": 82,
   "metadata": {},
   "outputs": [
    {
     "data": {
      "text/plain": [
       "array([' Private', ' Self-emp-not-inc', ' Local-gov', ' ?', ' State-gov',\n",
       "       ' Self-emp-inc', ' Federal-gov', ' Without-pay', ' Never-worked'],\n",
       "      dtype=object)"
      ]
     },
     "execution_count": 82,
     "metadata": {},
     "output_type": "execute_result"
    }
   ],
   "source": [
    "train['workclass'].unique()\n",
    "\n",
    "# 데이터 앞에 공백이 있다"
   ]
  },
  {
   "cell_type": "code",
   "execution_count": 83,
   "metadata": {},
   "outputs": [],
   "source": [
    "# 문자열 데이터 앞 공백 제거\n",
    "df = train[['workclass', 'education', 'marital-status', 'occupation', 'relationship', 'race', 'sex', 'native-country']]\n",
    "df = df.apply(lambda x: x.str.lstrip(), axis=1)\n",
    "train[['workclass', 'education', 'marital-status', 'occupation', 'relationship', 'race', 'sex', 'native-country']] = df\n",
    "\n",
    "df = test[['workclass', 'education', 'marital-status', 'occupation', 'relationship', 'race', 'sex', 'native-country']]\n",
    "df = df.apply(lambda x: x.str.lstrip(), axis=1)\n",
    "test[['workclass', 'education', 'marital-status', 'occupation', 'relationship', 'race', 'sex', 'native-country']] = df"
   ]
  },
  {
   "cell_type": "code",
   "execution_count": 84,
   "metadata": {},
   "outputs": [
    {
     "data": {
      "text/plain": [
       "array(['Private', 'Self-emp-not-inc', 'Local-gov', '?', 'State-gov',\n",
       "       'Self-emp-inc', 'Federal-gov', 'Without-pay', 'Never-worked'],\n",
       "      dtype=object)"
      ]
     },
     "execution_count": 84,
     "metadata": {},
     "output_type": "execute_result"
    },
    {
     "data": {
      "text/plain": [
       "array(['?', 'Private', 'Self-emp-not-inc', 'Local-gov', 'Self-emp-inc',\n",
       "       'State-gov', 'Federal-gov', 'Without-pay', 'Never-worked'],\n",
       "      dtype=object)"
      ]
     },
     "execution_count": 84,
     "metadata": {},
     "output_type": "execute_result"
    }
   ],
   "source": [
    "train['workclass'].unique()\n",
    "test['workclass'].unique()\n",
    "\n",
    "# 공백 없앰"
   ]
  },
  {
   "cell_type": "code",
   "execution_count": 85,
   "metadata": {},
   "outputs": [
    {
     "name": "stdout",
     "output_type": "stream",
     "text": [
      "<class 'pandas.core.frame.DataFrame'>\n",
      "Int64Index: 29305 entries, 1 to 29305\n",
      "Data columns (total 15 columns):\n",
      " #   Column          Non-Null Count  Dtype \n",
      "---  ------          --------------  ----- \n",
      " 0   age             29305 non-null  int64 \n",
      " 1   workclass       29305 non-null  object\n",
      " 2   fnlwgt          29305 non-null  int64 \n",
      " 3   education       29305 non-null  object\n",
      " 4   education-num   29305 non-null  int64 \n",
      " 5   marital-status  29305 non-null  object\n",
      " 6   occupation      29305 non-null  object\n",
      " 7   relationship    29305 non-null  object\n",
      " 8   race            29305 non-null  object\n",
      " 9   sex             29305 non-null  object\n",
      " 10  capital-gain    29305 non-null  int64 \n",
      " 11  capital-loss    29305 non-null  int64 \n",
      " 12  hours-per-week  29305 non-null  int64 \n",
      " 13  native-country  29305 non-null  object\n",
      " 14  income          29305 non-null  int64 \n",
      "dtypes: int64(7), object(8)\n",
      "memory usage: 3.6+ MB\n"
     ]
    }
   ],
   "source": [
    "train.info()"
   ]
  },
  {
   "cell_type": "code",
   "execution_count": 86,
   "metadata": {},
   "outputs": [
    {
     "name": "stdout",
     "output_type": "stream",
     "text": [
      "<class 'pandas.core.frame.DataFrame'>\n",
      "Int64Index: 19537 entries, 29306 to 48842\n",
      "Data columns (total 14 columns):\n",
      " #   Column          Non-Null Count  Dtype \n",
      "---  ------          --------------  ----- \n",
      " 0   age             19537 non-null  int64 \n",
      " 1   workclass       19537 non-null  object\n",
      " 2   fnlwgt          19537 non-null  int64 \n",
      " 3   education       19537 non-null  object\n",
      " 4   education-num   19537 non-null  int64 \n",
      " 5   marital-status  19537 non-null  object\n",
      " 6   occupation      19537 non-null  object\n",
      " 7   relationship    19537 non-null  object\n",
      " 8   race            19537 non-null  object\n",
      " 9   sex             19537 non-null  object\n",
      " 10  capital-gain    19537 non-null  int64 \n",
      " 11  capital-loss    19537 non-null  int64 \n",
      " 12  hours-per-week  19537 non-null  int64 \n",
      " 13  native-country  19537 non-null  object\n",
      "dtypes: int64(6), object(8)\n",
      "memory usage: 2.2+ MB\n"
     ]
    }
   ],
   "source": [
    "test.info()"
   ]
  },
  {
   "cell_type": "code",
   "execution_count": 87,
   "metadata": {},
   "outputs": [
    {
     "data": {
      "text/plain": [
       "array([25, 39, 35, 64, 24, 66, 56, 70, 21, 33, 45, 54, 63, 58, 44, 31, 17,\n",
       "       43, 18, 23, 50, 19, 38, 29, 30, 47, 28, 22, 59, 34, 49, 36, 32, 46,\n",
       "       42, 61, 40, 26, 57, 27, 41, 37, 60, 48, 62, 53, 68, 75, 20, 51, 73,\n",
       "       69, 72, 65, 76, 52, 55, 74, 90, 67, 78, 80, 77, 71, 81, 83, 82, 79,\n",
       "       85, 87, 84, 88, 86, 89], dtype=int64)"
      ]
     },
     "execution_count": 87,
     "metadata": {},
     "output_type": "execute_result"
    },
    {
     "data": {
      "text/plain": [
       "array([219199,  52978, 196899, ..., 100605, 372636, 258474], dtype=int64)"
      ]
     },
     "execution_count": 87,
     "metadata": {},
     "output_type": "execute_result"
    },
    {
     "data": {
      "text/plain": [
       "array([ 7, 10, 13, 11,  5,  9, 14,  3, 15,  8,  6, 12, 16,  4,  2,  1],\n",
       "      dtype=int64)"
      ]
     },
     "execution_count": 87,
     "metadata": {},
     "output_type": "execute_result"
    },
    {
     "data": {
      "text/plain": [
       "array([    0, 99999,  1151,  2176, 14084,  3325,  3103,  2174,  8614,\n",
       "       27828, 14344, 15024,  2463,  3137,   594,  5178,  3942,  2354,\n",
       "        7688, 20051,  2290,  3674,  6849,  3418,  4934,  2202,  5455,\n",
       "       13550,  5013,  4101,  2907,  7298,  7430,  4650,  2885,  2829,\n",
       "        4386,  2977,   401,  4064,  1424,  2635,  4787,  2105,  2964,\n",
       "        9386,  6497, 10520,  1055, 10566,  3464, 15020,  4416,  1409,\n",
       "        6767,  1086,  3818,  2050,  3471,  7896,  3781,  3908,  6097,\n",
       "        4508,  3411,  1506, 15831,  1173,  3273,  6418,  2329, 34095,\n",
       "        3887,  2936,  7443,   914,  1471,   991,  1797,  2036,  5721,\n",
       "        2597,  4865,  4931,  2228,  6612,  2414,  2346,  6514,   114,\n",
       "        4687,  2407,  5060,  2538,  1848, 11678,  2993, 41310,  2653,\n",
       "       10605,  2580,  1264,  2009, 25236,  1831,  1455,  7978,  6360,\n",
       "        6723, 25124,  3456,  1111,  3432,  2961,  5556, 22040, 18481],\n",
       "      dtype=int64)"
      ]
     },
     "execution_count": 87,
     "metadata": {},
     "output_type": "execute_result"
    },
    {
     "data": {
      "text/plain": [
       "array([   0, 1721, 1741, 1590, 1902, 1138,  625, 2057, 1887, 1848, 1977,\n",
       "       2339, 1602, 1564, 1579, 2205, 2001, 2415, 1628, 1672, 1092, 2444,\n",
       "       1719, 1980, 2377, 1408, 2258, 1504, 2051, 2392, 1669, 2174, 1485,\n",
       "        213, 2352, 1668, 2824, 3004, 1876, 2559, 2246, 1740,  880, 1340,\n",
       "       1825, 1726, 1573, 1974, 4356, 1411, 2002, 1648, 2472, 2179, 2206,\n",
       "       2042, 1380, 2267, 1651, 1258, 1844, 2149, 1762,  810, 1594, 1617,\n",
       "        974, 2238, 2129, 1816, 1510, 2231, 1755, 2547,  323,  653, 2603,\n",
       "       2457, 1429, 1735, 2467, 3175, 1944, 2201,  419, 1870, 1539, 3683,\n",
       "       2163, 2465, 3770], dtype=int64)"
      ]
     },
     "execution_count": 87,
     "metadata": {},
     "output_type": "execute_result"
    },
    {
     "data": {
      "text/plain": [
       "array([40, 55, 50, 70, 25, 35, 29, 37, 45, 15, 16, 30, 20, 60, 65, 10, 80,\n",
       "       24, 36, 12, 66,  6, 42, 56, 44, 48, 32, 99, 52, 39,  8,  2, 47, 54,\n",
       "       89,  1, 34, 53, 38, 33, 90, 43, 46, 14,  9,  4, 62, 28, 17, 64, 75,\n",
       "       49, 21,  3, 22, 18, 58, 27, 41, 13, 72, 98, 96, 84,  7, 26, 77,  5,\n",
       "       31, 63, 92, 51, 85, 57, 67, 23, 19, 68, 11, 59, 81, 61, 88, 74, 86,\n",
       "       78, 69, 91, 82, 76, 97, 94, 73], dtype=int64)"
      ]
     },
     "execution_count": 87,
     "metadata": {},
     "output_type": "execute_result"
    },
    {
     "data": {
      "text/plain": [
       "array(['11th', 'Some-college', 'Bachelors', 'Assoc-voc', '9th', 'HS-grad',\n",
       "       'Masters', '5th-6th', 'Prof-school', '12th', '10th', 'Assoc-acdm',\n",
       "       'Doctorate', '7th-8th', '1st-4th', 'Preschool'], dtype=object)"
      ]
     },
     "execution_count": 87,
     "metadata": {},
     "output_type": "execute_result"
    },
    {
     "data": {
      "text/plain": [
       "array(['Divorced', 'Never-married', 'Married-civ-spouse', 'Separated',\n",
       "       'Married-spouse-absent', 'Widowed', 'Married-AF-spouse'],\n",
       "      dtype=object)"
      ]
     },
     "execution_count": 87,
     "metadata": {},
     "output_type": "execute_result"
    },
    {
     "data": {
      "text/plain": [
       "array(['Not-in-family', 'Husband', 'Unmarried', 'Other-relative',\n",
       "       'Own-child', 'Wife'], dtype=object)"
      ]
     },
     "execution_count": 87,
     "metadata": {},
     "output_type": "execute_result"
    },
    {
     "data": {
      "text/plain": [
       "array(['White', 'Asian-Pac-Islander', 'Black', 'Amer-Indian-Eskimo',\n",
       "       'Other'], dtype=object)"
      ]
     },
     "execution_count": 87,
     "metadata": {},
     "output_type": "execute_result"
    },
    {
     "data": {
      "text/plain": [
       "array(['Male', 'Female'], dtype=object)"
      ]
     },
     "execution_count": 87,
     "metadata": {},
     "output_type": "execute_result"
    },
    {
     "data": {
      "text/plain": [
       "array(['Private', 'Self-emp-not-inc', 'Local-gov', '?', 'State-gov',\n",
       "       'Self-emp-inc', 'Federal-gov', 'Without-pay', 'Never-worked'],\n",
       "      dtype=object)"
      ]
     },
     "execution_count": 87,
     "metadata": {},
     "output_type": "execute_result"
    },
    {
     "data": {
      "text/plain": [
       "array(['Machine-op-inspct', 'Other-service', 'Handlers-cleaners',\n",
       "       'Tech-support', 'Transport-moving', 'Farming-fishing',\n",
       "       'Prof-specialty', 'Priv-house-serv', 'Adm-clerical',\n",
       "       'Protective-serv', 'Exec-managerial', '?', 'Craft-repair', 'Sales',\n",
       "       'Armed-Forces'], dtype=object)"
      ]
     },
     "execution_count": 87,
     "metadata": {},
     "output_type": "execute_result"
    },
    {
     "data": {
      "text/plain": [
       "array(['United-States', 'Haiti', 'Mexico', 'Puerto-Rico', 'Philippines',\n",
       "       '?', 'Germany', 'Peru', 'Ecuador', 'Iran', 'Thailand',\n",
       "       'Dominican-Republic', 'Poland', 'Scotland', 'Italy', 'Jamaica',\n",
       "       'China', 'Portugal', 'Columbia', 'Hungary', 'Vietnam', 'Taiwan',\n",
       "       'Canada', 'Hong', 'Guatemala', 'El-Salvador', 'England',\n",
       "       'Outlying-US(Guam-USVI-etc)', 'India', 'France', 'Cuba', 'Greece',\n",
       "       'Trinadad&Tobago', 'South', 'Japan', 'Yugoslavia', 'Nicaragua',\n",
       "       'Ireland', 'Cambodia', 'Laos', 'Honduras', 'Holand-Netherlands'],\n",
       "      dtype=object)"
      ]
     },
     "execution_count": 87,
     "metadata": {},
     "output_type": "execute_result"
    }
   ],
   "source": [
    "# int\n",
    "train['age'].unique()\n",
    "train['fnlwgt'].unique()\n",
    "train['education-num'].unique()\n",
    "train['capital-gain'].unique()\n",
    "train['capital-loss'].unique()\n",
    "train['hours-per-week'].unique()\n",
    "\n",
    "# Object\n",
    "train['education'].unique()\n",
    "train['marital-status'].unique()\n",
    "train['relationship'].unique()\n",
    "train['race'].unique()\n",
    "train['sex'].unique()\n",
    "\n",
    "\n",
    "# '?' 있는 컬럼\n",
    "train['workclass'].unique()\n",
    "train['occupation'].unique()\n",
    "train['native-country'].unique()\n"
   ]
  },
  {
   "cell_type": "code",
   "execution_count": 88,
   "metadata": {},
   "outputs": [
    {
     "data": {
      "text/html": [
       "<div>\n",
       "<style scoped>\n",
       "    .dataframe tbody tr th:only-of-type {\n",
       "        vertical-align: middle;\n",
       "    }\n",
       "\n",
       "    .dataframe tbody tr th {\n",
       "        vertical-align: top;\n",
       "    }\n",
       "\n",
       "    .dataframe thead th {\n",
       "        text-align: right;\n",
       "    }\n",
       "</style>\n",
       "<table border=\"1\" class=\"dataframe\">\n",
       "  <thead>\n",
       "    <tr style=\"text-align: right;\">\n",
       "      <th></th>\n",
       "      <th>age</th>\n",
       "      <th>fnlwgt</th>\n",
       "      <th>education-num</th>\n",
       "      <th>capital-gain</th>\n",
       "      <th>capital-loss</th>\n",
       "      <th>hours-per-week</th>\n",
       "      <th>income</th>\n",
       "    </tr>\n",
       "  </thead>\n",
       "  <tbody>\n",
       "    <tr>\n",
       "      <th>age</th>\n",
       "      <td>1.000000</td>\n",
       "      <td>-0.075753</td>\n",
       "      <td>0.035084</td>\n",
       "      <td>0.078498</td>\n",
       "      <td>0.054413</td>\n",
       "      <td>0.073100</td>\n",
       "      <td>0.238460</td>\n",
       "    </tr>\n",
       "    <tr>\n",
       "      <th>fnlwgt</th>\n",
       "      <td>-0.075753</td>\n",
       "      <td>1.000000</td>\n",
       "      <td>-0.030600</td>\n",
       "      <td>-0.005051</td>\n",
       "      <td>-0.001513</td>\n",
       "      <td>-0.010154</td>\n",
       "      <td>-0.002994</td>\n",
       "    </tr>\n",
       "    <tr>\n",
       "      <th>education-num</th>\n",
       "      <td>0.035084</td>\n",
       "      <td>-0.030600</td>\n",
       "      <td>1.000000</td>\n",
       "      <td>0.127651</td>\n",
       "      <td>0.083925</td>\n",
       "      <td>0.147569</td>\n",
       "      <td>0.331798</td>\n",
       "    </tr>\n",
       "    <tr>\n",
       "      <th>capital-gain</th>\n",
       "      <td>0.078498</td>\n",
       "      <td>-0.005051</td>\n",
       "      <td>0.127651</td>\n",
       "      <td>1.000000</td>\n",
       "      <td>-0.031401</td>\n",
       "      <td>0.088609</td>\n",
       "      <td>0.221387</td>\n",
       "    </tr>\n",
       "    <tr>\n",
       "      <th>capital-loss</th>\n",
       "      <td>0.054413</td>\n",
       "      <td>-0.001513</td>\n",
       "      <td>0.083925</td>\n",
       "      <td>-0.031401</td>\n",
       "      <td>1.000000</td>\n",
       "      <td>0.055271</td>\n",
       "      <td>0.135645</td>\n",
       "    </tr>\n",
       "    <tr>\n",
       "      <th>hours-per-week</th>\n",
       "      <td>0.073100</td>\n",
       "      <td>-0.010154</td>\n",
       "      <td>0.147569</td>\n",
       "      <td>0.088609</td>\n",
       "      <td>0.055271</td>\n",
       "      <td>1.000000</td>\n",
       "      <td>0.231045</td>\n",
       "    </tr>\n",
       "    <tr>\n",
       "      <th>income</th>\n",
       "      <td>0.238460</td>\n",
       "      <td>-0.002994</td>\n",
       "      <td>0.331798</td>\n",
       "      <td>0.221387</td>\n",
       "      <td>0.135645</td>\n",
       "      <td>0.231045</td>\n",
       "      <td>1.000000</td>\n",
       "    </tr>\n",
       "  </tbody>\n",
       "</table>\n",
       "</div>"
      ],
      "text/plain": [
       "                     age    fnlwgt  education-num  capital-gain  capital-loss  \\\n",
       "age             1.000000 -0.075753       0.035084      0.078498      0.054413   \n",
       "fnlwgt         -0.075753  1.000000      -0.030600     -0.005051     -0.001513   \n",
       "education-num   0.035084 -0.030600       1.000000      0.127651      0.083925   \n",
       "capital-gain    0.078498 -0.005051       0.127651      1.000000     -0.031401   \n",
       "capital-loss    0.054413 -0.001513       0.083925     -0.031401      1.000000   \n",
       "hours-per-week  0.073100 -0.010154       0.147569      0.088609      0.055271   \n",
       "income          0.238460 -0.002994       0.331798      0.221387      0.135645   \n",
       "\n",
       "                hours-per-week    income  \n",
       "age                   0.073100  0.238460  \n",
       "fnlwgt               -0.010154 -0.002994  \n",
       "education-num         0.147569  0.331798  \n",
       "capital-gain          0.088609  0.221387  \n",
       "capital-loss          0.055271  0.135645  \n",
       "hours-per-week        1.000000  0.231045  \n",
       "income                0.231045  1.000000  "
      ]
     },
     "execution_count": 88,
     "metadata": {},
     "output_type": "execute_result"
    }
   ],
   "source": [
    "train.corr()"
   ]
  },
  {
   "cell_type": "code",
   "execution_count": 89,
   "metadata": {},
   "outputs": [
    {
     "data": {
      "text/plain": [
       "array(['11th', 'Some-college', 'Bachelors', 'Assoc-voc', '9th', 'HS-grad',\n",
       "       'Masters', '5th-6th', 'Prof-school', '12th', '10th', 'Assoc-acdm',\n",
       "       'Doctorate', '7th-8th', '1st-4th', 'Preschool'], dtype=object)"
      ]
     },
     "execution_count": 89,
     "metadata": {},
     "output_type": "execute_result"
    }
   ],
   "source": [
    "train['education'].unique()"
   ]
  },
  {
   "cell_type": "code",
   "execution_count": 90,
   "metadata": {},
   "outputs": [
    {
     "data": {
      "text/plain": [
       "HS-grad         9435\n",
       "Some-college    6558\n",
       "Bachelors       4848\n",
       "Masters         1587\n",
       "Assoc-voc       1230\n",
       "11th            1057\n",
       "Assoc-acdm       980\n",
       "10th             816\n",
       "7th-8th          574\n",
       "Prof-school      500\n",
       "9th              430\n",
       "12th             415\n",
       "Doctorate        347\n",
       "5th-6th          334\n",
       "1st-4th          148\n",
       "Preschool         46\n",
       "Name: education, dtype: int64"
      ]
     },
     "execution_count": 90,
     "metadata": {},
     "output_type": "execute_result"
    }
   ],
   "source": [
    "temp = train['education'].value_counts()\n",
    "temp"
   ]
  },
  {
   "cell_type": "code",
   "execution_count": 91,
   "metadata": {},
   "outputs": [
    {
     "name": "stdout",
     "output_type": "stream",
     "text": [
      "'HS-grad':\n",
      "'Some-college':\n",
      "'Bachelors':\n",
      "'Masters':\n",
      "'Assoc-voc':\n",
      "'11th':\n",
      "'Assoc-acdm':\n",
      "'10th':\n",
      "'7th-8th':\n",
      "'Prof-school':\n",
      "'9th':\n",
      "'12th':\n",
      "'Doctorate':\n",
      "'5th-6th':\n",
      "'1st-4th':\n",
      "'Preschool':\n"
     ]
    }
   ],
   "source": [
    "for i in range(len(temp)):\n",
    "    print(f\"\\'{temp.index[i]}\\':\")"
   ]
  },
  {
   "cell_type": "code",
   "execution_count": 92,
   "metadata": {},
   "outputs": [
    {
     "data": {
      "text/html": [
       "<div>\n",
       "<style scoped>\n",
       "    .dataframe tbody tr th:only-of-type {\n",
       "        vertical-align: middle;\n",
       "    }\n",
       "\n",
       "    .dataframe tbody tr th {\n",
       "        vertical-align: top;\n",
       "    }\n",
       "\n",
       "    .dataframe thead th {\n",
       "        text-align: right;\n",
       "    }\n",
       "</style>\n",
       "<table border=\"1\" class=\"dataframe\">\n",
       "  <thead>\n",
       "    <tr style=\"text-align: right;\">\n",
       "      <th></th>\n",
       "      <th>income</th>\n",
       "    </tr>\n",
       "    <tr>\n",
       "      <th>education</th>\n",
       "      <th></th>\n",
       "    </tr>\n",
       "  </thead>\n",
       "  <tbody>\n",
       "    <tr>\n",
       "      <th>Prof-school</th>\n",
       "      <td>0.750000</td>\n",
       "    </tr>\n",
       "    <tr>\n",
       "      <th>Doctorate</th>\n",
       "      <td>0.740634</td>\n",
       "    </tr>\n",
       "    <tr>\n",
       "      <th>Masters</th>\n",
       "      <td>0.543793</td>\n",
       "    </tr>\n",
       "    <tr>\n",
       "      <th>Bachelors</th>\n",
       "      <td>0.412129</td>\n",
       "    </tr>\n",
       "    <tr>\n",
       "      <th>Assoc-acdm</th>\n",
       "      <td>0.259184</td>\n",
       "    </tr>\n",
       "    <tr>\n",
       "      <th>Assoc-voc</th>\n",
       "      <td>0.256911</td>\n",
       "    </tr>\n",
       "    <tr>\n",
       "      <th>Some-college</th>\n",
       "      <td>0.191674</td>\n",
       "    </tr>\n",
       "    <tr>\n",
       "      <th>HS-grad</th>\n",
       "      <td>0.160042</td>\n",
       "    </tr>\n",
       "    <tr>\n",
       "      <th>7th-8th</th>\n",
       "      <td>0.076655</td>\n",
       "    </tr>\n",
       "    <tr>\n",
       "      <th>12th</th>\n",
       "      <td>0.065060</td>\n",
       "    </tr>\n",
       "    <tr>\n",
       "      <th>11th</th>\n",
       "      <td>0.057711</td>\n",
       "    </tr>\n",
       "    <tr>\n",
       "      <th>9th</th>\n",
       "      <td>0.053488</td>\n",
       "    </tr>\n",
       "    <tr>\n",
       "      <th>10th</th>\n",
       "      <td>0.051471</td>\n",
       "    </tr>\n",
       "    <tr>\n",
       "      <th>5th-6th</th>\n",
       "      <td>0.047904</td>\n",
       "    </tr>\n",
       "    <tr>\n",
       "      <th>1st-4th</th>\n",
       "      <td>0.013514</td>\n",
       "    </tr>\n",
       "    <tr>\n",
       "      <th>Preschool</th>\n",
       "      <td>0.000000</td>\n",
       "    </tr>\n",
       "  </tbody>\n",
       "</table>\n",
       "</div>"
      ],
      "text/plain": [
       "                income\n",
       "education             \n",
       "Prof-school   0.750000\n",
       "Doctorate     0.740634\n",
       "Masters       0.543793\n",
       "Bachelors     0.412129\n",
       "Assoc-acdm    0.259184\n",
       "Assoc-voc     0.256911\n",
       "Some-college  0.191674\n",
       "HS-grad       0.160042\n",
       "7th-8th       0.076655\n",
       "12th          0.065060\n",
       "11th          0.057711\n",
       "9th           0.053488\n",
       "10th          0.051471\n",
       "5th-6th       0.047904\n",
       "1st-4th       0.013514\n",
       "Preschool     0.000000"
      ]
     },
     "execution_count": 92,
     "metadata": {},
     "output_type": "execute_result"
    }
   ],
   "source": [
    "pt_edu = train.pivot_table(values='income', #데이터로 사용 할 컬럼 지정\n",
    "                index=['education'], # 데이터 요약시 확인하고 싶은 컬럼\n",
    "                aggfunc='mean' ) \n",
    "pt_edu = pt_edu.sort_values(by='income', ascending=False)\n",
    "pt_edu"
   ]
  },
  {
   "cell_type": "code",
   "execution_count": 93,
   "metadata": {},
   "outputs": [],
   "source": [
    "dict_edu = {\n",
    "    'HS-grad':16,\n",
    "    'Some-college':19,\n",
    "    'Bachelors':41,\n",
    "    'Masters':54,\n",
    "    'Assoc-voc':26,\n",
    "    '11th':6,\n",
    "    'Assoc-acdm':26,\n",
    "    '10th':5,\n",
    "    '7th-8th':8,\n",
    "    'Prof-school':75,\n",
    "    '9th':5,\n",
    "    '12th':7,\n",
    "    'Doctorate':74,\n",
    "    '5th-6th':5,\n",
    "    '1st-4th':1,\n",
    "    'Preschool':0\n",
    "}"
   ]
  },
  {
   "cell_type": "code",
   "execution_count": 94,
   "metadata": {},
   "outputs": [],
   "source": [
    "train['education'] = train['education'].map(dict_edu)\n",
    "test['education'] = test['education'].map(dict_edu)"
   ]
  },
  {
   "cell_type": "code",
   "execution_count": 95,
   "metadata": {},
   "outputs": [
    {
     "data": {
      "text/plain": [
       "array([ 6, 19, 41, 26,  5, 16, 54, 75,  7, 74,  8,  1,  0], dtype=int64)"
      ]
     },
     "execution_count": 95,
     "metadata": {},
     "output_type": "execute_result"
    }
   ],
   "source": [
    "train['education'].unique()"
   ]
  },
  {
   "cell_type": "code",
   "execution_count": 96,
   "metadata": {},
   "outputs": [
    {
     "data": {
      "text/plain": [
       "array([19, 16, 41, 74,  5, 26, 54,  8,  6, 75,  7,  1,  0], dtype=int64)"
      ]
     },
     "execution_count": 96,
     "metadata": {},
     "output_type": "execute_result"
    }
   ],
   "source": [
    "test['education'].unique()"
   ]
  },
  {
   "cell_type": "code",
   "execution_count": 97,
   "metadata": {},
   "outputs": [
    {
     "data": {
      "text/plain": [
       "Married-civ-spouse       13331\n",
       "Never-married             9673\n",
       "Divorced                  4030\n",
       "Widowed                    942\n",
       "Separated                  914\n",
       "Married-spouse-absent      394\n",
       "Married-AF-spouse           21\n",
       "Name: marital-status, dtype: int64"
      ]
     },
     "execution_count": 97,
     "metadata": {},
     "output_type": "execute_result"
    }
   ],
   "source": [
    "temp = train['marital-status'].value_counts()\n",
    "temp"
   ]
  },
  {
   "cell_type": "code",
   "execution_count": 98,
   "metadata": {},
   "outputs": [
    {
     "name": "stdout",
     "output_type": "stream",
     "text": [
      "'Married-civ-spouse':\n",
      "'Never-married':\n",
      "'Divorced':\n",
      "'Widowed':\n",
      "'Separated':\n",
      "'Married-spouse-absent':\n",
      "'Married-AF-spouse':\n"
     ]
    }
   ],
   "source": [
    "for i in range(len(temp)):\n",
    "    print(f\"\\'{temp.index[i]}\\':\")"
   ]
  },
  {
   "cell_type": "code",
   "execution_count": 99,
   "metadata": {},
   "outputs": [
    {
     "data": {
      "text/html": [
       "<div>\n",
       "<style scoped>\n",
       "    .dataframe tbody tr th:only-of-type {\n",
       "        vertical-align: middle;\n",
       "    }\n",
       "\n",
       "    .dataframe tbody tr th {\n",
       "        vertical-align: top;\n",
       "    }\n",
       "\n",
       "    .dataframe thead th {\n",
       "        text-align: right;\n",
       "    }\n",
       "</style>\n",
       "<table border=\"1\" class=\"dataframe\">\n",
       "  <thead>\n",
       "    <tr style=\"text-align: right;\">\n",
       "      <th></th>\n",
       "      <th>income</th>\n",
       "    </tr>\n",
       "    <tr>\n",
       "      <th>marital-status</th>\n",
       "      <th></th>\n",
       "    </tr>\n",
       "  </thead>\n",
       "  <tbody>\n",
       "    <tr>\n",
       "      <th>Married-civ-spouse</th>\n",
       "      <td>0.448954</td>\n",
       "    </tr>\n",
       "    <tr>\n",
       "      <th>Married-AF-spouse</th>\n",
       "      <td>0.380952</td>\n",
       "    </tr>\n",
       "    <tr>\n",
       "      <th>Divorced</th>\n",
       "      <td>0.104467</td>\n",
       "    </tr>\n",
       "    <tr>\n",
       "      <th>Married-spouse-absent</th>\n",
       "      <td>0.093909</td>\n",
       "    </tr>\n",
       "    <tr>\n",
       "      <th>Widowed</th>\n",
       "      <td>0.083864</td>\n",
       "    </tr>\n",
       "    <tr>\n",
       "      <th>Separated</th>\n",
       "      <td>0.067834</td>\n",
       "    </tr>\n",
       "    <tr>\n",
       "      <th>Never-married</th>\n",
       "      <td>0.046831</td>\n",
       "    </tr>\n",
       "  </tbody>\n",
       "</table>\n",
       "</div>"
      ],
      "text/plain": [
       "                         income\n",
       "marital-status                 \n",
       "Married-civ-spouse     0.448954\n",
       "Married-AF-spouse      0.380952\n",
       "Divorced               0.104467\n",
       "Married-spouse-absent  0.093909\n",
       "Widowed                0.083864\n",
       "Separated              0.067834\n",
       "Never-married          0.046831"
      ]
     },
     "execution_count": 99,
     "metadata": {},
     "output_type": "execute_result"
    }
   ],
   "source": [
    "pt_marry = train.pivot_table(values='income', #데이터로 사용 할 컬럼 지정\n",
    "                index=['marital-status'], # 데이터 요약시 확인하고 싶은 컬럼\n",
    "                aggfunc='mean' ) \n",
    "pt_marry = pt_marry.sort_values(by='income', ascending=False)\n",
    "pt_marry"
   ]
  },
  {
   "cell_type": "code",
   "execution_count": 100,
   "metadata": {},
   "outputs": [],
   "source": [
    "dict_marry = {\n",
    "    'Married-civ-spouse':45,\n",
    "    'Never-married':5,\n",
    "    'Divorced':10,\n",
    "    'Widowed':8,\n",
    "    'Separated':7,\n",
    "    'Married-spouse-absent':9,\n",
    "    'Married-AF-spouse':38\n",
    "}"
   ]
  },
  {
   "cell_type": "code",
   "execution_count": 101,
   "metadata": {},
   "outputs": [],
   "source": [
    "train['marital-status'] = train['marital-status'].map(dict_marry)\n",
    "test['marital-status'] = test['marital-status'].map(dict_marry)"
   ]
  },
  {
   "cell_type": "code",
   "execution_count": 102,
   "metadata": {},
   "outputs": [
    {
     "data": {
      "text/plain": [
       "array([10,  5, 45,  7,  9,  8, 38], dtype=int64)"
      ]
     },
     "execution_count": 102,
     "metadata": {},
     "output_type": "execute_result"
    }
   ],
   "source": [
    "train['marital-status'].unique()"
   ]
  },
  {
   "cell_type": "code",
   "execution_count": 103,
   "metadata": {},
   "outputs": [
    {
     "data": {
      "text/plain": [
       "array([ 5, 45,  8, 10,  7,  9, 38], dtype=int64)"
      ]
     },
     "execution_count": 103,
     "metadata": {},
     "output_type": "execute_result"
    }
   ],
   "source": [
    "test['marital-status'].unique()"
   ]
  },
  {
   "cell_type": "code",
   "execution_count": 104,
   "metadata": {},
   "outputs": [
    {
     "data": {
      "text/plain": [
       "Husband           11769\n",
       "Not-in-family      7637\n",
       "Own-child          4554\n",
       "Unmarried          3071\n",
       "Wife               1370\n",
       "Other-relative      904\n",
       "Name: relationship, dtype: int64"
      ]
     },
     "execution_count": 104,
     "metadata": {},
     "output_type": "execute_result"
    }
   ],
   "source": [
    "temp = train['relationship'].value_counts()\n",
    "temp"
   ]
  },
  {
   "cell_type": "code",
   "execution_count": 105,
   "metadata": {},
   "outputs": [
    {
     "name": "stdout",
     "output_type": "stream",
     "text": [
      "'Husband':\n",
      "'Not-in-family':\n",
      "'Own-child':\n",
      "'Unmarried':\n",
      "'Wife':\n",
      "'Other-relative':\n"
     ]
    }
   ],
   "source": [
    "for i in range(len(temp)):\n",
    "    print(f\"\\'{temp.index[i]}\\':\")"
   ]
  },
  {
   "cell_type": "code",
   "execution_count": 106,
   "metadata": {},
   "outputs": [
    {
     "data": {
      "text/html": [
       "<div>\n",
       "<style scoped>\n",
       "    .dataframe tbody tr th:only-of-type {\n",
       "        vertical-align: middle;\n",
       "    }\n",
       "\n",
       "    .dataframe tbody tr th {\n",
       "        vertical-align: top;\n",
       "    }\n",
       "\n",
       "    .dataframe thead th {\n",
       "        text-align: right;\n",
       "    }\n",
       "</style>\n",
       "<table border=\"1\" class=\"dataframe\">\n",
       "  <thead>\n",
       "    <tr style=\"text-align: right;\">\n",
       "      <th></th>\n",
       "      <th>income</th>\n",
       "    </tr>\n",
       "    <tr>\n",
       "      <th>relationship</th>\n",
       "      <th></th>\n",
       "    </tr>\n",
       "  </thead>\n",
       "  <tbody>\n",
       "    <tr>\n",
       "      <th>Wife</th>\n",
       "      <td>0.466423</td>\n",
       "    </tr>\n",
       "    <tr>\n",
       "      <th>Husband</th>\n",
       "      <td>0.452035</td>\n",
       "    </tr>\n",
       "    <tr>\n",
       "      <th>Not-in-family</th>\n",
       "      <td>0.105146</td>\n",
       "    </tr>\n",
       "    <tr>\n",
       "      <th>Unmarried</th>\n",
       "      <td>0.060567</td>\n",
       "    </tr>\n",
       "    <tr>\n",
       "      <th>Other-relative</th>\n",
       "      <td>0.035398</td>\n",
       "    </tr>\n",
       "    <tr>\n",
       "      <th>Own-child</th>\n",
       "      <td>0.014273</td>\n",
       "    </tr>\n",
       "  </tbody>\n",
       "</table>\n",
       "</div>"
      ],
      "text/plain": [
       "                  income\n",
       "relationship            \n",
       "Wife            0.466423\n",
       "Husband         0.452035\n",
       "Not-in-family   0.105146\n",
       "Unmarried       0.060567\n",
       "Other-relative  0.035398\n",
       "Own-child       0.014273"
      ]
     },
     "execution_count": 106,
     "metadata": {},
     "output_type": "execute_result"
    }
   ],
   "source": [
    "pt_rel = train.pivot_table(values='income', #데이터로 사용 할 컬럼 지정\n",
    "                index=['relationship'], # 데이터 요약시 확인하고 싶은 컬럼\n",
    "                aggfunc='mean' ) \n",
    "pt_rel = pt_rel.sort_values(by='income', ascending=False)\n",
    "pt_rel"
   ]
  },
  {
   "cell_type": "code",
   "execution_count": 107,
   "metadata": {},
   "outputs": [],
   "source": [
    "dict_rel = {\n",
    "    'Husband':45,\n",
    "    'Not-in-family':11,\n",
    "    'Own-child':1,\n",
    "    'Unmarried':6,\n",
    "    'Wife':47,\n",
    "    'Other-relative':4\n",
    "}"
   ]
  },
  {
   "cell_type": "code",
   "execution_count": 108,
   "metadata": {},
   "outputs": [],
   "source": [
    "train['relationship'] = train['relationship'].map(dict_rel)\n",
    "test['relationship'] = test['relationship'].map(dict_rel)"
   ]
  },
  {
   "cell_type": "code",
   "execution_count": 109,
   "metadata": {},
   "outputs": [
    {
     "data": {
      "text/plain": [
       "array([11, 45,  6,  4,  1, 47], dtype=int64)"
      ]
     },
     "execution_count": 109,
     "metadata": {},
     "output_type": "execute_result"
    }
   ],
   "source": [
    "train['relationship'].unique()"
   ]
  },
  {
   "cell_type": "code",
   "execution_count": 110,
   "metadata": {},
   "outputs": [
    {
     "data": {
      "text/plain": [
       "array([ 1, 47, 45, 11,  6,  4], dtype=int64)"
      ]
     },
     "execution_count": 110,
     "metadata": {},
     "output_type": "execute_result"
    }
   ],
   "source": [
    "test['relationship'].unique()"
   ]
  },
  {
   "cell_type": "code",
   "execution_count": 111,
   "metadata": {},
   "outputs": [
    {
     "data": {
      "text/plain": [
       "White                 25081\n",
       "Black                  2776\n",
       "Asian-Pac-Islander      919\n",
       "Amer-Indian-Eskimo      290\n",
       "Other                   239\n",
       "Name: race, dtype: int64"
      ]
     },
     "execution_count": 111,
     "metadata": {},
     "output_type": "execute_result"
    }
   ],
   "source": [
    "temp = train['race'].value_counts()\n",
    "temp"
   ]
  },
  {
   "cell_type": "code",
   "execution_count": 112,
   "metadata": {},
   "outputs": [
    {
     "name": "stdout",
     "output_type": "stream",
     "text": [
      "'White':\n",
      "'Black':\n",
      "'Asian-Pac-Islander':\n",
      "'Amer-Indian-Eskimo':\n",
      "'Other':\n"
     ]
    }
   ],
   "source": [
    "for i in range(len(temp)):\n",
    "    print(f\"\\'{temp.index[i]}\\':\")"
   ]
  },
  {
   "cell_type": "code",
   "execution_count": 113,
   "metadata": {},
   "outputs": [
    {
     "data": {
      "text/html": [
       "<div>\n",
       "<style scoped>\n",
       "    .dataframe tbody tr th:only-of-type {\n",
       "        vertical-align: middle;\n",
       "    }\n",
       "\n",
       "    .dataframe tbody tr th {\n",
       "        vertical-align: top;\n",
       "    }\n",
       "\n",
       "    .dataframe thead th {\n",
       "        text-align: right;\n",
       "    }\n",
       "</style>\n",
       "<table border=\"1\" class=\"dataframe\">\n",
       "  <thead>\n",
       "    <tr style=\"text-align: right;\">\n",
       "      <th></th>\n",
       "      <th>income</th>\n",
       "    </tr>\n",
       "    <tr>\n",
       "      <th>race</th>\n",
       "      <th></th>\n",
       "    </tr>\n",
       "  </thead>\n",
       "  <tbody>\n",
       "    <tr>\n",
       "      <th>White</th>\n",
       "      <td>0.255851</td>\n",
       "    </tr>\n",
       "    <tr>\n",
       "      <th>Asian-Pac-Islander</th>\n",
       "      <td>0.255713</td>\n",
       "    </tr>\n",
       "    <tr>\n",
       "      <th>Amer-Indian-Eskimo</th>\n",
       "      <td>0.124138</td>\n",
       "    </tr>\n",
       "    <tr>\n",
       "      <th>Black</th>\n",
       "      <td>0.118516</td>\n",
       "    </tr>\n",
       "    <tr>\n",
       "      <th>Other</th>\n",
       "      <td>0.117155</td>\n",
       "    </tr>\n",
       "  </tbody>\n",
       "</table>\n",
       "</div>"
      ],
      "text/plain": [
       "                      income\n",
       "race                        \n",
       "White               0.255851\n",
       "Asian-Pac-Islander  0.255713\n",
       "Amer-Indian-Eskimo  0.124138\n",
       "Black               0.118516\n",
       "Other               0.117155"
      ]
     },
     "execution_count": 113,
     "metadata": {},
     "output_type": "execute_result"
    }
   ],
   "source": [
    "pt_race = train.pivot_table(values='income', #데이터로 사용 할 컬럼 지정\n",
    "                index=['race'], # 데이터 요약시 확인하고 싶은 컬럼\n",
    "                aggfunc='mean' ) \n",
    "pt_race = pt_race.sort_values(by='income', ascending=False)\n",
    "pt_race"
   ]
  },
  {
   "cell_type": "code",
   "execution_count": 114,
   "metadata": {},
   "outputs": [],
   "source": [
    "dict_race = {\n",
    "    'White':256,\n",
    "    'Black':118,\n",
    "    'Asian-Pac-Islander':256,\n",
    "    'Amer-Indian-Eskimo':124,\n",
    "    'Other':117\n",
    "}"
   ]
  },
  {
   "cell_type": "code",
   "execution_count": 115,
   "metadata": {},
   "outputs": [],
   "source": [
    "train['race'] = train['race'].map(dict_race)\n",
    "test['race'] = test['race'].map(dict_race)"
   ]
  },
  {
   "cell_type": "code",
   "execution_count": 116,
   "metadata": {},
   "outputs": [
    {
     "data": {
      "text/plain": [
       "array([256, 118, 124, 117], dtype=int64)"
      ]
     },
     "execution_count": 116,
     "metadata": {},
     "output_type": "execute_result"
    }
   ],
   "source": [
    "train['race'].unique()"
   ]
  },
  {
   "cell_type": "code",
   "execution_count": 117,
   "metadata": {},
   "outputs": [
    {
     "data": {
      "text/plain": [
       "array([256, 118, 124, 117], dtype=int64)"
      ]
     },
     "execution_count": 117,
     "metadata": {},
     "output_type": "execute_result"
    }
   ],
   "source": [
    "test['race'].unique()"
   ]
  },
  {
   "cell_type": "code",
   "execution_count": 118,
   "metadata": {},
   "outputs": [
    {
     "data": {
      "text/plain": [
       "Male      19621\n",
       "Female     9684\n",
       "Name: sex, dtype: int64"
      ]
     },
     "execution_count": 118,
     "metadata": {},
     "output_type": "execute_result"
    }
   ],
   "source": [
    "temp = train['sex'].value_counts()\n",
    "temp"
   ]
  },
  {
   "cell_type": "code",
   "execution_count": 119,
   "metadata": {},
   "outputs": [
    {
     "name": "stdout",
     "output_type": "stream",
     "text": [
      "'Male':\n",
      "'Female':\n"
     ]
    }
   ],
   "source": [
    "for i in range(len(temp)):\n",
    "    print(f\"\\'{temp.index[i]}\\':\")"
   ]
  },
  {
   "cell_type": "code",
   "execution_count": 120,
   "metadata": {},
   "outputs": [
    {
     "data": {
      "text/html": [
       "<div>\n",
       "<style scoped>\n",
       "    .dataframe tbody tr th:only-of-type {\n",
       "        vertical-align: middle;\n",
       "    }\n",
       "\n",
       "    .dataframe tbody tr th {\n",
       "        vertical-align: top;\n",
       "    }\n",
       "\n",
       "    .dataframe thead th {\n",
       "        text-align: right;\n",
       "    }\n",
       "</style>\n",
       "<table border=\"1\" class=\"dataframe\">\n",
       "  <thead>\n",
       "    <tr style=\"text-align: right;\">\n",
       "      <th></th>\n",
       "      <th>income</th>\n",
       "    </tr>\n",
       "    <tr>\n",
       "      <th>sex</th>\n",
       "      <th></th>\n",
       "    </tr>\n",
       "  </thead>\n",
       "  <tbody>\n",
       "    <tr>\n",
       "      <th>Male</th>\n",
       "      <td>0.305132</td>\n",
       "    </tr>\n",
       "    <tr>\n",
       "      <th>Female</th>\n",
       "      <td>0.109252</td>\n",
       "    </tr>\n",
       "  </tbody>\n",
       "</table>\n",
       "</div>"
      ],
      "text/plain": [
       "          income\n",
       "sex             \n",
       "Male    0.305132\n",
       "Female  0.109252"
      ]
     },
     "execution_count": 120,
     "metadata": {},
     "output_type": "execute_result"
    }
   ],
   "source": [
    "pt_sex = train.pivot_table(values='income', #데이터로 사용 할 컬럼 지정\n",
    "                index=['sex'], # 데이터 요약시 확인하고 싶은 컬럼\n",
    "                aggfunc='mean' ) \n",
    "pt_sex = pt_sex.sort_values(by='income', ascending=False)\n",
    "pt_sex"
   ]
  },
  {
   "cell_type": "code",
   "execution_count": 121,
   "metadata": {},
   "outputs": [],
   "source": [
    "dict_sex = {\n",
    "    'Male':3,\n",
    "    'Female':1\n",
    "}"
   ]
  },
  {
   "cell_type": "code",
   "execution_count": 122,
   "metadata": {},
   "outputs": [],
   "source": [
    "train['sex'] = train['sex'].map(dict_sex)\n",
    "test['sex'] = test['sex'].map(dict_sex)"
   ]
  },
  {
   "cell_type": "code",
   "execution_count": 123,
   "metadata": {},
   "outputs": [
    {
     "data": {
      "text/plain": [
       "array([3, 1], dtype=int64)"
      ]
     },
     "execution_count": 123,
     "metadata": {},
     "output_type": "execute_result"
    }
   ],
   "source": [
    "train['sex'].unique()"
   ]
  },
  {
   "cell_type": "code",
   "execution_count": 124,
   "metadata": {},
   "outputs": [
    {
     "data": {
      "text/plain": [
       "array([3, 1], dtype=int64)"
      ]
     },
     "execution_count": 124,
     "metadata": {},
     "output_type": "execute_result"
    }
   ],
   "source": [
    "test['sex'].unique()"
   ]
  },
  {
   "cell_type": "code",
   "execution_count": 125,
   "metadata": {},
   "outputs": [],
   "source": [
    "####################################################\n",
    "##########비상비상비상###############################\n",
    "####################################################"
   ]
  },
  {
   "cell_type": "code",
   "execution_count": 141,
   "metadata": {},
   "outputs": [
    {
     "data": {
      "text/plain": [
       "Private             20410\n",
       "Self-emp-not-inc     2305\n",
       "Local-gov            1868\n",
       "?                    1663\n",
       "State-gov            1201\n",
       "Self-emp-inc          987\n",
       "Federal-gov           854\n",
       "Without-pay            12\n",
       "Never-worked            5\n",
       "Name: workclass, dtype: int64"
      ]
     },
     "execution_count": 141,
     "metadata": {},
     "output_type": "execute_result"
    }
   ],
   "source": [
    "temp = train['workclass'].value_counts()\n",
    "temp"
   ]
  },
  {
   "cell_type": "code",
   "execution_count": 142,
   "metadata": {},
   "outputs": [
    {
     "name": "stdout",
     "output_type": "stream",
     "text": [
      "'Private':\n",
      "'Self-emp-not-inc':\n",
      "'Local-gov':\n",
      "'?':\n",
      "'State-gov':\n",
      "'Self-emp-inc':\n",
      "'Federal-gov':\n",
      "'Without-pay':\n",
      "'Never-worked':\n"
     ]
    }
   ],
   "source": [
    "for i in range(len(temp)):\n",
    "    print(f\"\\'{temp.index[i]}\\':\")"
   ]
  },
  {
   "cell_type": "code",
   "execution_count": 143,
   "metadata": {},
   "outputs": [
    {
     "data": {
      "text/html": [
       "<div>\n",
       "<style scoped>\n",
       "    .dataframe tbody tr th:only-of-type {\n",
       "        vertical-align: middle;\n",
       "    }\n",
       "\n",
       "    .dataframe tbody tr th {\n",
       "        vertical-align: top;\n",
       "    }\n",
       "\n",
       "    .dataframe thead th {\n",
       "        text-align: right;\n",
       "    }\n",
       "</style>\n",
       "<table border=\"1\" class=\"dataframe\">\n",
       "  <thead>\n",
       "    <tr style=\"text-align: right;\">\n",
       "      <th></th>\n",
       "      <th>income</th>\n",
       "    </tr>\n",
       "    <tr>\n",
       "      <th>workclass</th>\n",
       "      <th></th>\n",
       "    </tr>\n",
       "  </thead>\n",
       "  <tbody>\n",
       "    <tr>\n",
       "      <th>Self-emp-inc</th>\n",
       "      <td>0.554205</td>\n",
       "    </tr>\n",
       "    <tr>\n",
       "      <th>Federal-gov</th>\n",
       "      <td>0.382904</td>\n",
       "    </tr>\n",
       "    <tr>\n",
       "      <th>Local-gov</th>\n",
       "      <td>0.299251</td>\n",
       "    </tr>\n",
       "    <tr>\n",
       "      <th>Self-emp-not-inc</th>\n",
       "      <td>0.278959</td>\n",
       "    </tr>\n",
       "    <tr>\n",
       "      <th>State-gov</th>\n",
       "      <td>0.262281</td>\n",
       "    </tr>\n",
       "    <tr>\n",
       "      <th>Private</th>\n",
       "      <td>0.219402</td>\n",
       "    </tr>\n",
       "    <tr>\n",
       "      <th>?</th>\n",
       "      <td>0.105232</td>\n",
       "    </tr>\n",
       "    <tr>\n",
       "      <th>Without-pay</th>\n",
       "      <td>0.083333</td>\n",
       "    </tr>\n",
       "    <tr>\n",
       "      <th>Never-worked</th>\n",
       "      <td>0.000000</td>\n",
       "    </tr>\n",
       "  </tbody>\n",
       "</table>\n",
       "</div>"
      ],
      "text/plain": [
       "                    income\n",
       "workclass                 \n",
       "Self-emp-inc      0.554205\n",
       "Federal-gov       0.382904\n",
       "Local-gov         0.299251\n",
       "Self-emp-not-inc  0.278959\n",
       "State-gov         0.262281\n",
       "Private           0.219402\n",
       "?                 0.105232\n",
       "Without-pay       0.083333\n",
       "Never-worked      0.000000"
      ]
     },
     "execution_count": 143,
     "metadata": {},
     "output_type": "execute_result"
    }
   ],
   "source": [
    "pt_wc = train.pivot_table(values='income', #데이터로 사용 할 컬럼 지정\n",
    "                index=['workclass'], # 데이터 요약시 확인하고 싶은 컬럼\n",
    "                aggfunc='mean' ) \n",
    "pt_wc = pt_wc.sort_values(by='income', ascending=False)\n",
    "pt_wc"
   ]
  },
  {
   "cell_type": "code",
   "execution_count": 144,
   "metadata": {},
   "outputs": [],
   "source": [
    "dict_wc = {\n",
    "    'Private':22,\n",
    "    'Self-emp-not-inc':28,\n",
    "    'Local-gov':30,\n",
    "    '?':11,\n",
    "    'State-gov':26,\n",
    "    'Self-emp-inc':55,\n",
    "    'Federal-gov':38,\n",
    "    'Without-pay':8,\n",
    "    'Never-worked':0\n",
    "}"
   ]
  },
  {
   "cell_type": "code",
   "execution_count": 145,
   "metadata": {},
   "outputs": [],
   "source": [
    "train['workclass'] = train['workclass'].map(dict_wc)\n",
    "test['workclass'] = test['workclass'].map(dict_wc)"
   ]
  },
  {
   "cell_type": "code",
   "execution_count": 151,
   "metadata": {},
   "outputs": [
    {
     "data": {
      "text/plain": [
       "array([22, 28, 30, 26, 55, 38,  8,  0], dtype=int64)"
      ]
     },
     "execution_count": 151,
     "metadata": {},
     "output_type": "execute_result"
    }
   ],
   "source": [
    "train['workclass'].unique()"
   ]
  },
  {
   "cell_type": "code",
   "execution_count": 152,
   "metadata": {},
   "outputs": [
    {
     "data": {
      "text/plain": [
       "array([11, 22, 28, 30, 55, 26, 38,  8,  0], dtype=int64)"
      ]
     },
     "execution_count": 152,
     "metadata": {},
     "output_type": "execute_result"
    }
   ],
   "source": [
    "test['workclass'].unique()"
   ]
  },
  {
   "cell_type": "code",
   "execution_count": 148,
   "metadata": {},
   "outputs": [
    {
     "data": {
      "text/plain": [
       "array([22, 28, 30, 11, 26, 55, 38,  8,  0], dtype=int64)"
      ]
     },
     "execution_count": 148,
     "metadata": {},
     "output_type": "execute_result"
    },
    {
     "data": {
      "text/plain": [
       "no\n",
       "1        22\n",
       "2        22\n",
       "3        22\n",
       "4        22\n",
       "5        22\n",
       "         ..\n",
       "29300    22\n",
       "29301    22\n",
       "29302    22\n",
       "29303    28\n",
       "29304    22\n",
       "Name: workclass, Length: 27642, dtype: int64"
      ]
     },
     "execution_count": 148,
     "metadata": {},
     "output_type": "execute_result"
    },
    {
     "name": "stdout",
     "output_type": "stream",
     "text": [
      "(27642, 13)\n",
      "(27642,)\n",
      "(1663, 13)\n",
      "(27642, 13)\n",
      "(27642,)\n",
      "(1663, 13)\n"
     ]
    },
    {
     "data": {
      "text/plain": [
       "GradientBoostingClassifier(random_state=7)"
      ]
     },
     "execution_count": 148,
     "metadata": {},
     "output_type": "execute_result"
    },
    {
     "data": {
      "text/plain": [
       "0.7381882679758268"
      ]
     },
     "execution_count": 148,
     "metadata": {},
     "output_type": "execute_result"
    }
   ],
   "source": [
    "#==========================================================================================================================================================\n",
    "#==========================================================================================================================================================\n",
    "#==========================================================================================================================================================\n",
    "\n",
    "train['workclass'].unique()\n",
    "train['workclass'][train['workclass']!=11]\n",
    "\n",
    "w_train = train.loc[train['workclass']!=11]\n",
    "\n",
    "wX_train = w_train[['age', 'fnlwgt', 'education', 'education-num',\n",
    "       'marital-status', 'relationship', 'race', 'sex',\n",
    "       'capital-gain', 'capital-loss', 'hours-per-week', 'native-country',\n",
    "       'income']]\n",
    "wy_train = train['workclass'][train['workclass']!=11]\n",
    "\n",
    "w_train2 =  train.loc[train['workclass']==11]\n",
    "wX_test = w_train2[['age', 'fnlwgt', 'education', 'education-num',\n",
    "       'marital-status', 'relationship', 'race', 'sex',\n",
    "       'capital-gain', 'capital-loss', 'hours-per-week', 'native-country',\n",
    "       'income']]\n",
    "\n",
    "print(wX_train.shape)\n",
    "print(wy_train.shape)\n",
    "print(wX_test.shape)\n",
    "\n",
    "wX_train = pd.get_dummies(wX_train)\n",
    "wX_test = pd.get_dummies(wX_test)\n",
    "\n",
    "print(wX_train.shape)\n",
    "print(wy_train.shape)\n",
    "print(wX_test.shape)\n",
    "\n",
    "from sklearn.ensemble import GradientBoostingClassifier\n",
    "\n",
    "gb = GradientBoostingClassifier(random_state=7)\n",
    "gb.fit(wX_train, wy_train)\n",
    "\n",
    "res = cross_val_score(gb,wX_train,wy_train,cv=8)\n",
    "res.mean()"
   ]
  },
  {
   "cell_type": "code",
   "execution_count": 150,
   "metadata": {},
   "outputs": [
    {
     "ename": "ValueError",
     "evalue": "cannot set using a list-like indexer with a different length than the value",
     "output_type": "error",
     "traceback": [
      "\u001b[1;31m---------------------------------------------------------------------------\u001b[0m",
      "\u001b[1;31mTypeError\u001b[0m                                 Traceback (most recent call last)",
      "\u001b[1;32mc:\\Users\\SMHRD\\anaconda3\\lib\\site-packages\\pandas\\core\\indexes\\base.py\u001b[0m in \u001b[0;36mget_loc\u001b[1;34m(self, key, method, tolerance)\u001b[0m\n\u001b[0;32m   3628\u001b[0m             \u001b[1;32mtry\u001b[0m\u001b[1;33m:\u001b[0m\u001b[1;33m\u001b[0m\u001b[1;33m\u001b[0m\u001b[0m\n\u001b[1;32m-> 3629\u001b[1;33m                 \u001b[1;32mreturn\u001b[0m \u001b[0mself\u001b[0m\u001b[1;33m.\u001b[0m\u001b[0m_engine\u001b[0m\u001b[1;33m.\u001b[0m\u001b[0mget_loc\u001b[0m\u001b[1;33m(\u001b[0m\u001b[0mcasted_key\u001b[0m\u001b[1;33m)\u001b[0m\u001b[1;33m\u001b[0m\u001b[1;33m\u001b[0m\u001b[0m\n\u001b[0m\u001b[0;32m   3630\u001b[0m             \u001b[1;32mexcept\u001b[0m \u001b[0mKeyError\u001b[0m \u001b[1;32mas\u001b[0m \u001b[0merr\u001b[0m\u001b[1;33m:\u001b[0m\u001b[1;33m\u001b[0m\u001b[1;33m\u001b[0m\u001b[0m\n",
      "\u001b[1;32mc:\\Users\\SMHRD\\anaconda3\\lib\\site-packages\\pandas\\_libs\\index.pyx\u001b[0m in \u001b[0;36mpandas._libs.index.IndexEngine.get_loc\u001b[1;34m()\u001b[0m\n",
      "\u001b[1;32mc:\\Users\\SMHRD\\anaconda3\\lib\\site-packages\\pandas\\_libs\\index.pyx\u001b[0m in \u001b[0;36mpandas._libs.index.IndexEngine.get_loc\u001b[1;34m()\u001b[0m\n",
      "\u001b[1;31mTypeError\u001b[0m: 'no\n1        False\n2        False\n3        False\n4        False\n5        False\n         ...  \n29301    False\n29302    False\n29303    False\n29304    False\n29305    False\nName: workclass, Length: 29305, dtype: bool' is an invalid key",
      "\nDuring handling of the above exception, another exception occurred:\n",
      "\u001b[1;31mInvalidIndexError\u001b[0m                         Traceback (most recent call last)",
      "\u001b[1;32mc:\\Users\\SMHRD\\anaconda3\\lib\\site-packages\\pandas\\core\\series.py\u001b[0m in \u001b[0;36m__setitem__\u001b[1;34m(self, key, value)\u001b[0m\n\u001b[0;32m   1084\u001b[0m         \u001b[1;32mtry\u001b[0m\u001b[1;33m:\u001b[0m\u001b[1;33m\u001b[0m\u001b[1;33m\u001b[0m\u001b[0m\n\u001b[1;32m-> 1085\u001b[1;33m             \u001b[0mself\u001b[0m\u001b[1;33m.\u001b[0m\u001b[0m_set_with_engine\u001b[0m\u001b[1;33m(\u001b[0m\u001b[0mkey\u001b[0m\u001b[1;33m,\u001b[0m \u001b[0mvalue\u001b[0m\u001b[1;33m)\u001b[0m\u001b[1;33m\u001b[0m\u001b[1;33m\u001b[0m\u001b[0m\n\u001b[0m\u001b[0;32m   1086\u001b[0m         \u001b[1;32mexcept\u001b[0m \u001b[1;33m(\u001b[0m\u001b[0mKeyError\u001b[0m\u001b[1;33m,\u001b[0m \u001b[0mValueError\u001b[0m\u001b[1;33m)\u001b[0m\u001b[1;33m:\u001b[0m\u001b[1;33m\u001b[0m\u001b[1;33m\u001b[0m\u001b[0m\n",
      "\u001b[1;32mc:\\Users\\SMHRD\\anaconda3\\lib\\site-packages\\pandas\\core\\series.py\u001b[0m in \u001b[0;36m_set_with_engine\u001b[1;34m(self, key, value)\u001b[0m\n\u001b[0;32m   1145\u001b[0m     \u001b[1;32mdef\u001b[0m \u001b[0m_set_with_engine\u001b[0m\u001b[1;33m(\u001b[0m\u001b[0mself\u001b[0m\u001b[1;33m,\u001b[0m \u001b[0mkey\u001b[0m\u001b[1;33m,\u001b[0m \u001b[0mvalue\u001b[0m\u001b[1;33m)\u001b[0m \u001b[1;33m->\u001b[0m \u001b[1;32mNone\u001b[0m\u001b[1;33m:\u001b[0m\u001b[1;33m\u001b[0m\u001b[1;33m\u001b[0m\u001b[0m\n\u001b[1;32m-> 1146\u001b[1;33m         \u001b[0mloc\u001b[0m \u001b[1;33m=\u001b[0m \u001b[0mself\u001b[0m\u001b[1;33m.\u001b[0m\u001b[0mindex\u001b[0m\u001b[1;33m.\u001b[0m\u001b[0mget_loc\u001b[0m\u001b[1;33m(\u001b[0m\u001b[0mkey\u001b[0m\u001b[1;33m)\u001b[0m\u001b[1;33m\u001b[0m\u001b[1;33m\u001b[0m\u001b[0m\n\u001b[0m\u001b[0;32m   1147\u001b[0m \u001b[1;33m\u001b[0m\u001b[0m\n",
      "\u001b[1;32mc:\\Users\\SMHRD\\anaconda3\\lib\\site-packages\\pandas\\core\\indexes\\base.py\u001b[0m in \u001b[0;36mget_loc\u001b[1;34m(self, key, method, tolerance)\u001b[0m\n\u001b[0;32m   3635\u001b[0m                 \u001b[1;31m#  the TypeError.\u001b[0m\u001b[1;33m\u001b[0m\u001b[1;33m\u001b[0m\u001b[0m\n\u001b[1;32m-> 3636\u001b[1;33m                 \u001b[0mself\u001b[0m\u001b[1;33m.\u001b[0m\u001b[0m_check_indexing_error\u001b[0m\u001b[1;33m(\u001b[0m\u001b[0mkey\u001b[0m\u001b[1;33m)\u001b[0m\u001b[1;33m\u001b[0m\u001b[1;33m\u001b[0m\u001b[0m\n\u001b[0m\u001b[0;32m   3637\u001b[0m                 \u001b[1;32mraise\u001b[0m\u001b[1;33m\u001b[0m\u001b[1;33m\u001b[0m\u001b[0m\n",
      "\u001b[1;32mc:\\Users\\SMHRD\\anaconda3\\lib\\site-packages\\pandas\\core\\indexes\\base.py\u001b[0m in \u001b[0;36m_check_indexing_error\u001b[1;34m(self, key)\u001b[0m\n\u001b[0;32m   5650\u001b[0m             \u001b[1;31m# would convert to numpy arrays and raise later any way) - GH29926\u001b[0m\u001b[1;33m\u001b[0m\u001b[1;33m\u001b[0m\u001b[0m\n\u001b[1;32m-> 5651\u001b[1;33m             \u001b[1;32mraise\u001b[0m \u001b[0mInvalidIndexError\u001b[0m\u001b[1;33m(\u001b[0m\u001b[0mkey\u001b[0m\u001b[1;33m)\u001b[0m\u001b[1;33m\u001b[0m\u001b[1;33m\u001b[0m\u001b[0m\n\u001b[0m\u001b[0;32m   5652\u001b[0m \u001b[1;33m\u001b[0m\u001b[0m\n",
      "\u001b[1;31mInvalidIndexError\u001b[0m: no\n1        False\n2        False\n3        False\n4        False\n5        False\n         ...  \n29301    False\n29302    False\n29303    False\n29304    False\n29305    False\nName: workclass, Length: 29305, dtype: bool",
      "\nDuring handling of the above exception, another exception occurred:\n",
      "\u001b[1;31mValueError\u001b[0m                                Traceback (most recent call last)",
      "\u001b[1;32m~\\AppData\\Local\\Temp\\ipykernel_9808\\468161173.py\u001b[0m in \u001b[0;36m<module>\u001b[1;34m\u001b[0m\n\u001b[0;32m      1\u001b[0m \u001b[0mpt1\u001b[0m \u001b[1;33m=\u001b[0m \u001b[0mgb\u001b[0m\u001b[1;33m.\u001b[0m\u001b[0mpredict\u001b[0m\u001b[1;33m(\u001b[0m\u001b[0mwX_test\u001b[0m\u001b[1;33m)\u001b[0m\u001b[1;33m\u001b[0m\u001b[1;33m\u001b[0m\u001b[0m\n\u001b[1;32m----> 2\u001b[1;33m \u001b[0mtrain\u001b[0m\u001b[1;33m[\u001b[0m\u001b[1;34m'workclass'\u001b[0m\u001b[1;33m]\u001b[0m\u001b[1;33m[\u001b[0m\u001b[0mtrain\u001b[0m\u001b[1;33m[\u001b[0m\u001b[1;34m'workclass'\u001b[0m\u001b[1;33m]\u001b[0m\u001b[1;33m==\u001b[0m\u001b[1;36m11\u001b[0m\u001b[1;33m]\u001b[0m \u001b[1;33m=\u001b[0m \u001b[0mpt1\u001b[0m\u001b[1;33m\u001b[0m\u001b[1;33m\u001b[0m\u001b[0m\n\u001b[0m\u001b[0;32m      3\u001b[0m \u001b[1;31m# train['workclass'] = train['workclass'].astype('int64')\u001b[0m\u001b[1;33m\u001b[0m\u001b[1;33m\u001b[0m\u001b[0m\n\u001b[0;32m      4\u001b[0m \u001b[0mtrain\u001b[0m\u001b[1;33m[\u001b[0m\u001b[1;34m'workclass'\u001b[0m\u001b[1;33m]\u001b[0m\u001b[1;33m.\u001b[0m\u001b[0munique\u001b[0m\u001b[1;33m(\u001b[0m\u001b[1;33m)\u001b[0m\u001b[1;33m\u001b[0m\u001b[1;33m\u001b[0m\u001b[0m\n",
      "\u001b[1;32mc:\\Users\\SMHRD\\anaconda3\\lib\\site-packages\\pandas\\core\\series.py\u001b[0m in \u001b[0;36m__setitem__\u001b[1;34m(self, key, value)\u001b[0m\n\u001b[0;32m   1125\u001b[0m                     \u001b[1;31m# GH#44265\u001b[0m\u001b[1;33m\u001b[0m\u001b[1;33m\u001b[0m\u001b[0m\n\u001b[0;32m   1126\u001b[0m                     \u001b[0mindexer\u001b[0m \u001b[1;33m=\u001b[0m \u001b[0mkey\u001b[0m\u001b[1;33m.\u001b[0m\u001b[0mnonzero\u001b[0m\u001b[1;33m(\u001b[0m\u001b[1;33m)\u001b[0m\u001b[1;33m[\u001b[0m\u001b[1;36m0\u001b[0m\u001b[1;33m]\u001b[0m\u001b[1;33m\u001b[0m\u001b[1;33m\u001b[0m\u001b[0m\n\u001b[1;32m-> 1127\u001b[1;33m                     \u001b[0mself\u001b[0m\u001b[1;33m.\u001b[0m\u001b[0m_set_values\u001b[0m\u001b[1;33m(\u001b[0m\u001b[0mindexer\u001b[0m\u001b[1;33m,\u001b[0m \u001b[0mvalue\u001b[0m\u001b[1;33m)\u001b[0m\u001b[1;33m\u001b[0m\u001b[1;33m\u001b[0m\u001b[0m\n\u001b[0m\u001b[0;32m   1128\u001b[0m                     \u001b[1;32mreturn\u001b[0m\u001b[1;33m\u001b[0m\u001b[1;33m\u001b[0m\u001b[0m\n\u001b[0;32m   1129\u001b[0m \u001b[1;33m\u001b[0m\u001b[0m\n",
      "\u001b[1;32mc:\\Users\\SMHRD\\anaconda3\\lib\\site-packages\\pandas\\core\\series.py\u001b[0m in \u001b[0;36m_set_values\u001b[1;34m(self, key, value)\u001b[0m\n\u001b[0;32m   1183\u001b[0m             \u001b[0mkey\u001b[0m \u001b[1;33m=\u001b[0m \u001b[0mkey\u001b[0m\u001b[1;33m.\u001b[0m\u001b[0m_values\u001b[0m\u001b[1;33m\u001b[0m\u001b[1;33m\u001b[0m\u001b[0m\n\u001b[0;32m   1184\u001b[0m \u001b[1;33m\u001b[0m\u001b[0m\n\u001b[1;32m-> 1185\u001b[1;33m         \u001b[0mself\u001b[0m\u001b[1;33m.\u001b[0m\u001b[0m_mgr\u001b[0m \u001b[1;33m=\u001b[0m \u001b[0mself\u001b[0m\u001b[1;33m.\u001b[0m\u001b[0m_mgr\u001b[0m\u001b[1;33m.\u001b[0m\u001b[0msetitem\u001b[0m\u001b[1;33m(\u001b[0m\u001b[0mindexer\u001b[0m\u001b[1;33m=\u001b[0m\u001b[0mkey\u001b[0m\u001b[1;33m,\u001b[0m \u001b[0mvalue\u001b[0m\u001b[1;33m=\u001b[0m\u001b[0mvalue\u001b[0m\u001b[1;33m)\u001b[0m\u001b[1;33m\u001b[0m\u001b[1;33m\u001b[0m\u001b[0m\n\u001b[0m\u001b[0;32m   1186\u001b[0m         \u001b[0mself\u001b[0m\u001b[1;33m.\u001b[0m\u001b[0m_maybe_update_cacher\u001b[0m\u001b[1;33m(\u001b[0m\u001b[1;33m)\u001b[0m\u001b[1;33m\u001b[0m\u001b[1;33m\u001b[0m\u001b[0m\n\u001b[0;32m   1187\u001b[0m \u001b[1;33m\u001b[0m\u001b[0m\n",
      "\u001b[1;32mc:\\Users\\SMHRD\\anaconda3\\lib\\site-packages\\pandas\\core\\internals\\managers.py\u001b[0m in \u001b[0;36msetitem\u001b[1;34m(self, indexer, value)\u001b[0m\n\u001b[0;32m    335\u001b[0m         \u001b[0mFor\u001b[0m \u001b[0mSingleBlockManager\u001b[0m\u001b[1;33m,\u001b[0m \u001b[0mthis\u001b[0m \u001b[0mbacks\u001b[0m \u001b[0ms\u001b[0m\u001b[1;33m[\u001b[0m\u001b[0mindexer\u001b[0m\u001b[1;33m]\u001b[0m \u001b[1;33m=\u001b[0m \u001b[0mvalue\u001b[0m\u001b[1;33m\u001b[0m\u001b[1;33m\u001b[0m\u001b[0m\n\u001b[0;32m    336\u001b[0m         \"\"\"\n\u001b[1;32m--> 337\u001b[1;33m         \u001b[1;32mreturn\u001b[0m \u001b[0mself\u001b[0m\u001b[1;33m.\u001b[0m\u001b[0mapply\u001b[0m\u001b[1;33m(\u001b[0m\u001b[1;34m\"setitem\"\u001b[0m\u001b[1;33m,\u001b[0m \u001b[0mindexer\u001b[0m\u001b[1;33m=\u001b[0m\u001b[0mindexer\u001b[0m\u001b[1;33m,\u001b[0m \u001b[0mvalue\u001b[0m\u001b[1;33m=\u001b[0m\u001b[0mvalue\u001b[0m\u001b[1;33m)\u001b[0m\u001b[1;33m\u001b[0m\u001b[1;33m\u001b[0m\u001b[0m\n\u001b[0m\u001b[0;32m    338\u001b[0m \u001b[1;33m\u001b[0m\u001b[0m\n\u001b[0;32m    339\u001b[0m     \u001b[1;32mdef\u001b[0m \u001b[0mputmask\u001b[0m\u001b[1;33m(\u001b[0m\u001b[0mself\u001b[0m\u001b[1;33m,\u001b[0m \u001b[0mmask\u001b[0m\u001b[1;33m,\u001b[0m \u001b[0mnew\u001b[0m\u001b[1;33m,\u001b[0m \u001b[0malign\u001b[0m\u001b[1;33m:\u001b[0m \u001b[0mbool\u001b[0m \u001b[1;33m=\u001b[0m \u001b[1;32mTrue\u001b[0m\u001b[1;33m)\u001b[0m\u001b[1;33m:\u001b[0m\u001b[1;33m\u001b[0m\u001b[1;33m\u001b[0m\u001b[0m\n",
      "\u001b[1;32mc:\\Users\\SMHRD\\anaconda3\\lib\\site-packages\\pandas\\core\\internals\\managers.py\u001b[0m in \u001b[0;36mapply\u001b[1;34m(self, f, align_keys, ignore_failures, **kwargs)\u001b[0m\n\u001b[0;32m    302\u001b[0m                     \u001b[0mapplied\u001b[0m \u001b[1;33m=\u001b[0m \u001b[0mb\u001b[0m\u001b[1;33m.\u001b[0m\u001b[0mapply\u001b[0m\u001b[1;33m(\u001b[0m\u001b[0mf\u001b[0m\u001b[1;33m,\u001b[0m \u001b[1;33m**\u001b[0m\u001b[0mkwargs\u001b[0m\u001b[1;33m)\u001b[0m\u001b[1;33m\u001b[0m\u001b[1;33m\u001b[0m\u001b[0m\n\u001b[0;32m    303\u001b[0m                 \u001b[1;32melse\u001b[0m\u001b[1;33m:\u001b[0m\u001b[1;33m\u001b[0m\u001b[1;33m\u001b[0m\u001b[0m\n\u001b[1;32m--> 304\u001b[1;33m                     \u001b[0mapplied\u001b[0m \u001b[1;33m=\u001b[0m \u001b[0mgetattr\u001b[0m\u001b[1;33m(\u001b[0m\u001b[0mb\u001b[0m\u001b[1;33m,\u001b[0m \u001b[0mf\u001b[0m\u001b[1;33m)\u001b[0m\u001b[1;33m(\u001b[0m\u001b[1;33m**\u001b[0m\u001b[0mkwargs\u001b[0m\u001b[1;33m)\u001b[0m\u001b[1;33m\u001b[0m\u001b[1;33m\u001b[0m\u001b[0m\n\u001b[0m\u001b[0;32m    305\u001b[0m             \u001b[1;32mexcept\u001b[0m \u001b[1;33m(\u001b[0m\u001b[0mTypeError\u001b[0m\u001b[1;33m,\u001b[0m \u001b[0mNotImplementedError\u001b[0m\u001b[1;33m)\u001b[0m\u001b[1;33m:\u001b[0m\u001b[1;33m\u001b[0m\u001b[1;33m\u001b[0m\u001b[0m\n\u001b[0;32m    306\u001b[0m                 \u001b[1;32mif\u001b[0m \u001b[1;32mnot\u001b[0m \u001b[0mignore_failures\u001b[0m\u001b[1;33m:\u001b[0m\u001b[1;33m\u001b[0m\u001b[1;33m\u001b[0m\u001b[0m\n",
      "\u001b[1;32mc:\\Users\\SMHRD\\anaconda3\\lib\\site-packages\\pandas\\core\\internals\\blocks.py\u001b[0m in \u001b[0;36msetitem\u001b[1;34m(self, indexer, value)\u001b[0m\n\u001b[0;32m    944\u001b[0m \u001b[1;33m\u001b[0m\u001b[0m\n\u001b[0;32m    945\u001b[0m         \u001b[1;31m# length checking\u001b[0m\u001b[1;33m\u001b[0m\u001b[1;33m\u001b[0m\u001b[0m\n\u001b[1;32m--> 946\u001b[1;33m         \u001b[0mcheck_setitem_lengths\u001b[0m\u001b[1;33m(\u001b[0m\u001b[0mindexer\u001b[0m\u001b[1;33m,\u001b[0m \u001b[0mvalue\u001b[0m\u001b[1;33m,\u001b[0m \u001b[0mvalues\u001b[0m\u001b[1;33m)\u001b[0m\u001b[1;33m\u001b[0m\u001b[1;33m\u001b[0m\u001b[0m\n\u001b[0m\u001b[0;32m    947\u001b[0m \u001b[1;33m\u001b[0m\u001b[0m\n\u001b[0;32m    948\u001b[0m         \u001b[1;32mif\u001b[0m \u001b[0mis_empty_indexer\u001b[0m\u001b[1;33m(\u001b[0m\u001b[0mindexer\u001b[0m\u001b[1;33m,\u001b[0m \u001b[0marr_value\u001b[0m\u001b[1;33m)\u001b[0m\u001b[1;33m:\u001b[0m\u001b[1;33m\u001b[0m\u001b[1;33m\u001b[0m\u001b[0m\n",
      "\u001b[1;32mc:\\Users\\SMHRD\\anaconda3\\lib\\site-packages\\pandas\\core\\indexers\\utils.py\u001b[0m in \u001b[0;36mcheck_setitem_lengths\u001b[1;34m(indexer, value, values)\u001b[0m\n\u001b[0;32m    174\u001b[0m                     \u001b[1;32mand\u001b[0m \u001b[0mindexer\u001b[0m\u001b[1;33m.\u001b[0m\u001b[0msum\u001b[0m\u001b[1;33m(\u001b[0m\u001b[1;33m)\u001b[0m \u001b[1;33m==\u001b[0m \u001b[0mlen\u001b[0m\u001b[1;33m(\u001b[0m\u001b[0mvalue\u001b[0m\u001b[1;33m)\u001b[0m\u001b[1;33m\u001b[0m\u001b[1;33m\u001b[0m\u001b[0m\n\u001b[0;32m    175\u001b[0m                 ):\n\u001b[1;32m--> 176\u001b[1;33m                     raise ValueError(\n\u001b[0m\u001b[0;32m    177\u001b[0m                         \u001b[1;34m\"cannot set using a list-like indexer \"\u001b[0m\u001b[1;33m\u001b[0m\u001b[1;33m\u001b[0m\u001b[0m\n\u001b[0;32m    178\u001b[0m                         \u001b[1;34m\"with a different length than the value\"\u001b[0m\u001b[1;33m\u001b[0m\u001b[1;33m\u001b[0m\u001b[0m\n",
      "\u001b[1;31mValueError\u001b[0m: cannot set using a list-like indexer with a different length than the value"
     ]
    }
   ],
   "source": [
    "pt1 = gb.predict(wX_test)\n",
    "train['workclass'][train['workclass']==11] = pt1\n",
    "# train['workclass'] = train['workclass'].astype('int64')\n",
    "train['workclass'].unique()"
   ]
  },
  {
   "cell_type": "code",
   "execution_count": 153,
   "metadata": {},
   "outputs": [
    {
     "name": "stdout",
     "output_type": "stream",
     "text": [
      "(18401, 12)\n",
      "(18401,)\n",
      "(1136, 12)\n",
      "(18401, 12)\n",
      "(18401,)\n",
      "(1136, 12)\n"
     ]
    },
    {
     "data": {
      "text/plain": [
       "GradientBoostingClassifier(random_state=7)"
      ]
     },
     "execution_count": 153,
     "metadata": {},
     "output_type": "execute_result"
    },
    {
     "data": {
      "text/plain": [
       "0.7312647147742948"
      ]
     },
     "execution_count": 153,
     "metadata": {},
     "output_type": "execute_result"
    }
   ],
   "source": [
    "w_train = test.loc[test['workclass']!=11]\n",
    "\n",
    "wX_train = w_train[['age', 'fnlwgt', 'education', 'education-num',\n",
    "       'marital-status', 'relationship', 'race', 'sex',\n",
    "       'capital-gain', 'capital-loss', 'hours-per-week', 'native-country']]\n",
    "wy_train = test['workclass'][test['workclass']!=11]\n",
    "\n",
    "w_train2 =  test.loc[test['workclass']==11]\n",
    "wX_test = w_train2[['age', 'fnlwgt', 'education', 'education-num',\n",
    "       'marital-status', 'relationship', 'race', 'sex',\n",
    "       'capital-gain', 'capital-loss', 'hours-per-week', 'native-country']]\n",
    "\n",
    "print(wX_train.shape)\n",
    "print(wy_train.shape)\n",
    "print(wX_test.shape)\n",
    "\n",
    "\n",
    "wX_train = pd.get_dummies(wX_train)\n",
    "wX_test = pd.get_dummies(wX_test)\n",
    "\n",
    "print(wX_train.shape)\n",
    "print(wy_train.shape)\n",
    "print(wX_test.shape)\n",
    "\n",
    "gb = GradientBoostingClassifier(random_state=7)\n",
    "gb.fit(wX_train, wy_train)\n",
    "\n",
    "res = cross_val_score(gb,wX_train,wy_train,cv=8)\n",
    "res.mean()"
   ]
  },
  {
   "cell_type": "code",
   "execution_count": 154,
   "metadata": {},
   "outputs": [
    {
     "data": {
      "text/plain": [
       "array([22, 28, 30, 55, 26, 38,  8,  0], dtype=int64)"
      ]
     },
     "execution_count": 154,
     "metadata": {},
     "output_type": "execute_result"
    }
   ],
   "source": [
    "pt1 = gb.predict(wX_test)\n",
    "test['workclass'][test['workclass']==11] = pt1\n",
    "# test['workclass'] = test['workclass'].astype('int64')\n",
    "test['workclass'].unique()\n",
    "\n",
    "#==========================================================================================================================================================\n",
    "#==========================================================================================================================================================\n",
    "#==========================================================================================================================================================\n"
   ]
  },
  {
   "cell_type": "code",
   "execution_count": 126,
   "metadata": {},
   "outputs": [
    {
     "data": {
      "text/plain": [
       "Prof-specialty       3724\n",
       "Craft-repair         3632\n",
       "Exec-managerial      3609\n",
       "Adm-clerical         3440\n",
       "Sales                3292\n",
       "Other-service        2975\n",
       "Machine-op-inspct    1811\n",
       "?                    1668\n",
       "Transport-moving     1393\n",
       "Handlers-cleaners    1249\n",
       "Farming-fishing       888\n",
       "Tech-support          865\n",
       "Protective-serv       603\n",
       "Priv-house-serv       146\n",
       "Armed-Forces           10\n",
       "Name: occupation, dtype: int64"
      ]
     },
     "execution_count": 126,
     "metadata": {},
     "output_type": "execute_result"
    }
   ],
   "source": [
    "temp = train['occupation'].value_counts()\n",
    "temp"
   ]
  },
  {
   "cell_type": "code",
   "execution_count": 127,
   "metadata": {},
   "outputs": [
    {
     "name": "stdout",
     "output_type": "stream",
     "text": [
      "'Prof-specialty':\n",
      "'Craft-repair':\n",
      "'Exec-managerial':\n",
      "'Adm-clerical':\n",
      "'Sales':\n",
      "'Other-service':\n",
      "'Machine-op-inspct':\n",
      "'?':\n",
      "'Transport-moving':\n",
      "'Handlers-cleaners':\n",
      "'Farming-fishing':\n",
      "'Tech-support':\n",
      "'Protective-serv':\n",
      "'Priv-house-serv':\n",
      "'Armed-Forces':\n"
     ]
    }
   ],
   "source": [
    "for i in range(len(temp)):\n",
    "    print(f\"\\'{temp.index[i]}\\':\")"
   ]
  },
  {
   "cell_type": "code",
   "execution_count": 128,
   "metadata": {},
   "outputs": [
    {
     "data": {
      "text/html": [
       "<div>\n",
       "<style scoped>\n",
       "    .dataframe tbody tr th:only-of-type {\n",
       "        vertical-align: middle;\n",
       "    }\n",
       "\n",
       "    .dataframe tbody tr th {\n",
       "        vertical-align: top;\n",
       "    }\n",
       "\n",
       "    .dataframe thead th {\n",
       "        text-align: right;\n",
       "    }\n",
       "</style>\n",
       "<table border=\"1\" class=\"dataframe\">\n",
       "  <thead>\n",
       "    <tr style=\"text-align: right;\">\n",
       "      <th></th>\n",
       "      <th>income</th>\n",
       "    </tr>\n",
       "    <tr>\n",
       "      <th>occupation</th>\n",
       "      <th></th>\n",
       "    </tr>\n",
       "  </thead>\n",
       "  <tbody>\n",
       "    <tr>\n",
       "      <th>Exec-managerial</th>\n",
       "      <td>0.481851</td>\n",
       "    </tr>\n",
       "    <tr>\n",
       "      <th>Prof-specialty</th>\n",
       "      <td>0.448980</td>\n",
       "    </tr>\n",
       "    <tr>\n",
       "      <th>Protective-serv</th>\n",
       "      <td>0.321725</td>\n",
       "    </tr>\n",
       "    <tr>\n",
       "      <th>Armed-Forces</th>\n",
       "      <td>0.300000</td>\n",
       "    </tr>\n",
       "    <tr>\n",
       "      <th>Tech-support</th>\n",
       "      <td>0.284393</td>\n",
       "    </tr>\n",
       "    <tr>\n",
       "      <th>Sales</th>\n",
       "      <td>0.275516</td>\n",
       "    </tr>\n",
       "    <tr>\n",
       "      <th>Craft-repair</th>\n",
       "      <td>0.225771</td>\n",
       "    </tr>\n",
       "    <tr>\n",
       "      <th>Transport-moving</th>\n",
       "      <td>0.202441</td>\n",
       "    </tr>\n",
       "    <tr>\n",
       "      <th>Adm-clerical</th>\n",
       "      <td>0.133140</td>\n",
       "    </tr>\n",
       "    <tr>\n",
       "      <th>Machine-op-inspct</th>\n",
       "      <td>0.131971</td>\n",
       "    </tr>\n",
       "    <tr>\n",
       "      <th>Farming-fishing</th>\n",
       "      <td>0.106982</td>\n",
       "    </tr>\n",
       "    <tr>\n",
       "      <th>?</th>\n",
       "      <td>0.104916</td>\n",
       "    </tr>\n",
       "    <tr>\n",
       "      <th>Handlers-cleaners</th>\n",
       "      <td>0.066453</td>\n",
       "    </tr>\n",
       "    <tr>\n",
       "      <th>Other-service</th>\n",
       "      <td>0.043361</td>\n",
       "    </tr>\n",
       "    <tr>\n",
       "      <th>Priv-house-serv</th>\n",
       "      <td>0.020548</td>\n",
       "    </tr>\n",
       "  </tbody>\n",
       "</table>\n",
       "</div>"
      ],
      "text/plain": [
       "                     income\n",
       "occupation                 \n",
       "Exec-managerial    0.481851\n",
       "Prof-specialty     0.448980\n",
       "Protective-serv    0.321725\n",
       "Armed-Forces       0.300000\n",
       "Tech-support       0.284393\n",
       "Sales              0.275516\n",
       "Craft-repair       0.225771\n",
       "Transport-moving   0.202441\n",
       "Adm-clerical       0.133140\n",
       "Machine-op-inspct  0.131971\n",
       "Farming-fishing    0.106982\n",
       "?                  0.104916\n",
       "Handlers-cleaners  0.066453\n",
       "Other-service      0.043361\n",
       "Priv-house-serv    0.020548"
      ]
     },
     "execution_count": 128,
     "metadata": {},
     "output_type": "execute_result"
    }
   ],
   "source": [
    "pt_oc = train.pivot_table(values='income', #데이터로 사용 할 컬럼 지정\n",
    "                index=['occupation'], # 데이터 요약시 확인하고 싶은 컬럼\n",
    "                aggfunc='mean' ) \n",
    "pt_oc = pt_oc.sort_values(by='income', ascending=False)\n",
    "pt_oc"
   ]
  },
  {
   "cell_type": "code",
   "execution_count": 129,
   "metadata": {},
   "outputs": [],
   "source": [
    "dict_oc = {\n",
    "    'Prof-specialty':45,\n",
    "    'Craft-repair':23,\n",
    "    'Exec-managerial':48,\n",
    "    'Adm-clerical':13,\n",
    "    'Sales':28,\n",
    "    'Other-service':4,\n",
    "    'Machine-op-inspct':13,\n",
    "    '?':10,\n",
    "    'Transport-moving':20,\n",
    "    'Handlers-cleaners':7,\n",
    "    'Farming-fishing':11,\n",
    "    'Tech-support':28,\n",
    "    'Protective-serv':32,\n",
    "    'Priv-house-serv':2,\n",
    "    'Armed-Forces':30\n",
    "}"
   ]
  },
  {
   "cell_type": "code",
   "execution_count": 130,
   "metadata": {},
   "outputs": [],
   "source": [
    "train['occupation'] = train['occupation'].map(dict_oc)\n",
    "test['occupation'] = test['occupation'].map(dict_oc)"
   ]
  },
  {
   "cell_type": "code",
   "execution_count": 131,
   "metadata": {},
   "outputs": [
    {
     "data": {
      "text/plain": [
       "array([13,  4,  7, 28, 20, 11, 45,  2, 32, 48, 10, 23, 30], dtype=int64)"
      ]
     },
     "execution_count": 131,
     "metadata": {},
     "output_type": "execute_result"
    }
   ],
   "source": [
    "train['occupation'].unique()"
   ]
  },
  {
   "cell_type": "code",
   "execution_count": 132,
   "metadata": {},
   "outputs": [
    {
     "data": {
      "text/plain": [
       "array([10,  4, 28, 48, 11, 13, 23,  7, 32, 45, 20,  2, 30], dtype=int64)"
      ]
     },
     "execution_count": 132,
     "metadata": {},
     "output_type": "execute_result"
    }
   ],
   "source": [
    "test['occupation'].unique()"
   ]
  },
  {
   "cell_type": "code",
   "execution_count": 133,
   "metadata": {},
   "outputs": [
    {
     "data": {
      "text/plain": [
       "array(['United-States', 'Haiti', 'Mexico', 'Puerto-Rico', 'Philippines',\n",
       "       '?', 'Germany', 'Peru', 'Ecuador', 'Iran', 'Thailand',\n",
       "       'Dominican-Republic', 'Poland', 'Scotland', 'Italy', 'Jamaica',\n",
       "       'China', 'Portugal', 'Columbia', 'Hungary', 'Vietnam', 'Taiwan',\n",
       "       'Canada', 'Hong', 'Guatemala', 'El-Salvador', 'England',\n",
       "       'Outlying-US(Guam-USVI-etc)', 'India', 'France', 'Cuba', 'Greece',\n",
       "       'Trinadad&Tobago', 'South', 'Japan', 'Yugoslavia', 'Nicaragua',\n",
       "       'Ireland', 'Cambodia', 'Laos', 'Honduras', 'Holand-Netherlands'],\n",
       "      dtype=object)"
      ]
     },
     "execution_count": 133,
     "metadata": {},
     "output_type": "execute_result"
    }
   ],
   "source": [
    "temp = train['native-country'].unique()\n",
    "temp\n"
   ]
  },
  {
   "cell_type": "code",
   "execution_count": 134,
   "metadata": {},
   "outputs": [],
   "source": [
    "from IPython.core.interactiveshell import InteractiveShell\n",
    "InteractiveShell.ast_node_interactivity = \"all\""
   ]
  },
  {
   "cell_type": "code",
   "execution_count": 135,
   "metadata": {},
   "outputs": [],
   "source": [
    "# for i in range(len(temp)):\n",
    "#     print(f\"\\'{temp[i]}\\':\")"
   ]
  },
  {
   "cell_type": "code",
   "execution_count": 136,
   "metadata": {},
   "outputs": [
    {
     "data": {
      "text/html": [
       "<div>\n",
       "<style scoped>\n",
       "    .dataframe tbody tr th:only-of-type {\n",
       "        vertical-align: middle;\n",
       "    }\n",
       "\n",
       "    .dataframe tbody tr th {\n",
       "        vertical-align: top;\n",
       "    }\n",
       "\n",
       "    .dataframe thead th {\n",
       "        text-align: right;\n",
       "    }\n",
       "</style>\n",
       "<table border=\"1\" class=\"dataframe\">\n",
       "  <thead>\n",
       "    <tr style=\"text-align: right;\">\n",
       "      <th></th>\n",
       "      <th>income</th>\n",
       "    </tr>\n",
       "    <tr>\n",
       "      <th>native-country</th>\n",
       "      <th></th>\n",
       "    </tr>\n",
       "  </thead>\n",
       "  <tbody>\n",
       "    <tr>\n",
       "      <th>India</th>\n",
       "      <td>0.433333</td>\n",
       "    </tr>\n",
       "    <tr>\n",
       "      <th>Hungary</th>\n",
       "      <td>0.416667</td>\n",
       "    </tr>\n",
       "    <tr>\n",
       "      <th>Japan</th>\n",
       "      <td>0.388889</td>\n",
       "    </tr>\n",
       "    <tr>\n",
       "      <th>England</th>\n",
       "      <td>0.373333</td>\n",
       "    </tr>\n",
       "    <tr>\n",
       "      <th>Canada</th>\n",
       "      <td>0.369369</td>\n",
       "    </tr>\n",
       "    <tr>\n",
       "      <th>Iran</th>\n",
       "      <td>0.368421</td>\n",
       "    </tr>\n",
       "    <tr>\n",
       "      <th>Italy</th>\n",
       "      <td>0.366667</td>\n",
       "    </tr>\n",
       "    <tr>\n",
       "      <th>Greece</th>\n",
       "      <td>0.360000</td>\n",
       "    </tr>\n",
       "    <tr>\n",
       "      <th>Ireland</th>\n",
       "      <td>0.347826</td>\n",
       "    </tr>\n",
       "    <tr>\n",
       "      <th>Germany</th>\n",
       "      <td>0.330645</td>\n",
       "    </tr>\n",
       "    <tr>\n",
       "      <th>Cambodia</th>\n",
       "      <td>0.315789</td>\n",
       "    </tr>\n",
       "    <tr>\n",
       "      <th>Taiwan</th>\n",
       "      <td>0.307692</td>\n",
       "    </tr>\n",
       "    <tr>\n",
       "      <th>Yugoslavia</th>\n",
       "      <td>0.307692</td>\n",
       "    </tr>\n",
       "    <tr>\n",
       "      <th>France</th>\n",
       "      <td>0.300000</td>\n",
       "    </tr>\n",
       "    <tr>\n",
       "      <th>Philippines</th>\n",
       "      <td>0.280899</td>\n",
       "    </tr>\n",
       "    <tr>\n",
       "      <th>China</th>\n",
       "      <td>0.264706</td>\n",
       "    </tr>\n",
       "    <tr>\n",
       "      <th>United-States</th>\n",
       "      <td>0.245884</td>\n",
       "    </tr>\n",
       "    <tr>\n",
       "      <th>?</th>\n",
       "      <td>0.236364</td>\n",
       "    </tr>\n",
       "    <tr>\n",
       "      <th>Cuba</th>\n",
       "      <td>0.223404</td>\n",
       "    </tr>\n",
       "    <tr>\n",
       "      <th>Hong</th>\n",
       "      <td>0.210526</td>\n",
       "    </tr>\n",
       "    <tr>\n",
       "      <th>Ecuador</th>\n",
       "      <td>0.190476</td>\n",
       "    </tr>\n",
       "    <tr>\n",
       "      <th>South</th>\n",
       "      <td>0.189189</td>\n",
       "    </tr>\n",
       "    <tr>\n",
       "      <th>Portugal</th>\n",
       "      <td>0.162791</td>\n",
       "    </tr>\n",
       "    <tr>\n",
       "      <th>Poland</th>\n",
       "      <td>0.150943</td>\n",
       "    </tr>\n",
       "    <tr>\n",
       "      <th>Thailand</th>\n",
       "      <td>0.133333</td>\n",
       "    </tr>\n",
       "    <tr>\n",
       "      <th>Jamaica</th>\n",
       "      <td>0.132353</td>\n",
       "    </tr>\n",
       "    <tr>\n",
       "      <th>Peru</th>\n",
       "      <td>0.120000</td>\n",
       "    </tr>\n",
       "    <tr>\n",
       "      <th>Scotland</th>\n",
       "      <td>0.111111</td>\n",
       "    </tr>\n",
       "    <tr>\n",
       "      <th>Puerto-Rico</th>\n",
       "      <td>0.102564</td>\n",
       "    </tr>\n",
       "    <tr>\n",
       "      <th>Honduras</th>\n",
       "      <td>0.090909</td>\n",
       "    </tr>\n",
       "    <tr>\n",
       "      <th>Haiti</th>\n",
       "      <td>0.078431</td>\n",
       "    </tr>\n",
       "    <tr>\n",
       "      <th>Laos</th>\n",
       "      <td>0.076923</td>\n",
       "    </tr>\n",
       "    <tr>\n",
       "      <th>Outlying-US(Guam-USVI-etc)</th>\n",
       "      <td>0.066667</td>\n",
       "    </tr>\n",
       "    <tr>\n",
       "      <th>Mexico</th>\n",
       "      <td>0.053541</td>\n",
       "    </tr>\n",
       "    <tr>\n",
       "      <th>El-Salvador</th>\n",
       "      <td>0.052083</td>\n",
       "    </tr>\n",
       "    <tr>\n",
       "      <th>Dominican-Republic</th>\n",
       "      <td>0.049180</td>\n",
       "    </tr>\n",
       "    <tr>\n",
       "      <th>Guatemala</th>\n",
       "      <td>0.039216</td>\n",
       "    </tr>\n",
       "    <tr>\n",
       "      <th>Columbia</th>\n",
       "      <td>0.037736</td>\n",
       "    </tr>\n",
       "    <tr>\n",
       "      <th>Nicaragua</th>\n",
       "      <td>0.035714</td>\n",
       "    </tr>\n",
       "    <tr>\n",
       "      <th>Vietnam</th>\n",
       "      <td>0.020000</td>\n",
       "    </tr>\n",
       "    <tr>\n",
       "      <th>Trinadad&amp;Tobago</th>\n",
       "      <td>0.000000</td>\n",
       "    </tr>\n",
       "    <tr>\n",
       "      <th>Holand-Netherlands</th>\n",
       "      <td>0.000000</td>\n",
       "    </tr>\n",
       "  </tbody>\n",
       "</table>\n",
       "</div>"
      ],
      "text/plain": [
       "                              income\n",
       "native-country                      \n",
       "India                       0.433333\n",
       "Hungary                     0.416667\n",
       "Japan                       0.388889\n",
       "England                     0.373333\n",
       "Canada                      0.369369\n",
       "Iran                        0.368421\n",
       "Italy                       0.366667\n",
       "Greece                      0.360000\n",
       "Ireland                     0.347826\n",
       "Germany                     0.330645\n",
       "Cambodia                    0.315789\n",
       "Taiwan                      0.307692\n",
       "Yugoslavia                  0.307692\n",
       "France                      0.300000\n",
       "Philippines                 0.280899\n",
       "China                       0.264706\n",
       "United-States               0.245884\n",
       "?                           0.236364\n",
       "Cuba                        0.223404\n",
       "Hong                        0.210526\n",
       "Ecuador                     0.190476\n",
       "South                       0.189189\n",
       "Portugal                    0.162791\n",
       "Poland                      0.150943\n",
       "Thailand                    0.133333\n",
       "Jamaica                     0.132353\n",
       "Peru                        0.120000\n",
       "Scotland                    0.111111\n",
       "Puerto-Rico                 0.102564\n",
       "Honduras                    0.090909\n",
       "Haiti                       0.078431\n",
       "Laos                        0.076923\n",
       "Outlying-US(Guam-USVI-etc)  0.066667\n",
       "Mexico                      0.053541\n",
       "El-Salvador                 0.052083\n",
       "Dominican-Republic          0.049180\n",
       "Guatemala                   0.039216\n",
       "Columbia                    0.037736\n",
       "Nicaragua                   0.035714\n",
       "Vietnam                     0.020000\n",
       "Trinadad&Tobago             0.000000\n",
       "Holand-Netherlands          0.000000"
      ]
     },
     "execution_count": 136,
     "metadata": {},
     "output_type": "execute_result"
    }
   ],
   "source": [
    "pt_nc = train.pivot_table(values='income', #데이터로 사용 할 컬럼 지정\n",
    "                index=['native-country'], # 데이터 요약시 확인하고 싶은 컬럼\n",
    "                aggfunc='mean' ) \n",
    "pt_nc = pt_nc.sort_values(by='income', ascending=False)\n",
    "pt_nc"
   ]
  },
  {
   "cell_type": "code",
   "execution_count": 137,
   "metadata": {},
   "outputs": [],
   "source": [
    "dict_nc = {\n",
    "    'United-States':25,\n",
    "    'Haiti':8,\n",
    "    'Mexico':5,\n",
    "    'Puerto-Rico':10,\n",
    "    'Philippines':28,\n",
    "    '?':24,\n",
    "    'Germany':33,\n",
    "    'Peru':12,\n",
    "    'Ecuador':19,\n",
    "    'Iran':37,\n",
    "    'Thailand':13,\n",
    "    'Dominican-Republic':5,\n",
    "    'Poland':15,\n",
    "    'Scotland':11,\n",
    "    'Italy':37,\n",
    "    'Jamaica':13,\n",
    "    'China':26,\n",
    "    'Portugal':16,\n",
    "    'Columbia':4,\n",
    "    'Hungary':42,\n",
    "    'Vietnam':2,\n",
    "    'Taiwan':31,\n",
    "    'Canada':37,\n",
    "    'Hong':21,\n",
    "    'Guatemala':4,\n",
    "    'El-Salvador':5,\n",
    "    'England':37,\n",
    "    'Outlying-US(Guam-USVI-etc)':7,\n",
    "    'India':43,\n",
    "    'France':30,\n",
    "    'Cuba':22,\n",
    "    'Greece':36,\n",
    "    'Trinadad&Tobago':0,\n",
    "    'South':19,\n",
    "    'Japan':39,\n",
    "    'Yugoslavia':31,\n",
    "    'Nicaragua':4,\n",
    "    'Ireland':35,\n",
    "    'Cambodia':32,\n",
    "    'Laos':8,\n",
    "    'Honduras':9,\n",
    "    'Holand-Netherlands':0\n",
    "}"
   ]
  },
  {
   "cell_type": "code",
   "execution_count": 138,
   "metadata": {},
   "outputs": [],
   "source": [
    "train['native-country'] = train['native-country'].map(dict_nc)\n",
    "test['native-country'] = test['native-country'].map(dict_nc)"
   ]
  },
  {
   "cell_type": "code",
   "execution_count": 139,
   "metadata": {},
   "outputs": [
    {
     "data": {
      "text/plain": [
       "array([25,  8,  5, 10, 28, 24, 33, 12, 19, 37, 13, 15, 11, 26, 16,  4, 42,\n",
       "        2, 31, 21,  7, 43, 30, 22, 36,  0, 39, 35, 32,  9], dtype=int64)"
      ]
     },
     "execution_count": 139,
     "metadata": {},
     "output_type": "execute_result"
    }
   ],
   "source": [
    "train['native-country'].unique()"
   ]
  },
  {
   "cell_type": "code",
   "execution_count": 140,
   "metadata": {},
   "outputs": [
    {
     "data": {
      "text/plain": [
       "array([25, 10, 16, 24,  5, 37, 43, 28,  2, 22, 42, 13, 33,  4, 26, 31, 11,\n",
       "       35, 15, 19, 30, 39,  8, 36,  7,  0, 12,  9, 21, 32], dtype=int64)"
      ]
     },
     "execution_count": 140,
     "metadata": {},
     "output_type": "execute_result"
    }
   ],
   "source": [
    "test['native-country'].unique()"
   ]
  },
  {
   "cell_type": "code",
   "execution_count": 155,
   "metadata": {},
   "outputs": [
    {
     "data": {
      "text/html": [
       "<div>\n",
       "<style scoped>\n",
       "    .dataframe tbody tr th:only-of-type {\n",
       "        vertical-align: middle;\n",
       "    }\n",
       "\n",
       "    .dataframe tbody tr th {\n",
       "        vertical-align: top;\n",
       "    }\n",
       "\n",
       "    .dataframe thead th {\n",
       "        text-align: right;\n",
       "    }\n",
       "</style>\n",
       "<table border=\"1\" class=\"dataframe\">\n",
       "  <thead>\n",
       "    <tr style=\"text-align: right;\">\n",
       "      <th></th>\n",
       "      <th>age</th>\n",
       "      <th>workclass</th>\n",
       "      <th>fnlwgt</th>\n",
       "      <th>education</th>\n",
       "      <th>education-num</th>\n",
       "      <th>marital-status</th>\n",
       "      <th>occupation</th>\n",
       "      <th>relationship</th>\n",
       "      <th>race</th>\n",
       "      <th>sex</th>\n",
       "      <th>capital-gain</th>\n",
       "      <th>capital-loss</th>\n",
       "      <th>hours-per-week</th>\n",
       "      <th>native-country</th>\n",
       "      <th>income</th>\n",
       "    </tr>\n",
       "  </thead>\n",
       "  <tbody>\n",
       "    <tr>\n",
       "      <th>age</th>\n",
       "      <td>1.000000</td>\n",
       "      <td>0.164381</td>\n",
       "      <td>-0.075753</td>\n",
       "      <td>0.110976</td>\n",
       "      <td>0.035084</td>\n",
       "      <td>0.345511</td>\n",
       "      <td>0.122510</td>\n",
       "      <td>0.362711</td>\n",
       "      <td>0.030967</td>\n",
       "      <td>0.083999</td>\n",
       "      <td>0.078498</td>\n",
       "      <td>0.054413</td>\n",
       "      <td>0.073100</td>\n",
       "      <td>0.053992</td>\n",
       "      <td>0.238460</td>\n",
       "    </tr>\n",
       "    <tr>\n",
       "      <th>workclass</th>\n",
       "      <td>0.164381</td>\n",
       "      <td>1.000000</td>\n",
       "      <td>-0.029410</td>\n",
       "      <td>0.162631</td>\n",
       "      <td>0.143107</td>\n",
       "      <td>0.145659</td>\n",
       "      <td>0.199151</td>\n",
       "      <td>0.148109</td>\n",
       "      <td>0.021408</td>\n",
       "      <td>0.088980</td>\n",
       "      <td>0.098415</td>\n",
       "      <td>0.044133</td>\n",
       "      <td>0.138940</td>\n",
       "      <td>0.048994</td>\n",
       "      <td>0.165266</td>\n",
       "    </tr>\n",
       "    <tr>\n",
       "      <th>fnlwgt</th>\n",
       "      <td>-0.075753</td>\n",
       "      <td>-0.029410</td>\n",
       "      <td>1.000000</td>\n",
       "      <td>-0.021721</td>\n",
       "      <td>-0.030600</td>\n",
       "      <td>-0.026239</td>\n",
       "      <td>-0.010293</td>\n",
       "      <td>-0.027490</td>\n",
       "      <td>-0.096260</td>\n",
       "      <td>0.029929</td>\n",
       "      <td>-0.005051</td>\n",
       "      <td>-0.001513</td>\n",
       "      <td>-0.010154</td>\n",
       "      <td>-0.107839</td>\n",
       "      <td>-0.002994</td>\n",
       "    </tr>\n",
       "    <tr>\n",
       "      <th>education</th>\n",
       "      <td>0.110976</td>\n",
       "      <td>0.162631</td>\n",
       "      <td>-0.021721</td>\n",
       "      <td>1.000000</td>\n",
       "      <td>0.908433</td>\n",
       "      <td>0.121604</td>\n",
       "      <td>0.505764</td>\n",
       "      <td>0.149016</td>\n",
       "      <td>0.094781</td>\n",
       "      <td>0.047013</td>\n",
       "      <td>0.169546</td>\n",
       "      <td>0.095937</td>\n",
       "      <td>0.168649</td>\n",
       "      <td>0.151892</td>\n",
       "      <td>0.365031</td>\n",
       "    </tr>\n",
       "    <tr>\n",
       "      <th>education-num</th>\n",
       "      <td>0.035084</td>\n",
       "      <td>0.143107</td>\n",
       "      <td>-0.030600</td>\n",
       "      <td>0.908433</td>\n",
       "      <td>1.000000</td>\n",
       "      <td>0.082381</td>\n",
       "      <td>0.478089</td>\n",
       "      <td>0.108102</td>\n",
       "      <td>0.089576</td>\n",
       "      <td>0.017029</td>\n",
       "      <td>0.127651</td>\n",
       "      <td>0.083925</td>\n",
       "      <td>0.147569</td>\n",
       "      <td>0.235975</td>\n",
       "      <td>0.331798</td>\n",
       "    </tr>\n",
       "    <tr>\n",
       "      <th>marital-status</th>\n",
       "      <td>0.345511</td>\n",
       "      <td>0.145659</td>\n",
       "      <td>-0.026239</td>\n",
       "      <td>0.121604</td>\n",
       "      <td>0.082381</td>\n",
       "      <td>1.000000</td>\n",
       "      <td>0.189894</td>\n",
       "      <td>0.969115</td>\n",
       "      <td>0.126852</td>\n",
       "      <td>0.417371</td>\n",
       "      <td>0.084616</td>\n",
       "      <td>0.071447</td>\n",
       "      <td>0.224070</td>\n",
       "      <td>0.022363</td>\n",
       "      <td>0.448346</td>\n",
       "    </tr>\n",
       "    <tr>\n",
       "      <th>occupation</th>\n",
       "      <td>0.122510</td>\n",
       "      <td>0.199151</td>\n",
       "      <td>-0.010293</td>\n",
       "      <td>0.505764</td>\n",
       "      <td>0.478089</td>\n",
       "      <td>0.189894</td>\n",
       "      <td>1.000000</td>\n",
       "      <td>0.211716</td>\n",
       "      <td>0.106576</td>\n",
       "      <td>0.103936</td>\n",
       "      <td>0.111829</td>\n",
       "      <td>0.074087</td>\n",
       "      <td>0.210623</td>\n",
       "      <td>0.119461</td>\n",
       "      <td>0.349134</td>\n",
       "    </tr>\n",
       "    <tr>\n",
       "      <th>relationship</th>\n",
       "      <td>0.362711</td>\n",
       "      <td>0.148109</td>\n",
       "      <td>-0.027490</td>\n",
       "      <td>0.149016</td>\n",
       "      <td>0.108102</td>\n",
       "      <td>0.969115</td>\n",
       "      <td>0.211716</td>\n",
       "      <td>1.000000</td>\n",
       "      <td>0.128734</td>\n",
       "      <td>0.419588</td>\n",
       "      <td>0.087786</td>\n",
       "      <td>0.077228</td>\n",
       "      <td>0.242891</td>\n",
       "      <td>0.030623</td>\n",
       "      <td>0.454753</td>\n",
       "    </tr>\n",
       "    <tr>\n",
       "      <th>race</th>\n",
       "      <td>0.030967</td>\n",
       "      <td>0.021408</td>\n",
       "      <td>-0.096260</td>\n",
       "      <td>0.094781</td>\n",
       "      <td>0.089576</td>\n",
       "      <td>0.126852</td>\n",
       "      <td>0.106576</td>\n",
       "      <td>0.128734</td>\n",
       "      <td>1.000000</td>\n",
       "      <td>0.112482</td>\n",
       "      <td>0.021237</td>\n",
       "      <td>0.021638</td>\n",
       "      <td>0.046758</td>\n",
       "      <td>0.054859</td>\n",
       "      <td>0.101373</td>\n",
       "    </tr>\n",
       "    <tr>\n",
       "      <th>sex</th>\n",
       "      <td>0.083999</td>\n",
       "      <td>0.088980</td>\n",
       "      <td>0.029929</td>\n",
       "      <td>0.047013</td>\n",
       "      <td>0.017029</td>\n",
       "      <td>0.417371</td>\n",
       "      <td>0.103936</td>\n",
       "      <td>0.419588</td>\n",
       "      <td>0.112482</td>\n",
       "      <td>1.000000</td>\n",
       "      <td>0.050664</td>\n",
       "      <td>0.042925</td>\n",
       "      <td>0.231437</td>\n",
       "      <td>0.002202</td>\n",
       "      <td>0.215613</td>\n",
       "    </tr>\n",
       "    <tr>\n",
       "      <th>capital-gain</th>\n",
       "      <td>0.078498</td>\n",
       "      <td>0.098415</td>\n",
       "      <td>-0.005051</td>\n",
       "      <td>0.169546</td>\n",
       "      <td>0.127651</td>\n",
       "      <td>0.084616</td>\n",
       "      <td>0.111829</td>\n",
       "      <td>0.087786</td>\n",
       "      <td>0.021237</td>\n",
       "      <td>0.050664</td>\n",
       "      <td>1.000000</td>\n",
       "      <td>-0.031401</td>\n",
       "      <td>0.088609</td>\n",
       "      <td>0.027366</td>\n",
       "      <td>0.221387</td>\n",
       "    </tr>\n",
       "    <tr>\n",
       "      <th>capital-loss</th>\n",
       "      <td>0.054413</td>\n",
       "      <td>0.044133</td>\n",
       "      <td>-0.001513</td>\n",
       "      <td>0.095937</td>\n",
       "      <td>0.083925</td>\n",
       "      <td>0.071447</td>\n",
       "      <td>0.074087</td>\n",
       "      <td>0.077228</td>\n",
       "      <td>0.021638</td>\n",
       "      <td>0.042925</td>\n",
       "      <td>-0.031401</td>\n",
       "      <td>1.000000</td>\n",
       "      <td>0.055271</td>\n",
       "      <td>0.017938</td>\n",
       "      <td>0.135645</td>\n",
       "    </tr>\n",
       "    <tr>\n",
       "      <th>hours-per-week</th>\n",
       "      <td>0.073100</td>\n",
       "      <td>0.138940</td>\n",
       "      <td>-0.010154</td>\n",
       "      <td>0.168649</td>\n",
       "      <td>0.147569</td>\n",
       "      <td>0.224070</td>\n",
       "      <td>0.210623</td>\n",
       "      <td>0.242891</td>\n",
       "      <td>0.046758</td>\n",
       "      <td>0.231437</td>\n",
       "      <td>0.088609</td>\n",
       "      <td>0.055271</td>\n",
       "      <td>1.000000</td>\n",
       "      <td>0.017960</td>\n",
       "      <td>0.231045</td>\n",
       "    </tr>\n",
       "    <tr>\n",
       "      <th>native-country</th>\n",
       "      <td>0.053992</td>\n",
       "      <td>0.048994</td>\n",
       "      <td>-0.107839</td>\n",
       "      <td>0.151892</td>\n",
       "      <td>0.235975</td>\n",
       "      <td>0.022363</td>\n",
       "      <td>0.119461</td>\n",
       "      <td>0.030623</td>\n",
       "      <td>0.054859</td>\n",
       "      <td>0.002202</td>\n",
       "      <td>0.027366</td>\n",
       "      <td>0.017938</td>\n",
       "      <td>0.017960</td>\n",
       "      <td>1.000000</td>\n",
       "      <td>0.100775</td>\n",
       "    </tr>\n",
       "    <tr>\n",
       "      <th>income</th>\n",
       "      <td>0.238460</td>\n",
       "      <td>0.165266</td>\n",
       "      <td>-0.002994</td>\n",
       "      <td>0.365031</td>\n",
       "      <td>0.331798</td>\n",
       "      <td>0.448346</td>\n",
       "      <td>0.349134</td>\n",
       "      <td>0.454753</td>\n",
       "      <td>0.101373</td>\n",
       "      <td>0.215613</td>\n",
       "      <td>0.221387</td>\n",
       "      <td>0.135645</td>\n",
       "      <td>0.231045</td>\n",
       "      <td>0.100775</td>\n",
       "      <td>1.000000</td>\n",
       "    </tr>\n",
       "  </tbody>\n",
       "</table>\n",
       "</div>"
      ],
      "text/plain": [
       "                     age  workclass    fnlwgt  education  education-num  \\\n",
       "age             1.000000   0.164381 -0.075753   0.110976       0.035084   \n",
       "workclass       0.164381   1.000000 -0.029410   0.162631       0.143107   \n",
       "fnlwgt         -0.075753  -0.029410  1.000000  -0.021721      -0.030600   \n",
       "education       0.110976   0.162631 -0.021721   1.000000       0.908433   \n",
       "education-num   0.035084   0.143107 -0.030600   0.908433       1.000000   \n",
       "marital-status  0.345511   0.145659 -0.026239   0.121604       0.082381   \n",
       "occupation      0.122510   0.199151 -0.010293   0.505764       0.478089   \n",
       "relationship    0.362711   0.148109 -0.027490   0.149016       0.108102   \n",
       "race            0.030967   0.021408 -0.096260   0.094781       0.089576   \n",
       "sex             0.083999   0.088980  0.029929   0.047013       0.017029   \n",
       "capital-gain    0.078498   0.098415 -0.005051   0.169546       0.127651   \n",
       "capital-loss    0.054413   0.044133 -0.001513   0.095937       0.083925   \n",
       "hours-per-week  0.073100   0.138940 -0.010154   0.168649       0.147569   \n",
       "native-country  0.053992   0.048994 -0.107839   0.151892       0.235975   \n",
       "income          0.238460   0.165266 -0.002994   0.365031       0.331798   \n",
       "\n",
       "                marital-status  occupation  relationship      race       sex  \\\n",
       "age                   0.345511    0.122510      0.362711  0.030967  0.083999   \n",
       "workclass             0.145659    0.199151      0.148109  0.021408  0.088980   \n",
       "fnlwgt               -0.026239   -0.010293     -0.027490 -0.096260  0.029929   \n",
       "education             0.121604    0.505764      0.149016  0.094781  0.047013   \n",
       "education-num         0.082381    0.478089      0.108102  0.089576  0.017029   \n",
       "marital-status        1.000000    0.189894      0.969115  0.126852  0.417371   \n",
       "occupation            0.189894    1.000000      0.211716  0.106576  0.103936   \n",
       "relationship          0.969115    0.211716      1.000000  0.128734  0.419588   \n",
       "race                  0.126852    0.106576      0.128734  1.000000  0.112482   \n",
       "sex                   0.417371    0.103936      0.419588  0.112482  1.000000   \n",
       "capital-gain          0.084616    0.111829      0.087786  0.021237  0.050664   \n",
       "capital-loss          0.071447    0.074087      0.077228  0.021638  0.042925   \n",
       "hours-per-week        0.224070    0.210623      0.242891  0.046758  0.231437   \n",
       "native-country        0.022363    0.119461      0.030623  0.054859  0.002202   \n",
       "income                0.448346    0.349134      0.454753  0.101373  0.215613   \n",
       "\n",
       "                capital-gain  capital-loss  hours-per-week  native-country  \\\n",
       "age                 0.078498      0.054413        0.073100        0.053992   \n",
       "workclass           0.098415      0.044133        0.138940        0.048994   \n",
       "fnlwgt             -0.005051     -0.001513       -0.010154       -0.107839   \n",
       "education           0.169546      0.095937        0.168649        0.151892   \n",
       "education-num       0.127651      0.083925        0.147569        0.235975   \n",
       "marital-status      0.084616      0.071447        0.224070        0.022363   \n",
       "occupation          0.111829      0.074087        0.210623        0.119461   \n",
       "relationship        0.087786      0.077228        0.242891        0.030623   \n",
       "race                0.021237      0.021638        0.046758        0.054859   \n",
       "sex                 0.050664      0.042925        0.231437        0.002202   \n",
       "capital-gain        1.000000     -0.031401        0.088609        0.027366   \n",
       "capital-loss       -0.031401      1.000000        0.055271        0.017938   \n",
       "hours-per-week      0.088609      0.055271        1.000000        0.017960   \n",
       "native-country      0.027366      0.017938        0.017960        1.000000   \n",
       "income              0.221387      0.135645        0.231045        0.100775   \n",
       "\n",
       "                  income  \n",
       "age             0.238460  \n",
       "workclass       0.165266  \n",
       "fnlwgt         -0.002994  \n",
       "education       0.365031  \n",
       "education-num   0.331798  \n",
       "marital-status  0.448346  \n",
       "occupation      0.349134  \n",
       "relationship    0.454753  \n",
       "race            0.101373  \n",
       "sex             0.215613  \n",
       "capital-gain    0.221387  \n",
       "capital-loss    0.135645  \n",
       "hours-per-week  0.231045  \n",
       "native-country  0.100775  \n",
       "income          1.000000  "
      ]
     },
     "execution_count": 155,
     "metadata": {},
     "output_type": "execute_result"
    }
   ],
   "source": [
    "train.corr()"
   ]
  },
  {
   "cell_type": "code",
   "execution_count": 156,
   "metadata": {},
   "outputs": [],
   "source": [
    "train['wcXhpw'] = train['workclass'] * train['hours-per-week']\n",
    "test['wcXhpw'] = test['workclass'] * test['hours-per-week']"
   ]
  },
  {
   "cell_type": "code",
   "execution_count": 157,
   "metadata": {},
   "outputs": [],
   "source": [
    "train['rXs'] = train['race'] * train['sex']\n",
    "test['rXs'] = test['race'] * test['sex']"
   ]
  },
  {
   "cell_type": "code",
   "execution_count": 158,
   "metadata": {},
   "outputs": [],
   "source": [
    "train['msXs'] = train['marital-status'] * train['sex']\n",
    "test['msXs'] = test['marital-status'] * test['sex']"
   ]
  },
  {
   "cell_type": "code",
   "execution_count": 159,
   "metadata": {},
   "outputs": [],
   "source": [
    "train['cgXcl'] = train['capital-gain'] * train['capital-loss']\n",
    "test['cgXcl'] = test['capital-gain'] * test['capital-loss']"
   ]
  },
  {
   "cell_type": "code",
   "execution_count": 160,
   "metadata": {},
   "outputs": [
    {
     "data": {
      "text/plain": [
       "Index(['age', 'workclass', 'fnlwgt', 'education', 'education-num',\n",
       "       'marital-status', 'occupation', 'relationship', 'race', 'sex',\n",
       "       'capital-gain', 'capital-loss', 'hours-per-week', 'native-country',\n",
       "       'income', 'wcXhpw', 'rXs', 'msXs', 'cgXcl'],\n",
       "      dtype='object')"
      ]
     },
     "execution_count": 160,
     "metadata": {},
     "output_type": "execute_result"
    }
   ],
   "source": [
    "train.columns"
   ]
  },
  {
   "cell_type": "code",
   "execution_count": 161,
   "metadata": {},
   "outputs": [],
   "source": [
    "# X_train = train.loc[:,:'native-country']\n",
    "X_train = train[['age', 'workclass', 'fnlwgt', 'education', 'education-num',\n",
    "       'marital-status', 'occupation', 'relationship', 'race', 'sex',\n",
    "       'capital-gain', 'capital-loss', 'hours-per-week', 'native-country',\n",
    "       'wcXhpw', 'rXs', 'msXs', 'cgXcl']]\n",
    "# X_train = train[['age', 'workclass', 'education', 'education-num', 'marital-status', 'occupation', 'relationship', 'race', 'sex', 'capital-gain', 'capital-loss', 'hours-per-week', 'native-country']]\n",
    "# X_train = train[['age', 'workclass', 'education-num','education', 'marital-status', 'occupation', 'relationship', 'race', 'sex',\n",
    "#                 'capital-gain', 'capital-loss', 'hours-per-week', 'native-country']]\n",
    "y_train = train['income']\n",
    "X_test = test\n",
    "# X_test = test[['age', 'workclass', 'education', 'education-num', 'marital-status', 'occupation', 'relationship', 'race', 'sex', 'capital-gain', 'capital-loss', 'hours-per-week', 'native-country']]\n",
    "# X_test = test[['age', 'workclass', 'education-num','education', 'marital-status', 'occupation', 'relationship', 'race', 'sex',\n",
    "#                'capital-gain', 'capital-loss', 'hours-per-week', 'native-country']]"
   ]
  },
  {
   "cell_type": "code",
   "execution_count": 162,
   "metadata": {},
   "outputs": [
    {
     "name": "stdout",
     "output_type": "stream",
     "text": [
      "훈련용 문제 : (29305, 18)\n",
      "훈련용 문제 : (29305,)\n",
      "데스트용 문제 : (19537, 18)\n"
     ]
    }
   ],
   "source": [
    "print(\"훈련용 문제 :\",X_train.shape)\n",
    "print(\"훈련용 문제 :\",y_train.shape)\n",
    "print(\"데스트용 문제 :\",X_test.shape)"
   ]
  },
  {
   "cell_type": "code",
   "execution_count": 163,
   "metadata": {},
   "outputs": [],
   "source": [
    "from sklearn.ensemble import GradientBoostingClassifier\n",
    "import time\n",
    "import warnings\n",
    "warnings.filterwarnings('ignore')"
   ]
  },
  {
   "cell_type": "code",
   "execution_count": 177,
   "metadata": {},
   "outputs": [
    {
     "data": {
      "text/plain": [
       "GradientBoostingClassifier(max_depth=5, random_state=2)"
      ]
     },
     "execution_count": 177,
     "metadata": {},
     "output_type": "execute_result"
    },
    {
     "data": {
      "text/plain": [
       "array([0.87117904, 0.87223587, 0.87742288, 0.87196287, 0.87141687,\n",
       "       0.86704887, 0.86786787, 0.87059787])"
      ]
     },
     "execution_count": 177,
     "metadata": {},
     "output_type": "execute_result"
    },
    {
     "data": {
      "text/plain": [
       "0.871216517231801"
      ]
     },
     "execution_count": 177,
     "metadata": {},
     "output_type": "execute_result"
    }
   ],
   "source": [
    "gb = GradientBoostingClassifier(random_state=2, max_depth=5)\n",
    "gb.fit(X_train, y_train)\n",
    "\n",
    "res = cross_val_score(gb,X_train,y_train,cv=8)\n",
    "res\n",
    "res.mean()\n",
    "\n",
    "# md=5 : 0.870636410168913\n"
   ]
  },
  {
   "cell_type": "code",
   "execution_count": 178,
   "metadata": {},
   "outputs": [
    {
     "data": {
      "text/html": [
       "<div>\n",
       "<style scoped>\n",
       "    .dataframe tbody tr th:only-of-type {\n",
       "        vertical-align: middle;\n",
       "    }\n",
       "\n",
       "    .dataframe tbody tr th {\n",
       "        vertical-align: top;\n",
       "    }\n",
       "\n",
       "    .dataframe thead th {\n",
       "        text-align: right;\n",
       "    }\n",
       "</style>\n",
       "<table border=\"1\" class=\"dataframe\">\n",
       "  <thead>\n",
       "    <tr style=\"text-align: right;\">\n",
       "      <th></th>\n",
       "      <th>no</th>\n",
       "      <th>income</th>\n",
       "    </tr>\n",
       "  </thead>\n",
       "  <tbody>\n",
       "    <tr>\n",
       "      <th>0</th>\n",
       "      <td>29306</td>\n",
       "      <td>0</td>\n",
       "    </tr>\n",
       "    <tr>\n",
       "      <th>1</th>\n",
       "      <td>29307</td>\n",
       "      <td>0</td>\n",
       "    </tr>\n",
       "    <tr>\n",
       "      <th>2</th>\n",
       "      <td>29308</td>\n",
       "      <td>0</td>\n",
       "    </tr>\n",
       "    <tr>\n",
       "      <th>3</th>\n",
       "      <td>29309</td>\n",
       "      <td>0</td>\n",
       "    </tr>\n",
       "    <tr>\n",
       "      <th>4</th>\n",
       "      <td>29310</td>\n",
       "      <td>0</td>\n",
       "    </tr>\n",
       "    <tr>\n",
       "      <th>...</th>\n",
       "      <td>...</td>\n",
       "      <td>...</td>\n",
       "    </tr>\n",
       "    <tr>\n",
       "      <th>19532</th>\n",
       "      <td>48838</td>\n",
       "      <td>1</td>\n",
       "    </tr>\n",
       "    <tr>\n",
       "      <th>19533</th>\n",
       "      <td>48839</td>\n",
       "      <td>0</td>\n",
       "    </tr>\n",
       "    <tr>\n",
       "      <th>19534</th>\n",
       "      <td>48840</td>\n",
       "      <td>1</td>\n",
       "    </tr>\n",
       "    <tr>\n",
       "      <th>19535</th>\n",
       "      <td>48841</td>\n",
       "      <td>0</td>\n",
       "    </tr>\n",
       "    <tr>\n",
       "      <th>19536</th>\n",
       "      <td>48842</td>\n",
       "      <td>0</td>\n",
       "    </tr>\n",
       "  </tbody>\n",
       "</table>\n",
       "<p>19537 rows × 2 columns</p>\n",
       "</div>"
      ],
      "text/plain": [
       "          no  income\n",
       "0      29306       0\n",
       "1      29307       0\n",
       "2      29308       0\n",
       "3      29309       0\n",
       "4      29310       0\n",
       "...      ...     ...\n",
       "19532  48838       1\n",
       "19533  48839       0\n",
       "19534  48840       1\n",
       "19535  48841       0\n",
       "19536  48842       0\n",
       "\n",
       "[19537 rows x 2 columns]"
      ]
     },
     "execution_count": 178,
     "metadata": {},
     "output_type": "execute_result"
    }
   ],
   "source": [
    "pred = gb.predict(X_test)\n",
    "result = pd.read_csv(\"./data/sample_submission.csv\")\n",
    "result\n",
    "result['income'] = pred\n",
    "result.to_csv('./data/phy12.csv', index=False)\n",
    "\n",
    "# 0.87253"
   ]
  },
  {
   "cell_type": "code",
   "execution_count": 113,
   "metadata": {},
   "outputs": [],
   "source": [
    "# !pip install xgboost"
   ]
  },
  {
   "cell_type": "code",
   "execution_count": 165,
   "metadata": {},
   "outputs": [],
   "source": [
    "from xgboost import XGBClassifier"
   ]
  },
  {
   "cell_type": "code",
   "execution_count": 173,
   "metadata": {},
   "outputs": [
    {
     "data": {
      "text/plain": [
       "XGBClassifier(base_score=None, booster=None, callbacks=None,\n",
       "              colsample_bylevel=None, colsample_bynode=None,\n",
       "              colsample_bytree=None, early_stopping_rounds=None,\n",
       "              enable_categorical=False, eval_metric=None, feature_types=None,\n",
       "              gamma=None, gpu_id=None, grow_policy=None, importance_type=None,\n",
       "              interaction_constraints=None, learning_rate=0.1, max_bin=None,\n",
       "              max_cat_threshold=None, max_cat_to_onehot=None,\n",
       "              max_delta_step=None, max_depth=4, max_leaves=None,\n",
       "              min_child_weight=None, missing=nan, monotone_constraints=None,\n",
       "              n_estimators=280, n_jobs=None, num_parallel_tree=None,\n",
       "              predictor=None, random_state=None, ...)"
      ]
     },
     "execution_count": 173,
     "metadata": {},
     "output_type": "execute_result"
    },
    {
     "data": {
      "text/plain": [
       "0.8706364295111395"
      ]
     },
     "execution_count": 173,
     "metadata": {},
     "output_type": "execute_result"
    }
   ],
   "source": [
    "xgb_model = XGBClassifier(n_estimators=280, learning_rate=0.1, max_depth=4)\n",
    "xgb_model.fit(X_train, y_train)\n",
    "res = cross_val_score(xgb_model,X_train,y_train, cv=4)\n",
    "res.mean()\n",
    "# cv=8\n",
    "# 200 : 0.8714896199544125\n",
    "# 400, 0.1, 4 : 0.8717966614391287\n",
    "# 400, 0.1, 3 : 0.8723426061035232\n",
    "\n",
    "# 0.8727521344538266\n",
    "# 3, 4  : 0.8714895087899046\n",
    "# 4,4 : 0.871899004541969\n",
    "# 4,6 : 0.8719330850344157\n",
    "\n",
    "# 0.8728544909289997  280, 0.05"
   ]
  },
  {
   "cell_type": "code",
   "execution_count": 131,
   "metadata": {},
   "outputs": [
    {
     "data": {
      "text/plain": [
       "array([0.87363537, 0.87223587, 0.87933388, 0.87114387, 0.87087087,\n",
       "       0.87387387, 0.86977887, 0.87196287])"
      ]
     },
     "execution_count": 131,
     "metadata": {},
     "output_type": "execute_result"
    }
   ],
   "source": [
    "# 7 : 0.8706704646963389\n",
    "# 0.8704316135061223\n",
    "res\n",
    "\n",
    "# [0.87145197, 0.87087087, 0.87714988, 0.87387387, 0.87196287, 0.87332787, 0.87114387, 0.87223587]"
   ]
  },
  {
   "cell_type": "code",
   "execution_count": 136,
   "metadata": {},
   "outputs": [
    {
     "data": {
      "text/html": [
       "<div>\n",
       "<style scoped>\n",
       "    .dataframe tbody tr th:only-of-type {\n",
       "        vertical-align: middle;\n",
       "    }\n",
       "\n",
       "    .dataframe tbody tr th {\n",
       "        vertical-align: top;\n",
       "    }\n",
       "\n",
       "    .dataframe thead th {\n",
       "        text-align: right;\n",
       "    }\n",
       "</style>\n",
       "<table border=\"1\" class=\"dataframe\">\n",
       "  <thead>\n",
       "    <tr style=\"text-align: right;\">\n",
       "      <th></th>\n",
       "      <th>no</th>\n",
       "      <th>income</th>\n",
       "    </tr>\n",
       "  </thead>\n",
       "  <tbody>\n",
       "    <tr>\n",
       "      <th>0</th>\n",
       "      <td>29306</td>\n",
       "      <td>0</td>\n",
       "    </tr>\n",
       "    <tr>\n",
       "      <th>1</th>\n",
       "      <td>29307</td>\n",
       "      <td>0</td>\n",
       "    </tr>\n",
       "    <tr>\n",
       "      <th>2</th>\n",
       "      <td>29308</td>\n",
       "      <td>0</td>\n",
       "    </tr>\n",
       "    <tr>\n",
       "      <th>3</th>\n",
       "      <td>29309</td>\n",
       "      <td>0</td>\n",
       "    </tr>\n",
       "    <tr>\n",
       "      <th>4</th>\n",
       "      <td>29310</td>\n",
       "      <td>0</td>\n",
       "    </tr>\n",
       "    <tr>\n",
       "      <th>...</th>\n",
       "      <td>...</td>\n",
       "      <td>...</td>\n",
       "    </tr>\n",
       "    <tr>\n",
       "      <th>19532</th>\n",
       "      <td>48838</td>\n",
       "      <td>1</td>\n",
       "    </tr>\n",
       "    <tr>\n",
       "      <th>19533</th>\n",
       "      <td>48839</td>\n",
       "      <td>0</td>\n",
       "    </tr>\n",
       "    <tr>\n",
       "      <th>19534</th>\n",
       "      <td>48840</td>\n",
       "      <td>1</td>\n",
       "    </tr>\n",
       "    <tr>\n",
       "      <th>19535</th>\n",
       "      <td>48841</td>\n",
       "      <td>0</td>\n",
       "    </tr>\n",
       "    <tr>\n",
       "      <th>19536</th>\n",
       "      <td>48842</td>\n",
       "      <td>0</td>\n",
       "    </tr>\n",
       "  </tbody>\n",
       "</table>\n",
       "<p>19537 rows × 2 columns</p>\n",
       "</div>"
      ],
      "text/plain": [
       "          no  income\n",
       "0      29306       0\n",
       "1      29307       0\n",
       "2      29308       0\n",
       "3      29309       0\n",
       "4      29310       0\n",
       "...      ...     ...\n",
       "19532  48838       1\n",
       "19533  48839       0\n",
       "19534  48840       1\n",
       "19535  48841       0\n",
       "19536  48842       0\n",
       "\n",
       "[19537 rows x 2 columns]"
      ]
     },
     "execution_count": 136,
     "metadata": {},
     "output_type": "execute_result"
    }
   ],
   "source": [
    "# 0.8693055991432084\n",
    "\n",
    "pred = xgb_model.predict(X_test)\n",
    "result = pd.read_csv(\"./data/sample_submission.csv\")\n",
    "result\n",
    "result['income'] = pred\n",
    "result.to_csv('./data/phy11.csv', index=False)\n"
   ]
  },
  {
   "cell_type": "code",
   "execution_count": null,
   "metadata": {},
   "outputs": [],
   "source": []
  },
  {
   "cell_type": "code",
   "execution_count": null,
   "metadata": {},
   "outputs": [],
   "source": []
  },
  {
   "cell_type": "code",
   "execution_count": 179,
   "metadata": {},
   "outputs": [],
   "source": [
    "# random forest 모델 불러오기\n",
    "from sklearn.ensemble import RandomForestClassifier"
   ]
  },
  {
   "cell_type": "code",
   "execution_count": 180,
   "metadata": {},
   "outputs": [],
   "source": [
    "forest_model = RandomForestClassifier(n_estimators=100,random_state=10)"
   ]
  },
  {
   "cell_type": "code",
   "execution_count": 181,
   "metadata": {},
   "outputs": [
    {
     "data": {
      "text/plain": [
       "0.8582153447443591"
      ]
     },
     "execution_count": 181,
     "metadata": {},
     "output_type": "execute_result"
    }
   ],
   "source": [
    "res = cross_val_score(forest_model,X_train,y_train,cv=9)\n",
    "res.mean()"
   ]
  },
  {
   "cell_type": "code",
   "execution_count": null,
   "metadata": {},
   "outputs": [],
   "source": []
  }
 ],
 "metadata": {
  "kernelspec": {
   "display_name": "base",
   "language": "python",
   "name": "python3"
  },
  "language_info": {
   "codemirror_mode": {
    "name": "ipython",
    "version": 3
   },
   "file_extension": ".py",
   "mimetype": "text/x-python",
   "name": "python",
   "nbconvert_exporter": "python",
   "pygments_lexer": "ipython3",
   "version": "3.9.13"
  },
  "orig_nbformat": 4
 },
 "nbformat": 4,
 "nbformat_minor": 2
}
