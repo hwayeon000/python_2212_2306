{
 "cells": [
  {
   "cell_type": "code",
   "execution_count": 1,
   "metadata": {},
   "outputs": [],
   "source": [
    "# 라이브러리 불러오기\n",
    "import numpy as np\n",
    "import pandas as pd\n",
    "import matplotlib.pyplot as plt\n",
    "# 머신러닝\n",
    "# 교자검증\n",
    "from sklearn.model_selection import cross_val_score\n",
    "# 분리\n",
    "from sklearn.model_selection import train_test_split\n",
    "from sklearn.metrics import accuracy_score"
   ]
  },
  {
   "cell_type": "code",
   "execution_count": 2,
   "metadata": {},
   "outputs": [],
   "source": [
    "train = pd.read_csv(\"./data/train.csv\", index_col='no')\n",
    "# train\n",
    "test = pd.read_csv(\"./data/test.csv\", index_col='no')\n",
    "# test"
   ]
  },
  {
   "cell_type": "code",
   "execution_count": 3,
   "metadata": {},
   "outputs": [
    {
     "data": {
      "text/plain": [
       "array([' Private', ' Self-emp-not-inc', ' Local-gov', ' ?', ' State-gov',\n",
       "       ' Self-emp-inc', ' Federal-gov', ' Without-pay', ' Never-worked'],\n",
       "      dtype=object)"
      ]
     },
     "execution_count": 3,
     "metadata": {},
     "output_type": "execute_result"
    }
   ],
   "source": [
    "train['workclass'].unique()\n",
    "\n",
    "# 데이터 앞에 공백이 있다"
   ]
  },
  {
   "cell_type": "code",
   "execution_count": 4,
   "metadata": {},
   "outputs": [],
   "source": [
    "# 문자열 데이터 앞 공백 제거\n",
    "df = train[['workclass', 'education', 'marital-status', 'occupation', 'relationship', 'race', 'sex', 'native-country']]\n",
    "df = df.apply(lambda x: x.str.lstrip(), axis=1)\n",
    "train[['workclass', 'education', 'marital-status', 'occupation', 'relationship', 'race', 'sex', 'native-country']] = df\n",
    "\n",
    "df = test[['workclass', 'education', 'marital-status', 'occupation', 'relationship', 'race', 'sex', 'native-country']]\n",
    "df = df.apply(lambda x: x.str.lstrip(), axis=1)\n",
    "test[['workclass', 'education', 'marital-status', 'occupation', 'relationship', 'race', 'sex', 'native-country']] = df"
   ]
  },
  {
   "cell_type": "code",
   "execution_count": 5,
   "metadata": {},
   "outputs": [
    {
     "data": {
      "text/plain": [
       "array(['?', 'Private', 'Self-emp-not-inc', 'Local-gov', 'Self-emp-inc',\n",
       "       'State-gov', 'Federal-gov', 'Without-pay', 'Never-worked'],\n",
       "      dtype=object)"
      ]
     },
     "execution_count": 5,
     "metadata": {},
     "output_type": "execute_result"
    }
   ],
   "source": [
    "train['workclass'].unique()\n",
    "test['workclass'].unique()\n",
    "\n",
    "# 공백 없앰"
   ]
  },
  {
   "cell_type": "code",
   "execution_count": 6,
   "metadata": {},
   "outputs": [
    {
     "name": "stdout",
     "output_type": "stream",
     "text": [
      "<class 'pandas.core.frame.DataFrame'>\n",
      "Int64Index: 29305 entries, 1 to 29305\n",
      "Data columns (total 15 columns):\n",
      " #   Column          Non-Null Count  Dtype \n",
      "---  ------          --------------  ----- \n",
      " 0   age             29305 non-null  int64 \n",
      " 1   workclass       29305 non-null  object\n",
      " 2   fnlwgt          29305 non-null  int64 \n",
      " 3   education       29305 non-null  object\n",
      " 4   education-num   29305 non-null  int64 \n",
      " 5   marital-status  29305 non-null  object\n",
      " 6   occupation      29305 non-null  object\n",
      " 7   relationship    29305 non-null  object\n",
      " 8   race            29305 non-null  object\n",
      " 9   sex             29305 non-null  object\n",
      " 10  capital-gain    29305 non-null  int64 \n",
      " 11  capital-loss    29305 non-null  int64 \n",
      " 12  hours-per-week  29305 non-null  int64 \n",
      " 13  native-country  29305 non-null  object\n",
      " 14  income          29305 non-null  int64 \n",
      "dtypes: int64(7), object(8)\n",
      "memory usage: 3.6+ MB\n"
     ]
    }
   ],
   "source": [
    "train.info()"
   ]
  },
  {
   "cell_type": "code",
   "execution_count": 7,
   "metadata": {},
   "outputs": [
    {
     "name": "stdout",
     "output_type": "stream",
     "text": [
      "<class 'pandas.core.frame.DataFrame'>\n",
      "Int64Index: 19537 entries, 29306 to 48842\n",
      "Data columns (total 14 columns):\n",
      " #   Column          Non-Null Count  Dtype \n",
      "---  ------          --------------  ----- \n",
      " 0   age             19537 non-null  int64 \n",
      " 1   workclass       19537 non-null  object\n",
      " 2   fnlwgt          19537 non-null  int64 \n",
      " 3   education       19537 non-null  object\n",
      " 4   education-num   19537 non-null  int64 \n",
      " 5   marital-status  19537 non-null  object\n",
      " 6   occupation      19537 non-null  object\n",
      " 7   relationship    19537 non-null  object\n",
      " 8   race            19537 non-null  object\n",
      " 9   sex             19537 non-null  object\n",
      " 10  capital-gain    19537 non-null  int64 \n",
      " 11  capital-loss    19537 non-null  int64 \n",
      " 12  hours-per-week  19537 non-null  int64 \n",
      " 13  native-country  19537 non-null  object\n",
      "dtypes: int64(6), object(8)\n",
      "memory usage: 2.2+ MB\n"
     ]
    }
   ],
   "source": [
    "test.info()"
   ]
  },
  {
   "cell_type": "code",
   "execution_count": 8,
   "metadata": {},
   "outputs": [
    {
     "data": {
      "text/plain": [
       "array(['United-States', 'Haiti', 'Mexico', 'Puerto-Rico', 'Philippines',\n",
       "       '?', 'Germany', 'Peru', 'Ecuador', 'Iran', 'Thailand',\n",
       "       'Dominican-Republic', 'Poland', 'Scotland', 'Italy', 'Jamaica',\n",
       "       'China', 'Portugal', 'Columbia', 'Hungary', 'Vietnam', 'Taiwan',\n",
       "       'Canada', 'Hong', 'Guatemala', 'El-Salvador', 'England',\n",
       "       'Outlying-US(Guam-USVI-etc)', 'India', 'France', 'Cuba', 'Greece',\n",
       "       'Trinadad&Tobago', 'South', 'Japan', 'Yugoslavia', 'Nicaragua',\n",
       "       'Ireland', 'Cambodia', 'Laos', 'Honduras', 'Holand-Netherlands'],\n",
       "      dtype=object)"
      ]
     },
     "execution_count": 8,
     "metadata": {},
     "output_type": "execute_result"
    }
   ],
   "source": [
    "# int\n",
    "train['age'].unique()\n",
    "train['fnlwgt'].unique()\n",
    "train['education-num'].unique()\n",
    "train['capital-gain'].unique()\n",
    "train['capital-loss'].unique()\n",
    "train['hours-per-week'].unique()\n",
    "\n",
    "# Object\n",
    "train['education'].unique()\n",
    "train['marital-status'].unique()\n",
    "train['relationship'].unique()\n",
    "train['race'].unique()\n",
    "train['sex'].unique()\n",
    "\n",
    "\n",
    "# '?' 있는 컬럼\n",
    "train['workclass'].unique()\n",
    "train['occupation'].unique()\n",
    "train['native-country'].unique()\n"
   ]
  },
  {
   "cell_type": "code",
   "execution_count": 9,
   "metadata": {},
   "outputs": [
    {
     "data": {
      "text/html": [
       "<div>\n",
       "<style scoped>\n",
       "    .dataframe tbody tr th:only-of-type {\n",
       "        vertical-align: middle;\n",
       "    }\n",
       "\n",
       "    .dataframe tbody tr th {\n",
       "        vertical-align: top;\n",
       "    }\n",
       "\n",
       "    .dataframe thead th {\n",
       "        text-align: right;\n",
       "    }\n",
       "</style>\n",
       "<table border=\"1\" class=\"dataframe\">\n",
       "  <thead>\n",
       "    <tr style=\"text-align: right;\">\n",
       "      <th></th>\n",
       "      <th>age</th>\n",
       "      <th>fnlwgt</th>\n",
       "      <th>education-num</th>\n",
       "      <th>capital-gain</th>\n",
       "      <th>capital-loss</th>\n",
       "      <th>hours-per-week</th>\n",
       "      <th>income</th>\n",
       "    </tr>\n",
       "  </thead>\n",
       "  <tbody>\n",
       "    <tr>\n",
       "      <th>age</th>\n",
       "      <td>1.000000</td>\n",
       "      <td>-0.075753</td>\n",
       "      <td>0.035084</td>\n",
       "      <td>0.078498</td>\n",
       "      <td>0.054413</td>\n",
       "      <td>0.073100</td>\n",
       "      <td>0.238460</td>\n",
       "    </tr>\n",
       "    <tr>\n",
       "      <th>fnlwgt</th>\n",
       "      <td>-0.075753</td>\n",
       "      <td>1.000000</td>\n",
       "      <td>-0.030600</td>\n",
       "      <td>-0.005051</td>\n",
       "      <td>-0.001513</td>\n",
       "      <td>-0.010154</td>\n",
       "      <td>-0.002994</td>\n",
       "    </tr>\n",
       "    <tr>\n",
       "      <th>education-num</th>\n",
       "      <td>0.035084</td>\n",
       "      <td>-0.030600</td>\n",
       "      <td>1.000000</td>\n",
       "      <td>0.127651</td>\n",
       "      <td>0.083925</td>\n",
       "      <td>0.147569</td>\n",
       "      <td>0.331798</td>\n",
       "    </tr>\n",
       "    <tr>\n",
       "      <th>capital-gain</th>\n",
       "      <td>0.078498</td>\n",
       "      <td>-0.005051</td>\n",
       "      <td>0.127651</td>\n",
       "      <td>1.000000</td>\n",
       "      <td>-0.031401</td>\n",
       "      <td>0.088609</td>\n",
       "      <td>0.221387</td>\n",
       "    </tr>\n",
       "    <tr>\n",
       "      <th>capital-loss</th>\n",
       "      <td>0.054413</td>\n",
       "      <td>-0.001513</td>\n",
       "      <td>0.083925</td>\n",
       "      <td>-0.031401</td>\n",
       "      <td>1.000000</td>\n",
       "      <td>0.055271</td>\n",
       "      <td>0.135645</td>\n",
       "    </tr>\n",
       "    <tr>\n",
       "      <th>hours-per-week</th>\n",
       "      <td>0.073100</td>\n",
       "      <td>-0.010154</td>\n",
       "      <td>0.147569</td>\n",
       "      <td>0.088609</td>\n",
       "      <td>0.055271</td>\n",
       "      <td>1.000000</td>\n",
       "      <td>0.231045</td>\n",
       "    </tr>\n",
       "    <tr>\n",
       "      <th>income</th>\n",
       "      <td>0.238460</td>\n",
       "      <td>-0.002994</td>\n",
       "      <td>0.331798</td>\n",
       "      <td>0.221387</td>\n",
       "      <td>0.135645</td>\n",
       "      <td>0.231045</td>\n",
       "      <td>1.000000</td>\n",
       "    </tr>\n",
       "  </tbody>\n",
       "</table>\n",
       "</div>"
      ],
      "text/plain": [
       "                     age    fnlwgt  education-num  capital-gain  capital-loss  \\\n",
       "age             1.000000 -0.075753       0.035084      0.078498      0.054413   \n",
       "fnlwgt         -0.075753  1.000000      -0.030600     -0.005051     -0.001513   \n",
       "education-num   0.035084 -0.030600       1.000000      0.127651      0.083925   \n",
       "capital-gain    0.078498 -0.005051       0.127651      1.000000     -0.031401   \n",
       "capital-loss    0.054413 -0.001513       0.083925     -0.031401      1.000000   \n",
       "hours-per-week  0.073100 -0.010154       0.147569      0.088609      0.055271   \n",
       "income          0.238460 -0.002994       0.331798      0.221387      0.135645   \n",
       "\n",
       "                hours-per-week    income  \n",
       "age                   0.073100  0.238460  \n",
       "fnlwgt               -0.010154 -0.002994  \n",
       "education-num         0.147569  0.331798  \n",
       "capital-gain          0.088609  0.221387  \n",
       "capital-loss          0.055271  0.135645  \n",
       "hours-per-week        1.000000  0.231045  \n",
       "income                0.231045  1.000000  "
      ]
     },
     "execution_count": 9,
     "metadata": {},
     "output_type": "execute_result"
    }
   ],
   "source": [
    "train.corr()"
   ]
  },
  {
   "cell_type": "code",
   "execution_count": 10,
   "metadata": {},
   "outputs": [
    {
     "data": {
      "text/plain": [
       "array(['11th', 'Some-college', 'Bachelors', 'Assoc-voc', '9th', 'HS-grad',\n",
       "       'Masters', '5th-6th', 'Prof-school', '12th', '10th', 'Assoc-acdm',\n",
       "       'Doctorate', '7th-8th', '1st-4th', 'Preschool'], dtype=object)"
      ]
     },
     "execution_count": 10,
     "metadata": {},
     "output_type": "execute_result"
    }
   ],
   "source": [
    "train['education'].unique()"
   ]
  },
  {
   "cell_type": "code",
   "execution_count": 11,
   "metadata": {},
   "outputs": [
    {
     "data": {
      "text/plain": [
       "HS-grad         9435\n",
       "Some-college    6558\n",
       "Bachelors       4848\n",
       "Masters         1587\n",
       "Assoc-voc       1230\n",
       "11th            1057\n",
       "Assoc-acdm       980\n",
       "10th             816\n",
       "7th-8th          574\n",
       "Prof-school      500\n",
       "9th              430\n",
       "12th             415\n",
       "Doctorate        347\n",
       "5th-6th          334\n",
       "1st-4th          148\n",
       "Preschool         46\n",
       "Name: education, dtype: int64"
      ]
     },
     "execution_count": 11,
     "metadata": {},
     "output_type": "execute_result"
    }
   ],
   "source": [
    "temp = train['education'].value_counts()\n",
    "temp"
   ]
  },
  {
   "cell_type": "code",
   "execution_count": 12,
   "metadata": {},
   "outputs": [
    {
     "name": "stdout",
     "output_type": "stream",
     "text": [
      "'HS-grad':\n",
      "'Some-college':\n",
      "'Bachelors':\n",
      "'Masters':\n",
      "'Assoc-voc':\n",
      "'11th':\n",
      "'Assoc-acdm':\n",
      "'10th':\n",
      "'7th-8th':\n",
      "'Prof-school':\n",
      "'9th':\n",
      "'12th':\n",
      "'Doctorate':\n",
      "'5th-6th':\n",
      "'1st-4th':\n",
      "'Preschool':\n"
     ]
    }
   ],
   "source": [
    "for i in range(len(temp)):\n",
    "    print(f\"\\'{temp.index[i]}\\':\")"
   ]
  },
  {
   "cell_type": "code",
   "execution_count": 13,
   "metadata": {},
   "outputs": [
    {
     "data": {
      "text/html": [
       "<div>\n",
       "<style scoped>\n",
       "    .dataframe tbody tr th:only-of-type {\n",
       "        vertical-align: middle;\n",
       "    }\n",
       "\n",
       "    .dataframe tbody tr th {\n",
       "        vertical-align: top;\n",
       "    }\n",
       "\n",
       "    .dataframe thead th {\n",
       "        text-align: right;\n",
       "    }\n",
       "</style>\n",
       "<table border=\"1\" class=\"dataframe\">\n",
       "  <thead>\n",
       "    <tr style=\"text-align: right;\">\n",
       "      <th></th>\n",
       "      <th>income</th>\n",
       "    </tr>\n",
       "    <tr>\n",
       "      <th>education</th>\n",
       "      <th></th>\n",
       "    </tr>\n",
       "  </thead>\n",
       "  <tbody>\n",
       "    <tr>\n",
       "      <th>Prof-school</th>\n",
       "      <td>0.750000</td>\n",
       "    </tr>\n",
       "    <tr>\n",
       "      <th>Doctorate</th>\n",
       "      <td>0.740634</td>\n",
       "    </tr>\n",
       "    <tr>\n",
       "      <th>Masters</th>\n",
       "      <td>0.543793</td>\n",
       "    </tr>\n",
       "    <tr>\n",
       "      <th>Bachelors</th>\n",
       "      <td>0.412129</td>\n",
       "    </tr>\n",
       "    <tr>\n",
       "      <th>Assoc-acdm</th>\n",
       "      <td>0.259184</td>\n",
       "    </tr>\n",
       "    <tr>\n",
       "      <th>Assoc-voc</th>\n",
       "      <td>0.256911</td>\n",
       "    </tr>\n",
       "    <tr>\n",
       "      <th>Some-college</th>\n",
       "      <td>0.191674</td>\n",
       "    </tr>\n",
       "    <tr>\n",
       "      <th>HS-grad</th>\n",
       "      <td>0.160042</td>\n",
       "    </tr>\n",
       "    <tr>\n",
       "      <th>7th-8th</th>\n",
       "      <td>0.076655</td>\n",
       "    </tr>\n",
       "    <tr>\n",
       "      <th>12th</th>\n",
       "      <td>0.065060</td>\n",
       "    </tr>\n",
       "    <tr>\n",
       "      <th>11th</th>\n",
       "      <td>0.057711</td>\n",
       "    </tr>\n",
       "    <tr>\n",
       "      <th>9th</th>\n",
       "      <td>0.053488</td>\n",
       "    </tr>\n",
       "    <tr>\n",
       "      <th>10th</th>\n",
       "      <td>0.051471</td>\n",
       "    </tr>\n",
       "    <tr>\n",
       "      <th>5th-6th</th>\n",
       "      <td>0.047904</td>\n",
       "    </tr>\n",
       "    <tr>\n",
       "      <th>1st-4th</th>\n",
       "      <td>0.013514</td>\n",
       "    </tr>\n",
       "    <tr>\n",
       "      <th>Preschool</th>\n",
       "      <td>0.000000</td>\n",
       "    </tr>\n",
       "  </tbody>\n",
       "</table>\n",
       "</div>"
      ],
      "text/plain": [
       "                income\n",
       "education             \n",
       "Prof-school   0.750000\n",
       "Doctorate     0.740634\n",
       "Masters       0.543793\n",
       "Bachelors     0.412129\n",
       "Assoc-acdm    0.259184\n",
       "Assoc-voc     0.256911\n",
       "Some-college  0.191674\n",
       "HS-grad       0.160042\n",
       "7th-8th       0.076655\n",
       "12th          0.065060\n",
       "11th          0.057711\n",
       "9th           0.053488\n",
       "10th          0.051471\n",
       "5th-6th       0.047904\n",
       "1st-4th       0.013514\n",
       "Preschool     0.000000"
      ]
     },
     "execution_count": 13,
     "metadata": {},
     "output_type": "execute_result"
    }
   ],
   "source": [
    "pt_edu = train.pivot_table(values='income', #데이터로 사용 할 컬럼 지정\n",
    "                index=['education'], # 데이터 요약시 확인하고 싶은 컬럼\n",
    "                aggfunc='mean' ) \n",
    "pt_edu = pt_edu.sort_values(by='income', ascending=False)\n",
    "pt_edu"
   ]
  },
  {
   "cell_type": "code",
   "execution_count": 14,
   "metadata": {},
   "outputs": [],
   "source": [
    "dict_edu = {\n",
    "    'HS-grad':16,\n",
    "    'Some-college':19,\n",
    "    'Bachelors':41,\n",
    "    'Masters':54,\n",
    "    'Assoc-voc':26,\n",
    "    '11th':6,\n",
    "    'Assoc-acdm':26,\n",
    "    '10th':5,\n",
    "    '7th-8th':8,\n",
    "    'Prof-school':75,\n",
    "    '9th':5,\n",
    "    '12th':7,\n",
    "    'Doctorate':74,\n",
    "    '5th-6th':5,\n",
    "    '1st-4th':1,\n",
    "    'Preschool':0\n",
    "}"
   ]
  },
  {
   "cell_type": "code",
   "execution_count": 15,
   "metadata": {},
   "outputs": [],
   "source": [
    "train['education'] = train['education'].map(dict_edu)\n",
    "test['education'] = test['education'].map(dict_edu)"
   ]
  },
  {
   "cell_type": "code",
   "execution_count": 16,
   "metadata": {},
   "outputs": [
    {
     "data": {
      "text/plain": [
       "array([ 6, 19, 41, 26,  5, 16, 54, 75,  7, 74,  8,  1,  0], dtype=int64)"
      ]
     },
     "execution_count": 16,
     "metadata": {},
     "output_type": "execute_result"
    }
   ],
   "source": [
    "train['education'].unique()"
   ]
  },
  {
   "cell_type": "code",
   "execution_count": 17,
   "metadata": {},
   "outputs": [
    {
     "data": {
      "text/plain": [
       "array([19, 16, 41, 74,  5, 26, 54,  8,  6, 75,  7,  1,  0], dtype=int64)"
      ]
     },
     "execution_count": 17,
     "metadata": {},
     "output_type": "execute_result"
    }
   ],
   "source": [
    "test['education'].unique()"
   ]
  },
  {
   "cell_type": "code",
   "execution_count": 18,
   "metadata": {},
   "outputs": [
    {
     "data": {
      "text/plain": [
       "Married-civ-spouse       13331\n",
       "Never-married             9673\n",
       "Divorced                  4030\n",
       "Widowed                    942\n",
       "Separated                  914\n",
       "Married-spouse-absent      394\n",
       "Married-AF-spouse           21\n",
       "Name: marital-status, dtype: int64"
      ]
     },
     "execution_count": 18,
     "metadata": {},
     "output_type": "execute_result"
    }
   ],
   "source": [
    "temp = train['marital-status'].value_counts()\n",
    "temp"
   ]
  },
  {
   "cell_type": "code",
   "execution_count": 19,
   "metadata": {},
   "outputs": [
    {
     "name": "stdout",
     "output_type": "stream",
     "text": [
      "'Married-civ-spouse':\n",
      "'Never-married':\n",
      "'Divorced':\n",
      "'Widowed':\n",
      "'Separated':\n",
      "'Married-spouse-absent':\n",
      "'Married-AF-spouse':\n"
     ]
    }
   ],
   "source": [
    "for i in range(len(temp)):\n",
    "    print(f\"\\'{temp.index[i]}\\':\")"
   ]
  },
  {
   "cell_type": "code",
   "execution_count": 20,
   "metadata": {},
   "outputs": [
    {
     "data": {
      "text/html": [
       "<div>\n",
       "<style scoped>\n",
       "    .dataframe tbody tr th:only-of-type {\n",
       "        vertical-align: middle;\n",
       "    }\n",
       "\n",
       "    .dataframe tbody tr th {\n",
       "        vertical-align: top;\n",
       "    }\n",
       "\n",
       "    .dataframe thead th {\n",
       "        text-align: right;\n",
       "    }\n",
       "</style>\n",
       "<table border=\"1\" class=\"dataframe\">\n",
       "  <thead>\n",
       "    <tr style=\"text-align: right;\">\n",
       "      <th></th>\n",
       "      <th>income</th>\n",
       "    </tr>\n",
       "    <tr>\n",
       "      <th>marital-status</th>\n",
       "      <th></th>\n",
       "    </tr>\n",
       "  </thead>\n",
       "  <tbody>\n",
       "    <tr>\n",
       "      <th>Married-civ-spouse</th>\n",
       "      <td>0.448954</td>\n",
       "    </tr>\n",
       "    <tr>\n",
       "      <th>Married-AF-spouse</th>\n",
       "      <td>0.380952</td>\n",
       "    </tr>\n",
       "    <tr>\n",
       "      <th>Divorced</th>\n",
       "      <td>0.104467</td>\n",
       "    </tr>\n",
       "    <tr>\n",
       "      <th>Married-spouse-absent</th>\n",
       "      <td>0.093909</td>\n",
       "    </tr>\n",
       "    <tr>\n",
       "      <th>Widowed</th>\n",
       "      <td>0.083864</td>\n",
       "    </tr>\n",
       "    <tr>\n",
       "      <th>Separated</th>\n",
       "      <td>0.067834</td>\n",
       "    </tr>\n",
       "    <tr>\n",
       "      <th>Never-married</th>\n",
       "      <td>0.046831</td>\n",
       "    </tr>\n",
       "  </tbody>\n",
       "</table>\n",
       "</div>"
      ],
      "text/plain": [
       "                         income\n",
       "marital-status                 \n",
       "Married-civ-spouse     0.448954\n",
       "Married-AF-spouse      0.380952\n",
       "Divorced               0.104467\n",
       "Married-spouse-absent  0.093909\n",
       "Widowed                0.083864\n",
       "Separated              0.067834\n",
       "Never-married          0.046831"
      ]
     },
     "execution_count": 20,
     "metadata": {},
     "output_type": "execute_result"
    }
   ],
   "source": [
    "pt_marry = train.pivot_table(values='income', #데이터로 사용 할 컬럼 지정\n",
    "                index=['marital-status'], # 데이터 요약시 확인하고 싶은 컬럼\n",
    "                aggfunc='mean' ) \n",
    "pt_marry = pt_marry.sort_values(by='income', ascending=False)\n",
    "pt_marry"
   ]
  },
  {
   "cell_type": "code",
   "execution_count": 21,
   "metadata": {},
   "outputs": [],
   "source": [
    "dict_marry = {\n",
    "    'Married-civ-spouse':45,\n",
    "    'Never-married':5,\n",
    "    'Divorced':10,\n",
    "    'Widowed':8,\n",
    "    'Separated':7,\n",
    "    'Married-spouse-absent':9,\n",
    "    'Married-AF-spouse':38\n",
    "}"
   ]
  },
  {
   "cell_type": "code",
   "execution_count": 22,
   "metadata": {},
   "outputs": [],
   "source": [
    "train['marital-status'] = train['marital-status'].map(dict_marry)\n",
    "test['marital-status'] = test['marital-status'].map(dict_marry)"
   ]
  },
  {
   "cell_type": "code",
   "execution_count": 25,
   "metadata": {},
   "outputs": [
    {
     "data": {
      "text/plain": [
       "array([10,  5, 45,  7,  9,  8, 38], dtype=int64)"
      ]
     },
     "execution_count": 25,
     "metadata": {},
     "output_type": "execute_result"
    }
   ],
   "source": [
    "train['marital-status'].unique()"
   ]
  },
  {
   "cell_type": "code",
   "execution_count": 26,
   "metadata": {},
   "outputs": [
    {
     "data": {
      "text/plain": [
       "array([ 5, 45,  8, 10,  7,  9, 38], dtype=int64)"
      ]
     },
     "execution_count": 26,
     "metadata": {},
     "output_type": "execute_result"
    }
   ],
   "source": [
    "test['marital-status'].unique()"
   ]
  },
  {
   "cell_type": "code",
   "execution_count": 27,
   "metadata": {},
   "outputs": [
    {
     "data": {
      "text/plain": [
       "Husband           11769\n",
       "Not-in-family      7637\n",
       "Own-child          4554\n",
       "Unmarried          3071\n",
       "Wife               1370\n",
       "Other-relative      904\n",
       "Name: relationship, dtype: int64"
      ]
     },
     "execution_count": 27,
     "metadata": {},
     "output_type": "execute_result"
    }
   ],
   "source": [
    "temp = train['relationship'].value_counts()\n",
    "temp"
   ]
  },
  {
   "cell_type": "code",
   "execution_count": 28,
   "metadata": {},
   "outputs": [
    {
     "name": "stdout",
     "output_type": "stream",
     "text": [
      "'Husband':\n",
      "'Not-in-family':\n",
      "'Own-child':\n",
      "'Unmarried':\n",
      "'Wife':\n",
      "'Other-relative':\n"
     ]
    }
   ],
   "source": [
    "for i in range(len(temp)):\n",
    "    print(f\"\\'{temp.index[i]}\\':\")"
   ]
  },
  {
   "cell_type": "code",
   "execution_count": 29,
   "metadata": {},
   "outputs": [
    {
     "data": {
      "text/html": [
       "<div>\n",
       "<style scoped>\n",
       "    .dataframe tbody tr th:only-of-type {\n",
       "        vertical-align: middle;\n",
       "    }\n",
       "\n",
       "    .dataframe tbody tr th {\n",
       "        vertical-align: top;\n",
       "    }\n",
       "\n",
       "    .dataframe thead th {\n",
       "        text-align: right;\n",
       "    }\n",
       "</style>\n",
       "<table border=\"1\" class=\"dataframe\">\n",
       "  <thead>\n",
       "    <tr style=\"text-align: right;\">\n",
       "      <th></th>\n",
       "      <th>income</th>\n",
       "    </tr>\n",
       "    <tr>\n",
       "      <th>relationship</th>\n",
       "      <th></th>\n",
       "    </tr>\n",
       "  </thead>\n",
       "  <tbody>\n",
       "    <tr>\n",
       "      <th>Wife</th>\n",
       "      <td>0.466423</td>\n",
       "    </tr>\n",
       "    <tr>\n",
       "      <th>Husband</th>\n",
       "      <td>0.452035</td>\n",
       "    </tr>\n",
       "    <tr>\n",
       "      <th>Not-in-family</th>\n",
       "      <td>0.105146</td>\n",
       "    </tr>\n",
       "    <tr>\n",
       "      <th>Unmarried</th>\n",
       "      <td>0.060567</td>\n",
       "    </tr>\n",
       "    <tr>\n",
       "      <th>Other-relative</th>\n",
       "      <td>0.035398</td>\n",
       "    </tr>\n",
       "    <tr>\n",
       "      <th>Own-child</th>\n",
       "      <td>0.014273</td>\n",
       "    </tr>\n",
       "  </tbody>\n",
       "</table>\n",
       "</div>"
      ],
      "text/plain": [
       "                  income\n",
       "relationship            \n",
       "Wife            0.466423\n",
       "Husband         0.452035\n",
       "Not-in-family   0.105146\n",
       "Unmarried       0.060567\n",
       "Other-relative  0.035398\n",
       "Own-child       0.014273"
      ]
     },
     "execution_count": 29,
     "metadata": {},
     "output_type": "execute_result"
    }
   ],
   "source": [
    "pt_rel = train.pivot_table(values='income', #데이터로 사용 할 컬럼 지정\n",
    "                index=['relationship'], # 데이터 요약시 확인하고 싶은 컬럼\n",
    "                aggfunc='mean' ) \n",
    "pt_rel = pt_rel.sort_values(by='income', ascending=False)\n",
    "pt_rel"
   ]
  },
  {
   "cell_type": "code",
   "execution_count": 30,
   "metadata": {},
   "outputs": [],
   "source": [
    "dict_rel = {\n",
    "    'Husband':45,\n",
    "    'Not-in-family':11,\n",
    "    'Own-child':1,\n",
    "    'Unmarried':6,\n",
    "    'Wife':47,\n",
    "    'Other-relative':4\n",
    "}"
   ]
  },
  {
   "cell_type": "code",
   "execution_count": 31,
   "metadata": {},
   "outputs": [],
   "source": [
    "train['relationship'] = train['relationship'].map(dict_rel)\n",
    "test['relationship'] = test['relationship'].map(dict_rel)"
   ]
  },
  {
   "cell_type": "code",
   "execution_count": 32,
   "metadata": {},
   "outputs": [
    {
     "data": {
      "text/plain": [
       "array([11, 45,  6,  4,  1, 47], dtype=int64)"
      ]
     },
     "execution_count": 32,
     "metadata": {},
     "output_type": "execute_result"
    }
   ],
   "source": [
    "train['relationship'].unique()"
   ]
  },
  {
   "cell_type": "code",
   "execution_count": 33,
   "metadata": {},
   "outputs": [
    {
     "data": {
      "text/plain": [
       "array([ 1, 47, 45, 11,  6,  4], dtype=int64)"
      ]
     },
     "execution_count": 33,
     "metadata": {},
     "output_type": "execute_result"
    }
   ],
   "source": [
    "test['relationship'].unique()"
   ]
  },
  {
   "cell_type": "code",
   "execution_count": 34,
   "metadata": {},
   "outputs": [
    {
     "data": {
      "text/plain": [
       "White                 25081\n",
       "Black                  2776\n",
       "Asian-Pac-Islander      919\n",
       "Amer-Indian-Eskimo      290\n",
       "Other                   239\n",
       "Name: race, dtype: int64"
      ]
     },
     "execution_count": 34,
     "metadata": {},
     "output_type": "execute_result"
    }
   ],
   "source": [
    "temp = train['race'].value_counts()\n",
    "temp"
   ]
  },
  {
   "cell_type": "code",
   "execution_count": 35,
   "metadata": {},
   "outputs": [
    {
     "name": "stdout",
     "output_type": "stream",
     "text": [
      "'White':\n",
      "'Black':\n",
      "'Asian-Pac-Islander':\n",
      "'Amer-Indian-Eskimo':\n",
      "'Other':\n"
     ]
    }
   ],
   "source": [
    "for i in range(len(temp)):\n",
    "    print(f\"\\'{temp.index[i]}\\':\")"
   ]
  },
  {
   "cell_type": "code",
   "execution_count": 36,
   "metadata": {},
   "outputs": [
    {
     "data": {
      "text/html": [
       "<div>\n",
       "<style scoped>\n",
       "    .dataframe tbody tr th:only-of-type {\n",
       "        vertical-align: middle;\n",
       "    }\n",
       "\n",
       "    .dataframe tbody tr th {\n",
       "        vertical-align: top;\n",
       "    }\n",
       "\n",
       "    .dataframe thead th {\n",
       "        text-align: right;\n",
       "    }\n",
       "</style>\n",
       "<table border=\"1\" class=\"dataframe\">\n",
       "  <thead>\n",
       "    <tr style=\"text-align: right;\">\n",
       "      <th></th>\n",
       "      <th>income</th>\n",
       "    </tr>\n",
       "    <tr>\n",
       "      <th>race</th>\n",
       "      <th></th>\n",
       "    </tr>\n",
       "  </thead>\n",
       "  <tbody>\n",
       "    <tr>\n",
       "      <th>White</th>\n",
       "      <td>0.255851</td>\n",
       "    </tr>\n",
       "    <tr>\n",
       "      <th>Asian-Pac-Islander</th>\n",
       "      <td>0.255713</td>\n",
       "    </tr>\n",
       "    <tr>\n",
       "      <th>Amer-Indian-Eskimo</th>\n",
       "      <td>0.124138</td>\n",
       "    </tr>\n",
       "    <tr>\n",
       "      <th>Black</th>\n",
       "      <td>0.118516</td>\n",
       "    </tr>\n",
       "    <tr>\n",
       "      <th>Other</th>\n",
       "      <td>0.117155</td>\n",
       "    </tr>\n",
       "  </tbody>\n",
       "</table>\n",
       "</div>"
      ],
      "text/plain": [
       "                      income\n",
       "race                        \n",
       "White               0.255851\n",
       "Asian-Pac-Islander  0.255713\n",
       "Amer-Indian-Eskimo  0.124138\n",
       "Black               0.118516\n",
       "Other               0.117155"
      ]
     },
     "execution_count": 36,
     "metadata": {},
     "output_type": "execute_result"
    }
   ],
   "source": [
    "pt_race = train.pivot_table(values='income', #데이터로 사용 할 컬럼 지정\n",
    "                index=['race'], # 데이터 요약시 확인하고 싶은 컬럼\n",
    "                aggfunc='mean' ) \n",
    "pt_race = pt_race.sort_values(by='income', ascending=False)\n",
    "pt_race"
   ]
  },
  {
   "cell_type": "code",
   "execution_count": 37,
   "metadata": {},
   "outputs": [],
   "source": [
    "dict_race = {\n",
    "    'White':256,\n",
    "    'Black':118,\n",
    "    'Asian-Pac-Islander':256,\n",
    "    'Amer-Indian-Eskimo':124,\n",
    "    'Other':117\n",
    "}"
   ]
  },
  {
   "cell_type": "code",
   "execution_count": 38,
   "metadata": {},
   "outputs": [],
   "source": [
    "train['race'] = train['race'].map(dict_race)\n",
    "test['race'] = test['race'].map(dict_race)"
   ]
  },
  {
   "cell_type": "code",
   "execution_count": 39,
   "metadata": {},
   "outputs": [
    {
     "data": {
      "text/plain": [
       "array([256, 118, 124, 117], dtype=int64)"
      ]
     },
     "execution_count": 39,
     "metadata": {},
     "output_type": "execute_result"
    }
   ],
   "source": [
    "train['race'].unique()"
   ]
  },
  {
   "cell_type": "code",
   "execution_count": 40,
   "metadata": {},
   "outputs": [
    {
     "data": {
      "text/plain": [
       "array([256, 118, 124, 117], dtype=int64)"
      ]
     },
     "execution_count": 40,
     "metadata": {},
     "output_type": "execute_result"
    }
   ],
   "source": [
    "test['race'].unique()"
   ]
  },
  {
   "cell_type": "code",
   "execution_count": 41,
   "metadata": {},
   "outputs": [
    {
     "data": {
      "text/plain": [
       "Male      19621\n",
       "Female     9684\n",
       "Name: sex, dtype: int64"
      ]
     },
     "execution_count": 41,
     "metadata": {},
     "output_type": "execute_result"
    }
   ],
   "source": [
    "temp = train['sex'].value_counts()\n",
    "temp"
   ]
  },
  {
   "cell_type": "code",
   "execution_count": 42,
   "metadata": {},
   "outputs": [
    {
     "name": "stdout",
     "output_type": "stream",
     "text": [
      "'Male':\n",
      "'Female':\n"
     ]
    }
   ],
   "source": [
    "for i in range(len(temp)):\n",
    "    print(f\"\\'{temp.index[i]}\\':\")"
   ]
  },
  {
   "cell_type": "code",
   "execution_count": 43,
   "metadata": {},
   "outputs": [
    {
     "data": {
      "text/html": [
       "<div>\n",
       "<style scoped>\n",
       "    .dataframe tbody tr th:only-of-type {\n",
       "        vertical-align: middle;\n",
       "    }\n",
       "\n",
       "    .dataframe tbody tr th {\n",
       "        vertical-align: top;\n",
       "    }\n",
       "\n",
       "    .dataframe thead th {\n",
       "        text-align: right;\n",
       "    }\n",
       "</style>\n",
       "<table border=\"1\" class=\"dataframe\">\n",
       "  <thead>\n",
       "    <tr style=\"text-align: right;\">\n",
       "      <th></th>\n",
       "      <th>income</th>\n",
       "    </tr>\n",
       "    <tr>\n",
       "      <th>sex</th>\n",
       "      <th></th>\n",
       "    </tr>\n",
       "  </thead>\n",
       "  <tbody>\n",
       "    <tr>\n",
       "      <th>Male</th>\n",
       "      <td>0.305132</td>\n",
       "    </tr>\n",
       "    <tr>\n",
       "      <th>Female</th>\n",
       "      <td>0.109252</td>\n",
       "    </tr>\n",
       "  </tbody>\n",
       "</table>\n",
       "</div>"
      ],
      "text/plain": [
       "          income\n",
       "sex             \n",
       "Male    0.305132\n",
       "Female  0.109252"
      ]
     },
     "execution_count": 43,
     "metadata": {},
     "output_type": "execute_result"
    }
   ],
   "source": [
    "pt_sex = train.pivot_table(values='income', #데이터로 사용 할 컬럼 지정\n",
    "                index=['sex'], # 데이터 요약시 확인하고 싶은 컬럼\n",
    "                aggfunc='mean' ) \n",
    "pt_sex = pt_sex.sort_values(by='income', ascending=False)\n",
    "pt_sex"
   ]
  },
  {
   "cell_type": "code",
   "execution_count": 44,
   "metadata": {},
   "outputs": [],
   "source": [
    "dict_sex = {\n",
    "    'Male':3,\n",
    "    'Female':1\n",
    "}"
   ]
  },
  {
   "cell_type": "code",
   "execution_count": 45,
   "metadata": {},
   "outputs": [],
   "source": [
    "train['sex'] = train['sex'].map(dict_sex)\n",
    "test['sex'] = test['sex'].map(dict_sex)"
   ]
  },
  {
   "cell_type": "code",
   "execution_count": 46,
   "metadata": {},
   "outputs": [
    {
     "data": {
      "text/plain": [
       "array([3, 1], dtype=int64)"
      ]
     },
     "execution_count": 46,
     "metadata": {},
     "output_type": "execute_result"
    }
   ],
   "source": [
    "train['sex'].unique()"
   ]
  },
  {
   "cell_type": "code",
   "execution_count": 47,
   "metadata": {},
   "outputs": [
    {
     "data": {
      "text/plain": [
       "array([3, 1], dtype=int64)"
      ]
     },
     "execution_count": 47,
     "metadata": {},
     "output_type": "execute_result"
    }
   ],
   "source": [
    "test['sex'].unique()"
   ]
  },
  {
   "cell_type": "code",
   "execution_count": null,
   "metadata": {},
   "outputs": [],
   "source": [
    "####################################################\n",
    "##########비상비상비상###############################\n",
    "####################################################"
   ]
  },
  {
   "cell_type": "code",
   "execution_count": 48,
   "metadata": {},
   "outputs": [
    {
     "data": {
      "text/plain": [
       "Private             20410\n",
       "Self-emp-not-inc     2305\n",
       "Local-gov            1868\n",
       "?                    1663\n",
       "State-gov            1201\n",
       "Self-emp-inc          987\n",
       "Federal-gov           854\n",
       "Without-pay            12\n",
       "Never-worked            5\n",
       "Name: workclass, dtype: int64"
      ]
     },
     "execution_count": 48,
     "metadata": {},
     "output_type": "execute_result"
    }
   ],
   "source": [
    "temp = train['workclass'].value_counts()\n",
    "temp"
   ]
  },
  {
   "cell_type": "code",
   "execution_count": 49,
   "metadata": {},
   "outputs": [
    {
     "name": "stdout",
     "output_type": "stream",
     "text": [
      "'Private':\n",
      "'Self-emp-not-inc':\n",
      "'Local-gov':\n",
      "'?':\n",
      "'State-gov':\n",
      "'Self-emp-inc':\n",
      "'Federal-gov':\n",
      "'Without-pay':\n",
      "'Never-worked':\n"
     ]
    }
   ],
   "source": [
    "for i in range(len(temp)):\n",
    "    print(f\"\\'{temp.index[i]}\\':\")"
   ]
  },
  {
   "cell_type": "code",
   "execution_count": 50,
   "metadata": {},
   "outputs": [
    {
     "data": {
      "text/html": [
       "<div>\n",
       "<style scoped>\n",
       "    .dataframe tbody tr th:only-of-type {\n",
       "        vertical-align: middle;\n",
       "    }\n",
       "\n",
       "    .dataframe tbody tr th {\n",
       "        vertical-align: top;\n",
       "    }\n",
       "\n",
       "    .dataframe thead th {\n",
       "        text-align: right;\n",
       "    }\n",
       "</style>\n",
       "<table border=\"1\" class=\"dataframe\">\n",
       "  <thead>\n",
       "    <tr style=\"text-align: right;\">\n",
       "      <th></th>\n",
       "      <th>income</th>\n",
       "    </tr>\n",
       "    <tr>\n",
       "      <th>workclass</th>\n",
       "      <th></th>\n",
       "    </tr>\n",
       "  </thead>\n",
       "  <tbody>\n",
       "    <tr>\n",
       "      <th>Self-emp-inc</th>\n",
       "      <td>0.554205</td>\n",
       "    </tr>\n",
       "    <tr>\n",
       "      <th>Federal-gov</th>\n",
       "      <td>0.382904</td>\n",
       "    </tr>\n",
       "    <tr>\n",
       "      <th>Local-gov</th>\n",
       "      <td>0.299251</td>\n",
       "    </tr>\n",
       "    <tr>\n",
       "      <th>Self-emp-not-inc</th>\n",
       "      <td>0.278959</td>\n",
       "    </tr>\n",
       "    <tr>\n",
       "      <th>State-gov</th>\n",
       "      <td>0.262281</td>\n",
       "    </tr>\n",
       "    <tr>\n",
       "      <th>Private</th>\n",
       "      <td>0.219402</td>\n",
       "    </tr>\n",
       "    <tr>\n",
       "      <th>?</th>\n",
       "      <td>0.105232</td>\n",
       "    </tr>\n",
       "    <tr>\n",
       "      <th>Without-pay</th>\n",
       "      <td>0.083333</td>\n",
       "    </tr>\n",
       "    <tr>\n",
       "      <th>Never-worked</th>\n",
       "      <td>0.000000</td>\n",
       "    </tr>\n",
       "  </tbody>\n",
       "</table>\n",
       "</div>"
      ],
      "text/plain": [
       "                    income\n",
       "workclass                 \n",
       "Self-emp-inc      0.554205\n",
       "Federal-gov       0.382904\n",
       "Local-gov         0.299251\n",
       "Self-emp-not-inc  0.278959\n",
       "State-gov         0.262281\n",
       "Private           0.219402\n",
       "?                 0.105232\n",
       "Without-pay       0.083333\n",
       "Never-worked      0.000000"
      ]
     },
     "execution_count": 50,
     "metadata": {},
     "output_type": "execute_result"
    }
   ],
   "source": [
    "pt_wc = train.pivot_table(values='income', #데이터로 사용 할 컬럼 지정\n",
    "                index=['workclass'], # 데이터 요약시 확인하고 싶은 컬럼\n",
    "                aggfunc='mean' ) \n",
    "pt_wc = pt_wc.sort_values(by='income', ascending=False)\n",
    "pt_wc"
   ]
  },
  {
   "cell_type": "code",
   "execution_count": 51,
   "metadata": {},
   "outputs": [],
   "source": [
    "dict_wc = {\n",
    "    'Private':22,\n",
    "    'Self-emp-not-inc':28,\n",
    "    'Local-gov':30,\n",
    "    '?':11,\n",
    "    'State-gov':26,\n",
    "    'Self-emp-inc':55,\n",
    "    'Federal-gov':38,\n",
    "    'Without-pay':8,\n",
    "    'Never-worked':0\n",
    "}"
   ]
  },
  {
   "cell_type": "code",
   "execution_count": 52,
   "metadata": {},
   "outputs": [],
   "source": [
    "train['workclass'] = train['workclass'].map(dict_wc)\n",
    "test['workclass'] = test['workclass'].map(dict_wc)"
   ]
  },
  {
   "cell_type": "code",
   "execution_count": 53,
   "metadata": {},
   "outputs": [
    {
     "data": {
      "text/plain": [
       "array([22, 28, 30, 11, 26, 55, 38,  8,  0], dtype=int64)"
      ]
     },
     "execution_count": 53,
     "metadata": {},
     "output_type": "execute_result"
    }
   ],
   "source": [
    "train['workclass'].unique()"
   ]
  },
  {
   "cell_type": "code",
   "execution_count": 54,
   "metadata": {},
   "outputs": [
    {
     "data": {
      "text/plain": [
       "array([11, 22, 28, 30, 55, 26, 38,  8,  0], dtype=int64)"
      ]
     },
     "execution_count": 54,
     "metadata": {},
     "output_type": "execute_result"
    }
   ],
   "source": [
    "test['workclass'].unique()"
   ]
  },
  {
   "cell_type": "code",
   "execution_count": 55,
   "metadata": {},
   "outputs": [
    {
     "data": {
      "text/plain": [
       "Prof-specialty       3724\n",
       "Craft-repair         3632\n",
       "Exec-managerial      3609\n",
       "Adm-clerical         3440\n",
       "Sales                3292\n",
       "Other-service        2975\n",
       "Machine-op-inspct    1811\n",
       "?                    1668\n",
       "Transport-moving     1393\n",
       "Handlers-cleaners    1249\n",
       "Farming-fishing       888\n",
       "Tech-support          865\n",
       "Protective-serv       603\n",
       "Priv-house-serv       146\n",
       "Armed-Forces           10\n",
       "Name: occupation, dtype: int64"
      ]
     },
     "execution_count": 55,
     "metadata": {},
     "output_type": "execute_result"
    }
   ],
   "source": [
    "temp = train['occupation'].value_counts()\n",
    "temp"
   ]
  },
  {
   "cell_type": "code",
   "execution_count": 56,
   "metadata": {},
   "outputs": [
    {
     "name": "stdout",
     "output_type": "stream",
     "text": [
      "'Prof-specialty':\n",
      "'Craft-repair':\n",
      "'Exec-managerial':\n",
      "'Adm-clerical':\n",
      "'Sales':\n",
      "'Other-service':\n",
      "'Machine-op-inspct':\n",
      "'?':\n",
      "'Transport-moving':\n",
      "'Handlers-cleaners':\n",
      "'Farming-fishing':\n",
      "'Tech-support':\n",
      "'Protective-serv':\n",
      "'Priv-house-serv':\n",
      "'Armed-Forces':\n"
     ]
    }
   ],
   "source": [
    "for i in range(len(temp)):\n",
    "    print(f\"\\'{temp.index[i]}\\':\")"
   ]
  },
  {
   "cell_type": "code",
   "execution_count": 57,
   "metadata": {},
   "outputs": [
    {
     "data": {
      "text/html": [
       "<div>\n",
       "<style scoped>\n",
       "    .dataframe tbody tr th:only-of-type {\n",
       "        vertical-align: middle;\n",
       "    }\n",
       "\n",
       "    .dataframe tbody tr th {\n",
       "        vertical-align: top;\n",
       "    }\n",
       "\n",
       "    .dataframe thead th {\n",
       "        text-align: right;\n",
       "    }\n",
       "</style>\n",
       "<table border=\"1\" class=\"dataframe\">\n",
       "  <thead>\n",
       "    <tr style=\"text-align: right;\">\n",
       "      <th></th>\n",
       "      <th>income</th>\n",
       "    </tr>\n",
       "    <tr>\n",
       "      <th>occupation</th>\n",
       "      <th></th>\n",
       "    </tr>\n",
       "  </thead>\n",
       "  <tbody>\n",
       "    <tr>\n",
       "      <th>Exec-managerial</th>\n",
       "      <td>0.481851</td>\n",
       "    </tr>\n",
       "    <tr>\n",
       "      <th>Prof-specialty</th>\n",
       "      <td>0.448980</td>\n",
       "    </tr>\n",
       "    <tr>\n",
       "      <th>Protective-serv</th>\n",
       "      <td>0.321725</td>\n",
       "    </tr>\n",
       "    <tr>\n",
       "      <th>Armed-Forces</th>\n",
       "      <td>0.300000</td>\n",
       "    </tr>\n",
       "    <tr>\n",
       "      <th>Tech-support</th>\n",
       "      <td>0.284393</td>\n",
       "    </tr>\n",
       "    <tr>\n",
       "      <th>Sales</th>\n",
       "      <td>0.275516</td>\n",
       "    </tr>\n",
       "    <tr>\n",
       "      <th>Craft-repair</th>\n",
       "      <td>0.225771</td>\n",
       "    </tr>\n",
       "    <tr>\n",
       "      <th>Transport-moving</th>\n",
       "      <td>0.202441</td>\n",
       "    </tr>\n",
       "    <tr>\n",
       "      <th>Adm-clerical</th>\n",
       "      <td>0.133140</td>\n",
       "    </tr>\n",
       "    <tr>\n",
       "      <th>Machine-op-inspct</th>\n",
       "      <td>0.131971</td>\n",
       "    </tr>\n",
       "    <tr>\n",
       "      <th>Farming-fishing</th>\n",
       "      <td>0.106982</td>\n",
       "    </tr>\n",
       "    <tr>\n",
       "      <th>?</th>\n",
       "      <td>0.104916</td>\n",
       "    </tr>\n",
       "    <tr>\n",
       "      <th>Handlers-cleaners</th>\n",
       "      <td>0.066453</td>\n",
       "    </tr>\n",
       "    <tr>\n",
       "      <th>Other-service</th>\n",
       "      <td>0.043361</td>\n",
       "    </tr>\n",
       "    <tr>\n",
       "      <th>Priv-house-serv</th>\n",
       "      <td>0.020548</td>\n",
       "    </tr>\n",
       "  </tbody>\n",
       "</table>\n",
       "</div>"
      ],
      "text/plain": [
       "                     income\n",
       "occupation                 \n",
       "Exec-managerial    0.481851\n",
       "Prof-specialty     0.448980\n",
       "Protective-serv    0.321725\n",
       "Armed-Forces       0.300000\n",
       "Tech-support       0.284393\n",
       "Sales              0.275516\n",
       "Craft-repair       0.225771\n",
       "Transport-moving   0.202441\n",
       "Adm-clerical       0.133140\n",
       "Machine-op-inspct  0.131971\n",
       "Farming-fishing    0.106982\n",
       "?                  0.104916\n",
       "Handlers-cleaners  0.066453\n",
       "Other-service      0.043361\n",
       "Priv-house-serv    0.020548"
      ]
     },
     "execution_count": 57,
     "metadata": {},
     "output_type": "execute_result"
    }
   ],
   "source": [
    "pt_oc = train.pivot_table(values='income', #데이터로 사용 할 컬럼 지정\n",
    "                index=['occupation'], # 데이터 요약시 확인하고 싶은 컬럼\n",
    "                aggfunc='mean' ) \n",
    "pt_oc = pt_oc.sort_values(by='income', ascending=False)\n",
    "pt_oc"
   ]
  },
  {
   "cell_type": "code",
   "execution_count": 58,
   "metadata": {},
   "outputs": [],
   "source": [
    "dict_oc = {\n",
    "    'Prof-specialty':45,\n",
    "    'Craft-repair':23,\n",
    "    'Exec-managerial':48,\n",
    "    'Adm-clerical':13,\n",
    "    'Sales':28,\n",
    "    'Other-service':4,\n",
    "    'Machine-op-inspct':13,\n",
    "    '?':10,\n",
    "    'Transport-moving':20,\n",
    "    'Handlers-cleaners':7,\n",
    "    'Farming-fishing':11,\n",
    "    'Tech-support':28,\n",
    "    'Protective-serv':32,\n",
    "    'Priv-house-serv':2,\n",
    "    'Armed-Forces':30\n",
    "}"
   ]
  },
  {
   "cell_type": "code",
   "execution_count": 59,
   "metadata": {},
   "outputs": [],
   "source": [
    "train['occupation'] = train['occupation'].map(dict_oc)\n",
    "test['occupation'] = test['occupation'].map(dict_oc)"
   ]
  },
  {
   "cell_type": "code",
   "execution_count": 64,
   "metadata": {},
   "outputs": [
    {
     "data": {
      "text/plain": [
       "array([13,  4,  7, 28, 20, 11, 45,  2, 32, 48, 10, 23, 30], dtype=int64)"
      ]
     },
     "execution_count": 64,
     "metadata": {},
     "output_type": "execute_result"
    }
   ],
   "source": [
    "train['occupation'].unique()"
   ]
  },
  {
   "cell_type": "code",
   "execution_count": 65,
   "metadata": {},
   "outputs": [
    {
     "data": {
      "text/plain": [
       "array([10,  4, 28, 48, 11, 13, 23,  7, 32, 45, 20,  2, 30], dtype=int64)"
      ]
     },
     "execution_count": 65,
     "metadata": {},
     "output_type": "execute_result"
    }
   ],
   "source": [
    "test['occupation'].unique()"
   ]
  },
  {
   "cell_type": "code",
   "execution_count": 68,
   "metadata": {},
   "outputs": [
    {
     "data": {
      "text/plain": [
       "array(['United-States', 'Haiti', 'Mexico', 'Puerto-Rico', 'Philippines',\n",
       "       '?', 'Germany', 'Peru', 'Ecuador', 'Iran', 'Thailand',\n",
       "       'Dominican-Republic', 'Poland', 'Scotland', 'Italy', 'Jamaica',\n",
       "       'China', 'Portugal', 'Columbia', 'Hungary', 'Vietnam', 'Taiwan',\n",
       "       'Canada', 'Hong', 'Guatemala', 'El-Salvador', 'England',\n",
       "       'Outlying-US(Guam-USVI-etc)', 'India', 'France', 'Cuba', 'Greece',\n",
       "       'Trinadad&Tobago', 'South', 'Japan', 'Yugoslavia', 'Nicaragua',\n",
       "       'Ireland', 'Cambodia', 'Laos', 'Honduras', 'Holand-Netherlands'],\n",
       "      dtype=object)"
      ]
     },
     "execution_count": 68,
     "metadata": {},
     "output_type": "execute_result"
    }
   ],
   "source": [
    "temp = train['native-country'].unique()\n",
    "temp\n"
   ]
  },
  {
   "cell_type": "code",
   "execution_count": 71,
   "metadata": {},
   "outputs": [],
   "source": [
    "from IPython.core.interactiveshell import InteractiveShell\n",
    "InteractiveShell.ast_node_interactivity = \"all\""
   ]
  },
  {
   "cell_type": "code",
   "execution_count": 72,
   "metadata": {},
   "outputs": [
    {
     "name": "stdout",
     "output_type": "stream",
     "text": [
      "'United-States':\n",
      "'Haiti':\n",
      "'Mexico':\n",
      "'Puerto-Rico':\n",
      "'Philippines':\n",
      "'?':\n",
      "'Germany':\n",
      "'Peru':\n",
      "'Ecuador':\n",
      "'Iran':\n",
      "'Thailand':\n",
      "'Dominican-Republic':\n",
      "'Poland':\n",
      "'Scotland':\n",
      "'Italy':\n",
      "'Jamaica':\n",
      "'China':\n",
      "'Portugal':\n",
      "'Columbia':\n",
      "'Hungary':\n",
      "'Vietnam':\n",
      "'Taiwan':\n",
      "'Canada':\n",
      "'Hong':\n",
      "'Guatemala':\n",
      "'El-Salvador':\n",
      "'England':\n",
      "'Outlying-US(Guam-USVI-etc)':\n",
      "'India':\n",
      "'France':\n",
      "'Cuba':\n",
      "'Greece':\n",
      "'Trinadad&Tobago':\n",
      "'South':\n",
      "'Japan':\n",
      "'Yugoslavia':\n",
      "'Nicaragua':\n",
      "'Ireland':\n",
      "'Cambodia':\n",
      "'Laos':\n",
      "'Honduras':\n",
      "'Holand-Netherlands':\n"
     ]
    }
   ],
   "source": [
    "# for i in range(len(temp)):\n",
    "#     print(f\"\\'{temp[i]}\\':\")"
   ]
  },
  {
   "cell_type": "code",
   "execution_count": 73,
   "metadata": {},
   "outputs": [
    {
     "data": {
      "text/html": [
       "<div>\n",
       "<style scoped>\n",
       "    .dataframe tbody tr th:only-of-type {\n",
       "        vertical-align: middle;\n",
       "    }\n",
       "\n",
       "    .dataframe tbody tr th {\n",
       "        vertical-align: top;\n",
       "    }\n",
       "\n",
       "    .dataframe thead th {\n",
       "        text-align: right;\n",
       "    }\n",
       "</style>\n",
       "<table border=\"1\" class=\"dataframe\">\n",
       "  <thead>\n",
       "    <tr style=\"text-align: right;\">\n",
       "      <th></th>\n",
       "      <th>income</th>\n",
       "    </tr>\n",
       "    <tr>\n",
       "      <th>native-country</th>\n",
       "      <th></th>\n",
       "    </tr>\n",
       "  </thead>\n",
       "  <tbody>\n",
       "    <tr>\n",
       "      <th>India</th>\n",
       "      <td>0.433333</td>\n",
       "    </tr>\n",
       "    <tr>\n",
       "      <th>Hungary</th>\n",
       "      <td>0.416667</td>\n",
       "    </tr>\n",
       "    <tr>\n",
       "      <th>Japan</th>\n",
       "      <td>0.388889</td>\n",
       "    </tr>\n",
       "    <tr>\n",
       "      <th>England</th>\n",
       "      <td>0.373333</td>\n",
       "    </tr>\n",
       "    <tr>\n",
       "      <th>Canada</th>\n",
       "      <td>0.369369</td>\n",
       "    </tr>\n",
       "    <tr>\n",
       "      <th>Iran</th>\n",
       "      <td>0.368421</td>\n",
       "    </tr>\n",
       "    <tr>\n",
       "      <th>Italy</th>\n",
       "      <td>0.366667</td>\n",
       "    </tr>\n",
       "    <tr>\n",
       "      <th>Greece</th>\n",
       "      <td>0.360000</td>\n",
       "    </tr>\n",
       "    <tr>\n",
       "      <th>Ireland</th>\n",
       "      <td>0.347826</td>\n",
       "    </tr>\n",
       "    <tr>\n",
       "      <th>Germany</th>\n",
       "      <td>0.330645</td>\n",
       "    </tr>\n",
       "    <tr>\n",
       "      <th>Cambodia</th>\n",
       "      <td>0.315789</td>\n",
       "    </tr>\n",
       "    <tr>\n",
       "      <th>Taiwan</th>\n",
       "      <td>0.307692</td>\n",
       "    </tr>\n",
       "    <tr>\n",
       "      <th>Yugoslavia</th>\n",
       "      <td>0.307692</td>\n",
       "    </tr>\n",
       "    <tr>\n",
       "      <th>France</th>\n",
       "      <td>0.300000</td>\n",
       "    </tr>\n",
       "    <tr>\n",
       "      <th>Philippines</th>\n",
       "      <td>0.280899</td>\n",
       "    </tr>\n",
       "    <tr>\n",
       "      <th>China</th>\n",
       "      <td>0.264706</td>\n",
       "    </tr>\n",
       "    <tr>\n",
       "      <th>United-States</th>\n",
       "      <td>0.245884</td>\n",
       "    </tr>\n",
       "    <tr>\n",
       "      <th>?</th>\n",
       "      <td>0.236364</td>\n",
       "    </tr>\n",
       "    <tr>\n",
       "      <th>Cuba</th>\n",
       "      <td>0.223404</td>\n",
       "    </tr>\n",
       "    <tr>\n",
       "      <th>Hong</th>\n",
       "      <td>0.210526</td>\n",
       "    </tr>\n",
       "    <tr>\n",
       "      <th>Ecuador</th>\n",
       "      <td>0.190476</td>\n",
       "    </tr>\n",
       "    <tr>\n",
       "      <th>South</th>\n",
       "      <td>0.189189</td>\n",
       "    </tr>\n",
       "    <tr>\n",
       "      <th>Portugal</th>\n",
       "      <td>0.162791</td>\n",
       "    </tr>\n",
       "    <tr>\n",
       "      <th>Poland</th>\n",
       "      <td>0.150943</td>\n",
       "    </tr>\n",
       "    <tr>\n",
       "      <th>Thailand</th>\n",
       "      <td>0.133333</td>\n",
       "    </tr>\n",
       "    <tr>\n",
       "      <th>Jamaica</th>\n",
       "      <td>0.132353</td>\n",
       "    </tr>\n",
       "    <tr>\n",
       "      <th>Peru</th>\n",
       "      <td>0.120000</td>\n",
       "    </tr>\n",
       "    <tr>\n",
       "      <th>Scotland</th>\n",
       "      <td>0.111111</td>\n",
       "    </tr>\n",
       "    <tr>\n",
       "      <th>Puerto-Rico</th>\n",
       "      <td>0.102564</td>\n",
       "    </tr>\n",
       "    <tr>\n",
       "      <th>Honduras</th>\n",
       "      <td>0.090909</td>\n",
       "    </tr>\n",
       "    <tr>\n",
       "      <th>Haiti</th>\n",
       "      <td>0.078431</td>\n",
       "    </tr>\n",
       "    <tr>\n",
       "      <th>Laos</th>\n",
       "      <td>0.076923</td>\n",
       "    </tr>\n",
       "    <tr>\n",
       "      <th>Outlying-US(Guam-USVI-etc)</th>\n",
       "      <td>0.066667</td>\n",
       "    </tr>\n",
       "    <tr>\n",
       "      <th>Mexico</th>\n",
       "      <td>0.053541</td>\n",
       "    </tr>\n",
       "    <tr>\n",
       "      <th>El-Salvador</th>\n",
       "      <td>0.052083</td>\n",
       "    </tr>\n",
       "    <tr>\n",
       "      <th>Dominican-Republic</th>\n",
       "      <td>0.049180</td>\n",
       "    </tr>\n",
       "    <tr>\n",
       "      <th>Guatemala</th>\n",
       "      <td>0.039216</td>\n",
       "    </tr>\n",
       "    <tr>\n",
       "      <th>Columbia</th>\n",
       "      <td>0.037736</td>\n",
       "    </tr>\n",
       "    <tr>\n",
       "      <th>Nicaragua</th>\n",
       "      <td>0.035714</td>\n",
       "    </tr>\n",
       "    <tr>\n",
       "      <th>Vietnam</th>\n",
       "      <td>0.020000</td>\n",
       "    </tr>\n",
       "    <tr>\n",
       "      <th>Trinadad&amp;Tobago</th>\n",
       "      <td>0.000000</td>\n",
       "    </tr>\n",
       "    <tr>\n",
       "      <th>Holand-Netherlands</th>\n",
       "      <td>0.000000</td>\n",
       "    </tr>\n",
       "  </tbody>\n",
       "</table>\n",
       "</div>"
      ],
      "text/plain": [
       "                              income\n",
       "native-country                      \n",
       "India                       0.433333\n",
       "Hungary                     0.416667\n",
       "Japan                       0.388889\n",
       "England                     0.373333\n",
       "Canada                      0.369369\n",
       "Iran                        0.368421\n",
       "Italy                       0.366667\n",
       "Greece                      0.360000\n",
       "Ireland                     0.347826\n",
       "Germany                     0.330645\n",
       "Cambodia                    0.315789\n",
       "Taiwan                      0.307692\n",
       "Yugoslavia                  0.307692\n",
       "France                      0.300000\n",
       "Philippines                 0.280899\n",
       "China                       0.264706\n",
       "United-States               0.245884\n",
       "?                           0.236364\n",
       "Cuba                        0.223404\n",
       "Hong                        0.210526\n",
       "Ecuador                     0.190476\n",
       "South                       0.189189\n",
       "Portugal                    0.162791\n",
       "Poland                      0.150943\n",
       "Thailand                    0.133333\n",
       "Jamaica                     0.132353\n",
       "Peru                        0.120000\n",
       "Scotland                    0.111111\n",
       "Puerto-Rico                 0.102564\n",
       "Honduras                    0.090909\n",
       "Haiti                       0.078431\n",
       "Laos                        0.076923\n",
       "Outlying-US(Guam-USVI-etc)  0.066667\n",
       "Mexico                      0.053541\n",
       "El-Salvador                 0.052083\n",
       "Dominican-Republic          0.049180\n",
       "Guatemala                   0.039216\n",
       "Columbia                    0.037736\n",
       "Nicaragua                   0.035714\n",
       "Vietnam                     0.020000\n",
       "Trinadad&Tobago             0.000000\n",
       "Holand-Netherlands          0.000000"
      ]
     },
     "execution_count": 73,
     "metadata": {},
     "output_type": "execute_result"
    }
   ],
   "source": [
    "pt_nc = train.pivot_table(values='income', #데이터로 사용 할 컬럼 지정\n",
    "                index=['native-country'], # 데이터 요약시 확인하고 싶은 컬럼\n",
    "                aggfunc='mean' ) \n",
    "pt_nc = pt_nc.sort_values(by='income', ascending=False)\n",
    "pt_nc"
   ]
  },
  {
   "cell_type": "code",
   "execution_count": 74,
   "metadata": {},
   "outputs": [],
   "source": [
    "dict_nc = {\n",
    "    'United-States':25,\n",
    "    'Haiti':8,\n",
    "    'Mexico':5,\n",
    "    'Puerto-Rico':10,\n",
    "    'Philippines':28,\n",
    "    '?':24,\n",
    "    'Germany':33,\n",
    "    'Peru':12,\n",
    "    'Ecuador':19,\n",
    "    'Iran':37,\n",
    "    'Thailand':13,\n",
    "    'Dominican-Republic':5,\n",
    "    'Poland':15,\n",
    "    'Scotland':11,\n",
    "    'Italy':37,\n",
    "    'Jamaica':13,\n",
    "    'China':26,\n",
    "    'Portugal':16,\n",
    "    'Columbia':4,\n",
    "    'Hungary':42,\n",
    "    'Vietnam':2,\n",
    "    'Taiwan':31,\n",
    "    'Canada':37,\n",
    "    'Hong':21,\n",
    "    'Guatemala':4,\n",
    "    'El-Salvador':5,\n",
    "    'England':37,\n",
    "    'Outlying-US(Guam-USVI-etc)':7,\n",
    "    'India':43,\n",
    "    'France':30,\n",
    "    'Cuba':22,\n",
    "    'Greece':36,\n",
    "    'Trinadad&Tobago':0,\n",
    "    'South':19,\n",
    "    'Japan':39,\n",
    "    'Yugoslavia':31,\n",
    "    'Nicaragua':4,\n",
    "    'Ireland':35,\n",
    "    'Cambodia':32,\n",
    "    'Laos':8,\n",
    "    'Honduras':9,\n",
    "    'Holand-Netherlands':0\n",
    "}"
   ]
  },
  {
   "cell_type": "code",
   "execution_count": 75,
   "metadata": {},
   "outputs": [],
   "source": [
    "train['native-country'] = train['native-country'].map(dict_nc)\n",
    "test['native-country'] = test['native-country'].map(dict_nc)"
   ]
  },
  {
   "cell_type": "code",
   "execution_count": 76,
   "metadata": {},
   "outputs": [
    {
     "data": {
      "text/plain": [
       "array([25,  8,  5, 10, 28, 24, 33, 12, 19, 37, 13, 15, 11, 26, 16,  4, 42,\n",
       "        2, 31, 21,  7, 43, 30, 22, 36,  0, 39, 35, 32,  9], dtype=int64)"
      ]
     },
     "execution_count": 76,
     "metadata": {},
     "output_type": "execute_result"
    }
   ],
   "source": [
    "train['native-country'].unique()"
   ]
  },
  {
   "cell_type": "code",
   "execution_count": 77,
   "metadata": {},
   "outputs": [
    {
     "data": {
      "text/plain": [
       "array([25, 10, 16, 24,  5, 37, 43, 28,  2, 22, 42, 13, 33,  4, 26, 31, 11,\n",
       "       35, 15, 19, 30, 39,  8, 36,  7,  0, 12,  9, 21, 32], dtype=int64)"
      ]
     },
     "execution_count": 77,
     "metadata": {},
     "output_type": "execute_result"
    }
   ],
   "source": [
    "test['native-country'].unique()"
   ]
  },
  {
   "cell_type": "code",
   "execution_count": 78,
   "metadata": {},
   "outputs": [
    {
     "data": {
      "text/html": [
       "<div>\n",
       "<style scoped>\n",
       "    .dataframe tbody tr th:only-of-type {\n",
       "        vertical-align: middle;\n",
       "    }\n",
       "\n",
       "    .dataframe tbody tr th {\n",
       "        vertical-align: top;\n",
       "    }\n",
       "\n",
       "    .dataframe thead th {\n",
       "        text-align: right;\n",
       "    }\n",
       "</style>\n",
       "<table border=\"1\" class=\"dataframe\">\n",
       "  <thead>\n",
       "    <tr style=\"text-align: right;\">\n",
       "      <th></th>\n",
       "      <th>age</th>\n",
       "      <th>workclass</th>\n",
       "      <th>fnlwgt</th>\n",
       "      <th>education</th>\n",
       "      <th>education-num</th>\n",
       "      <th>marital-status</th>\n",
       "      <th>occupation</th>\n",
       "      <th>relationship</th>\n",
       "      <th>race</th>\n",
       "      <th>sex</th>\n",
       "      <th>capital-gain</th>\n",
       "      <th>capital-loss</th>\n",
       "      <th>hours-per-week</th>\n",
       "      <th>native-country</th>\n",
       "      <th>income</th>\n",
       "    </tr>\n",
       "  </thead>\n",
       "  <tbody>\n",
       "    <tr>\n",
       "      <th>age</th>\n",
       "      <td>1.000000</td>\n",
       "      <td>0.132735</td>\n",
       "      <td>-0.075753</td>\n",
       "      <td>0.110976</td>\n",
       "      <td>0.035084</td>\n",
       "      <td>0.345511</td>\n",
       "      <td>0.122510</td>\n",
       "      <td>0.362711</td>\n",
       "      <td>0.030967</td>\n",
       "      <td>0.083999</td>\n",
       "      <td>0.078498</td>\n",
       "      <td>0.054413</td>\n",
       "      <td>0.073100</td>\n",
       "      <td>0.053992</td>\n",
       "      <td>0.238460</td>\n",
       "    </tr>\n",
       "    <tr>\n",
       "      <th>workclass</th>\n",
       "      <td>0.132735</td>\n",
       "      <td>1.000000</td>\n",
       "      <td>-0.023980</td>\n",
       "      <td>0.171219</td>\n",
       "      <td>0.155799</td>\n",
       "      <td>0.151603</td>\n",
       "      <td>0.262067</td>\n",
       "      <td>0.157105</td>\n",
       "      <td>0.024725</td>\n",
       "      <td>0.101633</td>\n",
       "      <td>0.092518</td>\n",
       "      <td>0.041738</td>\n",
       "      <td>0.186770</td>\n",
       "      <td>0.039966</td>\n",
       "      <td>0.175568</td>\n",
       "    </tr>\n",
       "    <tr>\n",
       "      <th>fnlwgt</th>\n",
       "      <td>-0.075753</td>\n",
       "      <td>-0.023980</td>\n",
       "      <td>1.000000</td>\n",
       "      <td>-0.021721</td>\n",
       "      <td>-0.030600</td>\n",
       "      <td>-0.026239</td>\n",
       "      <td>-0.010293</td>\n",
       "      <td>-0.027490</td>\n",
       "      <td>-0.096260</td>\n",
       "      <td>0.029929</td>\n",
       "      <td>-0.005051</td>\n",
       "      <td>-0.001513</td>\n",
       "      <td>-0.010154</td>\n",
       "      <td>-0.107839</td>\n",
       "      <td>-0.002994</td>\n",
       "    </tr>\n",
       "    <tr>\n",
       "      <th>education</th>\n",
       "      <td>0.110976</td>\n",
       "      <td>0.171219</td>\n",
       "      <td>-0.021721</td>\n",
       "      <td>1.000000</td>\n",
       "      <td>0.908433</td>\n",
       "      <td>0.121604</td>\n",
       "      <td>0.505764</td>\n",
       "      <td>0.149016</td>\n",
       "      <td>0.094781</td>\n",
       "      <td>0.047013</td>\n",
       "      <td>0.169546</td>\n",
       "      <td>0.095937</td>\n",
       "      <td>0.168649</td>\n",
       "      <td>0.151892</td>\n",
       "      <td>0.365031</td>\n",
       "    </tr>\n",
       "    <tr>\n",
       "      <th>education-num</th>\n",
       "      <td>0.035084</td>\n",
       "      <td>0.155799</td>\n",
       "      <td>-0.030600</td>\n",
       "      <td>0.908433</td>\n",
       "      <td>1.000000</td>\n",
       "      <td>0.082381</td>\n",
       "      <td>0.478089</td>\n",
       "      <td>0.108102</td>\n",
       "      <td>0.089576</td>\n",
       "      <td>0.017029</td>\n",
       "      <td>0.127651</td>\n",
       "      <td>0.083925</td>\n",
       "      <td>0.147569</td>\n",
       "      <td>0.235975</td>\n",
       "      <td>0.331798</td>\n",
       "    </tr>\n",
       "    <tr>\n",
       "      <th>marital-status</th>\n",
       "      <td>0.345511</td>\n",
       "      <td>0.151603</td>\n",
       "      <td>-0.026239</td>\n",
       "      <td>0.121604</td>\n",
       "      <td>0.082381</td>\n",
       "      <td>1.000000</td>\n",
       "      <td>0.189894</td>\n",
       "      <td>0.969115</td>\n",
       "      <td>0.126852</td>\n",
       "      <td>0.417371</td>\n",
       "      <td>0.084616</td>\n",
       "      <td>0.071447</td>\n",
       "      <td>0.224070</td>\n",
       "      <td>0.022363</td>\n",
       "      <td>0.448346</td>\n",
       "    </tr>\n",
       "    <tr>\n",
       "      <th>occupation</th>\n",
       "      <td>0.122510</td>\n",
       "      <td>0.262067</td>\n",
       "      <td>-0.010293</td>\n",
       "      <td>0.505764</td>\n",
       "      <td>0.478089</td>\n",
       "      <td>0.189894</td>\n",
       "      <td>1.000000</td>\n",
       "      <td>0.211716</td>\n",
       "      <td>0.106576</td>\n",
       "      <td>0.103936</td>\n",
       "      <td>0.111829</td>\n",
       "      <td>0.074087</td>\n",
       "      <td>0.210623</td>\n",
       "      <td>0.119461</td>\n",
       "      <td>0.349134</td>\n",
       "    </tr>\n",
       "    <tr>\n",
       "      <th>relationship</th>\n",
       "      <td>0.362711</td>\n",
       "      <td>0.157105</td>\n",
       "      <td>-0.027490</td>\n",
       "      <td>0.149016</td>\n",
       "      <td>0.108102</td>\n",
       "      <td>0.969115</td>\n",
       "      <td>0.211716</td>\n",
       "      <td>1.000000</td>\n",
       "      <td>0.128734</td>\n",
       "      <td>0.419588</td>\n",
       "      <td>0.087786</td>\n",
       "      <td>0.077228</td>\n",
       "      <td>0.242891</td>\n",
       "      <td>0.030623</td>\n",
       "      <td>0.454753</td>\n",
       "    </tr>\n",
       "    <tr>\n",
       "      <th>race</th>\n",
       "      <td>0.030967</td>\n",
       "      <td>0.024725</td>\n",
       "      <td>-0.096260</td>\n",
       "      <td>0.094781</td>\n",
       "      <td>0.089576</td>\n",
       "      <td>0.126852</td>\n",
       "      <td>0.106576</td>\n",
       "      <td>0.128734</td>\n",
       "      <td>1.000000</td>\n",
       "      <td>0.112482</td>\n",
       "      <td>0.021237</td>\n",
       "      <td>0.021638</td>\n",
       "      <td>0.046758</td>\n",
       "      <td>0.054859</td>\n",
       "      <td>0.101373</td>\n",
       "    </tr>\n",
       "    <tr>\n",
       "      <th>sex</th>\n",
       "      <td>0.083999</td>\n",
       "      <td>0.101633</td>\n",
       "      <td>0.029929</td>\n",
       "      <td>0.047013</td>\n",
       "      <td>0.017029</td>\n",
       "      <td>0.417371</td>\n",
       "      <td>0.103936</td>\n",
       "      <td>0.419588</td>\n",
       "      <td>0.112482</td>\n",
       "      <td>1.000000</td>\n",
       "      <td>0.050664</td>\n",
       "      <td>0.042925</td>\n",
       "      <td>0.231437</td>\n",
       "      <td>0.002202</td>\n",
       "      <td>0.215613</td>\n",
       "    </tr>\n",
       "    <tr>\n",
       "      <th>capital-gain</th>\n",
       "      <td>0.078498</td>\n",
       "      <td>0.092518</td>\n",
       "      <td>-0.005051</td>\n",
       "      <td>0.169546</td>\n",
       "      <td>0.127651</td>\n",
       "      <td>0.084616</td>\n",
       "      <td>0.111829</td>\n",
       "      <td>0.087786</td>\n",
       "      <td>0.021237</td>\n",
       "      <td>0.050664</td>\n",
       "      <td>1.000000</td>\n",
       "      <td>-0.031401</td>\n",
       "      <td>0.088609</td>\n",
       "      <td>0.027366</td>\n",
       "      <td>0.221387</td>\n",
       "    </tr>\n",
       "    <tr>\n",
       "      <th>capital-loss</th>\n",
       "      <td>0.054413</td>\n",
       "      <td>0.041738</td>\n",
       "      <td>-0.001513</td>\n",
       "      <td>0.095937</td>\n",
       "      <td>0.083925</td>\n",
       "      <td>0.071447</td>\n",
       "      <td>0.074087</td>\n",
       "      <td>0.077228</td>\n",
       "      <td>0.021638</td>\n",
       "      <td>0.042925</td>\n",
       "      <td>-0.031401</td>\n",
       "      <td>1.000000</td>\n",
       "      <td>0.055271</td>\n",
       "      <td>0.017938</td>\n",
       "      <td>0.135645</td>\n",
       "    </tr>\n",
       "    <tr>\n",
       "      <th>hours-per-week</th>\n",
       "      <td>0.073100</td>\n",
       "      <td>0.186770</td>\n",
       "      <td>-0.010154</td>\n",
       "      <td>0.168649</td>\n",
       "      <td>0.147569</td>\n",
       "      <td>0.224070</td>\n",
       "      <td>0.210623</td>\n",
       "      <td>0.242891</td>\n",
       "      <td>0.046758</td>\n",
       "      <td>0.231437</td>\n",
       "      <td>0.088609</td>\n",
       "      <td>0.055271</td>\n",
       "      <td>1.000000</td>\n",
       "      <td>0.017960</td>\n",
       "      <td>0.231045</td>\n",
       "    </tr>\n",
       "    <tr>\n",
       "      <th>native-country</th>\n",
       "      <td>0.053992</td>\n",
       "      <td>0.039966</td>\n",
       "      <td>-0.107839</td>\n",
       "      <td>0.151892</td>\n",
       "      <td>0.235975</td>\n",
       "      <td>0.022363</td>\n",
       "      <td>0.119461</td>\n",
       "      <td>0.030623</td>\n",
       "      <td>0.054859</td>\n",
       "      <td>0.002202</td>\n",
       "      <td>0.027366</td>\n",
       "      <td>0.017938</td>\n",
       "      <td>0.017960</td>\n",
       "      <td>1.000000</td>\n",
       "      <td>0.100775</td>\n",
       "    </tr>\n",
       "    <tr>\n",
       "      <th>income</th>\n",
       "      <td>0.238460</td>\n",
       "      <td>0.175568</td>\n",
       "      <td>-0.002994</td>\n",
       "      <td>0.365031</td>\n",
       "      <td>0.331798</td>\n",
       "      <td>0.448346</td>\n",
       "      <td>0.349134</td>\n",
       "      <td>0.454753</td>\n",
       "      <td>0.101373</td>\n",
       "      <td>0.215613</td>\n",
       "      <td>0.221387</td>\n",
       "      <td>0.135645</td>\n",
       "      <td>0.231045</td>\n",
       "      <td>0.100775</td>\n",
       "      <td>1.000000</td>\n",
       "    </tr>\n",
       "  </tbody>\n",
       "</table>\n",
       "</div>"
      ],
      "text/plain": [
       "                     age  workclass    fnlwgt  education  education-num  \\\n",
       "age             1.000000   0.132735 -0.075753   0.110976       0.035084   \n",
       "workclass       0.132735   1.000000 -0.023980   0.171219       0.155799   \n",
       "fnlwgt         -0.075753  -0.023980  1.000000  -0.021721      -0.030600   \n",
       "education       0.110976   0.171219 -0.021721   1.000000       0.908433   \n",
       "education-num   0.035084   0.155799 -0.030600   0.908433       1.000000   \n",
       "marital-status  0.345511   0.151603 -0.026239   0.121604       0.082381   \n",
       "occupation      0.122510   0.262067 -0.010293   0.505764       0.478089   \n",
       "relationship    0.362711   0.157105 -0.027490   0.149016       0.108102   \n",
       "race            0.030967   0.024725 -0.096260   0.094781       0.089576   \n",
       "sex             0.083999   0.101633  0.029929   0.047013       0.017029   \n",
       "capital-gain    0.078498   0.092518 -0.005051   0.169546       0.127651   \n",
       "capital-loss    0.054413   0.041738 -0.001513   0.095937       0.083925   \n",
       "hours-per-week  0.073100   0.186770 -0.010154   0.168649       0.147569   \n",
       "native-country  0.053992   0.039966 -0.107839   0.151892       0.235975   \n",
       "income          0.238460   0.175568 -0.002994   0.365031       0.331798   \n",
       "\n",
       "                marital-status  occupation  relationship      race       sex  \\\n",
       "age                   0.345511    0.122510      0.362711  0.030967  0.083999   \n",
       "workclass             0.151603    0.262067      0.157105  0.024725  0.101633   \n",
       "fnlwgt               -0.026239   -0.010293     -0.027490 -0.096260  0.029929   \n",
       "education             0.121604    0.505764      0.149016  0.094781  0.047013   \n",
       "education-num         0.082381    0.478089      0.108102  0.089576  0.017029   \n",
       "marital-status        1.000000    0.189894      0.969115  0.126852  0.417371   \n",
       "occupation            0.189894    1.000000      0.211716  0.106576  0.103936   \n",
       "relationship          0.969115    0.211716      1.000000  0.128734  0.419588   \n",
       "race                  0.126852    0.106576      0.128734  1.000000  0.112482   \n",
       "sex                   0.417371    0.103936      0.419588  0.112482  1.000000   \n",
       "capital-gain          0.084616    0.111829      0.087786  0.021237  0.050664   \n",
       "capital-loss          0.071447    0.074087      0.077228  0.021638  0.042925   \n",
       "hours-per-week        0.224070    0.210623      0.242891  0.046758  0.231437   \n",
       "native-country        0.022363    0.119461      0.030623  0.054859  0.002202   \n",
       "income                0.448346    0.349134      0.454753  0.101373  0.215613   \n",
       "\n",
       "                capital-gain  capital-loss  hours-per-week  native-country  \\\n",
       "age                 0.078498      0.054413        0.073100        0.053992   \n",
       "workclass           0.092518      0.041738        0.186770        0.039966   \n",
       "fnlwgt             -0.005051     -0.001513       -0.010154       -0.107839   \n",
       "education           0.169546      0.095937        0.168649        0.151892   \n",
       "education-num       0.127651      0.083925        0.147569        0.235975   \n",
       "marital-status      0.084616      0.071447        0.224070        0.022363   \n",
       "occupation          0.111829      0.074087        0.210623        0.119461   \n",
       "relationship        0.087786      0.077228        0.242891        0.030623   \n",
       "race                0.021237      0.021638        0.046758        0.054859   \n",
       "sex                 0.050664      0.042925        0.231437        0.002202   \n",
       "capital-gain        1.000000     -0.031401        0.088609        0.027366   \n",
       "capital-loss       -0.031401      1.000000        0.055271        0.017938   \n",
       "hours-per-week      0.088609      0.055271        1.000000        0.017960   \n",
       "native-country      0.027366      0.017938        0.017960        1.000000   \n",
       "income              0.221387      0.135645        0.231045        0.100775   \n",
       "\n",
       "                  income  \n",
       "age             0.238460  \n",
       "workclass       0.175568  \n",
       "fnlwgt         -0.002994  \n",
       "education       0.365031  \n",
       "education-num   0.331798  \n",
       "marital-status  0.448346  \n",
       "occupation      0.349134  \n",
       "relationship    0.454753  \n",
       "race            0.101373  \n",
       "sex             0.215613  \n",
       "capital-gain    0.221387  \n",
       "capital-loss    0.135645  \n",
       "hours-per-week  0.231045  \n",
       "native-country  0.100775  \n",
       "income          1.000000  "
      ]
     },
     "execution_count": 78,
     "metadata": {},
     "output_type": "execute_result"
    }
   ],
   "source": [
    "train.corr()"
   ]
  },
  {
   "cell_type": "code",
   "execution_count": 107,
   "metadata": {},
   "outputs": [],
   "source": [
    "train['wcXhpw'] = train['workclass'] * train['hours-per-week']\n",
    "test['wcXhpw'] = test['workclass'] * test['hours-per-week']"
   ]
  },
  {
   "cell_type": "code",
   "execution_count": 110,
   "metadata": {},
   "outputs": [],
   "source": [
    "train['rXs'] = train['race'] * train['sex']\n",
    "test['rXs'] = test['race'] * test['sex']"
   ]
  },
  {
   "cell_type": "code",
   "execution_count": 111,
   "metadata": {},
   "outputs": [],
   "source": [
    "train['msXs'] = train['marital-status'] * train['sex']\n",
    "test['msXs'] = test['marital-status'] * test['sex']"
   ]
  },
  {
   "cell_type": "code",
   "execution_count": 112,
   "metadata": {},
   "outputs": [],
   "source": [
    "train['cgXcl'] = train['capital-gain'] * train['capital-loss']\n",
    "test['cgXcl'] = test['capital-gain'] * test['capital-loss']"
   ]
  },
  {
   "cell_type": "code",
   "execution_count": 114,
   "metadata": {},
   "outputs": [
    {
     "data": {
      "text/plain": [
       "Index(['age', 'workclass', 'fnlwgt', 'education', 'education-num',\n",
       "       'marital-status', 'occupation', 'relationship', 'race', 'sex',\n",
       "       'capital-gain', 'capital-loss', 'hours-per-week', 'native-country',\n",
       "       'income', 'wcXhpw', 'rXs', 'msXs', 'cgXcl'],\n",
       "      dtype='object')"
      ]
     },
     "execution_count": 114,
     "metadata": {},
     "output_type": "execute_result"
    }
   ],
   "source": [
    "train.columns"
   ]
  },
  {
   "cell_type": "code",
   "execution_count": 115,
   "metadata": {},
   "outputs": [],
   "source": [
    "# X_train = train.loc[:,:'native-country']\n",
    "X_train = train[['age', 'workclass', 'fnlwgt', 'education', 'education-num',\n",
    "       'marital-status', 'occupation', 'relationship', 'race', 'sex',\n",
    "       'capital-gain', 'capital-loss', 'hours-per-week', 'native-country',\n",
    "       'wcXhpw', 'rXs', 'msXs', 'cgXcl']]\n",
    "# X_train = train[['age', 'workclass', 'education', 'education-num', 'marital-status', 'occupation', 'relationship', 'race', 'sex', 'capital-gain', 'capital-loss', 'hours-per-week', 'native-country']]\n",
    "# X_train = train[['age', 'workclass', 'education-num','education', 'marital-status', 'occupation', 'relationship', 'race', 'sex',\n",
    "#                 'capital-gain', 'capital-loss', 'hours-per-week', 'native-country']]\n",
    "y_train = train['income']\n",
    "X_test = test\n",
    "# X_test = test[['age', 'workclass', 'education', 'education-num', 'marital-status', 'occupation', 'relationship', 'race', 'sex', 'capital-gain', 'capital-loss', 'hours-per-week', 'native-country']]\n",
    "# X_test = test[['age', 'workclass', 'education-num','education', 'marital-status', 'occupation', 'relationship', 'race', 'sex',\n",
    "#                'capital-gain', 'capital-loss', 'hours-per-week', 'native-country']]"
   ]
  },
  {
   "cell_type": "code",
   "execution_count": 116,
   "metadata": {},
   "outputs": [
    {
     "name": "stdout",
     "output_type": "stream",
     "text": [
      "훈련용 문제 : (29305, 18)\n",
      "훈련용 문제 : (29305,)\n",
      "데스트용 문제 : (19537, 18)\n"
     ]
    }
   ],
   "source": [
    "print(\"훈련용 문제 :\",X_train.shape)\n",
    "print(\"훈련용 문제 :\",y_train.shape)\n",
    "print(\"데스트용 문제 :\",X_test.shape)"
   ]
  },
  {
   "cell_type": "code",
   "execution_count": 117,
   "metadata": {},
   "outputs": [],
   "source": [
    "from sklearn.ensemble import GradientBoostingClassifier\n",
    "import time\n",
    "import warnings\n",
    "warnings.filterwarnings('ignore')"
   ]
  },
  {
   "cell_type": "code",
   "execution_count": 119,
   "metadata": {},
   "outputs": [
    {
     "data": {
      "text/plain": [
       "GradientBoostingClassifier(max_depth=5, random_state=2)"
      ]
     },
     "execution_count": 119,
     "metadata": {},
     "output_type": "execute_result"
    },
    {
     "data": {
      "text/plain": [
       "array([0.86981744, 0.87749531, 0.86521071, 0.86828186, 0.87118239])"
      ]
     },
     "execution_count": 119,
     "metadata": {},
     "output_type": "execute_result"
    },
    {
     "data": {
      "text/plain": [
       "0.8703975430813854"
      ]
     },
     "execution_count": 119,
     "metadata": {},
     "output_type": "execute_result"
    }
   ],
   "source": [
    "gb = GradientBoostingClassifier(random_state=2, max_depth=5)\n",
    "gb.fit(X_train, y_train)\n",
    "\n",
    "res = cross_val_score(gb,X_train,y_train,cv=5)\n",
    "res\n",
    "res.mean()\n"
   ]
  },
  {
   "cell_type": "code",
   "execution_count": 112,
   "metadata": {},
   "outputs": [],
   "source": [
    "pred = gb.predict(X_test)\n",
    "result = pd.read_csv(\"./data/sample_submission.csv\")\n",
    "result\n",
    "result['income'] = pred\n",
    "# result.to_csv('./data/phy04.csv', index=False)\n",
    "\n",
    "# 0.87253"
   ]
  },
  {
   "cell_type": "code",
   "execution_count": 113,
   "metadata": {},
   "outputs": [],
   "source": [
    "# !pip install xgboost"
   ]
  },
  {
   "cell_type": "code",
   "execution_count": 120,
   "metadata": {},
   "outputs": [],
   "source": [
    "from xgboost import XGBClassifier"
   ]
  },
  {
   "cell_type": "code",
   "execution_count": 135,
   "metadata": {},
   "outputs": [
    {
     "data": {
      "text/plain": [
       "XGBClassifier(base_score=None, booster=None, callbacks=None,\n",
       "              colsample_bylevel=None, colsample_bynode=None,\n",
       "              colsample_bytree=None, early_stopping_rounds=None,\n",
       "              enable_categorical=False, eval_metric=None, feature_types=None,\n",
       "              gamma=None, gpu_id=None, grow_policy=None, importance_type=None,\n",
       "              interaction_constraints=None, learning_rate=0.07, max_bin=None,\n",
       "              max_cat_threshold=None, max_cat_to_onehot=None,\n",
       "              max_delta_step=None, max_depth=4, max_leaves=None,\n",
       "              min_child_weight=None, missing=nan, monotone_constraints=None,\n",
       "              n_estimators=290, n_jobs=None, num_parallel_tree=None,\n",
       "              predictor=None, random_state=None, ...)"
      ]
     },
     "execution_count": 135,
     "metadata": {},
     "output_type": "execute_result"
    },
    {
     "data": {
      "text/plain": [
       "0.8714895069100835"
      ]
     },
     "execution_count": 135,
     "metadata": {},
     "output_type": "execute_result"
    }
   ],
   "source": [
    "xgb_model = XGBClassifier(n_estimators=290, learning_rate=0.07, max_depth=4)\n",
    "xgb_model.fit(X_train, y_train)\n",
    "res = cross_val_score(xgb_model,X_train,y_train, cv=5)\n",
    "res.mean()\n",
    "# cv=8\n",
    "# 200 : 0.8714896199544125\n",
    "# 400, 0.1, 4 : 0.8717966614391287\n",
    "# 400, 0.1, 3 : 0.8723426061035232\n",
    "\n",
    "# 0.8727521344538266\n",
    "# 3, 4  : 0.8714895087899046\n",
    "# 4,4 : 0.871899004541969\n",
    "# 4,6 : 0.8719330850344157\n",
    "\n",
    "# 0.8728544909289997  280, 0.05"
   ]
  },
  {
   "cell_type": "code",
   "execution_count": 131,
   "metadata": {},
   "outputs": [
    {
     "data": {
      "text/plain": [
       "array([0.87363537, 0.87223587, 0.87933388, 0.87114387, 0.87087087,\n",
       "       0.87387387, 0.86977887, 0.87196287])"
      ]
     },
     "execution_count": 131,
     "metadata": {},
     "output_type": "execute_result"
    }
   ],
   "source": [
    "# 7 : 0.8706704646963389\n",
    "# 0.8704316135061223\n",
    "res\n",
    "\n",
    "# [0.87145197, 0.87087087, 0.87714988, 0.87387387, 0.87196287, 0.87332787, 0.87114387, 0.87223587]"
   ]
  },
  {
   "cell_type": "code",
   "execution_count": 136,
   "metadata": {},
   "outputs": [
    {
     "data": {
      "text/html": [
       "<div>\n",
       "<style scoped>\n",
       "    .dataframe tbody tr th:only-of-type {\n",
       "        vertical-align: middle;\n",
       "    }\n",
       "\n",
       "    .dataframe tbody tr th {\n",
       "        vertical-align: top;\n",
       "    }\n",
       "\n",
       "    .dataframe thead th {\n",
       "        text-align: right;\n",
       "    }\n",
       "</style>\n",
       "<table border=\"1\" class=\"dataframe\">\n",
       "  <thead>\n",
       "    <tr style=\"text-align: right;\">\n",
       "      <th></th>\n",
       "      <th>no</th>\n",
       "      <th>income</th>\n",
       "    </tr>\n",
       "  </thead>\n",
       "  <tbody>\n",
       "    <tr>\n",
       "      <th>0</th>\n",
       "      <td>29306</td>\n",
       "      <td>0</td>\n",
       "    </tr>\n",
       "    <tr>\n",
       "      <th>1</th>\n",
       "      <td>29307</td>\n",
       "      <td>0</td>\n",
       "    </tr>\n",
       "    <tr>\n",
       "      <th>2</th>\n",
       "      <td>29308</td>\n",
       "      <td>0</td>\n",
       "    </tr>\n",
       "    <tr>\n",
       "      <th>3</th>\n",
       "      <td>29309</td>\n",
       "      <td>0</td>\n",
       "    </tr>\n",
       "    <tr>\n",
       "      <th>4</th>\n",
       "      <td>29310</td>\n",
       "      <td>0</td>\n",
       "    </tr>\n",
       "    <tr>\n",
       "      <th>...</th>\n",
       "      <td>...</td>\n",
       "      <td>...</td>\n",
       "    </tr>\n",
       "    <tr>\n",
       "      <th>19532</th>\n",
       "      <td>48838</td>\n",
       "      <td>1</td>\n",
       "    </tr>\n",
       "    <tr>\n",
       "      <th>19533</th>\n",
       "      <td>48839</td>\n",
       "      <td>0</td>\n",
       "    </tr>\n",
       "    <tr>\n",
       "      <th>19534</th>\n",
       "      <td>48840</td>\n",
       "      <td>1</td>\n",
       "    </tr>\n",
       "    <tr>\n",
       "      <th>19535</th>\n",
       "      <td>48841</td>\n",
       "      <td>0</td>\n",
       "    </tr>\n",
       "    <tr>\n",
       "      <th>19536</th>\n",
       "      <td>48842</td>\n",
       "      <td>0</td>\n",
       "    </tr>\n",
       "  </tbody>\n",
       "</table>\n",
       "<p>19537 rows × 2 columns</p>\n",
       "</div>"
      ],
      "text/plain": [
       "          no  income\n",
       "0      29306       0\n",
       "1      29307       0\n",
       "2      29308       0\n",
       "3      29309       0\n",
       "4      29310       0\n",
       "...      ...     ...\n",
       "19532  48838       1\n",
       "19533  48839       0\n",
       "19534  48840       1\n",
       "19535  48841       0\n",
       "19536  48842       0\n",
       "\n",
       "[19537 rows x 2 columns]"
      ]
     },
     "execution_count": 136,
     "metadata": {},
     "output_type": "execute_result"
    }
   ],
   "source": [
    "# 0.8693055991432084\n",
    "\n",
    "pred = xgb_model.predict(X_test)\n",
    "result = pd.read_csv(\"./data/sample_submission.csv\")\n",
    "result\n",
    "result['income'] = pred\n",
    "result.to_csv('./data/phy11.csv', index=False)\n"
   ]
  },
  {
   "cell_type": "code",
   "execution_count": null,
   "metadata": {},
   "outputs": [],
   "source": []
  },
  {
   "cell_type": "code",
   "execution_count": null,
   "metadata": {},
   "outputs": [],
   "source": []
  },
  {
   "cell_type": "code",
   "execution_count": 83,
   "metadata": {},
   "outputs": [],
   "source": [
    "# random forest 모델 불러오기\n",
    "from sklearn.ensemble import RandomForestClassifier"
   ]
  },
  {
   "cell_type": "code",
   "execution_count": 84,
   "metadata": {},
   "outputs": [],
   "source": [
    "forest_model = RandomForestClassifier(n_estimators=100,random_state=10)"
   ]
  },
  {
   "cell_type": "code",
   "execution_count": 85,
   "metadata": {},
   "outputs": [
    {
     "data": {
      "text/plain": [
       "0.8550077382208178"
      ]
     },
     "execution_count": 85,
     "metadata": {},
     "output_type": "execute_result"
    }
   ],
   "source": [
    "res = cross_val_score(forest_model,X_train,y_train,cv=9)\n",
    "res.mean()"
   ]
  },
  {
   "cell_type": "code",
   "execution_count": null,
   "metadata": {},
   "outputs": [],
   "source": []
  }
 ],
 "metadata": {
  "kernelspec": {
   "display_name": "base",
   "language": "python",
   "name": "python3"
  },
  "language_info": {
   "codemirror_mode": {
    "name": "ipython",
    "version": 3
   },
   "file_extension": ".py",
   "mimetype": "text/x-python",
   "name": "python",
   "nbconvert_exporter": "python",
   "pygments_lexer": "ipython3",
   "version": "3.9.13"
  },
  "orig_nbformat": 4
 },
 "nbformat": 4,
 "nbformat_minor": 2
}
