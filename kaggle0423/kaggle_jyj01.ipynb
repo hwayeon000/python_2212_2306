{
 "cells": [
  {
   "cell_type": "code",
   "execution_count": 1,
   "id": "c89a26d2",
   "metadata": {},
   "outputs": [],
   "source": [
    "# 도구 불러오기\n",
    "import numpy as np\n",
    "import pandas as pd\n",
    "import matplotlib.pyplot as plt\n",
    "import seaborn as sns\n",
    "from sklearn.neighbors import KNeighborsClassifier\n",
    "from sklearn.tree import DecisionTreeClassifier\n",
    "from sklearn.model_selection import train_test_split, cross_val_score\n",
    "from sklearn.ensemble import VotingClassifier\n",
    "from sklearn.ensemble import RandomForestClassifier\n",
    "from sklearn.ensemble import AdaBoostClassifier"
   ]
  },
  {
   "cell_type": "code",
   "execution_count": 2,
   "id": "509f7b98",
   "metadata": {},
   "outputs": [],
   "source": [
    "train_data = pd.read_csv('./train.csv', index_col='no')\n",
    "test_data = pd.read_csv('./test.csv', index_col='no')"
   ]
  },
  {
   "cell_type": "code",
   "execution_count": 3,
   "id": "b06dbe72",
   "metadata": {},
   "outputs": [],
   "source": [
    "from sklearn.preprocessing import LabelEncoder\n",
    "\n",
    "le = LabelEncoder()\n",
    "\n",
    "train_data['sex'] = le.fit_transform(train_data['sex'])\n",
    "train_data['education'] = le.fit_transform(train_data['education'])\n",
    "\n",
    "test_data['sex'] = le.fit_transform(test_data['sex'])\n",
    "test_data['education'] = le.fit_transform(test_data['education'])"
   ]
  },
  {
   "cell_type": "code",
   "execution_count": 4,
   "id": "b60ba47e",
   "metadata": {},
   "outputs": [],
   "source": [
    "train_p = train_data.iloc[:, :-1]\n",
    "train_p = pd.get_dummies(train_p)\n",
    "\n",
    "X_train = train_p\n",
    "y_train = train_data['income']\n",
    "\n",
    "X_test = pd.get_dummies(test_data)"
   ]
  },
  {
   "cell_type": "code",
   "execution_count": null,
   "id": "001fe7bc",
   "metadata": {},
   "outputs": [],
   "source": [
    "# from sklearn.preprocessing import StandardScaler\n",
    "\n",
    "# s_scaler = StandardScaler()\n",
    "\n",
    "# s_scaler.fit(X_train)\n",
    "\n",
    "# t_X_train = s_scaler.transform(X_train)\n",
    "# t_X_test = s_scaler.transform(X_test)"
   ]
  },
  {
   "cell_type": "code",
   "execution_count": 7,
   "id": "09b830cd",
   "metadata": {
    "scrolled": true
   },
   "outputs": [
    {
     "name": "stdout",
     "output_type": "stream",
     "text": [
      "{'native-country_ Holand-Netherlands'}\n"
     ]
    }
   ],
   "source": [
    "print(set(X_train.columns) - set(X_test.columns))\n",
    "X_test['native-country_ Holand-Netherlands']=0\n",
    "X_test = X_test[X_train.columns]"
   ]
  },
  {
   "cell_type": "code",
   "execution_count": 8,
   "id": "416f5e84",
   "metadata": {},
   "outputs": [],
   "source": [
    "num=[]\n",
    "result=[]\n",
    "for i in range(5, 20):\n",
    "    tree_model = DecisionTreeClassifier(max_depth=i)\n",
    "\n",
    "    tree_model.fit(X_train, y_train)\n",
    "\n",
    "    pre = tree_model.predict(X_test)\n",
    "    \n",
    "    num.append(i)\n",
    "    result.append(cross_val_score(tree_model, X_train, y_train, cv=5).mean())"
   ]
  },
  {
   "cell_type": "code",
   "execution_count": 9,
   "id": "5d2c731e",
   "metadata": {
    "scrolled": true
   },
   "outputs": [
    {
     "data": {
      "text/plain": [
       "{5: 0.8438832963658079,\n",
       " 6: 0.8481829039413069,\n",
       " 7: 0.8521753966899845,\n",
       " 8: 0.8531991127793891,\n",
       " 9: 0.8531991127793892,\n",
       " 10: 0.8514587954274015,\n",
       " 11: 0.8507080702951715,\n",
       " 12: 0.8487971335949496,\n",
       " 13: 0.8468179491554343,\n",
       " 14: 0.8452823750213273,\n",
       " 15: 0.8428595802764033,\n",
       " 16: 0.8389694591366661,\n",
       " 17: 0.8358641869988057,\n",
       " 18: 0.8335437638628219,\n",
       " 19: 0.8304726155946083}"
      ]
     },
     "execution_count": 9,
     "metadata": {},
     "output_type": "execute_result"
    }
   ],
   "source": [
    "dict(zip(num, result))"
   ]
  },
  {
   "attachments": {
    "image.png": {
     "image/png": "[encoded data removed]"
    }
   },
   "cell_type": "markdown",
   "id": "d80d2610",
   "metadata": {},
   "source": [
    "![image.png](attachment:image.png)"
   ]
  },
  {
   "cell_type": "code",
   "execution_count": 11,
   "id": "93ef20ba",
   "metadata": {},
   "outputs": [
    {
     "data": {
      "text/plain": [
       "DecisionTreeClassifier(max_depth=10)"
      ]
     },
     "execution_count": 11,
     "metadata": {},
     "output_type": "execute_result"
    }
   ],
   "source": [
    "tree1 = DecisionTreeClassifier(max_depth=7)\n",
    "tree1.fit(X_train, y_train)\n",
    "\n",
    "tree2 = DecisionTreeClassifier(max_depth=8)\n",
    "tree2.fit(X_train, y_train)\n",
    "\n",
    "tree3 = DecisionTreeClassifier(max_depth=9)\n",
    "tree3.fit(X_train, y_train)\n",
    "\n",
    "tree4 = DecisionTreeClassifier(max_depth=10)\n",
    "tree4.fit(X_train, y_train)"
   ]
  },
  {
   "cell_type": "code",
   "execution_count": 10,
   "id": "7989e85e",
   "metadata": {},
   "outputs": [],
   "source": [
    "from sklearn.ensemble import VotingClassifier\n",
    "from sklearn.ensemble import RandomForestClassifier\n",
    "from sklearn.ensemble import AdaBoostClassifier"
   ]
  },
  {
   "cell_type": "code",
   "execution_count": 12,
   "id": "76626701",
   "metadata": {},
   "outputs": [
    {
     "data": {
      "text/plain": [
       "array([0.85343798, 0.85958028, 0.85002559, 0.85685037, 0.85326736])"
      ]
     },
     "execution_count": 12,
     "metadata": {},
     "output_type": "execute_result"
    }
   ],
   "source": [
    "forest = RandomForestClassifier(n_estimators=100, random_state=7)\n",
    "cross_val_score(forest, X_train, y_train, cv=5)"
   ]
  },
  {
   "cell_type": "code",
   "execution_count": 13,
   "id": "c6b14801",
   "metadata": {
    "scrolled": true
   },
   "outputs": [
    {
     "data": {
      "text/plain": [
       "array([0.86316328, 0.86879372, 0.85958028, 0.86589319, 0.86282204])"
      ]
     },
     "execution_count": 13,
     "metadata": {},
     "output_type": "execute_result"
    }
   ],
   "source": [
    "ada = AdaBoostClassifier(n_estimators=100, random_state=7)\n",
    "cross_val_score(ada, X_train, y_train, cv=5)"
   ]
  },
  {
   "cell_type": "code",
   "execution_count": 17,
   "id": "e8373db1",
   "metadata": {
    "collapsed": true
   },
   "outputs": [
    {
     "name": "stdout",
     "output_type": "stream",
     "text": [
      "Collecting xgboost\n",
      "  Downloading xgboost-1.7.5-py3-none-win_amd64.whl (70.9 MB)\n",
      "     --------------------------------------- 70.9/70.9 MB 19.8 MB/s eta 0:00:00\n",
      "Requirement already satisfied: scipy in c:\\users\\user\\anaconda3\\lib\\site-packages (from xgboost) (1.9.1)\n",
      "Requirement already satisfied: numpy in c:\\users\\user\\anaconda3\\lib\\site-packages (from xgboost) (1.21.5)\n",
      "Installing collected packages: xgboost\n",
      "Successfully installed xgboost-1.7.5\n"
     ]
    }
   ],
   "source": [
    "!pip install xgboost\n"
   ]
  },
  {
   "cell_type": "code",
   "execution_count": 19,
   "id": "2a60a56b",
   "metadata": {},
   "outputs": [],
   "source": [
    "from xgboost import XGBClassifier"
   ]
  },
  {
   "cell_type": "code",
   "execution_count": 44,
   "id": "0ee1577d",
   "metadata": {},
   "outputs": [
    {
     "data": {
      "text/plain": [
       "XGBClassifier(base_score=None, booster=None, callbacks=None,\n",
       "              colsample_bylevel=None, colsample_bynode=None,\n",
       "              colsample_bytree=None, early_stopping_rounds=None,\n",
       "              enable_categorical=False, eval_metric=None, feature_types=None,\n",
       "              gamma=None, gpu_id=None, grow_policy=None, importance_type=None,\n",
       "              interaction_constraints=None, learning_rate=0.1, max_bin=None,\n",
       "              max_cat_threshold=None, max_cat_to_onehot=None,\n",
       "              max_delta_step=None, max_depth=4, max_leaves=None,\n",
       "              min_child_weight=None, missing=nan, monotone_constraints=None,\n",
       "              n_estimators=400, n_jobs=None, num_parallel_tree=None,\n",
       "              predictor=None, random_state=None, ...)"
      ]
     },
     "execution_count": 44,
     "metadata": {},
     "output_type": "execute_result"
    }
   ],
   "source": [
    "model = XGBClassifier(n_estimators=400, learning_rate=0.1,\n",
    "                      max_depth=4)\n",
    "model.fit(X_train, y_train)\n",
    "\n",
    "#array([0.87169425, 0.87322982, 0.86930558, 0.8730592 , 0.87493602]) max:4\n",
    "# array([0.86350452, 0.87015868, 0.864187  , 0.87169425, 0.86589319]) max:5\n",
    "# array([0.86538133, 0.8730592 , 0.86623443, 0.87237673, 0.87118239]) max:6\n",
    "# array([0.86316328, 0.87254735, 0.8588978 , 0.86350452, 0.86384576]) max:7\n",
    "# array([0.8544617 , 0.85770346, 0.8483194 , 0.85343798, 0.85121993]) max:9"
   ]
  },
  {
   "cell_type": "code",
   "execution_count": 45,
   "id": "2689b4de",
   "metadata": {
    "scrolled": true
   },
   "outputs": [
    {
     "data": {
      "text/plain": [
       "array([0.87169425, 0.87322982, 0.86930558, 0.8730592 , 0.87493602])"
      ]
     },
     "execution_count": 45,
     "metadata": {},
     "output_type": "execute_result"
    }
   ],
   "source": [
    "cross_val_score(model, X_train, y_train, cv=5)"
   ]
  },
  {
   "cell_type": "code",
   "execution_count": 54,
   "id": "69928bef",
   "metadata": {},
   "outputs": [
    {
     "data": {
      "text/plain": [
       "{1: array([0.86111585, 0.86623443, 0.8536086 , 0.86009213, 0.8544617 ]),\n",
       " 2: array([0.86759939, 0.87630097, 0.86401638, 0.87357106, 0.8686231 ]),\n",
       " 3: array([0.8694762 , 0.87647159, 0.86930558, 0.87527726, 0.8730592 ]),\n",
       " 4: array([0.87169425, 0.87322982, 0.86930558, 0.8730592 , 0.87493602]),\n",
       " 5: array([0.87015868, 0.87544788, 0.86981744, 0.87237673, 0.8730592 ]),\n",
       " 6: array([0.86538133, 0.8730592 , 0.86623443, 0.87237673, 0.87118239]),\n",
       " 7: array([0.86674629, 0.87374168, 0.86452824, 0.87374168, 0.87049991]),\n",
       " 8: array([0.8650401 , 0.87067053, 0.86623443, 0.86998806, 0.86879372]),\n",
       " 9: array([0.86486948, 0.86708753, 0.864187  , 0.86708753, 0.86555195]),\n",
       " 10: array([0.86384576, 0.87220611, 0.86401638, 0.86640505, 0.86572257]),\n",
       " 11: array([0.86128647, 0.86913496, 0.85923904, 0.86657567, 0.86316328]),\n",
       " 12: array([0.86213957, 0.86606381, 0.86179833, 0.86401638, 0.86179833]),\n",
       " 13: array([0.85855656, 0.86998806, 0.85736222, 0.86282204, 0.85702099]),\n",
       " 14: array([0.86179833, 0.86623443, 0.85719161, 0.86435762, 0.85719161]),\n",
       " 15: array([0.8580447 , 0.86248081, 0.85770346, 0.86486948, 0.85463232]),\n",
       " 16: array([0.85821532, 0.864187  , 0.85719161, 0.86299266, 0.85599727]),\n",
       " 17: array([0.85685037, 0.86401638, 0.85599727, 0.86179833, 0.85241426]),\n",
       " 18: array([0.85633851, 0.86521071, 0.85480293, 0.86469886, 0.85326736]),\n",
       " 19: array([0.85412046, 0.85940966, 0.85412046, 0.86231019, 0.85565603])}"
      ]
     },
     "execution_count": 54,
     "metadata": {},
     "output_type": "execute_result"
    }
   ],
   "source": [
    "num=[]\n",
    "result=[]\n",
    "for i in range(1, 20):\n",
    "    model = XGBClassifier(n_estimators=400, learning_rate=0.1,\n",
    "                      max_depth=i)\n",
    "\n",
    "    model.fit(X_train, y_train)\n",
    "\n",
    "#     pre = model.predict(X_test)\n",
    "    \n",
    "    num.append(i)\n",
    "    result.append(cross_val_score(model, X_train, y_train, cv=5))\n",
    "\n",
    "dict(zip(num, result))"
   ]
  },
  {
   "cell_type": "code",
   "execution_count": 46,
   "id": "77dfc1d2",
   "metadata": {},
   "outputs": [
    {
     "data": {
      "text/plain": [
       "array([0, 0, 0, ..., 1, 0, 0])"
      ]
     },
     "execution_count": 46,
     "metadata": {},
     "output_type": "execute_result"
    }
   ],
   "source": [
    "pre = model.predict(X_test)\n",
    "pre"
   ]
  },
  {
   "cell_type": "code",
   "execution_count": 47,
   "id": "7feb27bc",
   "metadata": {},
   "outputs": [],
   "source": [
    "sub = pd.read_csv('./sample_submission.csv', index_col='no')"
   ]
  },
  {
   "cell_type": "code",
   "execution_count": 48,
   "id": "d958a6bf",
   "metadata": {},
   "outputs": [],
   "source": [
    "sub['income'] = pre"
   ]
  },
  {
   "cell_type": "code",
   "execution_count": 49,
   "id": "999d404c",
   "metadata": {},
   "outputs": [],
   "source": [
    "sub.to_csv('./kaggle_jyj02.csv', index=True)"
   ]
  },
  {
   "cell_type": "code",
   "execution_count": 53,
   "id": "ac13fc68",
   "metadata": {},
   "outputs": [
    {
     "data": {
      "text/html": [
       "<div>\n",
       "<style scoped>\n",
       "    .dataframe tbody tr th:only-of-type {\n",
       "        vertical-align: middle;\n",
       "    }\n",
       "\n",
       "    .dataframe tbody tr th {\n",
       "        vertical-align: top;\n",
       "    }\n",
       "\n",
       "    .dataframe thead th {\n",
       "        text-align: right;\n",
       "    }\n",
       "</style>\n",
       "<table border=\"1\" class=\"dataframe\">\n",
       "  <thead>\n",
       "    <tr style=\"text-align: right;\">\n",
       "      <th></th>\n",
       "      <th>age</th>\n",
       "      <th>fnlwgt</th>\n",
       "      <th>education</th>\n",
       "      <th>education-num</th>\n",
       "      <th>sex</th>\n",
       "      <th>capital-gain</th>\n",
       "      <th>capital-loss</th>\n",
       "      <th>hours-per-week</th>\n",
       "      <th>income</th>\n",
       "    </tr>\n",
       "  </thead>\n",
       "  <tbody>\n",
       "    <tr>\n",
       "      <th>age</th>\n",
       "      <td>1.000000</td>\n",
       "      <td>-0.075753</td>\n",
       "      <td>-0.010707</td>\n",
       "      <td>0.035084</td>\n",
       "      <td>0.083999</td>\n",
       "      <td>0.078498</td>\n",
       "      <td>0.054413</td>\n",
       "      <td>0.073100</td>\n",
       "      <td>0.238460</td>\n",
       "    </tr>\n",
       "    <tr>\n",
       "      <th>fnlwgt</th>\n",
       "      <td>-0.075753</td>\n",
       "      <td>1.000000</td>\n",
       "      <td>-0.022574</td>\n",
       "      <td>-0.030600</td>\n",
       "      <td>0.029929</td>\n",
       "      <td>-0.005051</td>\n",
       "      <td>-0.001513</td>\n",
       "      <td>-0.010154</td>\n",
       "      <td>-0.002994</td>\n",
       "    </tr>\n",
       "    <tr>\n",
       "      <th>education</th>\n",
       "      <td>-0.010707</td>\n",
       "      <td>-0.022574</td>\n",
       "      <td>1.000000</td>\n",
       "      <td>0.358224</td>\n",
       "      <td>-0.024049</td>\n",
       "      <td>0.028027</td>\n",
       "      <td>0.021188</td>\n",
       "      <td>0.055359</td>\n",
       "      <td>0.081312</td>\n",
       "    </tr>\n",
       "    <tr>\n",
       "      <th>education-num</th>\n",
       "      <td>0.035084</td>\n",
       "      <td>-0.030600</td>\n",
       "      <td>0.358224</td>\n",
       "      <td>1.000000</td>\n",
       "      <td>0.017029</td>\n",
       "      <td>0.127651</td>\n",
       "      <td>0.083925</td>\n",
       "      <td>0.147569</td>\n",
       "      <td>0.331798</td>\n",
       "    </tr>\n",
       "    <tr>\n",
       "      <th>sex</th>\n",
       "      <td>0.083999</td>\n",
       "      <td>0.029929</td>\n",
       "      <td>-0.024049</td>\n",
       "      <td>0.017029</td>\n",
       "      <td>1.000000</td>\n",
       "      <td>0.050664</td>\n",
       "      <td>0.042925</td>\n",
       "      <td>0.231437</td>\n",
       "      <td>0.215613</td>\n",
       "    </tr>\n",
       "    <tr>\n",
       "      <th>capital-gain</th>\n",
       "      <td>0.078498</td>\n",
       "      <td>-0.005051</td>\n",
       "      <td>0.028027</td>\n",
       "      <td>0.127651</td>\n",
       "      <td>0.050664</td>\n",
       "      <td>1.000000</td>\n",
       "      <td>-0.031401</td>\n",
       "      <td>0.088609</td>\n",
       "      <td>0.221387</td>\n",
       "    </tr>\n",
       "    <tr>\n",
       "      <th>capital-loss</th>\n",
       "      <td>0.054413</td>\n",
       "      <td>-0.001513</td>\n",
       "      <td>0.021188</td>\n",
       "      <td>0.083925</td>\n",
       "      <td>0.042925</td>\n",
       "      <td>-0.031401</td>\n",
       "      <td>1.000000</td>\n",
       "      <td>0.055271</td>\n",
       "      <td>0.135645</td>\n",
       "    </tr>\n",
       "    <tr>\n",
       "      <th>hours-per-week</th>\n",
       "      <td>0.073100</td>\n",
       "      <td>-0.010154</td>\n",
       "      <td>0.055359</td>\n",
       "      <td>0.147569</td>\n",
       "      <td>0.231437</td>\n",
       "      <td>0.088609</td>\n",
       "      <td>0.055271</td>\n",
       "      <td>1.000000</td>\n",
       "      <td>0.231045</td>\n",
       "    </tr>\n",
       "    <tr>\n",
       "      <th>income</th>\n",
       "      <td>0.238460</td>\n",
       "      <td>-0.002994</td>\n",
       "      <td>0.081312</td>\n",
       "      <td>0.331798</td>\n",
       "      <td>0.215613</td>\n",
       "      <td>0.221387</td>\n",
       "      <td>0.135645</td>\n",
       "      <td>0.231045</td>\n",
       "      <td>1.000000</td>\n",
       "    </tr>\n",
       "  </tbody>\n",
       "</table>\n",
       "</div>"
      ],
      "text/plain": [
       "                     age    fnlwgt  education  education-num       sex  \\\n",
       "age             1.000000 -0.075753  -0.010707       0.035084  0.083999   \n",
       "fnlwgt         -0.075753  1.000000  -0.022574      -0.030600  0.029929   \n",
       "education      -0.010707 -0.022574   1.000000       0.358224 -0.024049   \n",
       "education-num   0.035084 -0.030600   0.358224       1.000000  0.017029   \n",
       "sex             0.083999  0.029929  -0.024049       0.017029  1.000000   \n",
       "capital-gain    0.078498 -0.005051   0.028027       0.127651  0.050664   \n",
       "capital-loss    0.054413 -0.001513   0.021188       0.083925  0.042925   \n",
       "hours-per-week  0.073100 -0.010154   0.055359       0.147569  0.231437   \n",
       "income          0.238460 -0.002994   0.081312       0.331798  0.215613   \n",
       "\n",
       "                capital-gain  capital-loss  hours-per-week    income  \n",
       "age                 0.078498      0.054413        0.073100  0.238460  \n",
       "fnlwgt             -0.005051     -0.001513       -0.010154 -0.002994  \n",
       "education           0.028027      0.021188        0.055359  0.081312  \n",
       "education-num       0.127651      0.083925        0.147569  0.331798  \n",
       "sex                 0.050664      0.042925        0.231437  0.215613  \n",
       "capital-gain        1.000000     -0.031401        0.088609  0.221387  \n",
       "capital-loss       -0.031401      1.000000        0.055271  0.135645  \n",
       "hours-per-week      0.088609      0.055271        1.000000  0.231045  \n",
       "income              0.221387      0.135645        0.231045  1.000000  "
      ]
     },
     "execution_count": 53,
     "metadata": {},
     "output_type": "execute_result"
    }
   ],
   "source": [
    "train_data.corr()"
   ]
  }
 ],
 "metadata": {
  "kernelspec": {
   "display_name": "Python 3 (ipykernel)",
   "language": "python",
   "name": "python3"
  },
  "language_info": {
   "codemirror_mode": {
    "name": "ipython",
    "version": 3
   },
   "file_extension": ".py",
   "mimetype": "text/x-python",
   "name": "python",
   "nbconvert_exporter": "python",
   "pygments_lexer": "ipython3",
   "version": "3.9.13"
  }
 },
 "nbformat": 4,
 "nbformat_minor": 5
}
