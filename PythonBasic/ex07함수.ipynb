{
 "cells": [
  {
   "attachments": {},
   "cell_type": "markdown",
   "metadata": {},
   "source": [
    "### 함수 : 기능\n",
    "- 내장함수 : print(), input()\n",
    "- 외장함수 :import random\n",
    "- 사용자 정의 함수 : 사용자가 정의한 기능"
   ]
  },
  {
   "attachments": {},
   "cell_type": "markdown",
   "metadata": {},
   "source": [
    "- 함수란 : 특별한 목적의 작업을 수행하기 위해 독립적으로 설계된 코드\n",
    "- 함수를 사용하는 이유\n",
    "    - 코드의 중복 예방 / 반복적 프로그래밍을 피할 수 있다\n",
    "    - 모듈화를 통한 전체적인 코드 가독성이 좋아짐\n",
    "    - 프로그램에 문제가 발생하거나 기능의 변경 필요시 손쉽게 유지보수 가능\\\n",
    "- def(define) : 정의를 내리다\\\n",
    "- 함수 기본 구조\\\n",
    "- def 함수명(매개변수):\\\n",
    "(들여쓰기) 실행문장 --> 여러실행 문장을 써도 무방\\\n",
    "(들여쓰기) return 결과"
   ]
  },
  {
   "cell_type": "code",
   "execution_count": 2,
   "metadata": {},
   "outputs": [
    {
     "name": "stdout",
     "output_type": "stream",
     "text": [
      "7\n"
     ]
    }
   ],
   "source": [
    "# 두개의 매개 변수를 받아 더한 값을 반환해 주는 함수 생성\n",
    "def num_sum(num1, num2):\n",
    "    return num1 + num2\n",
    "# 함수 기능 정의\n",
    "\n",
    "# 함수 호출하기\n",
    "print(num_sum(3,4))"
   ]
  },
  {
   "cell_type": "code",
   "execution_count": 6,
   "metadata": {},
   "outputs": [
    {
     "name": "stdout",
     "output_type": "stream",
     "text": [
      "5\n"
     ]
    }
   ],
   "source": [
    "# 두 수를 입력받아 뺴기를 해주는 함수 정의 및 호출해보기!\n",
    "# 함수 정의\n",
    "def num_minus(n1, n2):\n",
    "    return n1-n2\n",
    "\n",
    "# 함수 호출\n",
    "print(num_minus(10, 5))"
   ]
  },
  {
   "cell_type": "code",
   "execution_count": 14,
   "metadata": {},
   "outputs": [],
   "source": [
    "# 두 수와 연산자 입력받아 연산을 수행하는 함수\n",
    "\n",
    "def cal(n1, n2, op):\n",
    "    \"\"\"함수에 대한 설명 : 덧셈과 뺼샘 계산하는 함수 => docstring\"\"\"\n",
    "    if op == \"+\":\n",
    "        return n1+n2\n",
    "    elif op == \"-\":\n",
    "        return n1-n2\n",
    "    else:\n",
    "        return \"잘못입력하셨습니다.\"\n"
   ]
  },
  {
   "cell_type": "code",
   "execution_count": 15,
   "metadata": {},
   "outputs": [
    {
     "name": "stdout",
     "output_type": "stream",
     "text": [
      "입력값 10, 4, +\n",
      "결과 : 14\n"
     ]
    }
   ],
   "source": [
    "num1, num2 = map(int, input(\"숫자입력>>\").split())\n",
    "op = input(\"연산자 입력(+, -) >>\")\n",
    "print(f\"입력값 {num1}, {num2}, {op}\")\n",
    "res = cal(num1, num2, op)\n",
    "print(f\"결과 : {res}\")"
   ]
  },
  {
   "attachments": {},
   "cell_type": "markdown",
   "metadata": {},
   "source": [
    "#### 가변 매개변수(Variable Parameters) 함수\n",
    "- 함수 호출 시 매개변수의 개수가 정해지지 않은 경우 사용자가 직접 개수를 정할 수 있도록 함수를 정의할 때 사용\n",
    "- 전달 된 모든 인수는 tuple 자료구조형대로 저장\n",
    "- def add(*args):  => * 기호 사용\n"
   ]
  },
  {
   "cell_type": "code",
   "execution_count": 34,
   "metadata": {},
   "outputs": [],
   "source": [
    "# def 함수명 (*변수):\n",
    "# (들여쓰기) 실행문장\n",
    "# (들여쓰기) return 반환값\n",
    "\n",
    "# 입력 받은 모든 숫자를 더해주는 가변 매개변수 함수 정의하기\n",
    "# args는 튜플의 형태로 들어옴\n",
    "def add(*args):\n",
    "    \"\"\"들어온 모든 숫자를 더해주는 함수\"\"\"\n",
    "    res = 0\n",
    "    for num in args:\n",
    "        res += num\n",
    "    return res\n",
    "\n",
    "# args는 arguments 약자로서 가변 매개변수로 사용된다 (관례)"
   ]
  },
  {
   "cell_type": "code",
   "execution_count": 33,
   "metadata": {},
   "outputs": [
    {
     "name": "stdout",
     "output_type": "stream",
     "text": [
      "60\n"
     ]
    }
   ],
   "source": [
    "# 함수 호출\n",
    "# 들어가는 인수가 몇개든 다 더해 출력\n",
    "print(add(1, 2, 3, 4, 5, 10, 15, 20))"
   ]
  },
  {
   "attachments": {},
   "cell_type": "markdown",
   "metadata": {},
   "source": [
    "### 함수의 기본 값 설정하기"
   ]
  },
  {
   "cell_type": "code",
   "execution_count": 36,
   "metadata": {},
   "outputs": [],
   "source": [
    "# 지수연산자 ** 활용하여 함수 정의하기\n",
    "\n",
    "def power_num(n1, power = 2):   # 기본 값 설정\n",
    "    \"\"\"지수 연산, n1의 power 제곱, power의 기본은 2\"\"\"\n",
    "    return n1 ** power"
   ]
  },
  {
   "cell_type": "code",
   "execution_count": 42,
   "metadata": {},
   "outputs": [
    {
     "name": "stdout",
     "output_type": "stream",
     "text": [
      "25\n",
      "16\n",
      "81\n"
     ]
    }
   ],
   "source": [
    "# 매개변수에 power의 값을 적지 않은 경우 default값 적용\n",
    "print(power_num(5))\n",
    "\n",
    "# 기본값을 변경하고 싶을 떄\n",
    "print(power_num(2, power = 4))\n",
    "print(power_num(3, 4))"
   ]
  },
  {
   "cell_type": "code",
   "execution_count": null,
   "metadata": {},
   "outputs": [],
   "source": []
  },
  {
   "cell_type": "code",
   "execution_count": null,
   "metadata": {},
   "outputs": [],
   "source": []
  },
  {
   "cell_type": "code",
   "execution_count": null,
   "metadata": {},
   "outputs": [],
   "source": []
  },
  {
   "cell_type": "code",
   "execution_count": null,
   "metadata": {},
   "outputs": [],
   "source": []
  },
  {
   "cell_type": "code",
   "execution_count": null,
   "metadata": {},
   "outputs": [],
   "source": []
  },
  {
   "cell_type": "code",
   "execution_count": null,
   "metadata": {},
   "outputs": [],
   "source": []
  },
  {
   "cell_type": "code",
   "execution_count": null,
   "metadata": {},
   "outputs": [],
   "source": []
  },
  {
   "cell_type": "code",
   "execution_count": null,
   "metadata": {},
   "outputs": [],
   "source": []
  }
 ],
 "metadata": {
  "kernelspec": {
   "display_name": "Python 3",
   "language": "python",
   "name": "python3"
  },
  "language_info": {
   "codemirror_mode": {
    "name": "ipython",
    "version": 3
   },
   "file_extension": ".py",
   "mimetype": "text/x-python",
   "name": "python",
   "nbconvert_exporter": "python",
   "pygments_lexer": "ipython3",
   "version": "3.11.1"
  },
  "orig_nbformat": 4,
  "vscode": {
   "interpreter": {
    "hash": "ab8b2f237dbbd767d07226c95573c9dc55499482f0ba96d3445b197d58df9905"
   }
  }
 },
 "nbformat": 4,
 "nbformat_minor": 2
}
