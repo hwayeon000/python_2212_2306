{
 "cells": [
  {
   "cell_type": "code",
   "execution_count": 1,
   "metadata": {},
   "outputs": [],
   "source": [
    "def add_num(*args):\n",
    "    \"\"\"두 수를 더해주는 함수\"\"\"\n",
    "    res = 0\n",
    "    for i in args:\n",
    "        res += i\n",
    "    return res"
   ]
  },
  {
   "cell_type": "code",
   "execution_count": 2,
   "metadata": {},
   "outputs": [],
   "source": [
    "def min_num(n1, n2):\n",
    "    \"\"\"두 수를 빼주는 함수\"\"\"\n",
    "    return n1-n2"
   ]
  },
  {
   "cell_type": "code",
   "execution_count": null,
   "metadata": {},
   "outputs": [],
   "source": []
  },
  {
   "cell_type": "code",
   "execution_count": null,
   "metadata": {},
   "outputs": [],
   "source": [
    "# 라이브러리 만듦\n",
    "# 라이브러리 : 함수, 변수 등을 가지고 있는 집합"
   ]
  }
 ],
 "metadata": {
  "kernelspec": {
   "display_name": "Python 3",
   "language": "python",
   "name": "python3"
  },
  "language_info": {
   "codemirror_mode": {
    "name": "ipython",
    "version": 3
   },
   "file_extension": ".py",
   "mimetype": "text/x-python",
   "name": "python",
   "nbconvert_exporter": "python",
   "pygments_lexer": "ipython3",
   "version": "3.11.1"
  },
  "orig_nbformat": 4,
  "vscode": {
   "interpreter": {
    "hash": "ab8b2f237dbbd767d07226c95573c9dc55499482f0ba96d3445b197d58df9905"
   }
  }
 },
 "nbformat": 4,
 "nbformat_minor": 2
}
