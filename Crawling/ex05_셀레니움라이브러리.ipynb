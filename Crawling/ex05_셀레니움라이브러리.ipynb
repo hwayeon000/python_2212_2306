{
 "cells": [
  {
   "attachments": {},
   "cell_type": "markdown",
   "metadata": {},
   "source": [
    "### Selenium 라이브러리\n",
    "- 웹페이지를 제어하기 위한 라이브러리\n",
    "- 컴퓨터를 자동 제어하기!!"
   ]
  },
  {
   "cell_type": "code",
   "execution_count": 1,
   "metadata": {},
   "outputs": [
    {
     "name": "stdout",
     "output_type": "stream",
     "text": [
      "Requirement already satisfied: selenium in c:\\users\\smhrd\\anaconda3\\lib\\site-packages (4.8.2)\n",
      "Requirement already satisfied: trio~=0.17 in c:\\users\\smhrd\\anaconda3\\lib\\site-packages (from selenium) (0.22.0)\n",
      "Requirement already satisfied: trio-websocket~=0.9 in c:\\users\\smhrd\\anaconda3\\lib\\site-packages (from selenium) (0.9.2)\n",
      "Requirement already satisfied: certifi>=2021.10.8 in c:\\users\\smhrd\\anaconda3\\lib\\site-packages (from selenium) (2022.9.14)\n",
      "Requirement already satisfied: urllib3[socks]~=1.26 in c:\\users\\smhrd\\anaconda3\\lib\\site-packages (from selenium) (1.26.11)\n",
      "Requirement already satisfied: sniffio in c:\\users\\smhrd\\anaconda3\\lib\\site-packages (from trio~=0.17->selenium) (1.2.0)\n",
      "Requirement already satisfied: cffi>=1.14 in c:\\users\\smhrd\\anaconda3\\lib\\site-packages (from trio~=0.17->selenium) (1.15.1)\n",
      "Requirement already satisfied: exceptiongroup>=1.0.0rc9 in c:\\users\\smhrd\\anaconda3\\lib\\site-packages (from trio~=0.17->selenium) (1.1.0)\n",
      "Requirement already satisfied: outcome in c:\\users\\smhrd\\anaconda3\\lib\\site-packages (from trio~=0.17->selenium) (1.2.0)\n",
      "Requirement already satisfied: async-generator>=1.9 in c:\\users\\smhrd\\anaconda3\\lib\\site-packages (from trio~=0.17->selenium) (1.10)\n",
      "Requirement already satisfied: idna in c:\\users\\smhrd\\anaconda3\\lib\\site-packages (from trio~=0.17->selenium) (3.3)\n",
      "Requirement already satisfied: sortedcontainers in c:\\users\\smhrd\\anaconda3\\lib\\site-packages (from trio~=0.17->selenium) (2.4.0)\n",
      "Requirement already satisfied: attrs>=19.2.0 in c:\\users\\smhrd\\anaconda3\\lib\\site-packages (from trio~=0.17->selenium) (21.4.0)\n",
      "Requirement already satisfied: wsproto>=0.14 in c:\\users\\smhrd\\anaconda3\\lib\\site-packages (from trio-websocket~=0.9->selenium) (1.2.0)\n",
      "Requirement already satisfied: PySocks!=1.5.7,<2.0,>=1.5.6 in c:\\users\\smhrd\\anaconda3\\lib\\site-packages (from urllib3[socks]~=1.26->selenium) (1.7.1)\n",
      "Requirement already satisfied: pycparser in c:\\users\\smhrd\\anaconda3\\lib\\site-packages (from cffi>=1.14->trio~=0.17->selenium) (2.21)\n",
      "Requirement already satisfied: h11<1,>=0.9.0 in c:\\users\\smhrd\\anaconda3\\lib\\site-packages (from wsproto>=0.14->trio-websocket~=0.9->selenium) (0.14.0)\n"
     ]
    }
   ],
   "source": [
    "# 기본 내장 라이브러리 아닐 경우 설치 진행\n",
    "# 처음 한번만 설치해주면 된다\n",
    "# !pip install selenium"
   ]
  },
  {
   "cell_type": "code",
   "execution_count": 3,
   "metadata": {},
   "outputs": [],
   "source": [
    "# 라이브러리 불러오기\n",
    "from selenium import webdriver as wb\n",
    "# webdriver : 웹브라우저 \"통제\" 하기 위한 라이브러리\n",
    "from selenium.webdriver.common.keys import Keys\n",
    "# keys : 웹을 통해 값을 입력하기 위한 라이브러리 -> 컴퓨터용 키보드\n",
    "from selenium.webdriver.common.by import By\n",
    "\n",
    "import requests as req\n",
    "from bs4 import BeautifulSoup as bs"
   ]
  },
  {
   "attachments": {},
   "cell_type": "markdown",
   "metadata": {},
   "source": [
    "- chrome driver -> 컴퓨터용 크롬브라우저\n",
    "- 주의사항 2가지\n",
    "    1. 현재 크롬 버젼과 같은 버전으로 유지!!\n",
    "    2. 현재 내가 작업하고 있는 파일과 같은 위치에 넣어주기!\n"
   ]
  },
  {
   "cell_type": "code",
   "execution_count": 4,
   "metadata": {},
   "outputs": [],
   "source": [
    "# 컴퓨터용 웹브라우저\n",
    "driver = wb.Chrome()\n",
    "# driver == 크롬창 -> 모든 명령을 driver에게 진행\n",
    "\n",
    "# 실행 했을 때 빈 창이 열리는 것 확인\n",
    "#   => 열고자 하는 페이지 주소를 주지 않았기 때문"
   ]
  },
  {
   "cell_type": "code",
   "execution_count": 13,
   "metadata": {},
   "outputs": [],
   "source": [
    "# get함수를 사용하여 가지고 올 페이지 url 주소를 입력해주기!\n",
    "driver.get(\"http://www.naver.com/\")"
   ]
  },
  {
   "cell_type": "code",
   "execution_count": 1,
   "metadata": {},
   "outputs": [],
   "source": [
    "from selenium import webdriver as wb\n",
    "from selenium.webdriver.common.keys import Keys\n",
    "from selenium.webdriver.common.by import By\n",
    "import requests as req\n",
    "from bs4 import BeautifulSoup as bs"
   ]
  },
  {
   "cell_type": "code",
   "execution_count": 2,
   "metadata": {},
   "outputs": [],
   "source": [
    "driver = wb.Chrome()\n",
    "driver.get(\"http://www.naver.com/\")"
   ]
  },
  {
   "cell_type": "code",
   "execution_count": 4,
   "metadata": {},
   "outputs": [],
   "source": [
    "# 1. 검색창을 찾는다. => driver에게 요청\n",
    "search = driver.find_element(By.ID,\"query\")\n",
    "# 구분자 ID 값을 기준으로 우너하는 요소(검색창) 찾아오기"
   ]
  },
  {
   "cell_type": "code",
   "execution_count": 5,
   "metadata": {},
   "outputs": [],
   "source": [
    "# 2. \"검색할 내용\" 입력\n",
    "# search(검색창 공간)에 \"삼겹살\"이란 글자를 입력\n",
    "search.send_keys(\"삼겹살\")"
   ]
  },
  {
   "attachments": {},
   "cell_type": "markdown",
   "metadata": {},
   "source": [
    "- 검색하는 방법 (엔터, 돋보기버튼 클릭_"
   ]
  },
  {
   "cell_type": "code",
   "execution_count": 6,
   "metadata": {},
   "outputs": [],
   "source": [
    "# 3. 엔터키를 누른다\n",
    "# 키보드의 enter 기능 실행 (Keys의 기능)\n",
    "search.send_keys(Keys.ENTER)"
   ]
  },
  {
   "cell_type": "code",
   "execution_count": 8,
   "metadata": {},
   "outputs": [],
   "source": [
    "# 뒤로가기\n",
    "# 뒤로가기 기능은 요소(html)의 기능이 아닌 브라우저의 기능 => 드라이버에게 요청\n",
    "driver.back()\n",
    "\n",
    "# 앞으로\n",
    "# driver.forward()\n"
   ]
  },
  {
   "attachments": {},
   "cell_type": "markdown",
   "metadata": {},
   "source": [
    "- driver(컴퓨터)는 창이 새로고침 될 때마다 초기화가 됨\n",
    "- 다시 검색창의 위치부터 알려줘야 한다!"
   ]
  },
  {
   "cell_type": "code",
   "execution_count": 94,
   "metadata": {},
   "outputs": [
    {
     "ename": "NoSuchWindowException",
     "evalue": "Message: no such window: target window already closed\nfrom unknown error: web view not found\n  (Session info: chrome=110.0.5481.178)\nStacktrace:\nBacktrace:\n\t(No symbol) [0x00EC37D3]\n\t(No symbol) [0x00E58B81]\n\t(No symbol) [0x00D5B36D]\n\t(No symbol) [0x00D3E5DA]\n\t(No symbol) [0x00DAF0CB]\n\t(No symbol) [0x00DC0A56]\n\t(No symbol) [0x00DAB216]\n\t(No symbol) [0x00D80D97]\n\t(No symbol) [0x00D8253D]\n\tGetHandleVerifier [0x0113ABF2+2510930]\n\tGetHandleVerifier [0x01168EC1+2700065]\n\tGetHandleVerifier [0x0116C86C+2714828]\n\tGetHandleVerifier [0x00F73480+645344]\n\t(No symbol) [0x00E60FD2]\n\t(No symbol) [0x00E66C68]\n\t(No symbol) [0x00E66D4B]\n\t(No symbol) [0x00E70D6B]\n\tBaseThreadInitThunk [0x770E00F9+25]\n\tRtlGetAppContainerNamedObjectPath [0x77277BBE+286]\n\tRtlGetAppContainerNamedObjectPath [0x77277B8E+238]\n",
     "output_type": "error",
     "traceback": [
      "\u001b[1;31m---------------------------------------------------------------------------\u001b[0m",
      "\u001b[1;31mNoSuchWindowException\u001b[0m                     Traceback (most recent call last)",
      "\u001b[1;32m~\\AppData\\Local\\Temp\\ipykernel_7284\\3544134462.py\u001b[0m in \u001b[0;36m<module>\u001b[1;34m\u001b[0m\n\u001b[1;32m----> 1\u001b[1;33m \u001b[0msearch\u001b[0m \u001b[1;33m=\u001b[0m \u001b[0mdriver\u001b[0m\u001b[1;33m.\u001b[0m\u001b[0mfind_element\u001b[0m\u001b[1;33m(\u001b[0m\u001b[0mBy\u001b[0m\u001b[1;33m.\u001b[0m\u001b[0mID\u001b[0m\u001b[1;33m,\u001b[0m \u001b[1;34m\"query\"\u001b[0m\u001b[1;33m)\u001b[0m\u001b[1;33m\u001b[0m\u001b[1;33m\u001b[0m\u001b[0m\n\u001b[0m\u001b[0;32m      2\u001b[0m \u001b[0msearch\u001b[0m\u001b[1;33m.\u001b[0m\u001b[0msend_keys\u001b[0m\u001b[1;33m(\u001b[0m\u001b[1;34m\"삼겹살\"\u001b[0m\u001b[1;33m)\u001b[0m\u001b[1;33m\u001b[0m\u001b[1;33m\u001b[0m\u001b[0m\n\u001b[0;32m      3\u001b[0m \u001b[1;33m\u001b[0m\u001b[0m\n\u001b[0;32m      4\u001b[0m \u001b[1;31m# 돋보기 클릭해서 검색\u001b[0m\u001b[1;33m\u001b[0m\u001b[1;33m\u001b[0m\u001b[0m\n\u001b[0;32m      5\u001b[0m \u001b[1;31m# 돋보기 버튼 요소를 찾아와서 클릭!\u001b[0m\u001b[1;33m\u001b[0m\u001b[1;33m\u001b[0m\u001b[0m\n",
      "\u001b[1;32mc:\\Users\\SMHRD\\anaconda3\\lib\\site-packages\\selenium\\webdriver\\remote\\webdriver.py\u001b[0m in \u001b[0;36mfind_element\u001b[1;34m(self, by, value)\u001b[0m\n\u001b[0;32m    828\u001b[0m             \u001b[0mvalue\u001b[0m \u001b[1;33m=\u001b[0m \u001b[1;34mf'[name=\"{value}\"]'\u001b[0m\u001b[1;33m\u001b[0m\u001b[1;33m\u001b[0m\u001b[0m\n\u001b[0;32m    829\u001b[0m \u001b[1;33m\u001b[0m\u001b[0m\n\u001b[1;32m--> 830\u001b[1;33m         \u001b[1;32mreturn\u001b[0m \u001b[0mself\u001b[0m\u001b[1;33m.\u001b[0m\u001b[0mexecute\u001b[0m\u001b[1;33m(\u001b[0m\u001b[0mCommand\u001b[0m\u001b[1;33m.\u001b[0m\u001b[0mFIND_ELEMENT\u001b[0m\u001b[1;33m,\u001b[0m \u001b[1;33m{\u001b[0m\u001b[1;34m\"using\"\u001b[0m\u001b[1;33m:\u001b[0m \u001b[0mby\u001b[0m\u001b[1;33m,\u001b[0m \u001b[1;34m\"value\"\u001b[0m\u001b[1;33m:\u001b[0m \u001b[0mvalue\u001b[0m\u001b[1;33m}\u001b[0m\u001b[1;33m)\u001b[0m\u001b[1;33m[\u001b[0m\u001b[1;34m\"value\"\u001b[0m\u001b[1;33m]\u001b[0m\u001b[1;33m\u001b[0m\u001b[1;33m\u001b[0m\u001b[0m\n\u001b[0m\u001b[0;32m    831\u001b[0m \u001b[1;33m\u001b[0m\u001b[0m\n\u001b[0;32m    832\u001b[0m     \u001b[1;32mdef\u001b[0m \u001b[0mfind_elements\u001b[0m\u001b[1;33m(\u001b[0m\u001b[0mself\u001b[0m\u001b[1;33m,\u001b[0m \u001b[0mby\u001b[0m\u001b[1;33m=\u001b[0m\u001b[0mBy\u001b[0m\u001b[1;33m.\u001b[0m\u001b[0mID\u001b[0m\u001b[1;33m,\u001b[0m \u001b[0mvalue\u001b[0m\u001b[1;33m:\u001b[0m \u001b[0mOptional\u001b[0m\u001b[1;33m[\u001b[0m\u001b[0mstr\u001b[0m\u001b[1;33m]\u001b[0m \u001b[1;33m=\u001b[0m \u001b[1;32mNone\u001b[0m\u001b[1;33m)\u001b[0m \u001b[1;33m->\u001b[0m \u001b[0mList\u001b[0m\u001b[1;33m[\u001b[0m\u001b[0mWebElement\u001b[0m\u001b[1;33m]\u001b[0m\u001b[1;33m:\u001b[0m\u001b[1;33m\u001b[0m\u001b[1;33m\u001b[0m\u001b[0m\n",
      "\u001b[1;32mc:\\Users\\SMHRD\\anaconda3\\lib\\site-packages\\selenium\\webdriver\\remote\\webdriver.py\u001b[0m in \u001b[0;36mexecute\u001b[1;34m(self, driver_command, params)\u001b[0m\n\u001b[0;32m    438\u001b[0m         \u001b[0mresponse\u001b[0m \u001b[1;33m=\u001b[0m \u001b[0mself\u001b[0m\u001b[1;33m.\u001b[0m\u001b[0mcommand_executor\u001b[0m\u001b[1;33m.\u001b[0m\u001b[0mexecute\u001b[0m\u001b[1;33m(\u001b[0m\u001b[0mdriver_command\u001b[0m\u001b[1;33m,\u001b[0m \u001b[0mparams\u001b[0m\u001b[1;33m)\u001b[0m\u001b[1;33m\u001b[0m\u001b[1;33m\u001b[0m\u001b[0m\n\u001b[0;32m    439\u001b[0m         \u001b[1;32mif\u001b[0m \u001b[0mresponse\u001b[0m\u001b[1;33m:\u001b[0m\u001b[1;33m\u001b[0m\u001b[1;33m\u001b[0m\u001b[0m\n\u001b[1;32m--> 440\u001b[1;33m             \u001b[0mself\u001b[0m\u001b[1;33m.\u001b[0m\u001b[0merror_handler\u001b[0m\u001b[1;33m.\u001b[0m\u001b[0mcheck_response\u001b[0m\u001b[1;33m(\u001b[0m\u001b[0mresponse\u001b[0m\u001b[1;33m)\u001b[0m\u001b[1;33m\u001b[0m\u001b[1;33m\u001b[0m\u001b[0m\n\u001b[0m\u001b[0;32m    441\u001b[0m             \u001b[0mresponse\u001b[0m\u001b[1;33m[\u001b[0m\u001b[1;34m\"value\"\u001b[0m\u001b[1;33m]\u001b[0m \u001b[1;33m=\u001b[0m \u001b[0mself\u001b[0m\u001b[1;33m.\u001b[0m\u001b[0m_unwrap_value\u001b[0m\u001b[1;33m(\u001b[0m\u001b[0mresponse\u001b[0m\u001b[1;33m.\u001b[0m\u001b[0mget\u001b[0m\u001b[1;33m(\u001b[0m\u001b[1;34m\"value\"\u001b[0m\u001b[1;33m,\u001b[0m \u001b[1;32mNone\u001b[0m\u001b[1;33m)\u001b[0m\u001b[1;33m)\u001b[0m\u001b[1;33m\u001b[0m\u001b[1;33m\u001b[0m\u001b[0m\n\u001b[0;32m    442\u001b[0m             \u001b[1;32mreturn\u001b[0m \u001b[0mresponse\u001b[0m\u001b[1;33m\u001b[0m\u001b[1;33m\u001b[0m\u001b[0m\n",
      "\u001b[1;32mc:\\Users\\SMHRD\\anaconda3\\lib\\site-packages\\selenium\\webdriver\\remote\\errorhandler.py\u001b[0m in \u001b[0;36mcheck_response\u001b[1;34m(self, response)\u001b[0m\n\u001b[0;32m    243\u001b[0m                 \u001b[0malert_text\u001b[0m \u001b[1;33m=\u001b[0m \u001b[0mvalue\u001b[0m\u001b[1;33m[\u001b[0m\u001b[1;34m\"alert\"\u001b[0m\u001b[1;33m]\u001b[0m\u001b[1;33m.\u001b[0m\u001b[0mget\u001b[0m\u001b[1;33m(\u001b[0m\u001b[1;34m\"text\"\u001b[0m\u001b[1;33m)\u001b[0m\u001b[1;33m\u001b[0m\u001b[1;33m\u001b[0m\u001b[0m\n\u001b[0;32m    244\u001b[0m             \u001b[1;32mraise\u001b[0m \u001b[0mexception_class\u001b[0m\u001b[1;33m(\u001b[0m\u001b[0mmessage\u001b[0m\u001b[1;33m,\u001b[0m \u001b[0mscreen\u001b[0m\u001b[1;33m,\u001b[0m \u001b[0mstacktrace\u001b[0m\u001b[1;33m,\u001b[0m \u001b[0malert_text\u001b[0m\u001b[1;33m)\u001b[0m  \u001b[1;31m# type: ignore[call-arg]  # mypy is not smart enough here\u001b[0m\u001b[1;33m\u001b[0m\u001b[1;33m\u001b[0m\u001b[0m\n\u001b[1;32m--> 245\u001b[1;33m         \u001b[1;32mraise\u001b[0m \u001b[0mexception_class\u001b[0m\u001b[1;33m(\u001b[0m\u001b[0mmessage\u001b[0m\u001b[1;33m,\u001b[0m \u001b[0mscreen\u001b[0m\u001b[1;33m,\u001b[0m \u001b[0mstacktrace\u001b[0m\u001b[1;33m)\u001b[0m\u001b[1;33m\u001b[0m\u001b[1;33m\u001b[0m\u001b[0m\n\u001b[0m",
      "\u001b[1;31mNoSuchWindowException\u001b[0m: Message: no such window: target window already closed\nfrom unknown error: web view not found\n  (Session info: chrome=110.0.5481.178)\nStacktrace:\nBacktrace:\n\t(No symbol) [0x00EC37D3]\n\t(No symbol) [0x00E58B81]\n\t(No symbol) [0x00D5B36D]\n\t(No symbol) [0x00D3E5DA]\n\t(No symbol) [0x00DAF0CB]\n\t(No symbol) [0x00DC0A56]\n\t(No symbol) [0x00DAB216]\n\t(No symbol) [0x00D80D97]\n\t(No symbol) [0x00D8253D]\n\tGetHandleVerifier [0x0113ABF2+2510930]\n\tGetHandleVerifier [0x01168EC1+2700065]\n\tGetHandleVerifier [0x0116C86C+2714828]\n\tGetHandleVerifier [0x00F73480+645344]\n\t(No symbol) [0x00E60FD2]\n\t(No symbol) [0x00E66C68]\n\t(No symbol) [0x00E66D4B]\n\t(No symbol) [0x00E70D6B]\n\tBaseThreadInitThunk [0x770E00F9+25]\n\tRtlGetAppContainerNamedObjectPath [0x77277BBE+286]\n\tRtlGetAppContainerNamedObjectPath [0x77277B8E+238]\n"
     ]
    }
   ],
   "source": [
    "search = driver.find_element(By.ID, \"query\")\n",
    "search.send_keys(\"삼겹살\")\n",
    "\n",
    "# 돋보기 클릭해서 검색\n",
    "# 돋보기 버튼 요소를 찾아와서 클릭!\n",
    "driver.find_element(By.ID, \"search_btn\").click()"
   ]
  },
  {
   "cell_type": "code",
   "execution_count": 13,
   "metadata": {},
   "outputs": [],
   "source": [
    "# 크롬창을 종료하는 방법\n",
    "# 모든탭 닫기\n",
    "driver.quit()\n",
    "\n",
    "# 현재 탭만 닫음\n",
    "# driver.close()"
   ]
  },
  {
   "attachments": {},
   "cell_type": "markdown",
   "metadata": {},
   "source": [
    "### 한솥도시락 메뉴명, 가격 크롤링"
   ]
  },
  {
   "cell_type": "code",
   "execution_count": 138,
   "metadata": {},
   "outputs": [],
   "source": [
    "driver = wb.Chrome()\n",
    "driver.get(\"https://www.hsd.co.kr/menu/menu_list\")"
   ]
  },
  {
   "attachments": {},
   "cell_type": "markdown",
   "metadata": {},
   "source": [
    "### bs객체화 진행하여 컨텐츠 수집\n",
    "- 메뉴명\n",
    "- 가격"
   ]
  },
  {
   "cell_type": "code",
   "execution_count": null,
   "metadata": {},
   "outputs": [],
   "source": [
    "# 전체 데이터 수집을 위해서는 모든 더보기 버튼 클릭\n",
    "# 반복문을 활용\n",
    "for i in range(20):\n",
    "    driver.find_element(By.CLASS_NAME, \"c_05\").click()\n",
    "# 오류 발생\n",
    "# 20번 클릭 요청 -> 20개 미만의 더보기 버튼\n",
    "# 더이상 누를 수 없어 오류 발생"
   ]
  },
  {
   "attachments": {},
   "cell_type": "markdown",
   "metadata": {},
   "source": [
    "### 예외처리\n",
    "-  try\n",
    "- except\n",
    "- try 문에서 코드를 실행하다가 에러가 나면 except문 진행"
   ]
  },
  {
   "cell_type": "code",
   "execution_count": 139,
   "metadata": {},
   "outputs": [
    {
     "name": "stdout",
     "output_type": "stream",
     "text": [
      "클릭 완료\n"
     ]
    }
   ],
   "source": [
    "try:\n",
    "    # 오류 나기 전까지 실행하고 싶은 코드\n",
    "    for i in range(20):\n",
    "        driver.find_element(By.CLASS_NAME, \"c_05\").click()\n",
    "except:\n",
    "    # 오류가 날 경우 실행 할 코드\n",
    "    print(\"클릭 완료\")"
   ]
  },
  {
   "cell_type": "code",
   "execution_count": 111,
   "metadata": {},
   "outputs": [],
   "source": [
    "# 수집한 데이터의 개수 확인-> 모두 다름\n",
    "# 더보기 버튼을 클릭하여 모든 데이터를 수집해보자\n",
    "\n",
    "# 더보기 클릭 🟧🟨 혜수씌 작업!! 믓져!!🟩🟪\n",
    "while True:\n",
    "    try:\n",
    "        driver.find_element(By.CLASS_NAME, \"c_05\").click()\n",
    "    except:\n",
    "        break"
   ]
  },
  {
   "cell_type": "code",
   "execution_count": 140,
   "metadata": {},
   "outputs": [],
   "source": [
    "# bs객체화\n",
    "#^^ bs(페이지정보,\"lxml\")\n",
    "soup = bs(driver.page_source, \"lxml\")"
   ]
  },
  {
   "cell_type": "code",
   "execution_count": 141,
   "metadata": {},
   "outputs": [
    {
     "name": "stdout",
     "output_type": "stream",
     "text": [
      "88\n",
      "88\n"
     ]
    }
   ],
   "source": [
    "# 메뉴명, 금액 가져오기\n",
    "title = soup.select(\"div.item-text>h4\")\n",
    "price = soup.select(\"div.item-price>strong\")\n",
    "\n",
    "print(len(title))\n",
    "print(len(price))"
   ]
  },
  {
   "cell_type": "code",
   "execution_count": 104,
   "metadata": {},
   "outputs": [
    {
     "name": "stdout",
     "output_type": "stream",
     "text": [
      "메뉴: 치즈버터 해시 포테이토 스틱\t\t가격: 2,200\n",
      "메뉴: 허니버터 해시 포테이토 스틱\t\t가격: 2,200\n",
      "메뉴: 새후마요\t\t가격: 4,500\n",
      "메뉴: 숯불직화구이 두부강된장\t\t가격: 8,200\n",
      "메뉴: 해시 포테이토 스틱\t\t가격: 2,000\n",
      "메뉴: 통현미 닭강정(소)\t\t가격: 3,500\n",
      "메뉴: 통현미 닭강정(중)\t\t가격: 8,500\n",
      "메뉴: 해바라기\t\t가격: 10,000\n",
      "메뉴: 매화\t\t가격: 10,500\n",
      "메뉴: 진달래\t\t가격: 7,800\n",
      "메뉴: 개나리\t\t가격: 8,500\n",
      "메뉴: 돈까스도련님고기고기\t\t가격: 6,300\n",
      "메뉴: 탕수육도련님고기고기\t\t가격: 6,000\n",
      "메뉴: 새치 고기고기\t\t가격: 7,000\n",
      "메뉴: 돈치 고기고기\t\t가격: 6,000\n",
      "메뉴: 숯불직화구이\t\t가격: 6,600\n",
      "메뉴: 소불고기\t\t가격: 5,500\n",
      "메뉴: 메가치킨제육\t\t가격: 7,500\n",
      "메뉴: 칠리 찹쌀탕수육도련님\t\t가격: 4,400\n",
      "메뉴: 동백\t\t가격: 6,000\n",
      "메뉴: 치킨제육\t\t가격: 4,900\n",
      "메뉴: 돈까스도련님\t\t가격: 4,800\n",
      "메뉴: 제육볶음\t\t가격: 4,500\n",
      "메뉴: 돈치스팸 도시락\t\t가격: 5,000\n",
      "메뉴: 제육 김치찌개 정식\t\t가격: 8,600\n",
      "메뉴: 제육 김치 부대찌개 정식\t\t가격: 8,900\n",
      "메뉴: 돈치스팸 김치 부대찌개 정식\t\t가격: 8,700\n",
      "메뉴: 빅치킨마요 김치 부대찌개 정식\t\t가격: 7,800\n",
      "메뉴: 치킨마요 김치 부대찌개 정식\t\t가격: 7,200\n",
      "메뉴: 빅치킨마요 김치찌개 정식\t\t가격: 7,500\n",
      "메뉴: 치킨마요 김치찌개 정식\t\t가격: 6,900\n",
      "메뉴: 메가스팸마요\t\t가격: 5,800\n",
      "메뉴: 스팸마요\t\t가격: 3,900\n",
      "메뉴: 메가치킨마요\t\t가격: 6,000\n",
      "메뉴: 왕치킨마요\t\t가격: 5,000\n",
      "메뉴: 빅치킨마요\t\t가격: 4,300\n",
      "메뉴: 치킨마요\t\t가격: 3,700\n",
      "메뉴: 참치마요\t\t가격: 3,500\n",
      "메뉴: 돈치마요\t\t가격: 4,000\n",
      "메뉴: 돈까스 카레\t\t가격: 4,700\n",
      "메뉴: 스팸 김치볶음밥\t\t가격: 4,700\n",
      "메뉴: 김치볶음밥\t\t가격: 3,900\n",
      "메뉴: 스팸철판볶음밥\t\t가격: 4,700\n",
      "메뉴: 소불고기 철판볶음밥\t\t가격: 4,900\n",
      "메뉴: 나시고랭\t\t가격: 6,200\n",
      "메뉴: 묵은지 김치찌개\t\t가격: 4,900\n",
      "메뉴: 김치 부대찌개\t\t가격: 5,900\n",
      "메뉴: 숯불직화구이 덮밥\t\t가격: 6,000\n",
      "메뉴: 마파두부 덮밥\t\t가격: 5,000\n",
      "메뉴: 왕카레돈까스덮밥\t\t가격: 6,000\n",
      "메뉴: 새우돈까스 덮밥\t\t가격: 4,200\n",
      "메뉴: 돈까스 덮밥\t\t가격: 4,100\n",
      "메뉴: 소불고기 감초고추장 비빔밥\t\t가격: 5,400\n",
      "메뉴: 시골제육 두부강된장 비빔밥\t\t가격: 5,200\n",
      "메뉴: 참치야채 감초고추장\t\t가격: 3,500\n",
      "메뉴: 튼튼도시락\t\t가격: 5,000\n",
      "메뉴: 토네이도 소세지 파스타\t\t가격: 5,800\n",
      "메뉴: 트리플 치즈 파스타\t\t가격: 5,900\n",
      "메뉴: 토마토 미트 파스타\t\t가격: 4,800\n",
      "메뉴: 반찬 묵은지김치찌개\t\t가격: 4,400\n",
      "메뉴: 반찬 카레\t\t가격: 2,900\n",
      "메뉴: 반찬 순살 고등어 간장구이\t\t가격: 3,900\n",
      "메뉴: 반찬 김치 부대찌개\t\t가격: 4,700\n",
      "메뉴: 반찬 치킨\t\t가격: 3,800\n",
      "메뉴: 반찬 고기고기\t\t가격: 3,600\n",
      "메뉴: 반찬 돈까스 도련님\t\t가격: 4,100\n",
      "메뉴: 반찬 제육볶음\t\t가격: 3,500\n",
      "메뉴: 반찬 토네이도 소세지\t\t가격: 2,800\n",
      "메뉴: 반찬 반달돈까스\t\t가격: 2,900\n",
      "메뉴: 뉴 감자고로케\t\t가격: 2,700\n",
      "메뉴: 미니 찹쌀핫도그\t\t가격: 2,500\n",
      "메뉴: 미니 찹쌀탕수육\t\t가격: 2,200\n",
      "메뉴: 케이준후라이\t\t가격: 1,900\n",
      "메뉴: 후라이드 순살(중)\t\t가격: 7,500\n",
      "메뉴: 후라이드 순살(소)_양념치킨소스\t\t가격: 4,000\n",
      "메뉴: 후라이드 순살(소)_케이준소스\t\t가격: 4,000\n",
      "메뉴: 오리지널 닭강정(중)\t\t가격: 8,500\n",
      "메뉴: 오리지널 닭강정(소)\t\t가격: 3,500\n",
      "메뉴: 오징어젓갈\t\t가격: 600\n",
      "메뉴: 한솥 두부강된장소스\t\t가격: 1,800\n",
      "메뉴: 한솥 감초볶음고추장소스\t\t가격: 500\n",
      "메뉴: 볶음김치\t\t가격: 500\n",
      "메뉴: 김치\t\t가격: 400\n",
      "메뉴: 무말랭이 무침\t\t가격: 500\n",
      "메뉴: 한솥밥\t\t가격: 1,000\n",
      "메뉴: 현미밥\t\t가격: 1,700\n",
      "메뉴: 리얼 티라미수 찰떡\t\t가격: 1,700\n",
      "메뉴: 리얼꿀 미니호떡\t\t가격: 2,200\n"
     ]
    }
   ],
   "source": [
    "title_list = []\n",
    "price_list = []\n",
    "for i in range(len(title)):\n",
    "    print(f\"메뉴: {title[i].text}\\t\\t가격: {price[i].text}\")\n",
    "    title_list.append(title[i].text)\n",
    "    price_list.append(price[i].text)"
   ]
  },
  {
   "cell_type": "code",
   "execution_count": 105,
   "metadata": {},
   "outputs": [
    {
     "data": {
      "text/html": [
       "<div>\n",
       "<style scoped>\n",
       "    .dataframe tbody tr th:only-of-type {\n",
       "        vertical-align: middle;\n",
       "    }\n",
       "\n",
       "    .dataframe tbody tr th {\n",
       "        vertical-align: top;\n",
       "    }\n",
       "\n",
       "    .dataframe thead th {\n",
       "        text-align: right;\n",
       "    }\n",
       "</style>\n",
       "<table border=\"1\" class=\"dataframe\">\n",
       "  <thead>\n",
       "    <tr style=\"text-align: right;\">\n",
       "      <th></th>\n",
       "      <th>메뉴</th>\n",
       "      <th>가격</th>\n",
       "    </tr>\n",
       "  </thead>\n",
       "  <tbody>\n",
       "    <tr>\n",
       "      <th>0</th>\n",
       "      <td>치즈버터 해시 포테이토 스틱</td>\n",
       "      <td>2,200</td>\n",
       "    </tr>\n",
       "    <tr>\n",
       "      <th>1</th>\n",
       "      <td>허니버터 해시 포테이토 스틱</td>\n",
       "      <td>2,200</td>\n",
       "    </tr>\n",
       "    <tr>\n",
       "      <th>2</th>\n",
       "      <td>새후마요</td>\n",
       "      <td>4,500</td>\n",
       "    </tr>\n",
       "    <tr>\n",
       "      <th>3</th>\n",
       "      <td>숯불직화구이 두부강된장</td>\n",
       "      <td>8,200</td>\n",
       "    </tr>\n",
       "    <tr>\n",
       "      <th>4</th>\n",
       "      <td>해시 포테이토 스틱</td>\n",
       "      <td>2,000</td>\n",
       "    </tr>\n",
       "    <tr>\n",
       "      <th>...</th>\n",
       "      <td>...</td>\n",
       "      <td>...</td>\n",
       "    </tr>\n",
       "    <tr>\n",
       "      <th>83</th>\n",
       "      <td>무말랭이 무침</td>\n",
       "      <td>500</td>\n",
       "    </tr>\n",
       "    <tr>\n",
       "      <th>84</th>\n",
       "      <td>한솥밥</td>\n",
       "      <td>1,000</td>\n",
       "    </tr>\n",
       "    <tr>\n",
       "      <th>85</th>\n",
       "      <td>현미밥</td>\n",
       "      <td>1,700</td>\n",
       "    </tr>\n",
       "    <tr>\n",
       "      <th>86</th>\n",
       "      <td>리얼 티라미수 찰떡</td>\n",
       "      <td>1,700</td>\n",
       "    </tr>\n",
       "    <tr>\n",
       "      <th>87</th>\n",
       "      <td>리얼꿀 미니호떡</td>\n",
       "      <td>2,200</td>\n",
       "    </tr>\n",
       "  </tbody>\n",
       "</table>\n",
       "<p>88 rows × 2 columns</p>\n",
       "</div>"
      ],
      "text/plain": [
       "                 메뉴     가격\n",
       "0   치즈버터 해시 포테이토 스틱  2,200\n",
       "1   허니버터 해시 포테이토 스틱  2,200\n",
       "2              새후마요  4,500\n",
       "3      숯불직화구이 두부강된장  8,200\n",
       "4        해시 포테이토 스틱  2,000\n",
       "..              ...    ...\n",
       "83          무말랭이 무침    500\n",
       "84              한솥밥  1,000\n",
       "85              현미밥  1,700\n",
       "86       리얼 티라미수 찰떡  1,700\n",
       "87         리얼꿀 미니호떡  2,200\n",
       "\n",
       "[88 rows x 2 columns]"
      ]
     },
     "execution_count": 105,
     "metadata": {},
     "output_type": "execute_result"
    }
   ],
   "source": [
    "import pandas as pd\n",
    "\n",
    "data = {\"메뉴\":title_list, \"가격\":price_list}\n",
    "df = pd.DataFrame(data)\n",
    "df"
   ]
  },
  {
   "cell_type": "code",
   "execution_count": 142,
   "metadata": {},
   "outputs": [
    {
     "name": "stdout",
     "output_type": "stream",
     "text": [
      "88\n",
      "88\n"
     ]
    }
   ],
   "source": [
    "titled = driver.find_elements(By.CLASS_NAME, \"h.fz_03\")\n",
    "priced = driver.find_elements(By.CLASS_NAME, \"item-price\")\n",
    "\n",
    "print(len(titled))\n",
    "print(len(priced))"
   ]
  },
  {
   "cell_type": "code",
   "execution_count": 122,
   "metadata": {},
   "outputs": [
    {
     "data": {
      "text/plain": [
       "<selenium.webdriver.remote.webelement.WebElement (session=\"fffb1c19ee79b830d17ac5fc70f2433e\", element=\"a61f5657-58d7-4721-be33-92e06387ebaa\")>"
      ]
     },
     "execution_count": 122,
     "metadata": {},
     "output_type": "execute_result"
    }
   ],
   "source": [
    "#menuList_393 > div > div.item-text > h4\n",
    "# 요소, 컨텐츠가 출력이 되지 않고 셀레니움 명령어가 출력\n",
    "# 정확한 컨텐츠를 가져왓는지 확인이 어려움\n",
    "# 컨텐츠 수집할 때는 bs객체화 하여 수집을 추천\n",
    "\n",
    "driver.find_element(By.CSS_SELECTOR,\"h4.h.fz_03\")"
   ]
  },
  {
   "attachments": {},
   "cell_type": "markdown",
   "metadata": {},
   "source": [
    "- 접근 하고자 하는 요소의 위치를 쉽게 가져오는 방법\n",
    "- 요소 위에서 우클릭 -> copy -> copy selector\n",
    "- #menuList_393 > div > div.item-text > h4\n",
    "- 현재 선택한 요소의 위치값 이기 떄문에 분석을 통해서 적절하게 사용 바람\n",
    "- 페이지에서 유일한 값을 가져 올 때 유용하다!"
   ]
  },
  {
   "cell_type": "code",
   "execution_count": 107,
   "metadata": {},
   "outputs": [
    {
     "name": "stdout",
     "output_type": "stream",
     "text": [
      "메뉴: 치즈버터 해시 포테이토 스틱\t\t가격: 2,200원\n",
      "메뉴: 허니버터 해시 포테이토 스틱\t\t가격: 2,200원\n",
      "메뉴: 새후마요\t\t가격: 4,500원\n",
      "메뉴: 숯불직화구이 두부강된장\t\t가격: 8,200원\n",
      "메뉴: 해시 포테이토 스틱\t\t가격: 2,000원\n",
      "메뉴: 통현미 닭강정(소)\t\t가격: 3,500원\n",
      "메뉴: 통현미 닭강정(중)\t\t가격: 8,500원\n",
      "메뉴: 해바라기\t\t가격: 10,000원\n",
      "메뉴: 매화\t\t가격: 10,500원\n",
      "메뉴: 진달래\t\t가격: 7,800원\n",
      "메뉴: 개나리\t\t가격: 8,500원\n",
      "메뉴: 돈까스도련님고기고기\t\t가격: 6,300원\n",
      "메뉴: 탕수육도련님고기고기\t\t가격: 6,000원\n",
      "메뉴: 새치 고기고기\t\t가격: 7,000원\n",
      "메뉴: 돈치 고기고기\t\t가격: 6,000원\n",
      "메뉴: 숯불직화구이\t\t가격: 6,600원\n",
      "메뉴: 소불고기\t\t가격: 5,500원\n",
      "메뉴: 메가치킨제육\t\t가격: 7,500원\n",
      "메뉴: 칠리 찹쌀탕수육도련님\t\t가격: 4,400원\n",
      "메뉴: 동백\t\t가격: 6,000원\n",
      "메뉴: 치킨제육\t\t가격: 4,900원\n",
      "메뉴: 돈까스도련님\t\t가격: 4,800원\n",
      "메뉴: 제육볶음\t\t가격: 4,500원\n",
      "메뉴: 돈치스팸 도시락\t\t가격: 5,000원\n",
      "메뉴: 제육 김치찌개 정식\t\t가격: 8,600원\n",
      "메뉴: 제육 김치 부대찌개 정식\t\t가격: 8,900원\n",
      "메뉴: 돈치스팸 김치 부대찌개 정식\t\t가격: 8,700원\n",
      "메뉴: 빅치킨마요 김치 부대찌개 정식\t\t가격: 7,800원\n",
      "메뉴: 치킨마요 김치 부대찌개 정식\t\t가격: 7,200원\n",
      "메뉴: 빅치킨마요 김치찌개 정식\t\t가격: 7,500원\n",
      "메뉴: 치킨마요 김치찌개 정식\t\t가격: 6,900원\n",
      "메뉴: 메가스팸마요\t\t가격: 5,800원\n",
      "메뉴: 스팸마요\t\t가격: 3,900원\n",
      "메뉴: 메가치킨마요\t\t가격: 6,000원\n",
      "메뉴: 왕치킨마요\t\t가격: 5,000원\n",
      "메뉴: 빅치킨마요\t\t가격: 4,300원\n",
      "메뉴: 치킨마요\t\t가격: 3,700원\n",
      "메뉴: 참치마요\t\t가격: 3,500원\n",
      "메뉴: 돈치마요\t\t가격: 4,000원\n",
      "메뉴: 돈까스 카레\t\t가격: 4,700원\n",
      "메뉴: 스팸 김치볶음밥\t\t가격: 4,700원\n",
      "메뉴: 김치볶음밥\t\t가격: 3,900원\n",
      "메뉴: 스팸철판볶음밥\t\t가격: 4,700원\n",
      "메뉴: 소불고기 철판볶음밥\t\t가격: 4,900원\n",
      "메뉴: 나시고랭\t\t가격: 6,200원\n",
      "메뉴: 묵은지 김치찌개\t\t가격: 4,900원\n",
      "메뉴: 김치 부대찌개\t\t가격: 5,900원\n",
      "메뉴: 숯불직화구이 덮밥\t\t가격: 6,000원\n",
      "메뉴: 마파두부 덮밥\t\t가격: 5,000원\n",
      "메뉴: 왕카레돈까스덮밥\t\t가격: 6,000원\n",
      "메뉴: 새우돈까스 덮밥\t\t가격: 4,200원\n",
      "메뉴: 돈까스 덮밥\t\t가격: 4,100원\n",
      "메뉴: 소불고기 감초고추장 비빔밥\t\t가격: 5,400원\n",
      "메뉴: 시골제육 두부강된장 비빔밥\t\t가격: 5,200원\n",
      "메뉴: 참치야채 감초고추장\t\t가격: 3,500원\n",
      "메뉴: 튼튼도시락\t\t가격: 5,000원\n",
      "메뉴: 토네이도 소세지 파스타\t\t가격: 5,800원\n",
      "메뉴: 트리플 치즈 파스타\t\t가격: 5,900원\n",
      "메뉴: 토마토 미트 파스타\t\t가격: 4,800원\n",
      "메뉴: 반찬 묵은지김치찌개\t\t가격: 4,400원\n",
      "메뉴: 반찬 카레\t\t가격: 2,900원\n",
      "메뉴: 반찬 순살 고등어 간장구이\t\t가격: 3,900원\n",
      "메뉴: 반찬 김치 부대찌개\t\t가격: 4,700원\n",
      "메뉴: 반찬 치킨\t\t가격: 3,800원\n",
      "메뉴: 반찬 고기고기\t\t가격: 3,600원\n",
      "메뉴: 반찬 돈까스 도련님\t\t가격: 4,100원\n",
      "메뉴: 반찬 제육볶음\t\t가격: 3,500원\n",
      "메뉴: 반찬 토네이도 소세지\t\t가격: 2,800원\n",
      "메뉴: 반찬 반달돈까스\t\t가격: 2,900원\n",
      "메뉴: 뉴 감자고로케\t\t가격: 2,700원\n",
      "메뉴: 미니 찹쌀핫도그\t\t가격: 2,500원\n",
      "메뉴: 미니 찹쌀탕수육\t\t가격: 2,200원\n",
      "메뉴: 케이준후라이\t\t가격: 1,900원\n",
      "메뉴: 후라이드 순살(중)\t\t가격: 7,500원\n",
      "메뉴: 후라이드 순살(소)_양념치킨소스\t\t가격: 4,000원\n",
      "메뉴: 후라이드 순살(소)_케이준소스\t\t가격: 4,000원\n",
      "메뉴: 오리지널 닭강정(중)\t\t가격: 8,500원\n",
      "메뉴: 오리지널 닭강정(소)\t\t가격: 3,500원\n",
      "메뉴: 오징어젓갈\t\t가격: 600원\n",
      "메뉴: 한솥 두부강된장소스\t\t가격: 1,800원\n",
      "메뉴: 한솥 감초볶음고추장소스\t\t가격: 500원\n",
      "메뉴: 볶음김치\t\t가격: 500원\n",
      "메뉴: 김치\t\t가격: 400원\n",
      "메뉴: 무말랭이 무침\t\t가격: 500원\n",
      "메뉴: 한솥밥\t\t가격: 1,000원\n",
      "메뉴: 현미밥\t\t가격: 1,700원\n",
      "메뉴: 리얼 티라미수 찰떡\t\t가격: 1,700원\n",
      "메뉴: 리얼꿀 미니호떡\t\t가격: 2,200원\n"
     ]
    }
   ],
   "source": [
    "for i in range(len(titled)):\n",
    "    print(f\"메뉴: {titled[i].text}\\t\\t가격: {priced[i].text}\")"
   ]
  },
  {
   "cell_type": "code",
   "execution_count": 143,
   "metadata": {},
   "outputs": [],
   "source": [
    "driver.quit()"
   ]
  },
  {
   "attachments": {},
   "cell_type": "markdown",
   "metadata": {},
   "source": [
    "### 코딩 중간에 쉬는시간 부여\n",
    "- time 라이브러리\n",
    "- 사람이 처리 하는 속도만큼 크롤링 진행해야 서버에게 부하가 가지 않음\n",
    "- 페이지 로딩시간 주는 용도로도 사용"
   ]
  },
  {
   "cell_type": "code",
   "execution_count": 123,
   "metadata": {},
   "outputs": [],
   "source": [
    "import time"
   ]
  },
  {
   "attachments": {},
   "cell_type": "markdown",
   "metadata": {},
   "source": [
    "### 전체 실행코드 합치기"
   ]
  },
  {
   "cell_type": "code",
   "execution_count": 144,
   "metadata": {},
   "outputs": [
    {
     "name": "stdout",
     "output_type": "stream",
     "text": [
      "88\n",
      "88\n",
      "                 메뉴     가격\n",
      "0   치즈버터 해시 포테이토 스틱  2,200\n",
      "1   허니버터 해시 포테이토 스틱  2,200\n",
      "2              새후마요  4,500\n",
      "3      숯불직화구이 두부강된장  8,200\n",
      "4        해시 포테이토 스틱  2,000\n",
      "..              ...    ...\n",
      "83          무말랭이 무침    500\n",
      "84              한솥밥  1,000\n",
      "85              현미밥  1,700\n",
      "86       리얼 티라미수 찰떡  1,700\n",
      "87         리얼꿀 미니호떡  2,200\n",
      "\n",
      "[88 rows x 2 columns]\n"
     ]
    }
   ],
   "source": [
    "# 페이지 오픈\n",
    "driver = wb.Chrome()\n",
    "driver.get(\"https://www.hsd.co.kr/menu/menu_list\")\n",
    "# 속도조절 (초)\n",
    "time.sleep(1)\n",
    "while True:\n",
    "    try:\n",
    "        driver.find_element(By.CLASS_NAME, \"c_05\").click()\n",
    "        time.sleep(1)\n",
    "    except:\n",
    "        break\n",
    "\n",
    "# 페이지가 새로고침이나 재로딩이 된 이후에 반드시 새로운 페이지에 대한 정보 다시 담아야함!! 🟪🟨위치 주의🟨🟪\n",
    "soup = bs(driver.page_source, \"lxml\")\n",
    "\n",
    "menu = soup.select(\"div.item-text>h4\")\n",
    "price = soup.select(\"div.item-price>strong\")\n",
    "print(len(menu))\n",
    "print(len(price))\n",
    "\n",
    "menu_list = []\n",
    "price_list = []\n",
    "for i in range(len(menu)):\n",
    "    menu_list.append(menu[i].text)\n",
    "    price_list.append(price[i].text)\n",
    "\n",
    "data = {\"메뉴\":menu_list, \"가격\":price_list}\n",
    "df = pd.DataFrame(data)\n",
    "print(df)\n",
    "\n",
    "# csv 파일로 내보내기\n",
    "# 한글 데이터 ->csv내보낼 때는 인코딩 필수!!\n",
    "df.to_csv(\"한솥메뉴.csv\", encoding=\"EUC-KR\")\n",
    "\n",
    "driver.quit()"
   ]
  },
  {
   "cell_type": "code",
   "execution_count": 128,
   "metadata": {},
   "outputs": [],
   "source": [
    "df.to_csv(\"한솥메뉴.csv\", encoding=\"EUC-KR\")\n",
    "# 인코딩\n",
    "# 1. EUC-KR\n",
    "# 2. UTF-8\n",
    "\n",
    "# 만약 그래도 안된다\n",
    "# 3. UTF-8-SIG"
   ]
  },
  {
   "cell_type": "code",
   "execution_count": null,
   "metadata": {},
   "outputs": [],
   "source": []
  },
  {
   "cell_type": "code",
   "execution_count": null,
   "metadata": {},
   "outputs": [],
   "source": []
  },
  {
   "cell_type": "code",
   "execution_count": null,
   "metadata": {},
   "outputs": [],
   "source": []
  },
  {
   "cell_type": "code",
   "execution_count": null,
   "metadata": {},
   "outputs": [],
   "source": []
  },
  {
   "cell_type": "code",
   "execution_count": null,
   "metadata": {},
   "outputs": [],
   "source": []
  },
  {
   "cell_type": "code",
   "execution_count": null,
   "metadata": {},
   "outputs": [],
   "source": []
  }
 ],
 "metadata": {
  "kernelspec": {
   "display_name": "base",
   "language": "python",
   "name": "python3"
  },
  "language_info": {
   "codemirror_mode": {
    "name": "ipython",
    "version": 3
   },
   "file_extension": ".py",
   "mimetype": "text/x-python",
   "name": "python",
   "nbconvert_exporter": "python",
   "pygments_lexer": "ipython3",
   "version": "3.9.13"
  },
  "orig_nbformat": 4,
  "vscode": {
   "interpreter": {
    "hash": "b29c9535bfd25afa5c0ebea945f05384aab6e6733113370efdd687ec340f7537"
   }
  }
 },
 "nbformat": 4,
 "nbformat_minor": 2
}
