{
 "cells": [
  {
   "cell_type": "code",
   "execution_count": 1,
   "metadata": {},
   "outputs": [],
   "source": [
    "import requests as req\n",
    "from bs4 import BeautifulSoup as bs"
   ]
  },
  {
   "cell_type": "code",
   "execution_count": 2,
   "metadata": {},
   "outputs": [
    {
     "data": {
      "text/plain": [
       "<Response [200]>"
      ]
     },
     "execution_count": 2,
     "metadata": {},
     "output_type": "execute_result"
    }
   ],
   "source": [
    "url = \"https://movie.naver.com/movie/bi/mi/basic.naver?code=81888\"\n",
    "res = req.get(url)\n",
    "res"
   ]
  },
  {
   "cell_type": "code",
   "execution_count": 18,
   "metadata": {},
   "outputs": [
    {
     "data": {
      "text/plain": [
       "'평점 잘 안주는데 만점 줄려고 왔다'"
      ]
     },
     "execution_count": 18,
     "metadata": {},
     "output_type": "execute_result"
    }
   ],
   "source": [
    "res.text\n",
    "# bs 객체화\n",
    "soup = bs(res.text,\"lxml\")\n",
    "data = soup.select(\"div.score_reple>p\")\n",
    "# .strip() : 여러 문자열 데이터 출력 특수 효과들을 지워주는 역할\n",
    "data[0].text.strip()"
   ]
  },
  {
   "cell_type": "code",
   "execution_count": 19,
   "metadata": {},
   "outputs": [
    {
     "name": "stdout",
     "output_type": "stream",
     "text": [
      "평점 잘 안주는데 만점 줄려고 왔다\n",
      "영화관이 필요한 이유\n",
      "중국 애들은 불쌍타 나라 잘못 만나서 이런 영화를 극장에서 못보다니 ㅋㅋ\n",
      "감동의눈물 나올정도입니다. 평점10점급임.  내가 전투기 탄 기분이였음\n",
      "이 시대의 마지막 액션스타, \"톰 크루즈\"\n"
     ]
    }
   ],
   "source": [
    "for i in data:\n",
    "    print(i.text.strip())"
   ]
  },
  {
   "cell_type": "code",
   "execution_count": null,
   "metadata": {},
   "outputs": [],
   "source": [
    "# 페이지가 바뀔때마다 페이지 정보를 업데이트 해줘야 한다\n",
    "# 요청, 응답, bs객체화 다시 진행해줘야 함!"
   ]
  },
  {
   "cell_type": "code",
   "execution_count": 27,
   "metadata": {},
   "outputs": [],
   "source": [
    "url = \"https://movie.naver.com/movie/bi/mi/point.naver?code=81888#tab\"\n",
    "res = req.get(url)\n",
    "soup = bs(res.text,\"lxml\")"
   ]
  },
  {
   "cell_type": "code",
   "execution_count": 29,
   "metadata": {},
   "outputs": [
    {
     "data": {
      "text/plain": [
       "[]"
      ]
     },
     "execution_count": 29,
     "metadata": {},
     "output_type": "execute_result"
    }
   ],
   "source": [
    "data = soup.select(\"span#_filtered_ment_0\")\n",
    "data"
   ]
  },
  {
   "cell_type": "code",
   "execution_count": 30,
   "metadata": {},
   "outputs": [
    {
     "data": {
      "text/plain": [
       "[<p>‘탑건’의 시작부터 끝까지, 톰 크루즈 레전드</p>,\n",
       " <p>배우, 인물, 영화의 40년 숙성은 이런 것!</p>,\n",
       " <p>고전, 장르, 리얼 스턴트, 극장의 힘을 믿는 무비스타, 톰 크루즈!</p>,\n",
       " <p>톰 크루즈, 할리우드 스타의 ‘탑건’</p>,\n",
       " <p>시네마의 시대는 끝났어. 알아. 하지만 오늘은 아니야</p>]"
      ]
     },
     "execution_count": 30,
     "metadata": {},
     "output_type": "execute_result"
    }
   ],
   "source": [
    "data = soup.select(\"div.score_reple>p\")\n",
    "data"
   ]
  },
  {
   "attachments": {},
   "cell_type": "markdown",
   "metadata": {},
   "source": [
    "### 아이프레임 IFrame\n",
    "#### 화면에는 보이지만 실제데이터 다른 공간에 존재\n",
    "- iframe을 통해 다른 서버에 있는 데이터를 가져와 보여주기만 함\n",
    "- 실제 데이터를 보고, 수집하고 싶다면\n",
    "- 실제 데이터가 저장되어 있는 서버의 주소로 찾아가기!"
   ]
  },
  {
   "cell_type": "code",
   "execution_count": 33,
   "metadata": {},
   "outputs": [],
   "source": [
    "# src 에 적힌 주소 활용하요 잔짜 데이터가 있는 서버로 접근\n",
    "# 메인서버 + 경로(src)\n",
    "url = \"https://movie.naver.com/movie/bi/mi/pointWriteFormList.naver?code=81888&type=after&isActualPointWriteExecute=false&isMileageSubscriptionAlready=false&isMileageSubscriptionReject=false\"\n",
    "res = req.get(url)\n",
    "soup = bs(res.text,\"lxml\")"
   ]
  },
  {
   "cell_type": "code",
   "execution_count": 38,
   "metadata": {},
   "outputs": [],
   "source": [
    "# 첫번째 장에 있는 리뷰 10개 출력\n",
    "data = soup.select(\"div.score_reple>p>span:nth-child(2)\")\n",
    "# 내가 원하는 n번째의 태그만 가져오는 방법\n",
    "# 태그이름:nth-child(n)"
   ]
  },
  {
   "cell_type": "code",
   "execution_count": 39,
   "metadata": {},
   "outputs": [
    {
     "name": "stdout",
     "output_type": "stream",
     "text": [
      "평점 잘 안주는데 만점 줄려고 왔다\n",
      "영화관이 필요한 이유\n",
      "중국 애들은 불쌍타 나라 잘못 만나서 이런 영화를 극장에서 못보다니 ㅋㅋ\n",
      "감동의눈물 나올정도입니다. 평점10점급임.  내가 전투기 탄 기분이였음\n",
      "이 시대의 마지막 액션스타, \"톰 크루즈\"\n",
      "탑건1(1986년)의 36년만의 나온 속편. 매우 만족 스러웠고 매우 재밌었다 무조건 특별관에서 봐야되는 영화 2022년 개봉작 영화중에서 범죄도시2 이후 2번째로 엄청 좋았던 영화 톰 크루즈 미모는 여전히 잘생겼다...\n",
      "다른 말이 필요한가 레.전.드\n",
      "개쩐다 말이 필요없음 직접확인\n",
      "감동까지 겸비한 최고의 블록버스터\n",
      "지린다... 지려 할말이 없게 만듬..\n"
     ]
    }
   ],
   "source": [
    "for i in data:\n",
    "    print(i.text.strip())"
   ]
  },
  {
   "cell_type": "code",
   "execution_count": null,
   "metadata": {},
   "outputs": [],
   "source": [
    "# 전체 리뷰를 출력했을 때 관람객 이라는 글자가 없는 리뷰가 나올 시 오류 발생!!!\n",
    "# 2번째 span태그를 가져와야 하는 데 없으면 오류 발생\n",
    "# span태그가 한개만 존재하기 때문\n",
    "\n",
    "\n",
    "# 불필요한 글자인 요소(\"관람객\")만 삭제 (많이 사용하는 방식은 아님!)\n",
    "# 불필요한 요소 태그를 가져오기\n"
   ]
  },
  {
   "cell_type": "code",
   "execution_count": 48,
   "metadata": {},
   "outputs": [],
   "source": [
    "url = \"https://movie.naver.com/movie/bi/mi/pointWriteFormList.naver?code=81888&type=after&isActualPointWriteExecute=false&isMileageSubscriptionAlready=false&isMileageSubscriptionReject=false&page=1\"\n",
    "res = req.get(url)\n",
    "soup = bs(res.text,\"lxml\")"
   ]
  },
  {
   "cell_type": "code",
   "execution_count": 53,
   "metadata": {},
   "outputs": [
    {
     "data": {
      "text/plain": [
       "[<span id=\"_filtered_ment_0\">\n",
       " \t\t\t\t\t\t\t\t\t\t\t\t\t\t\n",
       " \t\t\t\t\t\t\t\t\t\t\t\t\t\t\t\n",
       " \t\t\t\t\t\t\t\t\t\t\t\t\t\t\t\n",
       " \t\t\t\t\t\t\t\t\t\t\t\t\t\t\t\t평점 잘 안주는데 만점 줄려고 왔다 \n",
       " \t\t\t\t\t\t\t\t\t\t\t\t\t\t\t\n",
       " \t\t\t\t\t\t\t\t\t\t\t\t\t\t\n",
       " \t\t\t\t\t\t\t\t\t\t\t\t\t\t\n",
       " \t\t\t\t\t\t\t\t\t\t\t\t\t</span>,\n",
       " <span id=\"_filtered_ment_1\">\n",
       " \t\t\t\t\t\t\t\t\t\t\t\t\t\t\n",
       " \t\t\t\t\t\t\t\t\t\t\t\t\t\t\t\n",
       " \t\t\t\t\t\t\t\t\t\t\t\t\t\t\t\n",
       " \t\t\t\t\t\t\t\t\t\t\t\t\t\t\t\t영화관이 필요한 이유 \n",
       " \t\t\t\t\t\t\t\t\t\t\t\t\t\t\t\n",
       " \t\t\t\t\t\t\t\t\t\t\t\t\t\t\n",
       " \t\t\t\t\t\t\t\t\t\t\t\t\t\t\n",
       " \t\t\t\t\t\t\t\t\t\t\t\t\t</span>,\n",
       " <span id=\"_filtered_ment_2\">\n",
       " \t\t\t\t\t\t\t\t\t\t\t\t\t\t\n",
       " \t\t\t\t\t\t\t\t\t\t\t\t\t\t\t\n",
       " \t\t\t\t\t\t\t\t\t\t\t\t\t\t\t\n",
       " \t\t\t\t\t\t\t\t\t\t\t\t\t\t\t\t중국 애들은 불쌍타 나라 잘못 만나서 이런 영화를 극장에서 못보다니 ㅋㅋ \n",
       " \t\t\t\t\t\t\t\t\t\t\t\t\t\t\t\n",
       " \t\t\t\t\t\t\t\t\t\t\t\t\t\t\n",
       " \t\t\t\t\t\t\t\t\t\t\t\t\t\t\n",
       " \t\t\t\t\t\t\t\t\t\t\t\t\t</span>,\n",
       " <span id=\"_filtered_ment_3\">\n",
       " \t\t\t\t\t\t\t\t\t\t\t\t\t\t\n",
       " \t\t\t\t\t\t\t\t\t\t\t\t\t\t\t\n",
       " \t\t\t\t\t\t\t\t\t\t\t\t\t\t\t\n",
       " \t\t\t\t\t\t\t\t\t\t\t\t\t\t\t\t감동의눈물 나올정도입니다. 평점10점급임.  내가 전투기 탄 기분이였음 \n",
       " \t\t\t\t\t\t\t\t\t\t\t\t\t\t\t\n",
       " \t\t\t\t\t\t\t\t\t\t\t\t\t\t\n",
       " \t\t\t\t\t\t\t\t\t\t\t\t\t\t\n",
       " \t\t\t\t\t\t\t\t\t\t\t\t\t</span>,\n",
       " <span id=\"_filtered_ment_4\">\n",
       " \t\t\t\t\t\t\t\t\t\t\t\t\t\t\n",
       " \t\t\t\t\t\t\t\t\t\t\t\t\t\t\t\n",
       " \t\t\t\t\t\t\t\t\t\t\t\t\t\t\t\n",
       " \t\t\t\t\t\t\t\t\t\t\t\t\t\t\t\t이 시대의 마지막 액션스타, \"톰 크루즈\" \n",
       " \t\t\t\t\t\t\t\t\t\t\t\t\t\t\t\n",
       " \t\t\t\t\t\t\t\t\t\t\t\t\t\t\n",
       " \t\t\t\t\t\t\t\t\t\t\t\t\t\t\n",
       " \t\t\t\t\t\t\t\t\t\t\t\t\t</span>,\n",
       " <span id=\"_filtered_ment_5\">\n",
       " <span class=\"_unfold_ment\" id=\"_unfold_ment5\">\n",
       " <a data-src=\"탑건1(1986년)의 36년만의 나온 속편. 매우 만족 스러웠고 매우 재밌었다 무조건 특별관에서 봐야되는 영화 2022년 개봉작 영화중에서 범죄도시2 이후 2번째로 엄청 좋았던 영화 톰 크루즈 미모는 여전히 잘생겼다 1편을 보고 가야되는 질문에서 답을 하자면 1편 보고 가는게 더 좋다 감동도 2배 더 느낄 수 있음 \" href=\"javascript:void(0);\" onclick=\"unfoldPointMent(this);\">\n",
       " \t\t\t\t\t\t\t\t\t\t\t\t\t\t\t\t\t\t탑건1(1986년)의 36년만의 나온 속편. 매우 만족 스러웠고 매우 재밌었다 무조건 특별관에서 봐야되는 영화 2022년 개봉작 영화중에서 범죄도시2 이후 2번째로 엄청 좋았던 영화 톰 크루즈 미모는 여전히 잘생겼다...\n",
       " \t\t\t\t\t\t\t\t\t\t\t\t\t\t\t\t\t</a>\n",
       " </span>\n",
       " </span>,\n",
       " <span id=\"_filtered_ment_6\">\n",
       " \t\t\t\t\t\t\t\t\t\t\t\t\t\t\n",
       " \t\t\t\t\t\t\t\t\t\t\t\t\t\t\t\n",
       " \t\t\t\t\t\t\t\t\t\t\t\t\t\t\t\n",
       " \t\t\t\t\t\t\t\t\t\t\t\t\t\t\t\t다른 말이 필요한가 레.전.드 \n",
       " \t\t\t\t\t\t\t\t\t\t\t\t\t\t\t\n",
       " \t\t\t\t\t\t\t\t\t\t\t\t\t\t\n",
       " \t\t\t\t\t\t\t\t\t\t\t\t\t\t\n",
       " \t\t\t\t\t\t\t\t\t\t\t\t\t</span>,\n",
       " <span id=\"_filtered_ment_7\">\n",
       " \t\t\t\t\t\t\t\t\t\t\t\t\t\t\n",
       " \t\t\t\t\t\t\t\t\t\t\t\t\t\t\t\n",
       " \t\t\t\t\t\t\t\t\t\t\t\t\t\t\t\n",
       " \t\t\t\t\t\t\t\t\t\t\t\t\t\t\t\t개쩐다 말이 필요없음 직접확인 \n",
       " \t\t\t\t\t\t\t\t\t\t\t\t\t\t\t\n",
       " \t\t\t\t\t\t\t\t\t\t\t\t\t\t\n",
       " \t\t\t\t\t\t\t\t\t\t\t\t\t\t\n",
       " \t\t\t\t\t\t\t\t\t\t\t\t\t</span>,\n",
       " <span id=\"_filtered_ment_8\">\n",
       " \t\t\t\t\t\t\t\t\t\t\t\t\t\t\n",
       " \t\t\t\t\t\t\t\t\t\t\t\t\t\t\t\n",
       " \t\t\t\t\t\t\t\t\t\t\t\t\t\t\t\n",
       " \t\t\t\t\t\t\t\t\t\t\t\t\t\t\t\t감동까지 겸비한 최고의 블록버스터 \n",
       " \t\t\t\t\t\t\t\t\t\t\t\t\t\t\t\n",
       " \t\t\t\t\t\t\t\t\t\t\t\t\t\t\n",
       " \t\t\t\t\t\t\t\t\t\t\t\t\t\t\n",
       " \t\t\t\t\t\t\t\t\t\t\t\t\t</span>,\n",
       " <span id=\"_filtered_ment_9\">\n",
       " \t\t\t\t\t\t\t\t\t\t\t\t\t\t\n",
       " \t\t\t\t\t\t\t\t\t\t\t\t\t\t\t\n",
       " \t\t\t\t\t\t\t\t\t\t\t\t\t\t\t\n",
       " \t\t\t\t\t\t\t\t\t\t\t\t\t\t\t\t지린다... 지려 할말이 없게 만듬.. \n",
       " \t\t\t\t\t\t\t\t\t\t\t\t\t\t\t\n",
       " \t\t\t\t\t\t\t\t\t\t\t\t\t\t\n",
       " \t\t\t\t\t\t\t\t\t\t\t\t\t\t\n",
       " \t\t\t\t\t\t\t\t\t\t\t\t\t</span>]"
      ]
     },
     "execution_count": 53,
     "metadata": {},
     "output_type": "execute_result"
    }
   ],
   "source": [
    "review = soup.select(\"div.score_reple>p>span\")\n",
    "review"
   ]
  },
  {
   "cell_type": "code",
   "execution_count": 50,
   "metadata": {},
   "outputs": [
    {
     "data": {
      "text/plain": [
       "[<span class=\"ico_viewer\">관람객</span>,\n",
       " <span class=\"ico_viewer\">관람객</span>,\n",
       " <span class=\"ico_viewer\">관람객</span>,\n",
       " <span class=\"ico_viewer\">관람객</span>,\n",
       " <span class=\"ico_viewer\">관람객</span>,\n",
       " <span class=\"ico_viewer\">관람객</span>,\n",
       " <span class=\"ico_viewer\">관람객</span>,\n",
       " <span class=\"ico_viewer\">관람객</span>,\n",
       " <span class=\"ico_viewer\">관람객</span>,\n",
       " <span class=\"ico_viewer\">관람객</span>]"
      ]
     },
     "execution_count": 50,
     "metadata": {},
     "output_type": "execute_result"
    }
   ],
   "source": [
    "# \"관람객이라는 불필요한 요소만 추출\"\n",
    "viewer = soup.select(\"span.ico_viewer\")\n",
    "viewer"
   ]
  },
  {
   "cell_type": "code",
   "execution_count": 51,
   "metadata": {},
   "outputs": [],
   "source": [
    "# 불필요한 요소를 제거해주는 기능 : extract()\n",
    "for i in viewer:\n",
    "    i.extract()"
   ]
  },
  {
   "cell_type": "code",
   "execution_count": null,
   "metadata": {},
   "outputs": [],
   "source": [
    "review = soup.select(\"div.score_reple>p>span\")\n",
    "review"
   ]
  },
  {
   "cell_type": "code",
   "execution_count": 54,
   "metadata": {},
   "outputs": [
    {
     "name": "stdout",
     "output_type": "stream",
     "text": [
      "평점 잘 안주는데 만점 줄려고 왔다\n",
      "영화관이 필요한 이유\n",
      "중국 애들은 불쌍타 나라 잘못 만나서 이런 영화를 극장에서 못보다니 ㅋㅋ\n",
      "감동의눈물 나올정도입니다. 평점10점급임.  내가 전투기 탄 기분이였음\n",
      "이 시대의 마지막 액션스타, \"톰 크루즈\"\n",
      "탑건1(1986년)의 36년만의 나온 속편. 매우 만족 스러웠고 매우 재밌었다 무조건 특별관에서 봐야되는 영화 2022년 개봉작 영화중에서 범죄도시2 이후 2번째로 엄청 좋았던 영화 톰 크루즈 미모는 여전히 잘생겼다...\n",
      "다른 말이 필요한가 레.전.드\n",
      "개쩐다 말이 필요없음 직접확인\n",
      "감동까지 겸비한 최고의 블록버스터\n",
      "지린다... 지려 할말이 없게 만듬..\n"
     ]
    }
   ],
   "source": [
    "# 관람객이라는 글자 제거가 되었는지 확인\n",
    "for i in review:\n",
    "    print(i.text.strip())"
   ]
  },
  {
   "cell_type": "code",
   "execution_count": 55,
   "metadata": {},
   "outputs": [
    {
     "name": "stdout",
     "output_type": "stream",
     "text": [
      "연기, 스토리, 감동, 그리고 톰쿠르즈.. 바이크탈때 그의 찐 행복 미소는 잊을 수 없다... 일을 즐기는 듯한 그 미소.. 나도 갖고싶다 이 한마디로 영화 평은 끝난다.\n",
      "젭알 영화관에서 꼭 보세요 존잼입니다\n",
      "두 번째 봤는데 감동이 사라지지 않음. 또 볼거임.\n",
      "메인 OST 나올때부터 가슴이 웅장해진다 ㅠㅜ 전작에 대한 예우를 갖춘 최고의 속편\n",
      "슬픈 내용이 아닌데 눈물이 계속 나네..\n",
      "천만 가자. 탐 형이 영화 오래오래 만들고 한국 또 오시게 ㅠㅠ. 진짜 너무재밌게봤다 ㅠㅠ\n",
      "2022년 최고의 영화\n",
      "누구에게는 추억의 소환이자 누구에게는 아날로그의 부활. 망작 천지인 넷플릭스 오리지널 영화와 피곤해지는 마블의 만화영화들에 치이던 중 만나게 된 제대로 만들어진 클래식 블록버스터.\n",
      "I feel the need, the need for speed! Up there, with the best of the best\n",
      "의미없는 속편과 리부트가 차고 넘치는 영화계에 긴장감을 주는 완벽한 속편\n"
     ]
    }
   ],
   "source": [
    "# 1페이지만 정보를 수집하는 코드 합치기\n",
    "url = \"https://movie.naver.com/movie/bi/mi/pointWriteFormList.naver?code=81888&type=after&isActualPointWriteExecute=false&isMileageSubscriptionAlready=false&isMileageSubscriptionReject=false&page=17\"\n",
    "res = req.get(url)\n",
    "soup = bs(res.text,\"lxml\")\n",
    "\n",
    "viewer = soup.select(\"span.ico_viewer\")\n",
    "for i in viewer:\n",
    "    i.extract()\n",
    "review = soup.select(\"div.score_reple>p>span\")\n",
    "for i in review:\n",
    "    print(i.text.strip())"
   ]
  },
  {
   "cell_type": "code",
   "execution_count": 61,
   "metadata": {},
   "outputs": [],
   "source": [
    "# 10페이지 수집하는 코드 만들기\n",
    "review10 = []\n",
    "for i in range(1,11):\n",
    "    url = f\"https://movie.naver.com/movie/bi/mi/pointWriteFormList.naver?code=81888&type=after&isActualPointWriteExecute=false&isMileageSubscriptionAlready=false&isMileageSubscriptionReject=false&page=${i}\"\n",
    "    res = req.get(url)\n",
    "    soup = bs(res.text,\"lxml\")\n",
    "\n",
    "    viewer = soup.select(\"span.ico_viewer\")\n",
    "    for i in viewer:\n",
    "        i.extract()\n",
    "    review = soup.select(\"div.score_reple>p>span\")\n",
    "    for i in review:\n",
    "        # print(i.text.strip())\n",
    "        review10.append(i.text.strip())"
   ]
  },
  {
   "cell_type": "code",
   "execution_count": 63,
   "metadata": {},
   "outputs": [
    {
     "name": "stdout",
     "output_type": "stream",
     "text": [
      "100\n",
      "['평점 잘 안주는데 만점 줄려고 왔다', '영화관이 필요한 이유', '중국 애들은 불쌍타 나라 잘못 만나서 이런 영화를 극장에서 못보다니 ㅋㅋ', '감동의눈물 나올정도입니다. 평점10점급임.  내가 전투기 탄 기분이였음', '이 시대의 마지막 액션스타, \"톰 크루즈\"', '탑건1(1986년)의 36년만의 나온 속편. 매우 만족 스러웠고 매우 재밌었다 무조건 특별관에서 봐야되는 영화 2022년 개봉작 영화중에서 범죄도시2 이후 2번째로 엄청 좋았던 영화 톰 크루즈 미모는 여전히 잘생겼다...', '다른 말이 필요한가 레.전.드', '개쩐다 말이 필요없음 직접확인', '감동까지 겸비한 최고의 블록버스터', '지린다... 지려 할말이 없게 만듬..']\n"
     ]
    }
   ],
   "source": [
    "print(len(review10))\n",
    "print(review10[30:40])"
   ]
  },
  {
   "cell_type": "code",
   "execution_count": 65,
   "metadata": {},
   "outputs": [
    {
     "name": "stdout",
     "output_type": "stream",
     "text": [
      "1 2 3 4 5 6 7 8 9 10 "
     ]
    }
   ],
   "source": [
    "for i in range(1,11):\n",
    "    print(i, end=\" \")"
   ]
  },
  {
   "cell_type": "code",
   "execution_count": null,
   "metadata": {},
   "outputs": [],
   "source": []
  },
  {
   "cell_type": "code",
   "execution_count": null,
   "metadata": {},
   "outputs": [],
   "source": []
  },
  {
   "cell_type": "code",
   "execution_count": null,
   "metadata": {},
   "outputs": [],
   "source": []
  }
 ],
 "metadata": {
  "kernelspec": {
   "display_name": "base",
   "language": "python",
   "name": "python3"
  },
  "language_info": {
   "codemirror_mode": {
    "name": "ipython",
    "version": 3
   },
   "file_extension": ".py",
   "mimetype": "text/x-python",
   "name": "python",
   "nbconvert_exporter": "python",
   "pygments_lexer": "ipython3",
   "version": "3.9.13"
  },
  "orig_nbformat": 4,
  "vscode": {
   "interpreter": {
    "hash": "b29c9535bfd25afa5c0ebea945f05384aab6e6733113370efdd687ec340f7537"
   }
  }
 },
 "nbformat": 4,
 "nbformat_minor": 2
}
