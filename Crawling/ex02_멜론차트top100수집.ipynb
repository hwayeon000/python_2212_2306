{
 "cells": [
  {
   "cell_type": "code",
   "execution_count": 1,
   "metadata": {},
   "outputs": [],
   "source": [
    "import requests as req\n",
    "from bs4 import BeautifulSoup as bs"
   ]
  },
  {
   "cell_type": "code",
   "execution_count": 2,
   "metadata": {},
   "outputs": [
    {
     "data": {
      "text/plain": [
       "<Response [406]>"
      ]
     },
     "execution_count": 2,
     "metadata": {},
     "output_type": "execute_result"
    }
   ],
   "source": [
    "# 멜론 페이지 정보 가져오기\n",
    "url = \"https://www.melon.com/index.htm\"\n",
    "res = req.get(url)\n",
    "res\n",
    "# <Response [406]> : 요청문제\n",
    "# 멜론페이지에서 브라우저 접근이 아닌 코드 접근을 인지 -> 접근 차단\n"
   ]
  },
  {
   "cell_type": "code",
   "execution_count": 4,
   "metadata": {},
   "outputs": [
    {
     "data": {
      "text/plain": [
       "<Response [200]>"
      ]
     },
     "execution_count": 4,
     "metadata": {},
     "output_type": "execute_result"
    }
   ],
   "source": [
    "# 브라우저 인 척 속여서 접근 -> 코드로 접근 시 브라우저 정보란이 이버어서 요청\n",
    "# 브라우저 정보를 함께 요청 보내면 브라우저인 척 속여 요청이 가능\n",
    "# User-Agent를 가져와서 dic로 묶기\n",
    "h = {\"User-Agent\": \"Mozilla/5.0 (Windows NT 10.0; Win64; x64) AppleWebKit/537.36 (KHTML, like Gecko) Chrome/110.0.0.0 Safari/537.36\"}\n",
    "url = \"https://www.melon.com/index.htm\"\n",
    "res = req.get(url, headers=h)\n",
    "res"
   ]
  },
  {
   "attachments": {},
   "cell_type": "markdown",
   "metadata": {},
   "source": [
    "### melon 차트 100 데이터 수집하기\n",
    "- 제목\n",
    "- 가수"
   ]
  },
  {
   "cell_type": "code",
   "execution_count": 48,
   "metadata": {},
   "outputs": [
    {
     "data": {
      "text/plain": [
       "'NewJeans'"
      ]
     },
     "execution_count": 48,
     "metadata": {},
     "output_type": "execute_result"
    }
   ],
   "source": [
    "h = {\"User-Agent\": \"Mozilla/5.0 (Windows NT 10.0; Win64; x64) AppleWebKit/537.36 (KHTML, like Gecko) Chrome/110.0.0.0 Safari/537.36\"}\n",
    "url = \"https://www.melon.com/chart/\"\n",
    "res = req.get(url, headers=h)\n",
    "res\n",
    "\n",
    "# 객체를 문자열로 가져옴\n",
    "res.text\n",
    "# 가져온 문자열을 html 객체로 파싱?\n",
    "soup = bs(res.text,\"lxml\")\n",
    "soup\n",
    "\n",
    "soup.select(\"div>span>a\")\n",
    "# soup.select(\"div.ellipsis rank01>span>a\")[0].text\n",
    "# 아무것도 출력되지 않음 -> 태그 선택에 문제 발생!\n",
    "# -> 띄어쓰기는 자손선택자 의미! 띄어쓰기를 .으로 변경\n",
    "\n",
    "# 이러면 처음은 문제 없이 나오는 것 같으나\n",
    "# 중간에 오류가 있음, 정확하지 않음!!!\n",
    "# soup.select(\".ellipsis.rank01 a\")[0].text\n",
    "# soup.select(\".ellipsis.rank02 a\")[1]\n",
    "\n",
    "# 쌤\n",
    "# 노래 제목(요소) 추출\n",
    "soup.select(\"div.ellipsis>span>a\")[0]\n",
    "# .test : 객체화?\n",
    "soup.select(\"div.ellipsis>span>a\")[0].text\n",
    "# 가수 이름(요소) 추출\n",
    "soup.select(\"div.ellipsis>span\")[1].text"
   ]
  },
  {
   "cell_type": "code",
   "execution_count": 49,
   "metadata": {},
   "outputs": [],
   "source": [
    "song = soup.select(\".ellipsis.rank01>span>a\")\n",
    "singer = soup.select(\".ellipsis.rank02>span\")"
   ]
  },
  {
   "cell_type": "code",
   "execution_count": 55,
   "metadata": {},
   "outputs": [
    {
     "data": {
      "text/plain": [
       "'NewJeans'"
      ]
     },
     "execution_count": 55,
     "metadata": {},
     "output_type": "execute_result"
    }
   ],
   "source": [
    "len(song)\n",
    "len(singer)\n",
    "# 항상 맞게 잘 가져왔는지 체크!\n",
    "singer[0].text\n",
    "\n",
    "# song, singer 우리가 추출한 요소 컨텐츠로 추출"
   ]
  },
  {
   "cell_type": "code",
   "execution_count": 54,
   "metadata": {},
   "outputs": [
    {
     "name": "stdout",
     "output_type": "stream",
     "text": [
      "NewJeans, Ditto\n",
      "NewJeans, OMG\n",
      "부석순 (SEVENTEEN), 파이팅 해야지 (Feat. 이영지)\n",
      "NewJeans, Hype boy\n",
      "윤하 (YOUNHA), 사건의 지평선\n",
      "임영웅, 사랑은 늘 도망가\n",
      "태양, VIBE (feat. Jimin of BTS)\n",
      "STAYC(스테이씨), Teddy Bear\n",
      "NewJeans, Attention\n",
      "LE SSERAFIM (르세라핌), ANTIFRAGILE\n",
      "임영웅, 우리들의 블루스\n",
      "Charlie Puth, I Don't Think That I Like Her\n",
      "IVE (아이브), After LIKE\n",
      "임영웅, 다시 만날 수 있을까\n",
      "투모로우바이투게더, Sugar Rush Ride\n",
      "임영웅, London Boy\n",
      "임영웅, Polaroid\n",
      "임영웅, 무지개\n",
      "NCT DREAM, Candy\n",
      "지아, 사랑하기 싫어\n",
      "임영웅, 아버지\n",
      "IVE (아이브), LOVE DIVE\n",
      "임영웅, 이제 나만 믿어요\n",
      "임영웅, A bientot\n",
      "임영웅, 손이 참 곱던 그대\n",
      "임영웅, 인생찬가\n",
      "멜로망스, 사랑인가 봐\n",
      "임영웅, 사랑해 진짜\n",
      "(여자)아이들, Nxde\n",
      "임영웅, 연애편지\n",
      "성시경, 너의 모든 순간\n",
      "테이, Monologue\n",
      "지코 (ZICO), 새삥 (Prod. ZICO) (Feat. 호미들)\n",
      "DK(디셈버), 심(心)\n",
      "이영지, NOT SORRY (Feat. pH-1) (Prod. by Slom)\n",
      "STAYC(스테이씨), Poppy (Korean Ver.)\n",
      "NewJeans, Cookie\n",
      "신예영, 네가 보고 싶은 건 자연스러운 거겠지\n",
      "#안녕, 해요 (2022)\n",
      "임영웅, 보금자리\n",
      "태연 (TAEYEON), 혼자서 걸어요 (Prod. by 나얼)\n",
      "Sam Smith, Kim Petras, Unholy\n",
      "Crush, Rush Hour (Feat. j-hope of BTS)\n",
      "투모로우바이투게더, 이젠 안녕\n",
      "신예영, 마지막 사랑\n",
      "Charlie Puth, That's Hilarious\n",
      "부석순 (SEVENTEEN), 7시에 들어줘 (Feat. Peder Elias)\n",
      "김민석 (멜로망스), 취중고백\n",
      "BLACKPINK, Shut Down\n",
      "Charlie Puth, Dangerously\n",
      "우디 (Woody), Say I Love You\n",
      "The Kid LAROI, Justin Bieber, STAY\n",
      "BLACKPINK, Pink Venom\n",
      "송하예, 그대를 알고\n",
      "주호, 내가 아니라도\n",
      "(여자)아이들, TOMBOY\n",
      "정국, 방탄소년단, Dreamers [Music from the FIFA World Cup Qatar 2022 Official Soundtrack] (Feat. FIFA Sound)\n",
      "LE SSERAFIM (르세라핌), FEARLESS\n",
      "WSG워너비 (가야G), 그때 그 순간 그대로 (그그그)\n",
      "최유리, 그댄 행복에 살텐데 (2022)\n",
      "투모로우바이투게더, Devil by the Window\n",
      "방탄소년단, Dynamite\n",
      "김민석 (멜로망스), 너와 함께\n",
      "10CM, 그라데이션\n",
      "주호, 잘가요\n",
      "경서예지, 전건호, 다정히 내 이름을 부르면\n",
      "H1-KEY (하이키), 건물 사이에 피어난 장미 (Rose Blossom)\n",
      "폴킴, 모든 날, 모든 순간 (Every day, Every Moment)\n",
      "윤하 (YOUNHA), 오르트구름\n",
      "IVE (아이브), ELEVEN\n",
      "BIG Naughty (서동현), 정이라고 하자 (Feat. 10CM)\n",
      "투모로우바이투게더, 네버랜드를 떠나며\n",
      "방탄소년단, 봄날\n",
      "경서, 나의 X에게\n",
      "저스디스 (JUSTHIS), R.Tee, 던말릭 (DON MALIK), 허성현 (Huh), KHAN, 맥대디 (Mckdaddy), 로스 (Los), 마이웨이 (MY WAY) (Prod. R.Tee)\n",
      "김호중, 그중에 그대를 만나\n",
      "싸이 (PSY), That That (prod. & feat. SUGA of BTS)\n",
      "10CM, BIG Naughty (서동현), 딱 10CM만\n",
      "나얼, 걸음을 멈추는 날\n",
      "방탄소년단, Butter\n",
      "이예준, 니 번호가 뜨는 일\n",
      "BE'O (비오), 자격지심 (Feat. ZICO)\n",
      "투모로우바이투게더, Tinnitus (돌멩이가 되고 싶어)\n",
      "투모로우바이투게더, Happy Fools (feat. Coi Leray)\n",
      "김호중, 송가인, 당신을 만나\n",
      "NCT 127, Ay-Yo\n",
      "임한별, 떠나보낼 준비해 둘걸 그랬어\n",
      "imase, NIGHT DANCER\n",
      "Justin Bieber, Off My Face\n",
      "경서, 밤하늘의 별을(2020)\n",
      "김호중, 나의 목소리로\n",
      "카라, WHEN I MOVE\n",
      "WSG워너비(4FIRE), 보고싶었어\n",
      "BE'O (비오), LOVE me\n",
      "세븐틴, HOT\n",
      "백아, 첫사랑\n",
      "더보이즈 (THE BOYZ), ROAR\n",
      "부석순 (SEVENTEEN), LUNCH\n",
      "BIGBANG (빅뱅), 봄여름가을겨울 (Still Life)\n",
      "BIG Naughty (서동현), 친구로 지내다 보면 (Feat. 김민석 of 멜로망스)\n"
     ]
    }
   ],
   "source": [
    "for i in range(len(song)):\n",
    "    print(singer[i].text + \", \" + song[i].text)"
   ]
  },
  {
   "attachments": {},
   "cell_type": "markdown",
   "metadata": {},
   "source": [
    "### 데이터 활용\n",
    "- 하나의 list로 묶어준 다음\n",
    "- DataFrame으로 만듦\n",
    "- csv 파일로 내보내기"
   ]
  },
  {
   "cell_type": "code",
   "execution_count": 58,
   "metadata": {},
   "outputs": [],
   "source": [
    "import pandas as pd"
   ]
  },
  {
   "cell_type": "code",
   "execution_count": 87,
   "metadata": {},
   "outputs": [],
   "source": [
    "# DataFrame\n",
    "# 노래제목, 컬럼이름\n",
    "a = []\n",
    "b = []\n",
    "c = []\n",
    "for i in range(len(song)):\n",
    "    a.append(singer[i].text)\n",
    "    b.append(song[i].text)\n",
    "    c.append(i+1)"
   ]
  },
  {
   "cell_type": "code",
   "execution_count": null,
   "metadata": {},
   "outputs": [],
   "source": [
    "# 데이터의 개수사 같을 떄는 한번의 for문만 사용하여 append 하는 것이 깔끔"
   ]
  },
  {
   "cell_type": "code",
   "execution_count": 91,
   "metadata": {},
   "outputs": [],
   "source": [
    "dfData = {\"순위\":c, \"노래제목\" :b,\"가수\": a}\n",
    "df =pd.DataFrame(dfData)\n",
    "df.set_index(\"순위\", inplace=True)\n"
   ]
  },
  {
   "cell_type": "code",
   "execution_count": 92,
   "metadata": {},
   "outputs": [
    {
     "data": {
      "text/html": [
       "<div>\n",
       "<style scoped>\n",
       "    .dataframe tbody tr th:only-of-type {\n",
       "        vertical-align: middle;\n",
       "    }\n",
       "\n",
       "    .dataframe tbody tr th {\n",
       "        vertical-align: top;\n",
       "    }\n",
       "\n",
       "    .dataframe thead th {\n",
       "        text-align: right;\n",
       "    }\n",
       "</style>\n",
       "<table border=\"1\" class=\"dataframe\">\n",
       "  <thead>\n",
       "    <tr style=\"text-align: right;\">\n",
       "      <th></th>\n",
       "      <th>노래제목</th>\n",
       "      <th>가수</th>\n",
       "    </tr>\n",
       "    <tr>\n",
       "      <th>순위</th>\n",
       "      <th></th>\n",
       "      <th></th>\n",
       "    </tr>\n",
       "  </thead>\n",
       "  <tbody>\n",
       "    <tr>\n",
       "      <th>1</th>\n",
       "      <td>Ditto</td>\n",
       "      <td>NewJeans</td>\n",
       "    </tr>\n",
       "    <tr>\n",
       "      <th>2</th>\n",
       "      <td>OMG</td>\n",
       "      <td>NewJeans</td>\n",
       "    </tr>\n",
       "    <tr>\n",
       "      <th>3</th>\n",
       "      <td>파이팅 해야지 (Feat. 이영지)</td>\n",
       "      <td>부석순 (SEVENTEEN)</td>\n",
       "    </tr>\n",
       "    <tr>\n",
       "      <th>4</th>\n",
       "      <td>Hype boy</td>\n",
       "      <td>NewJeans</td>\n",
       "    </tr>\n",
       "    <tr>\n",
       "      <th>5</th>\n",
       "      <td>사건의 지평선</td>\n",
       "      <td>윤하 (YOUNHA)</td>\n",
       "    </tr>\n",
       "    <tr>\n",
       "      <th>...</th>\n",
       "      <td>...</td>\n",
       "      <td>...</td>\n",
       "    </tr>\n",
       "    <tr>\n",
       "      <th>96</th>\n",
       "      <td>첫사랑</td>\n",
       "      <td>백아</td>\n",
       "    </tr>\n",
       "    <tr>\n",
       "      <th>97</th>\n",
       "      <td>ROAR</td>\n",
       "      <td>더보이즈 (THE BOYZ)</td>\n",
       "    </tr>\n",
       "    <tr>\n",
       "      <th>98</th>\n",
       "      <td>LUNCH</td>\n",
       "      <td>부석순 (SEVENTEEN)</td>\n",
       "    </tr>\n",
       "    <tr>\n",
       "      <th>99</th>\n",
       "      <td>봄여름가을겨울 (Still Life)</td>\n",
       "      <td>BIGBANG (빅뱅)</td>\n",
       "    </tr>\n",
       "    <tr>\n",
       "      <th>100</th>\n",
       "      <td>친구로 지내다 보면 (Feat. 김민석 of 멜로망스)</td>\n",
       "      <td>BIG Naughty (서동현)</td>\n",
       "    </tr>\n",
       "  </tbody>\n",
       "</table>\n",
       "<p>100 rows × 2 columns</p>\n",
       "</div>"
      ],
      "text/plain": [
       "                               노래제목                 가수\n",
       "순위                                                    \n",
       "1                             Ditto           NewJeans\n",
       "2                               OMG           NewJeans\n",
       "3               파이팅 해야지 (Feat. 이영지)    부석순 (SEVENTEEN)\n",
       "4                          Hype boy           NewJeans\n",
       "5                           사건의 지평선        윤하 (YOUNHA)\n",
       "..                              ...                ...\n",
       "96                              첫사랑                 백아\n",
       "97                             ROAR    더보이즈 (THE BOYZ)\n",
       "98                            LUNCH    부석순 (SEVENTEEN)\n",
       "99             봄여름가을겨울 (Still Life)       BIGBANG (빅뱅)\n",
       "100  친구로 지내다 보면 (Feat. 김민석 of 멜로망스)  BIG Naughty (서동현)\n",
       "\n",
       "[100 rows x 2 columns]"
      ]
     },
     "execution_count": 92,
     "metadata": {},
     "output_type": "execute_result"
    }
   ],
   "source": [
    "df"
   ]
  },
  {
   "cell_type": "code",
   "execution_count": 93,
   "metadata": {},
   "outputs": [],
   "source": [
    "# DataFrame -> CSV파일로 내보내기\n",
    "\n",
    "df.to_csv(\"멜론차트.csv\")"
   ]
  },
  {
   "cell_type": "code",
   "execution_count": null,
   "metadata": {},
   "outputs": [],
   "source": []
  },
  {
   "cell_type": "code",
   "execution_count": null,
   "metadata": {},
   "outputs": [],
   "source": []
  },
  {
   "cell_type": "code",
   "execution_count": null,
   "metadata": {},
   "outputs": [],
   "source": []
  },
  {
   "cell_type": "code",
   "execution_count": null,
   "metadata": {},
   "outputs": [],
   "source": []
  },
  {
   "cell_type": "code",
   "execution_count": null,
   "metadata": {},
   "outputs": [],
   "source": []
  },
  {
   "cell_type": "code",
   "execution_count": null,
   "metadata": {},
   "outputs": [],
   "source": []
  }
 ],
 "metadata": {
  "kernelspec": {
   "display_name": "base",
   "language": "python",
   "name": "python3"
  },
  "language_info": {
   "codemirror_mode": {
    "name": "ipython",
    "version": 3
   },
   "file_extension": ".py",
   "mimetype": "text/x-python",
   "name": "python",
   "nbconvert_exporter": "python",
   "pygments_lexer": "ipython3",
   "version": "3.9.13"
  },
  "orig_nbformat": 4,
  "vscode": {
   "interpreter": {
    "hash": "b29c9535bfd25afa5c0ebea945f05384aab6e6733113370efdd687ec340f7537"
   }
  }
 },
 "nbformat": 4,
 "nbformat_minor": 2
}
