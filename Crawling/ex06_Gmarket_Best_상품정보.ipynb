{
 "cells": [
  {
   "cell_type": "code",
   "execution_count": 2,
   "metadata": {},
   "outputs": [],
   "source": [
    "from selenium import webdriver as wb\n",
    "from selenium.webdriver.common.keys import Keys\n",
    "from selenium.webdriver.common.by import By\n",
    "\n",
    "import requests as req\n",
    "from bs4 import BeautifulSoup as bs\n",
    "# 시간 지연\n",
    "import time\n",
    "# 로딩바\n",
    "from tqdm import tqdm_notebook as tq"
   ]
  },
  {
   "cell_type": "code",
   "execution_count": null,
   "metadata": {},
   "outputs": [],
   "source": [
    "# 1. G마켓 베스트페이지 실행\n",
    "# 2. 첫번째 상품 클릭하여 페이지 이동\n",
    "#   힌트: 상품의 이미지 클릭\n",
    "# 3. 상품의 정보 수집\n",
    "#   3-1. 상품명\n",
    "#   3-2. 상품가격\n",
    "#   3-3. 상품의 마지막 카테고리"
   ]
  },
  {
   "cell_type": "code",
   "execution_count": 12,
   "metadata": {},
   "outputs": [],
   "source": [
    "driver = wb.Chrome()\n",
    "driver.get(\"https://corners.gmarket.co.kr/BestSellers\")\n",
    "time.sleep(1)\n"
   ]
  },
  {
   "cell_type": "code",
   "execution_count": 13,
   "metadata": {},
   "outputs": [],
   "source": [
    "# lazy\n",
    "driver.find_element(By.CLASS_NAME, \"lazy\").click()"
   ]
  },
  {
   "cell_type": "code",
   "execution_count": 24,
   "metadata": {},
   "outputs": [
    {
     "name": "stdout",
     "output_type": "stream",
     "text": [
      "동아 초/중/고 빠작 선택구매 - 2권이상 무배 \n",
      "12,000원\n",
      "초등참고서\n"
     ]
    }
   ],
   "source": [
    "soup = bs(driver.page_source, \"lxml\")\n",
    "# 상품명\n",
    "title = soup.select(\"h1.itemtit\")[0].text\n",
    "# title1 = soup.select_one(\"h1.itemtit\").text\n",
    "\n",
    "# 가격\n",
    "price = soup.select(\"strong.price_real\")[0].text\n",
    "# 카테고리\n",
    "cate =soup.select(\"li.on>a\")[0].text\n",
    "\n",
    "print(title, price, cate, sep=\"\\n\")"
   ]
  },
  {
   "cell_type": "code",
   "execution_count": 14,
   "metadata": {},
   "outputs": [],
   "source": [
    "soup = bs(driver.page_source, \"lxml\")\n",
    "title = soup.select_one(\"h1.itemtit\").text\n",
    "price = soup.select_one(\"strong.price_real\").text\n",
    "cate =soup.select_one(\"li.on>a\").text"
   ]
  },
  {
   "cell_type": "code",
   "execution_count": 25,
   "metadata": {},
   "outputs": [],
   "source": [
    "driver.back()"
   ]
  },
  {
   "attachments": {},
   "cell_type": "markdown",
   "metadata": {},
   "source": [
    "### 첫번째 상품부터 10번째 상품까지 가져오는 코드 작성"
   ]
  },
  {
   "attachments": {},
   "cell_type": "markdown",
   "metadata": {},
   "source": [
    "### 현재 진행상황을 표시해주는 로딩바 만들기"
   ]
  },
  {
   "cell_type": "code",
   "execution_count": 33,
   "metadata": {},
   "outputs": [],
   "source": [
    "from tqdm import tqdm_notebook as tq"
   ]
  },
  {
   "cell_type": "code",
   "execution_count": 35,
   "metadata": {},
   "outputs": [
    {
     "name": "stderr",
     "output_type": "stream",
     "text": [
      "C:\\Users\\SMHRD\\AppData\\Local\\Temp\\ipykernel_10268\\2838936665.py:9: TqdmDeprecationWarning: This function will be removed in tqdm==5.0.0\n",
      "Please use `tqdm.notebook.tqdm` instead of `tqdm.tqdm_notebook`\n",
      "  for i in tq(range(10)):\n"
     ]
    },
    {
     "data": {
      "application/vnd.jupyter.widget-view+json": {
       "model_id": "9edb837c3c204cea9f716e119142dc16",
       "version_major": 2,
       "version_minor": 0
      },
      "text/plain": [
       "  0%|          | 0/10 [00:00<?, ?it/s]"
      ]
     },
     "metadata": {},
     "output_type": "display_data"
    }
   ],
   "source": [
    "driver = wb.Chrome()\n",
    "driver.get(\"https://corners.gmarket.co.kr/BestSellers\")\n",
    "time.sleep(2)\n",
    "\n",
    "name_list = []\n",
    "price_list = []\n",
    "cate_list = []\n",
    "\n",
    "for i in tq(range(10)):\n",
    "    driver.find_elements(By.CLASS_NAME, \"lazy\")[i].click()\n",
    "    time.sleep(2)\n",
    "    soup = bs(driver.page_source, \"lxml\")\n",
    "    title = soup.select_one(\"h1.itemtit\").text\n",
    "    price = soup.select_one(\"strong.price_real\").text\n",
    "    cate =soup.select_one(\"li.on>a\").text\n",
    "\n",
    "    name_list.append(title)\n",
    "    price_list.append(price)\n",
    "    cate_list.append(cate)\n",
    "\n",
    "    driver.back()\n",
    "    \n",
    "driver.quit()"
   ]
  },
  {
   "cell_type": "code",
   "execution_count": 43,
   "metadata": {},
   "outputs": [
    {
     "name": "stdout",
     "output_type": "stream",
     "text": [
      "10\n",
      "10\n",
      "10\n"
     ]
    }
   ],
   "source": [
    "print(len(name_list))\n",
    "print(len(price_list))\n",
    "print(len(cate_list))"
   ]
  },
  {
   "attachments": {},
   "cell_type": "markdown",
   "metadata": {},
   "source": [
    "### DataFrame 생성 후 내보내기"
   ]
  },
  {
   "cell_type": "code",
   "execution_count": 47,
   "metadata": {},
   "outputs": [],
   "source": [
    "dic = {\"상품명\":name_list, \"가격\":price_list, \"카테고리\":cate_list}\n",
    "import pandas as pd\n",
    "\n",
    "gData = pd.DataFrame(dic)\n",
    "gData.to_csv(\"G-market.csv\", encoding=\"EUC-KR\")"
   ]
  },
  {
   "cell_type": "code",
   "execution_count": 48,
   "metadata": {},
   "outputs": [
    {
     "data": {
      "text/html": [
       "<div>\n",
       "<style scoped>\n",
       "    .dataframe tbody tr th:only-of-type {\n",
       "        vertical-align: middle;\n",
       "    }\n",
       "\n",
       "    .dataframe tbody tr th {\n",
       "        vertical-align: top;\n",
       "    }\n",
       "\n",
       "    .dataframe thead th {\n",
       "        text-align: right;\n",
       "    }\n",
       "</style>\n",
       "<table border=\"1\" class=\"dataframe\">\n",
       "  <thead>\n",
       "    <tr style=\"text-align: right;\">\n",
       "      <th></th>\n",
       "      <th>상품명</th>\n",
       "      <th>가격</th>\n",
       "      <th>카테고리</th>\n",
       "    </tr>\n",
       "  </thead>\n",
       "  <tbody>\n",
       "    <tr>\n",
       "      <th>0</th>\n",
       "      <td>동아 초/중/고 빠작 선택구매 - 2권이상 무배</td>\n",
       "      <td>12,000원</td>\n",
       "      <td>초등참고서</td>\n",
       "    </tr>\n",
       "    <tr>\n",
       "      <th>1</th>\n",
       "      <td>20% 혜택가 15240원/ 펩시콜라 제로 슈거라임 355ml 24캔 캔음료/탄산음...</td>\n",
       "      <td>19,720원</td>\n",
       "      <td>탄산/기능성음료</td>\n",
       "    </tr>\n",
       "    <tr>\n",
       "      <th>2</th>\n",
       "      <td>고중량 호텔수건 625gsm 수건 10장 타올 타월 200그램/장 한정수량 초특가 ...</td>\n",
       "      <td>34,900원</td>\n",
       "      <td>타월/샤워가운</td>\n",
       "    </tr>\n",
       "    <tr>\n",
       "      <th>3</th>\n",
       "      <td>최종8720원) 비프레쉬 KF94 자외선차단 새부리형 황사마스크 대형 100매(25...</td>\n",
       "      <td>10,900원</td>\n",
       "      <td>마스크</td>\n",
       "    </tr>\n",
       "    <tr>\n",
       "      <th>4</th>\n",
       "      <td>최종가 8000 1+1 빨아쓰는 플라워 규조토 발매트 북유럽 욕실 주방 매트</td>\n",
       "      <td>10,000원</td>\n",
       "      <td>발매트</td>\n",
       "    </tr>\n",
       "    <tr>\n",
       "      <th>5</th>\n",
       "      <td>만장 판매 하비 고민 덜어주는 데님 (Made) S~2XL/ 스테디치즈데님</td>\n",
       "      <td>20,900원</td>\n",
       "      <td>스트레이트핏</td>\n",
       "    </tr>\n",
       "    <tr>\n",
       "      <th>6</th>\n",
       "      <td>퓨어스펙 오렌지 중소과(개당160g내외)23과/2개주문시 50과발송</td>\n",
       "      <td>16,900원</td>\n",
       "      <td>오렌지</td>\n",
       "    </tr>\n",
       "    <tr>\n",
       "      <th>7</th>\n",
       "      <td>스텐 304 냉장고 물병 2P세트 외 주방 S/S신상 시리즈</td>\n",
       "      <td>20,900원</td>\n",
       "      <td>접시</td>\n",
       "    </tr>\n",
       "    <tr>\n",
       "      <th>8</th>\n",
       "      <td>종근당건강 유산균 락토핏 골드 50포 3통(150일분) / 프로바이오틱스+아연  +...</td>\n",
       "      <td>32,700원</td>\n",
       "      <td>유산균</td>\n",
       "    </tr>\n",
       "    <tr>\n",
       "      <th>9</th>\n",
       "      <td>최종가 10580 폭신한 의자 방석 1+1+1 원형 사각 극세사</td>\n",
       "      <td>14,100원</td>\n",
       "      <td>방석</td>\n",
       "    </tr>\n",
       "  </tbody>\n",
       "</table>\n",
       "</div>"
      ],
      "text/plain": [
       "                                                 상품명       가격      카테고리\n",
       "0                        동아 초/중/고 빠작 선택구매 - 2권이상 무배   12,000원     초등참고서\n",
       "1  20% 혜택가 15240원/ 펩시콜라 제로 슈거라임 355ml 24캔 캔음료/탄산음...  19,720원  탄산/기능성음료\n",
       "2  고중량 호텔수건 625gsm 수건 10장 타올 타월 200그램/장 한정수량 초특가 ...  34,900원   타월/샤워가운\n",
       "3  최종8720원) 비프레쉬 KF94 자외선차단 새부리형 황사마스크 대형 100매(25...  10,900원       마스크\n",
       "4        최종가 8000 1+1 빨아쓰는 플라워 규조토 발매트 북유럽 욕실 주방 매트   10,000원       발매트\n",
       "5         만장 판매 하비 고민 덜어주는 데님 (Made) S~2XL/ 스테디치즈데님   20,900원    스트레이트핏\n",
       "6             퓨어스펙 오렌지 중소과(개당160g내외)23과/2개주문시 50과발송   16,900원       오렌지\n",
       "7                 스텐 304 냉장고 물병 2P세트 외 주방 S/S신상 시리즈   20,900원        접시\n",
       "8  종근당건강 유산균 락토핏 골드 50포 3통(150일분) / 프로바이오틱스+아연  +...  32,700원       유산균\n",
       "9               최종가 10580 폭신한 의자 방석 1+1+1 원형 사각 극세사   14,100원        방석"
      ]
     },
     "execution_count": 48,
     "metadata": {},
     "output_type": "execute_result"
    }
   ],
   "source": [
    "gData"
   ]
  },
  {
   "cell_type": "code",
   "execution_count": null,
   "metadata": {},
   "outputs": [],
   "source": []
  },
  {
   "cell_type": "code",
   "execution_count": null,
   "metadata": {},
   "outputs": [],
   "source": []
  },
  {
   "cell_type": "code",
   "execution_count": null,
   "metadata": {},
   "outputs": [],
   "source": []
  },
  {
   "cell_type": "code",
   "execution_count": null,
   "metadata": {},
   "outputs": [],
   "source": []
  },
  {
   "cell_type": "code",
   "execution_count": null,
   "metadata": {},
   "outputs": [],
   "source": []
  },
  {
   "cell_type": "code",
   "execution_count": null,
   "metadata": {},
   "outputs": [],
   "source": []
  },
  {
   "cell_type": "code",
   "execution_count": null,
   "metadata": {},
   "outputs": [],
   "source": []
  },
  {
   "cell_type": "code",
   "execution_count": null,
   "metadata": {},
   "outputs": [],
   "source": []
  },
  {
   "cell_type": "code",
   "execution_count": null,
   "metadata": {},
   "outputs": [],
   "source": []
  },
  {
   "cell_type": "code",
   "execution_count": null,
   "metadata": {},
   "outputs": [],
   "source": []
  },
  {
   "cell_type": "code",
   "execution_count": null,
   "metadata": {},
   "outputs": [],
   "source": []
  },
  {
   "cell_type": "code",
   "execution_count": null,
   "metadata": {},
   "outputs": [],
   "source": []
  },
  {
   "cell_type": "code",
   "execution_count": null,
   "metadata": {},
   "outputs": [],
   "source": []
  },
  {
   "cell_type": "code",
   "execution_count": null,
   "metadata": {},
   "outputs": [],
   "source": []
  },
  {
   "cell_type": "code",
   "execution_count": null,
   "metadata": {},
   "outputs": [],
   "source": []
  },
  {
   "cell_type": "code",
   "execution_count": null,
   "metadata": {},
   "outputs": [],
   "source": []
  },
  {
   "cell_type": "code",
   "execution_count": null,
   "metadata": {},
   "outputs": [],
   "source": []
  },
  {
   "cell_type": "code",
   "execution_count": null,
   "metadata": {},
   "outputs": [],
   "source": []
  },
  {
   "cell_type": "code",
   "execution_count": null,
   "metadata": {},
   "outputs": [],
   "source": []
  },
  {
   "cell_type": "code",
   "execution_count": null,
   "metadata": {},
   "outputs": [],
   "source": []
  },
  {
   "cell_type": "code",
   "execution_count": null,
   "metadata": {},
   "outputs": [],
   "source": []
  },
  {
   "cell_type": "code",
   "execution_count": null,
   "metadata": {},
   "outputs": [],
   "source": []
  },
  {
   "cell_type": "code",
   "execution_count": null,
   "metadata": {},
   "outputs": [],
   "source": []
  }
 ],
 "metadata": {
  "kernelspec": {
   "display_name": "base",
   "language": "python",
   "name": "python3"
  },
  "language_info": {
   "codemirror_mode": {
    "name": "ipython",
    "version": 3
   },
   "file_extension": ".py",
   "mimetype": "text/x-python",
   "name": "python",
   "nbconvert_exporter": "python",
   "pygments_lexer": "ipython3",
   "version": "3.9.13"
  },
  "orig_nbformat": 4
 },
 "nbformat": 4,
 "nbformat_minor": 2
}
