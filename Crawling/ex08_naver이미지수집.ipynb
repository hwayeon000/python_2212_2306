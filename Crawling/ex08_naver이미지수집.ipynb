{
 "cells": [
  {
   "cell_type": "code",
   "execution_count": null,
   "metadata": {},
   "outputs": [],
   "source": [
    "# 1. 네이버 열기\n",
    "# 2. 검색창에 검색어 입력 -> 검색\n",
    "# 3. \"이미지\"탭 선택하여 이미지로 이동\n",
    "# 4. 스크롤 20번 내리기\n",
    "# 5. 이미지 요소 수집\n",
    "# 6. 순수한 src주소 list에 담기\n",
    "# 7. 이미지 담을 폴더 생성\n",
    "# 8. 이미지 파일로 변환 후 저장"
   ]
  },
  {
   "cell_type": "code",
   "execution_count": 1,
   "metadata": {},
   "outputs": [],
   "source": [
    "# 웹브라우저 \"통제\"\n",
    "from selenium import webdriver as wb\n",
    "# 컴퓨터용 키보드\n",
    "from selenium.webdriver.common.keys import Keys\n",
    "from selenium.webdriver.common.by import By\n",
    "\n",
    "from bs4 import BeautifulSoup as bs\n",
    "# 시간 지연\n",
    "import time\n",
    "# 로딩바\n",
    "from tqdm import tqdm_notebook as tq\n",
    "# 이미지 주소 파일로 변환해주는 라이브러리\n",
    "from urllib.request import urlretrieve\n",
    "# 폴더 생성/삭제해주는 라이브러리(파일 시스템 라이브러리)\n",
    "import os\n"
   ]
  },
  {
   "cell_type": "code",
   "execution_count": 83,
   "metadata": {},
   "outputs": [],
   "source": [
    "driver = wb.Chrome()\n",
    "driver.get(\"https://www.naver.com/\")"
   ]
  },
  {
   "cell_type": "code",
   "execution_count": 84,
   "metadata": {},
   "outputs": [],
   "source": [
    "search = driver.find_element(By.ID,\"query\")\n",
    "search.send_keys(\"오리너구리\")\n",
    "search.send_keys(Keys.ENTER)"
   ]
  },
  {
   "cell_type": "code",
   "execution_count": 78,
   "metadata": {},
   "outputs": [
    {
     "data": {
      "text/plain": [
       "'이미지'"
      ]
     },
     "execution_count": 78,
     "metadata": {},
     "output_type": "execute_result"
    }
   ],
   "source": [
    "# 쌤\n",
    "# 1. copy Selectot\n",
    "driver.find_elements(By.CSS_SELECTOR,\"#lnb > div.lnb_group > div > ul > li:nth-child(2) > a\")\n",
    "\n",
    "# 2. nth-child()\n",
    "driver.find_elements(By.CSS_SELECTOR,\"li.menu:nth-child(2)>a\")\n",
    "\n",
    "# 3. elements로 요소 추출 후 인덱싱으로 이미지 탭 클릭\n",
    "driver.find_elements(By.CSS_SELECTOR,\"a.tab\")[1].text"
   ]
  },
  {
   "cell_type": "code",
   "execution_count": 79,
   "metadata": {},
   "outputs": [],
   "source": [
    "tab = driver.find_elements(By.CSS_SELECTOR,\"a.tab\")\n",
    "tab[1].click()"
   ]
  },
  {
   "cell_type": "code",
   "execution_count": 88,
   "metadata": {},
   "outputs": [],
   "source": [
    "body = driver.find_element(By.CSS_SELECTOR,\"body\")\n",
    "for i in range(5):\n",
    "    try:\n",
    "        time.sleep(0.5)\n",
    "        body.send_keys(Keys.END)\n",
    "    except:\n",
    "        print(\"Key down 완료\")\n",
    "        break\n"
   ]
  },
  {
   "cell_type": "code",
   "execution_count": 94,
   "metadata": {},
   "outputs": [],
   "source": [
    "# 브라우저 화면 크기 변경하기\n",
    "driver.maximize_window()\n",
    "\n",
    "soup = bs(driver.page_source, \"lxml\")\n",
    "\n",
    "img = soup.select(\"_image._listImage\")\n",
    "img_list = []\n",
    "for i in img:\n",
    "    img_list.append(i['src'])"
   ]
  },
  {
   "cell_type": "code",
   "execution_count": 98,
   "metadata": {},
   "outputs": [
    {
     "data": {
      "text/plain": [
       "True"
      ]
     },
     "execution_count": 98,
     "metadata": {},
     "output_type": "execute_result"
    }
   ],
   "source": [
    "os.path.isdir(\"C:\\\\Users\\\\SMHRD\\\\Desktop\\\\workspace\\\\naverImg\")"
   ]
  },
  {
   "cell_type": "code",
   "execution_count": 99,
   "metadata": {},
   "outputs": [
    {
     "name": "stdout",
     "output_type": "stream",
     "text": [
      "이미 존재하는 폴더입니다.\n"
     ]
    }
   ],
   "source": [
    "# 같은 위치에 같은 이름의 폴더가 있는지 체크\n",
    "# 현재 위치에 폴더가 있는지 물어보고 없으면 생성\n",
    "if not os.path.isdir(\"C:\\\\Users\\\\SMHRD\\\\Desktop\\\\workspace\\\\naverImg\"):\n",
    "    os.mkdir(\"C:\\\\Users\\\\SMHRD\\\\Desktop\\\\workspace\\\\naverImg\")\n",
    "else:\n",
    "    print(\"이미 존재하는 폴더입니다.\")"
   ]
  },
  {
   "cell_type": "code",
   "execution_count": 95,
   "metadata": {},
   "outputs": [
    {
     "name": "stdout",
     "output_type": "stream",
     "text": [
      "이미 존재하는 폴더입니다.\n"
     ]
    },
    {
     "name": "stderr",
     "output_type": "stream",
     "text": [
      "C:\\Users\\SMHRD\\AppData\\Local\\Temp\\ipykernel_4284\\2120813900.py:8: TqdmDeprecationWarning: This function will be removed in tqdm==5.0.0\n",
      "Please use `tqdm.notebook.tqdm` instead of `tqdm.tqdm_notebook`\n",
      "  for i in tq(range(len(img_list))):\n"
     ]
    },
    {
     "data": {
      "application/vnd.jupyter.widget-view+json": {
       "model_id": "873ffd985bc44823bfdc2cb83ff30d53",
       "version_major": 2,
       "version_minor": 0
      },
      "text/plain": [
       "  0%|          | 0/432 [00:00<?, ?it/s]"
      ]
     },
     "metadata": {},
     "output_type": "display_data"
    }
   ],
   "source": [
    "len(img_list)\n",
    "\n",
    "\n",
    "try:\n",
    "    os.mkdir(\"C:\\\\Users\\\\SMHRD\\\\Desktop\\\\workspace\\\\naverImg\")\n",
    "except:\n",
    "    print(\"이미 존재하는 폴더입니다.\")\n",
    "\n",
    "for i in tq(range(len(img_list))):\n",
    "    if(img_list[i][0] != 'd') :\n",
    "        time.sleep(0.5)\n",
    "        urlretrieve(img_list[i], f\"C:\\\\Users\\\\SMHRD\\\\Desktop\\\\workspace\\\\naverImg\\\\오리너구리{i}.jpg\")"
   ]
  },
  {
   "cell_type": "code",
   "execution_count": null,
   "metadata": {},
   "outputs": [],
   "source": []
  },
  {
   "cell_type": "code",
   "execution_count": 96,
   "metadata": {},
   "outputs": [],
   "source": [
    "driver.quit()"
   ]
  },
  {
   "cell_type": "code",
   "execution_count": null,
   "metadata": {},
   "outputs": [],
   "source": []
  },
  {
   "cell_type": "code",
   "execution_count": null,
   "metadata": {},
   "outputs": [],
   "source": []
  }
 ],
 "metadata": {
  "kernelspec": {
   "display_name": "base",
   "language": "python",
   "name": "python3"
  },
  "language_info": {
   "codemirror_mode": {
    "name": "ipython",
    "version": 3
   },
   "file_extension": ".py",
   "mimetype": "text/x-python",
   "name": "python",
   "nbconvert_exporter": "python",
   "pygments_lexer": "ipython3",
   "version": "3.9.13"
  },
  "orig_nbformat": 4
 },
 "nbformat": 4,
 "nbformat_minor": 2
}
